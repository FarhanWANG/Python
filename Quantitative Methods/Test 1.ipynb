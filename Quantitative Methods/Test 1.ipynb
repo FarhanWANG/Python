{
 "cells": [
  {
   "cell_type": "code",
   "execution_count": 1,
   "id": "moved-domestic",
   "metadata": {},
   "outputs": [],
   "source": [
    "%matplotlib inline\n",
    "import math\n",
    "from pathlib import Path\n",
    "import pandas as pd\n",
    "import numpy as np\n",
    "from sklearn import preprocessing\n",
    "from sklearn.decomposition import PCA\n",
    "from sklearn.model_selection import train_test_split\n",
    "from sklearn.linear_model import LinearRegression\n",
    "from sklearn.metrics import accuracy_score, roc_curve, auc\n",
    "import matplotlib.pylab as plt\n",
    "import seaborn as sns\n",
    "from dmba import regressionSummary, adjusted_r2_score"
   ]
  },
  {
   "cell_type": "code",
   "execution_count": 2,
   "id": "english-pipeline",
   "metadata": {},
   "outputs": [
    {
     "data": {
      "text/html": [
       "<div>\n",
       "<style scoped>\n",
       "    .dataframe tbody tr th:only-of-type {\n",
       "        vertical-align: middle;\n",
       "    }\n",
       "\n",
       "    .dataframe tbody tr th {\n",
       "        vertical-align: top;\n",
       "    }\n",
       "\n",
       "    .dataframe thead th {\n",
       "        text-align: right;\n",
       "    }\n",
       "</style>\n",
       "<table border=\"1\" class=\"dataframe\">\n",
       "  <thead>\n",
       "    <tr style=\"text-align: right;\">\n",
       "      <th></th>\n",
       "      <th>S_CODE</th>\n",
       "      <th>S_CITY</th>\n",
       "      <th>E_CODE</th>\n",
       "      <th>E_CITY</th>\n",
       "      <th>COUPON</th>\n",
       "      <th>NEW</th>\n",
       "      <th>VACATION</th>\n",
       "      <th>SW</th>\n",
       "      <th>HI</th>\n",
       "      <th>S_INCOME</th>\n",
       "      <th>E_INCOME</th>\n",
       "      <th>S_POP</th>\n",
       "      <th>E_POP</th>\n",
       "      <th>SLOT</th>\n",
       "      <th>GATE</th>\n",
       "      <th>DISTANCE</th>\n",
       "      <th>PAX</th>\n",
       "      <th>FARE</th>\n",
       "    </tr>\n",
       "  </thead>\n",
       "  <tbody>\n",
       "    <tr>\n",
       "      <th>0</th>\n",
       "      <td>*</td>\n",
       "      <td>Dallas/Fort Worth   TX</td>\n",
       "      <td>*</td>\n",
       "      <td>Amarillo            TX</td>\n",
       "      <td>1.00</td>\n",
       "      <td>3</td>\n",
       "      <td>No</td>\n",
       "      <td>Yes</td>\n",
       "      <td>5291.99</td>\n",
       "      <td>28637.0</td>\n",
       "      <td>21112.0</td>\n",
       "      <td>3036732</td>\n",
       "      <td>205711</td>\n",
       "      <td>Free</td>\n",
       "      <td>Free</td>\n",
       "      <td>312</td>\n",
       "      <td>7864</td>\n",
       "      <td>64.11</td>\n",
       "    </tr>\n",
       "    <tr>\n",
       "      <th>1</th>\n",
       "      <td>*</td>\n",
       "      <td>Atlanta             GA</td>\n",
       "      <td>*</td>\n",
       "      <td>Baltimore/Wash Intl MD</td>\n",
       "      <td>1.06</td>\n",
       "      <td>3</td>\n",
       "      <td>No</td>\n",
       "      <td>No</td>\n",
       "      <td>5419.16</td>\n",
       "      <td>26993.0</td>\n",
       "      <td>29838.0</td>\n",
       "      <td>3532657</td>\n",
       "      <td>7145897</td>\n",
       "      <td>Free</td>\n",
       "      <td>Free</td>\n",
       "      <td>576</td>\n",
       "      <td>8820</td>\n",
       "      <td>174.47</td>\n",
       "    </tr>\n",
       "    <tr>\n",
       "      <th>2</th>\n",
       "      <td>*</td>\n",
       "      <td>Boston              MA</td>\n",
       "      <td>*</td>\n",
       "      <td>Baltimore/Wash Intl MD</td>\n",
       "      <td>1.06</td>\n",
       "      <td>3</td>\n",
       "      <td>No</td>\n",
       "      <td>No</td>\n",
       "      <td>9185.28</td>\n",
       "      <td>30124.0</td>\n",
       "      <td>29838.0</td>\n",
       "      <td>5787293</td>\n",
       "      <td>7145897</td>\n",
       "      <td>Free</td>\n",
       "      <td>Free</td>\n",
       "      <td>364</td>\n",
       "      <td>6452</td>\n",
       "      <td>207.76</td>\n",
       "    </tr>\n",
       "    <tr>\n",
       "      <th>3</th>\n",
       "      <td>ORD</td>\n",
       "      <td>Chicago             IL</td>\n",
       "      <td>*</td>\n",
       "      <td>Baltimore/Wash Intl MD</td>\n",
       "      <td>1.06</td>\n",
       "      <td>3</td>\n",
       "      <td>No</td>\n",
       "      <td>Yes</td>\n",
       "      <td>2657.35</td>\n",
       "      <td>29260.0</td>\n",
       "      <td>29838.0</td>\n",
       "      <td>7830332</td>\n",
       "      <td>7145897</td>\n",
       "      <td>Controlled</td>\n",
       "      <td>Free</td>\n",
       "      <td>612</td>\n",
       "      <td>25144</td>\n",
       "      <td>85.47</td>\n",
       "    </tr>\n",
       "    <tr>\n",
       "      <th>4</th>\n",
       "      <td>MDW</td>\n",
       "      <td>Chicago             IL</td>\n",
       "      <td>*</td>\n",
       "      <td>Baltimore/Wash Intl MD</td>\n",
       "      <td>1.06</td>\n",
       "      <td>3</td>\n",
       "      <td>No</td>\n",
       "      <td>Yes</td>\n",
       "      <td>2657.35</td>\n",
       "      <td>29260.0</td>\n",
       "      <td>29838.0</td>\n",
       "      <td>7830332</td>\n",
       "      <td>7145897</td>\n",
       "      <td>Free</td>\n",
       "      <td>Free</td>\n",
       "      <td>612</td>\n",
       "      <td>25144</td>\n",
       "      <td>85.47</td>\n",
       "    </tr>\n",
       "  </tbody>\n",
       "</table>\n",
       "</div>"
      ],
      "text/plain": [
       "  S_CODE                  S_CITY E_CODE                  E_CITY  COUPON  NEW  \\\n",
       "0      *  Dallas/Fort Worth   TX      *  Amarillo            TX    1.00    3   \n",
       "1      *  Atlanta             GA      *  Baltimore/Wash Intl MD    1.06    3   \n",
       "2      *  Boston              MA      *  Baltimore/Wash Intl MD    1.06    3   \n",
       "3    ORD  Chicago             IL      *  Baltimore/Wash Intl MD    1.06    3   \n",
       "4    MDW  Chicago             IL      *  Baltimore/Wash Intl MD    1.06    3   \n",
       "\n",
       "  VACATION   SW       HI  S_INCOME  E_INCOME    S_POP    E_POP        SLOT  \\\n",
       "0       No  Yes  5291.99   28637.0   21112.0  3036732   205711        Free   \n",
       "1       No   No  5419.16   26993.0   29838.0  3532657  7145897        Free   \n",
       "2       No   No  9185.28   30124.0   29838.0  5787293  7145897        Free   \n",
       "3       No  Yes  2657.35   29260.0   29838.0  7830332  7145897  Controlled   \n",
       "4       No  Yes  2657.35   29260.0   29838.0  7830332  7145897        Free   \n",
       "\n",
       "   GATE  DISTANCE    PAX    FARE  \n",
       "0  Free       312   7864   64.11  \n",
       "1  Free       576   8820  174.47  \n",
       "2  Free       364   6452  207.76  \n",
       "3  Free       612  25144   85.47  \n",
       "4  Free       612  25144   85.47  "
      ]
     },
     "execution_count": 2,
     "metadata": {},
     "output_type": "execute_result"
    }
   ],
   "source": [
    "data = pd.read_csv(\"Airfares.csv\")\n",
    "data.head()"
   ]
  },
  {
   "cell_type": "markdown",
   "id": "blessed-elimination",
   "metadata": {},
   "source": [
    "# Q1"
   ]
  },
  {
   "cell_type": "markdown",
   "id": "distinct-partnership",
   "metadata": {},
   "source": [
    "Correlation:"
   ]
  },
  {
   "cell_type": "code",
   "execution_count": 3,
   "id": "prepared-blogger",
   "metadata": {},
   "outputs": [
    {
     "data": {
      "text/plain": [
       "<AxesSubplot:>"
      ]
     },
     "execution_count": 3,
     "metadata": {},
     "output_type": "execute_result"
    },
    {
     "data": {
      "image/png": "[encoded data removed]",
      "text/plain": [
       "<Figure size 720x432 with 2 Axes>"
      ]
     },
     "metadata": {
      "needs_background": "light"
     },
     "output_type": "display_data"
    }
   ],
   "source": [
    "fig, ax = plt.subplots()\n",
    "fig.set_size_inches(10,6)\n",
    "sns.heatmap(data.corr(), cmap='RdBu', annot=True, fmt='.1f')"
   ]
  },
  {
   "cell_type": "markdown",
   "id": "bound-quebec",
   "metadata": {},
   "source": [
    "Scatter Plots:"
   ]
  },
  {
   "cell_type": "code",
   "execution_count": 4,
   "id": "paperback-abuse",
   "metadata": {},
   "outputs": [
    {
     "data": {
      "text/plain": [
       "Text(0, 0.5, 'FARE')"
      ]
     },
     "execution_count": 4,
     "metadata": {},
     "output_type": "execute_result"
    },
    {
     "data": {
      "image/png": "[encoded data removed]",
      "text/plain": [
       "<Figure size 432x288 with 1 Axes>"
      ]
     },
     "metadata": {
      "needs_background": "light"
     },
     "output_type": "display_data"
    }
   ],
   "source": [
    "fig, ax = plt.subplots()\n",
    "ax.scatter(data.COUPON, data.FARE)\n",
    "plt.xlabel('COUPON')\n",
    "plt.ylabel('FARE')"
   ]
  },
  {
   "cell_type": "code",
   "execution_count": 5,
   "id": "exact-platform",
   "metadata": {},
   "outputs": [
    {
     "data": {
      "text/plain": [
       "Text(0, 0.5, 'FARE')"
      ]
     },
     "execution_count": 5,
     "metadata": {},
     "output_type": "execute_result"
    },
    {
     "data": {
      "image/png": "[encoded data removed]",
      "text/plain": [
       "<Figure size 432x288 with 1 Axes>"
      ]
     },
     "metadata": {
      "needs_background": "light"
     },
     "output_type": "display_data"
    }
   ],
   "source": [
    "fig, ax = plt.subplots()\n",
    "ax.scatter(data.DISTANCE, data.FARE)\n",
    "plt.xlabel('DISTANCE')\n",
    "plt.ylabel('FARE')"
   ]
  },
  {
   "cell_type": "code",
   "execution_count": 6,
   "id": "considered-floor",
   "metadata": {},
   "outputs": [
    {
     "data": {
      "text/plain": [
       "Text(0, 0.5, 'FARE')"
      ]
     },
     "execution_count": 6,
     "metadata": {},
     "output_type": "execute_result"
    },
    {
     "data": {
      "image/png": "[encoded data removed]",
      "text/plain": [
       "<Figure size 432x288 with 1 Axes>"
      ]
     },
     "metadata": {
      "needs_background": "light"
     },
     "output_type": "display_data"
    }
   ],
   "source": [
    "fig, ax = plt.subplots()\n",
    "ax.scatter(data.E_INCOME, data.FARE)\n",
    "plt.xlabel('E_INCOME')\n",
    "plt.ylabel('FARE')"
   ]
  },
  {
   "cell_type": "code",
   "execution_count": 7,
   "id": "manual-village",
   "metadata": {},
   "outputs": [
    {
     "data": {
      "text/plain": [
       "Text(0, 0.5, 'FARE')"
      ]
     },
     "execution_count": 7,
     "metadata": {},
     "output_type": "execute_result"
    },
    {
     "data": {
      "image/png": "[encoded data removed]",
      "text/plain": [
       "<Figure size 432x288 with 1 Axes>"
      ]
     },
     "metadata": {
      "needs_background": "light"
     },
     "output_type": "display_data"
    }
   ],
   "source": [
    "fig, ax = plt.subplots()\n",
    "ax.scatter(data.E_POP, data.FARE)\n",
    "plt.xlabel('E_POP')\n",
    "plt.ylabel('FARE')"
   ]
  },
  {
   "cell_type": "markdown",
   "id": "interesting-harvest",
   "metadata": {},
   "source": [
    "# Ans: the correlation between FARE and DISTANCE is 0.7 (the highest one) and the scatter plot shows they seem to have a linear relationship. Thus, DISTANCE is the best single predictor."
   ]
  },
  {
   "cell_type": "code",
   "execution_count": null,
   "id": "transsexual-linux",
   "metadata": {},
   "outputs": [],
   "source": []
  },
  {
   "cell_type": "markdown",
   "id": "protected-outdoors",
   "metadata": {},
   "source": [
    "# Q2"
   ]
  },
  {
   "cell_type": "code",
   "execution_count": 8,
   "id": "confused-editor",
   "metadata": {},
   "outputs": [
    {
     "name": "stdout",
     "output_type": "stream",
     "text": [
      "<class 'pandas.core.frame.DataFrame'>\n",
      "RangeIndex: 638 entries, 0 to 637\n",
      "Data columns (total 18 columns):\n",
      " #   Column    Non-Null Count  Dtype  \n",
      "---  ------    --------------  -----  \n",
      " 0   S_CODE    638 non-null    object \n",
      " 1   S_CITY    638 non-null    object \n",
      " 2   E_CODE    638 non-null    object \n",
      " 3   E_CITY    638 non-null    object \n",
      " 4   COUPON    638 non-null    float64\n",
      " 5   NEW       638 non-null    int64  \n",
      " 6   VACATION  638 non-null    object \n",
      " 7   SW        638 non-null    object \n",
      " 8   HI        638 non-null    float64\n",
      " 9   S_INCOME  638 non-null    float64\n",
      " 10  E_INCOME  638 non-null    float64\n",
      " 11  S_POP     638 non-null    int64  \n",
      " 12  E_POP     638 non-null    int64  \n",
      " 13  SLOT      638 non-null    object \n",
      " 14  GATE      638 non-null    object \n",
      " 15  DISTANCE  638 non-null    int64  \n",
      " 16  PAX       638 non-null    int64  \n",
      " 17  FARE      638 non-null    float64\n",
      "dtypes: float64(5), int64(5), object(8)\n",
      "memory usage: 89.8+ KB\n"
     ]
    }
   ],
   "source": [
    "data.info()"
   ]
  },
  {
   "cell_type": "code",
   "execution_count": 9,
   "id": "tropical-platform",
   "metadata": {},
   "outputs": [],
   "source": [
    "data.VACATION = data.VACATION.astype('category')\n",
    "data.SW = data.SW.astype('category')\n",
    "data.SLOT = data.SLOT.astype('category')\n",
    "data.GATE = data.GATE.astype('category')"
   ]
  },
  {
   "cell_type": "code",
   "execution_count": 10,
   "id": "legal-indian",
   "metadata": {},
   "outputs": [
    {
     "name": "stdout",
     "output_type": "stream",
     "text": [
      "<class 'pandas.core.frame.DataFrame'>\n",
      "RangeIndex: 638 entries, 0 to 637\n",
      "Data columns (total 18 columns):\n",
      " #   Column    Non-Null Count  Dtype   \n",
      "---  ------    --------------  -----   \n",
      " 0   S_CODE    638 non-null    object  \n",
      " 1   S_CITY    638 non-null    object  \n",
      " 2   E_CODE    638 non-null    object  \n",
      " 3   E_CITY    638 non-null    object  \n",
      " 4   COUPON    638 non-null    float64 \n",
      " 5   NEW       638 non-null    int64   \n",
      " 6   VACATION  638 non-null    category\n",
      " 7   SW        638 non-null    category\n",
      " 8   HI        638 non-null    float64 \n",
      " 9   S_INCOME  638 non-null    float64 \n",
      " 10  E_INCOME  638 non-null    float64 \n",
      " 11  S_POP     638 non-null    int64   \n",
      " 12  E_POP     638 non-null    int64   \n",
      " 13  SLOT      638 non-null    category\n",
      " 14  GATE      638 non-null    category\n",
      " 15  DISTANCE  638 non-null    int64   \n",
      " 16  PAX       638 non-null    int64   \n",
      " 17  FARE      638 non-null    float64 \n",
      "dtypes: category(4), float64(5), int64(5), object(4)\n",
      "memory usage: 72.9+ KB\n"
     ]
    }
   ],
   "source": [
    "data.info()"
   ]
  },
  {
   "cell_type": "code",
   "execution_count": 11,
   "id": "corresponding-scope",
   "metadata": {},
   "outputs": [
    {
     "name": "stdout",
     "output_type": "stream",
     "text": [
      "<class 'pandas.core.frame.DataFrame'>\n",
      "RangeIndex: 638 entries, 0 to 637\n",
      "Data columns (total 18 columns):\n",
      " #   Column        Non-Null Count  Dtype  \n",
      "---  ------        --------------  -----  \n",
      " 0   S_CODE        638 non-null    object \n",
      " 1   S_CITY        638 non-null    object \n",
      " 2   E_CODE        638 non-null    object \n",
      " 3   E_CITY        638 non-null    object \n",
      " 4   COUPON        638 non-null    float64\n",
      " 5   NEW           638 non-null    int64  \n",
      " 6   HI            638 non-null    float64\n",
      " 7   S_INCOME      638 non-null    float64\n",
      " 8   E_INCOME      638 non-null    float64\n",
      " 9   S_POP         638 non-null    int64  \n",
      " 10  E_POP         638 non-null    int64  \n",
      " 11  DISTANCE      638 non-null    int64  \n",
      " 12  PAX           638 non-null    int64  \n",
      " 13  FARE          638 non-null    float64\n",
      " 14  VACATION_Yes  638 non-null    uint8  \n",
      " 15  SW_Yes        638 non-null    uint8  \n",
      " 16  SLOT_Free     638 non-null    uint8  \n",
      " 17  GATE_Free     638 non-null    uint8  \n",
      "dtypes: float64(5), int64(5), object(4), uint8(4)\n",
      "memory usage: 72.4+ KB\n"
     ]
    }
   ],
   "source": [
    "data_df = pd.get_dummies(data, columns=['VACATION','SW','SLOT','GATE'],drop_first=True)\n",
    "data_df.info()"
   ]
  },
  {
   "cell_type": "code",
   "execution_count": null,
   "id": "dominant-hampshire",
   "metadata": {},
   "outputs": [],
   "source": []
  },
  {
   "cell_type": "markdown",
   "id": "stunning-listening",
   "metadata": {},
   "source": [
    "# Q3"
   ]
  },
  {
   "cell_type": "code",
   "execution_count": 12,
   "id": "loved-shakespeare",
   "metadata": {},
   "outputs": [
    {
     "data": {
      "text/plain": [
       "<AxesSubplot:>"
      ]
     },
     "execution_count": 12,
     "metadata": {},
     "output_type": "execute_result"
    },
    {
     "data": {
      "image/png": "[encoded data removed]",
      "text/plain": [
       "<Figure size 720x432 with 2 Axes>"
      ]
     },
     "metadata": {
      "needs_background": "light"
     },
     "output_type": "display_data"
    }
   ],
   "source": [
    "fig, ax = plt.subplots()\n",
    "fig.set_size_inches(10,6)\n",
    "sns.heatmap(data_df.corr(), cmap='RdBu', annot=True, fmt='.1f')"
   ]
  },
  {
   "cell_type": "markdown",
   "id": "bizarre-blast",
   "metadata": {},
   "source": [
    "Since only the correlation between DISTANCE and FARE is 0.7. So remove DISTANCE and the first 4 Variables"
   ]
  },
  {
   "cell_type": "code",
   "execution_count": 13,
   "id": "spiritual-vegetation",
   "metadata": {},
   "outputs": [
    {
     "data": {
      "text/html": [
       "<div>\n",
       "<style scoped>\n",
       "    .dataframe tbody tr th:only-of-type {\n",
       "        vertical-align: middle;\n",
       "    }\n",
       "\n",
       "    .dataframe tbody tr th {\n",
       "        vertical-align: top;\n",
       "    }\n",
       "\n",
       "    .dataframe thead th {\n",
       "        text-align: right;\n",
       "    }\n",
       "</style>\n",
       "<table border=\"1\" class=\"dataframe\">\n",
       "  <thead>\n",
       "    <tr style=\"text-align: right;\">\n",
       "      <th></th>\n",
       "      <th>COUPON</th>\n",
       "      <th>NEW</th>\n",
       "      <th>HI</th>\n",
       "      <th>S_INCOME</th>\n",
       "      <th>E_INCOME</th>\n",
       "      <th>S_POP</th>\n",
       "      <th>E_POP</th>\n",
       "      <th>PAX</th>\n",
       "      <th>FARE</th>\n",
       "      <th>VACATION_Yes</th>\n",
       "      <th>SW_Yes</th>\n",
       "      <th>SLOT_Free</th>\n",
       "      <th>GATE_Free</th>\n",
       "    </tr>\n",
       "  </thead>\n",
       "  <tbody>\n",
       "    <tr>\n",
       "      <th>0</th>\n",
       "      <td>1.00</td>\n",
       "      <td>3</td>\n",
       "      <td>5291.99</td>\n",
       "      <td>28637.0</td>\n",
       "      <td>21112.0</td>\n",
       "      <td>3036732</td>\n",
       "      <td>205711</td>\n",
       "      <td>7864</td>\n",
       "      <td>64.11</td>\n",
       "      <td>0</td>\n",
       "      <td>1</td>\n",
       "      <td>1</td>\n",
       "      <td>1</td>\n",
       "    </tr>\n",
       "    <tr>\n",
       "      <th>1</th>\n",
       "      <td>1.06</td>\n",
       "      <td>3</td>\n",
       "      <td>5419.16</td>\n",
       "      <td>26993.0</td>\n",
       "      <td>29838.0</td>\n",
       "      <td>3532657</td>\n",
       "      <td>7145897</td>\n",
       "      <td>8820</td>\n",
       "      <td>174.47</td>\n",
       "      <td>0</td>\n",
       "      <td>0</td>\n",
       "      <td>1</td>\n",
       "      <td>1</td>\n",
       "    </tr>\n",
       "    <tr>\n",
       "      <th>2</th>\n",
       "      <td>1.06</td>\n",
       "      <td>3</td>\n",
       "      <td>9185.28</td>\n",
       "      <td>30124.0</td>\n",
       "      <td>29838.0</td>\n",
       "      <td>5787293</td>\n",
       "      <td>7145897</td>\n",
       "      <td>6452</td>\n",
       "      <td>207.76</td>\n",
       "      <td>0</td>\n",
       "      <td>0</td>\n",
       "      <td>1</td>\n",
       "      <td>1</td>\n",
       "    </tr>\n",
       "    <tr>\n",
       "      <th>3</th>\n",
       "      <td>1.06</td>\n",
       "      <td>3</td>\n",
       "      <td>2657.35</td>\n",
       "      <td>29260.0</td>\n",
       "      <td>29838.0</td>\n",
       "      <td>7830332</td>\n",
       "      <td>7145897</td>\n",
       "      <td>25144</td>\n",
       "      <td>85.47</td>\n",
       "      <td>0</td>\n",
       "      <td>1</td>\n",
       "      <td>0</td>\n",
       "      <td>1</td>\n",
       "    </tr>\n",
       "    <tr>\n",
       "      <th>4</th>\n",
       "      <td>1.06</td>\n",
       "      <td>3</td>\n",
       "      <td>2657.35</td>\n",
       "      <td>29260.0</td>\n",
       "      <td>29838.0</td>\n",
       "      <td>7830332</td>\n",
       "      <td>7145897</td>\n",
       "      <td>25144</td>\n",
       "      <td>85.47</td>\n",
       "      <td>0</td>\n",
       "      <td>1</td>\n",
       "      <td>1</td>\n",
       "      <td>1</td>\n",
       "    </tr>\n",
       "  </tbody>\n",
       "</table>\n",
       "</div>"
      ],
      "text/plain": [
       "   COUPON  NEW       HI  S_INCOME  E_INCOME    S_POP    E_POP    PAX    FARE  \\\n",
       "0    1.00    3  5291.99   28637.0   21112.0  3036732   205711   7864   64.11   \n",
       "1    1.06    3  5419.16   26993.0   29838.0  3532657  7145897   8820  174.47   \n",
       "2    1.06    3  9185.28   30124.0   29838.0  5787293  7145897   6452  207.76   \n",
       "3    1.06    3  2657.35   29260.0   29838.0  7830332  7145897  25144   85.47   \n",
       "4    1.06    3  2657.35   29260.0   29838.0  7830332  7145897  25144   85.47   \n",
       "\n",
       "   VACATION_Yes  SW_Yes  SLOT_Free  GATE_Free  \n",
       "0             0       1          1          1  \n",
       "1             0       0          1          1  \n",
       "2             0       0          1          1  \n",
       "3             0       1          0          1  \n",
       "4             0       1          1          1  "
      ]
     },
     "execution_count": 13,
     "metadata": {},
     "output_type": "execute_result"
    }
   ],
   "source": [
    "df1 = data_df.copy()\n",
    "df1 = df1.drop(columns= ['S_CODE', 'S_CITY', 'E_CODE', 'E_CITY','DISTANCE'])\n",
    "df1.head()"
   ]
  },
  {
   "cell_type": "code",
   "execution_count": null,
   "id": "french-immune",
   "metadata": {},
   "outputs": [],
   "source": []
  },
  {
   "cell_type": "markdown",
   "id": "printable-theorem",
   "metadata": {},
   "source": [
    "# Q4"
   ]
  },
  {
   "cell_type": "code",
   "execution_count": 14,
   "id": "extraordinary-pastor",
   "metadata": {},
   "outputs": [
    {
     "data": {
      "text/html": [
       "<div>\n",
       "<style scoped>\n",
       "    .dataframe tbody tr th:only-of-type {\n",
       "        vertical-align: middle;\n",
       "    }\n",
       "\n",
       "    .dataframe tbody tr th {\n",
       "        vertical-align: top;\n",
       "    }\n",
       "\n",
       "    .dataframe thead th {\n",
       "        text-align: right;\n",
       "    }\n",
       "</style>\n",
       "<table border=\"1\" class=\"dataframe\">\n",
       "  <thead>\n",
       "    <tr style=\"text-align: right;\">\n",
       "      <th></th>\n",
       "      <th>COUPON</th>\n",
       "      <th>NEW</th>\n",
       "      <th>HI</th>\n",
       "      <th>S_INCOME</th>\n",
       "      <th>E_INCOME</th>\n",
       "      <th>S_POP</th>\n",
       "      <th>E_POP</th>\n",
       "      <th>DISTANCE</th>\n",
       "      <th>PAX</th>\n",
       "      <th>FARE</th>\n",
       "      <th>VACATION_Yes</th>\n",
       "      <th>SW_Yes</th>\n",
       "      <th>SLOT_Free</th>\n",
       "      <th>GATE_Free</th>\n",
       "    </tr>\n",
       "  </thead>\n",
       "  <tbody>\n",
       "    <tr>\n",
       "      <th>0</th>\n",
       "      <td>1.00</td>\n",
       "      <td>3</td>\n",
       "      <td>5291.99</td>\n",
       "      <td>28637.0</td>\n",
       "      <td>21112.0</td>\n",
       "      <td>3036732</td>\n",
       "      <td>205711</td>\n",
       "      <td>312</td>\n",
       "      <td>7864</td>\n",
       "      <td>64.11</td>\n",
       "      <td>0</td>\n",
       "      <td>1</td>\n",
       "      <td>1</td>\n",
       "      <td>1</td>\n",
       "    </tr>\n",
       "    <tr>\n",
       "      <th>1</th>\n",
       "      <td>1.06</td>\n",
       "      <td>3</td>\n",
       "      <td>5419.16</td>\n",
       "      <td>26993.0</td>\n",
       "      <td>29838.0</td>\n",
       "      <td>3532657</td>\n",
       "      <td>7145897</td>\n",
       "      <td>576</td>\n",
       "      <td>8820</td>\n",
       "      <td>174.47</td>\n",
       "      <td>0</td>\n",
       "      <td>0</td>\n",
       "      <td>1</td>\n",
       "      <td>1</td>\n",
       "    </tr>\n",
       "    <tr>\n",
       "      <th>2</th>\n",
       "      <td>1.06</td>\n",
       "      <td>3</td>\n",
       "      <td>9185.28</td>\n",
       "      <td>30124.0</td>\n",
       "      <td>29838.0</td>\n",
       "      <td>5787293</td>\n",
       "      <td>7145897</td>\n",
       "      <td>364</td>\n",
       "      <td>6452</td>\n",
       "      <td>207.76</td>\n",
       "      <td>0</td>\n",
       "      <td>0</td>\n",
       "      <td>1</td>\n",
       "      <td>1</td>\n",
       "    </tr>\n",
       "    <tr>\n",
       "      <th>3</th>\n",
       "      <td>1.06</td>\n",
       "      <td>3</td>\n",
       "      <td>2657.35</td>\n",
       "      <td>29260.0</td>\n",
       "      <td>29838.0</td>\n",
       "      <td>7830332</td>\n",
       "      <td>7145897</td>\n",
       "      <td>612</td>\n",
       "      <td>25144</td>\n",
       "      <td>85.47</td>\n",
       "      <td>0</td>\n",
       "      <td>1</td>\n",
       "      <td>0</td>\n",
       "      <td>1</td>\n",
       "    </tr>\n",
       "    <tr>\n",
       "      <th>4</th>\n",
       "      <td>1.06</td>\n",
       "      <td>3</td>\n",
       "      <td>2657.35</td>\n",
       "      <td>29260.0</td>\n",
       "      <td>29838.0</td>\n",
       "      <td>7830332</td>\n",
       "      <td>7145897</td>\n",
       "      <td>612</td>\n",
       "      <td>25144</td>\n",
       "      <td>85.47</td>\n",
       "      <td>0</td>\n",
       "      <td>1</td>\n",
       "      <td>1</td>\n",
       "      <td>1</td>\n",
       "    </tr>\n",
       "  </tbody>\n",
       "</table>\n",
       "</div>"
      ],
      "text/plain": [
       "   COUPON  NEW       HI  S_INCOME  E_INCOME    S_POP    E_POP  DISTANCE  \\\n",
       "0    1.00    3  5291.99   28637.0   21112.0  3036732   205711       312   \n",
       "1    1.06    3  5419.16   26993.0   29838.0  3532657  7145897       576   \n",
       "2    1.06    3  9185.28   30124.0   29838.0  5787293  7145897       364   \n",
       "3    1.06    3  2657.35   29260.0   29838.0  7830332  7145897       612   \n",
       "4    1.06    3  2657.35   29260.0   29838.0  7830332  7145897       612   \n",
       "\n",
       "     PAX    FARE  VACATION_Yes  SW_Yes  SLOT_Free  GATE_Free  \n",
       "0   7864   64.11             0       1          1          1  \n",
       "1   8820  174.47             0       0          1          1  \n",
       "2   6452  207.76             0       0          1          1  \n",
       "3  25144   85.47             0       1          0          1  \n",
       "4  25144   85.47             0       1          1          1  "
      ]
     },
     "execution_count": 14,
     "metadata": {},
     "output_type": "execute_result"
    }
   ],
   "source": [
    "df_PCA = data_df.copy()\n",
    "df_PCA = df_PCA.drop(columns= ['S_CODE', 'S_CITY', 'E_CODE', 'E_CITY']).dropna()\n",
    "df_PCA_scaled = pd.DataFrame(preprocessing.scale(df_PCA))\n",
    "df_PCA_scaled.columns = df_PCA.columns\n",
    "df_PCA_scaled_X = df_PCA_scaled[['COUPON', 'NEW', 'HI', 'S_INCOME', 'E_INCOME', 'S_POP', 'E_POP',\n",
    "       'DISTANCE', 'PAX', 'VACATION_Yes', 'SW_Yes', 'SLOT_Free','GATE_Free']]\n",
    "df_PCA_scaled_y = df_PCA_scaled[['FARE']]\n",
    "df_PCA.head()"
   ]
  },
  {
   "cell_type": "code",
   "execution_count": 15,
   "id": "employed-hydrogen",
   "metadata": {},
   "outputs": [
    {
     "data": {
      "text/html": [
       "<div>\n",
       "<style scoped>\n",
       "    .dataframe tbody tr th:only-of-type {\n",
       "        vertical-align: middle;\n",
       "    }\n",
       "\n",
       "    .dataframe tbody tr th {\n",
       "        vertical-align: top;\n",
       "    }\n",
       "\n",
       "    .dataframe thead th {\n",
       "        text-align: right;\n",
       "    }\n",
       "</style>\n",
       "<table border=\"1\" class=\"dataframe\">\n",
       "  <thead>\n",
       "    <tr style=\"text-align: right;\">\n",
       "      <th></th>\n",
       "      <th>PC1</th>\n",
       "      <th>PC2</th>\n",
       "      <th>PC3</th>\n",
       "      <th>PC4</th>\n",
       "      <th>PC5</th>\n",
       "      <th>PC6</th>\n",
       "      <th>PC7</th>\n",
       "      <th>PC8</th>\n",
       "      <th>PC9</th>\n",
       "      <th>PC10</th>\n",
       "      <th>PC11</th>\n",
       "      <th>PC12</th>\n",
       "      <th>PC13</th>\n",
       "    </tr>\n",
       "  </thead>\n",
       "  <tbody>\n",
       "    <tr>\n",
       "      <th>std_dev</th>\n",
       "      <td>1.505840</td>\n",
       "      <td>1.468301</td>\n",
       "      <td>1.369204</td>\n",
       "      <td>1.187712</td>\n",
       "      <td>1.018403</td>\n",
       "      <td>0.980551</td>\n",
       "      <td>0.934815</td>\n",
       "      <td>0.831559</td>\n",
       "      <td>0.708530</td>\n",
       "      <td>0.652924</td>\n",
       "      <td>0.626580</td>\n",
       "      <td>0.491094</td>\n",
       "      <td>0.430664</td>\n",
       "    </tr>\n",
       "    <tr>\n",
       "      <th>prop_var</th>\n",
       "      <td>0.174154</td>\n",
       "      <td>0.165579</td>\n",
       "      <td>0.143983</td>\n",
       "      <td>0.108342</td>\n",
       "      <td>0.079655</td>\n",
       "      <td>0.073844</td>\n",
       "      <td>0.067116</td>\n",
       "      <td>0.053108</td>\n",
       "      <td>0.038556</td>\n",
       "      <td>0.032742</td>\n",
       "      <td>0.030153</td>\n",
       "      <td>0.018523</td>\n",
       "      <td>0.014245</td>\n",
       "    </tr>\n",
       "    <tr>\n",
       "      <th>cum_prop</th>\n",
       "      <td>0.174154</td>\n",
       "      <td>0.339733</td>\n",
       "      <td>0.483716</td>\n",
       "      <td>0.592058</td>\n",
       "      <td>0.671714</td>\n",
       "      <td>0.745558</td>\n",
       "      <td>0.812674</td>\n",
       "      <td>0.865782</td>\n",
       "      <td>0.904338</td>\n",
       "      <td>0.937080</td>\n",
       "      <td>0.967233</td>\n",
       "      <td>0.985755</td>\n",
       "      <td>1.000000</td>\n",
       "    </tr>\n",
       "  </tbody>\n",
       "</table>\n",
       "</div>"
      ],
      "text/plain": [
       "               PC1       PC2       PC3       PC4       PC5       PC6  \\\n",
       "std_dev   1.505840  1.468301  1.369204  1.187712  1.018403  0.980551   \n",
       "prop_var  0.174154  0.165579  0.143983  0.108342  0.079655  0.073844   \n",
       "cum_prop  0.174154  0.339733  0.483716  0.592058  0.671714  0.745558   \n",
       "\n",
       "               PC7       PC8       PC9      PC10      PC11      PC12      PC13  \n",
       "std_dev   0.934815  0.831559  0.708530  0.652924  0.626580  0.491094  0.430664  \n",
       "prop_var  0.067116  0.053108  0.038556  0.032742  0.030153  0.018523  0.014245  \n",
       "cum_prop  0.812674  0.865782  0.904338  0.937080  0.967233  0.985755  1.000000  "
      ]
     },
     "execution_count": 15,
     "metadata": {},
     "output_type": "execute_result"
    }
   ],
   "source": [
    "pcs=PCA()\n",
    "pcs.fit(pd.DataFrame(df_PCA_scaled_X))\n",
    "pcsSummary_df = pd.DataFrame({'std_dev':np.sqrt(pcs.explained_variance_),\n",
    "                               'prop_var':pcs.explained_variance_ratio_,\n",
    "                               'cum_prop':np.cumsum(pcs.explained_variance_ratio_)})\n",
    "pcsSummary_df = pcsSummary_df.transpose()\n",
    "pcsSummary_df.columns=['PC{}'.format(i) for i in range(1,len(pcsSummary_df.columns)+1)]\n",
    "pcsSummary_df"
   ]
  },
  {
   "cell_type": "code",
   "execution_count": null,
   "id": "dramatic-baseball",
   "metadata": {},
   "outputs": [],
   "source": []
  },
  {
   "cell_type": "markdown",
   "id": "animated-donna",
   "metadata": {},
   "source": [
    "# Q5"
   ]
  },
  {
   "cell_type": "markdown",
   "id": "golden-elimination",
   "metadata": {},
   "source": [
    "At 6 PCs I attain a cumulative proportion of over 70%"
   ]
  },
  {
   "cell_type": "markdown",
   "id": "correct-cartoon",
   "metadata": {},
   "source": [
    "# Q6"
   ]
  },
  {
   "cell_type": "markdown",
   "id": "positive-visit",
   "metadata": {},
   "source": [
    "At 9 PCs I attain a cumulative proportion of over 90%"
   ]
  },
  {
   "cell_type": "markdown",
   "id": "widespread-cookbook",
   "metadata": {},
   "source": [
    "# Q7"
   ]
  },
  {
   "cell_type": "code",
   "execution_count": 16,
   "id": "comprehensive-volume",
   "metadata": {},
   "outputs": [
    {
     "data": {
      "text/html": [
       "<div>\n",
       "<style scoped>\n",
       "    .dataframe tbody tr th:only-of-type {\n",
       "        vertical-align: middle;\n",
       "    }\n",
       "\n",
       "    .dataframe tbody tr th {\n",
       "        vertical-align: top;\n",
       "    }\n",
       "\n",
       "    .dataframe thead tr th {\n",
       "        text-align: left;\n",
       "    }\n",
       "</style>\n",
       "<table border=\"1\" class=\"dataframe\">\n",
       "  <thead>\n",
       "    <tr>\n",
       "      <th></th>\n",
       "      <th>PC1</th>\n",
       "      <th>PC2</th>\n",
       "      <th>PC3</th>\n",
       "      <th>PC4</th>\n",
       "      <th>PC5</th>\n",
       "      <th>PC6</th>\n",
       "      <th>PC7</th>\n",
       "      <th>PC8</th>\n",
       "      <th>PC9</th>\n",
       "      <th>PC10</th>\n",
       "      <th>PC11</th>\n",
       "      <th>PC12</th>\n",
       "      <th>PC13</th>\n",
       "    </tr>\n",
       "  </thead>\n",
       "  <tbody>\n",
       "    <tr>\n",
       "      <th>0</th>\n",
       "      <td>-2.716512</td>\n",
       "      <td>0.238577</td>\n",
       "      <td>0.283935</td>\n",
       "      <td>0.103096</td>\n",
       "      <td>-0.943262</td>\n",
       "      <td>0.304227</td>\n",
       "      <td>0.513389</td>\n",
       "      <td>-0.174903</td>\n",
       "      <td>0.516435</td>\n",
       "      <td>0.011285</td>\n",
       "      <td>0.391522</td>\n",
       "      <td>-0.331242</td>\n",
       "      <td>0.145351</td>\n",
       "    </tr>\n",
       "    <tr>\n",
       "      <th>1</th>\n",
       "      <td>0.073320</td>\n",
       "      <td>0.161122</td>\n",
       "      <td>-1.601737</td>\n",
       "      <td>-0.373454</td>\n",
       "      <td>-0.511341</td>\n",
       "      <td>0.295777</td>\n",
       "      <td>-0.161287</td>\n",
       "      <td>0.004200</td>\n",
       "      <td>0.856733</td>\n",
       "      <td>0.174174</td>\n",
       "      <td>-0.616793</td>\n",
       "      <td>1.022931</td>\n",
       "      <td>0.001136</td>\n",
       "    </tr>\n",
       "    <tr>\n",
       "      <th>2</th>\n",
       "      <td>-0.526422</td>\n",
       "      <td>1.117797</td>\n",
       "      <td>-1.763934</td>\n",
       "      <td>-1.545794</td>\n",
       "      <td>-0.954631</td>\n",
       "      <td>0.225277</td>\n",
       "      <td>-0.927379</td>\n",
       "      <td>0.738422</td>\n",
       "      <td>0.619001</td>\n",
       "      <td>-0.985734</td>\n",
       "      <td>-0.210750</td>\n",
       "      <td>1.582262</td>\n",
       "      <td>-0.595744</td>\n",
       "    </tr>\n",
       "    <tr>\n",
       "      <th>3</th>\n",
       "      <td>0.751499</td>\n",
       "      <td>1.704223</td>\n",
       "      <td>-0.339565</td>\n",
       "      <td>2.158309</td>\n",
       "      <td>-0.778746</td>\n",
       "      <td>0.763298</td>\n",
       "      <td>0.842807</td>\n",
       "      <td>-0.442513</td>\n",
       "      <td>-0.519719</td>\n",
       "      <td>-0.006928</td>\n",
       "      <td>0.753827</td>\n",
       "      <td>0.868034</td>\n",
       "      <td>0.028738</td>\n",
       "    </tr>\n",
       "    <tr>\n",
       "      <th>4</th>\n",
       "      <td>0.021077</td>\n",
       "      <td>1.071106</td>\n",
       "      <td>-0.441520</td>\n",
       "      <td>1.575519</td>\n",
       "      <td>-0.194044</td>\n",
       "      <td>0.553494</td>\n",
       "      <td>1.723749</td>\n",
       "      <td>0.539280</td>\n",
       "      <td>0.301879</td>\n",
       "      <td>0.352075</td>\n",
       "      <td>0.222775</td>\n",
       "      <td>1.434155</td>\n",
       "      <td>-0.267803</td>\n",
       "    </tr>\n",
       "  </tbody>\n",
       "</table>\n",
       "</div>"
      ],
      "text/plain": [
       "        PC1       PC2       PC3       PC4       PC5       PC6       PC7  \\\n",
       "0 -2.716512  0.238577  0.283935  0.103096 -0.943262  0.304227  0.513389   \n",
       "1  0.073320  0.161122 -1.601737 -0.373454 -0.511341  0.295777 -0.161287   \n",
       "2 -0.526422  1.117797 -1.763934 -1.545794 -0.954631  0.225277 -0.927379   \n",
       "3  0.751499  1.704223 -0.339565  2.158309 -0.778746  0.763298  0.842807   \n",
       "4  0.021077  1.071106 -0.441520  1.575519 -0.194044  0.553494  1.723749   \n",
       "\n",
       "        PC8       PC9      PC10      PC11      PC12      PC13  \n",
       "0 -0.174903  0.516435  0.011285  0.391522 -0.331242  0.145351  \n",
       "1  0.004200  0.856733  0.174174 -0.616793  1.022931  0.001136  \n",
       "2  0.738422  0.619001 -0.985734 -0.210750  1.582262 -0.595744  \n",
       "3 -0.442513 -0.519719 -0.006928  0.753827  0.868034  0.028738  \n",
       "4  0.539280  0.301879  0.352075  0.222775  1.434155 -0.267803  "
      ]
     },
     "execution_count": 16,
     "metadata": {},
     "output_type": "execute_result"
    }
   ],
   "source": [
    "PCA_df = pd.DataFrame(pcs.transform(df_PCA_scaled_X),columns=[pcsSummary_df.columns])\n",
    "PCA_df.head()"
   ]
  },
  {
   "cell_type": "code",
   "execution_count": 17,
   "id": "specified-freedom",
   "metadata": {},
   "outputs": [],
   "source": [
    "df2 = PCA_df.iloc[:,:6].copy()\n",
    "df3 = PCA_df.iloc[:,:9].copy()"
   ]
  },
  {
   "cell_type": "code",
   "execution_count": null,
   "id": "complete-atlantic",
   "metadata": {},
   "outputs": [],
   "source": []
  },
  {
   "cell_type": "markdown",
   "id": "regular-graph",
   "metadata": {},
   "source": [
    "# Q8"
   ]
  },
  {
   "cell_type": "code",
   "execution_count": 18,
   "id": "architectural-cutting",
   "metadata": {},
   "outputs": [
    {
     "data": {
      "text/plain": [
       "LinearRegression()"
      ]
     },
     "execution_count": 18,
     "metadata": {},
     "output_type": "execute_result"
    }
   ],
   "source": [
    "X1 = df1[['COUPON', 'NEW', 'HI', 'S_INCOME', 'E_INCOME', 'S_POP', 'E_POP', 'PAX', 'VACATION_Yes', 'SW_Yes', 'SLOT_Free', 'GATE_Free']]\n",
    "y1 = df1['FARE']\n",
    "train_X1, valid_X1, train_y1, valid_y1 = train_test_split(X1,y1, test_size=.4, random_state=10)\n",
    "regr1 = LinearRegression()\n",
    "regr1.fit(train_X1, train_y1)"
   ]
  },
  {
   "cell_type": "code",
   "execution_count": 19,
   "id": "systematic-cross",
   "metadata": {},
   "outputs": [
    {
     "data": {
      "text/plain": [
       "LinearRegression()"
      ]
     },
     "execution_count": 19,
     "metadata": {},
     "output_type": "execute_result"
    }
   ],
   "source": [
    "X2 = df2[['PC1', 'PC2', 'PC3', 'PC4', 'PC5', 'PC6']]\n",
    "y2 = df_PCA_scaled_y['FARE']\n",
    "train_X2, valid_X2, train_y2, valid_y2 = train_test_split(X2,y2, test_size=.4, random_state=10)\n",
    "regr2 = LinearRegression()\n",
    "regr2.fit(train_X2, train_y2)"
   ]
  },
  {
   "cell_type": "code",
   "execution_count": 20,
   "id": "metropolitan-nature",
   "metadata": {},
   "outputs": [
    {
     "data": {
      "text/plain": [
       "LinearRegression()"
      ]
     },
     "execution_count": 20,
     "metadata": {},
     "output_type": "execute_result"
    }
   ],
   "source": [
    "X3 = df3[['PC1', 'PC2', 'PC3', 'PC4', 'PC5', 'PC6', 'PC7', 'PC8', 'PC9']]\n",
    "y3 = df_PCA_scaled_y['FARE']\n",
    "train_X3, valid_X3, train_y3, valid_y3 = train_test_split(X3,y3, test_size=.4, random_state=10)\n",
    "regr3 = LinearRegression()\n",
    "regr3.fit(train_X3, train_y3)"
   ]
  },
  {
   "cell_type": "code",
   "execution_count": null,
   "id": "guilty-evidence",
   "metadata": {},
   "outputs": [],
   "source": []
  },
  {
   "cell_type": "markdown",
   "id": "atomic-regulation",
   "metadata": {},
   "source": [
    "# Q9"
   ]
  },
  {
   "cell_type": "markdown",
   "id": "reported-receptor",
   "metadata": {},
   "source": [
    "For df1, adjusted $R^2$ is 0.6008319854561928 and MAPE is 25.9823"
   ]
  },
  {
   "cell_type": "code",
   "execution_count": 21,
   "id": "informed-spiritual",
   "metadata": {},
   "outputs": [
    {
     "name": "stdout",
     "output_type": "stream",
     "text": [
      "\n",
      "Regression statistics\n",
      "\n",
      "                      Mean Error (ME) : -0.9926\n",
      "       Root Mean Squared Error (RMSE) : 46.4428\n",
      "            Mean Absolute Error (MAE) : 35.6798\n",
      "          Mean Percentage Error (MPE) : -8.9972\n",
      "Mean Absolute Percentage Error (MAPE) : 25.6982\n"
     ]
    }
   ],
   "source": [
    "regressionSummary(valid_y1,regr1.predict(valid_X1))"
   ]
  },
  {
   "cell_type": "code",
   "execution_count": 22,
   "id": "functional-baking",
   "metadata": {},
   "outputs": [
    {
     "data": {
      "text/plain": [
       "0.608266276530013"
      ]
     },
     "execution_count": 22,
     "metadata": {},
     "output_type": "execute_result"
    }
   ],
   "source": [
    "adjusted_r2_score(valid_y1, regr1.predict(valid_X1), regr1)"
   ]
  },
  {
   "cell_type": "markdown",
   "id": "joint-audit",
   "metadata": {},
   "source": [
    "For df2, adjusted $R^2$ is 0.693302228610231 and MAPE is 145.3438"
   ]
  },
  {
   "cell_type": "markdown",
   "id": "adverse-explanation",
   "metadata": {},
   "source": [
    "regressionSummary(valid_y2,regr2.predict(valid_X2))"
   ]
  },
  {
   "cell_type": "code",
   "execution_count": 23,
   "id": "distant-fruit",
   "metadata": {},
   "outputs": [
    {
     "data": {
      "text/plain": [
       "0.693302228610231"
      ]
     },
     "execution_count": 23,
     "metadata": {},
     "output_type": "execute_result"
    }
   ],
   "source": [
    "adjusted_r2_score(valid_y2, regr2.predict(valid_X2), regr2)"
   ]
  },
  {
   "cell_type": "markdown",
   "id": "biological-closer",
   "metadata": {},
   "source": [
    "For df3, adjusted $R^2$ is 0.7224790398238246 and MAPE is 134.2693"
   ]
  },
  {
   "cell_type": "code",
   "execution_count": 24,
   "id": "ranging-tobacco",
   "metadata": {},
   "outputs": [
    {
     "name": "stdout",
     "output_type": "stream",
     "text": [
      "\n",
      "Regression statistics\n",
      "\n",
      "                      Mean Error (ME) : -0.0273\n",
      "       Root Mean Squared Error (RMSE) : 0.5178\n",
      "            Mean Absolute Error (MAE) : 0.4126\n",
      "          Mean Percentage Error (MPE) : 4.9894\n",
      "Mean Absolute Percentage Error (MAPE) : 134.2693\n"
     ]
    }
   ],
   "source": [
    "regressionSummary(valid_y3,regr3.predict(valid_X3))"
   ]
  },
  {
   "cell_type": "code",
   "execution_count": 25,
   "id": "cognitive-apple",
   "metadata": {},
   "outputs": [
    {
     "data": {
      "text/plain": [
       "0.7224790398238246"
      ]
     },
     "execution_count": 25,
     "metadata": {},
     "output_type": "execute_result"
    }
   ],
   "source": [
    "adjusted_r2_score(valid_y3, regr3.predict(valid_X3), regr3)"
   ]
  },
  {
   "cell_type": "code",
   "execution_count": null,
   "id": "interpreted-philippines",
   "metadata": {},
   "outputs": [],
   "source": []
  },
  {
   "cell_type": "markdown",
   "id": "biblical-litigation",
   "metadata": {},
   "source": [
    "# Q10"
   ]
  },
  {
   "cell_type": "markdown",
   "id": "colored-intermediate",
   "metadata": {},
   "source": [
    "Since $R^2$ provides a measure of the proportion of the variance of a dependent variable that is explained by a regression model. Model 3 achieves the highest $R^2$. Thus, Model 3 is the best one.\n",
    "\n",
    "Reasons behind it: PCA can help us improve performance at a very low cost of model accuracy. After implementing the PCA on the dataset, all the Principal Components are independent of one another. There is no correlation among them. Overfitting mainly occurs when there are too many variables in the dataset. So, PCA helps in overcoming the overfitting issue by reducing the number of features.That's the reason why model 2 and model 3 are better than model 1. In addition, Compared to model 2, model 3 involves 4 more PCs so that it can attain a cumulative proportion of over 90%."
   ]
  },
  {
   "cell_type": "code",
   "execution_count": null,
   "id": "scenic-asbestos",
   "metadata": {},
   "outputs": [],
   "source": []
  }
 ],
 "metadata": {
  "kernelspec": {
   "display_name": "Python 3",
   "language": "python",
   "name": "python3"
  },
  "language_info": {
   "codemirror_mode": {
    "name": "ipython",
    "version": 3
   },
   "file_extension": ".py",
   "mimetype": "text/x-python",
   "name": "python",
   "nbconvert_exporter": "python",
   "pygments_lexer": "ipython3",
   "version": "3.8.8"
  }
 },
 "nbformat": 4,
 "nbformat_minor": 5
}
