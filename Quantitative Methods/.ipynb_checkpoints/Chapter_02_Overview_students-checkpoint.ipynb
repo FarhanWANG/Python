{
 "cells": [
  {
   "cell_type": "markdown",
   "metadata": {
    "id": "gGDAkHrMdBn9"
   },
   "source": [
    "# Chapter 2: Overview of the Data Mining Process\n",
    "\n"
   ]
  },
  {
   "cell_type": "markdown",
   "metadata": {
    "id": "0b6HnEsugMrl"
   },
   "source": [
    "Import Libraries"
   ]
  },
  {
   "cell_type": "code",
   "execution_count": 1,
   "metadata": {
    "id": "e_RRbCRldBoI"
   },
   "outputs": [],
   "source": [
    "%matplotlib inline\n",
    "from pathlib import Path\n",
    "import numpy as np\n",
    "import pandas as pd\n",
    "from sklearn.model_selection import train_test_split\n",
    "from sklearn.metrics import r2_score\n",
    "from sklearn.linear_model import LinearRegression\n",
    "\n",
    "import matplotlib.pylab as plt"
   ]
  },
  {
   "cell_type": "markdown",
   "metadata": {
    "id": "RXdpTMqMdBoM"
   },
   "source": [
    "## Data Exploration\n",
    "Load the West Roxbury data set"
   ]
  },
  {
   "cell_type": "markdown",
   "metadata": {
    "id": "GJyQ5FGxdBoN"
   },
   "source": [
    "Determine the shape of the data frame. It has 5802 rows and 14 columns"
   ]
  },
  {
   "cell_type": "markdown",
   "metadata": {
    "id": "BlZgETtHdBoO"
   },
   "source": [
    "Show the top rows of the dataframe"
   ]
  },
  {
   "cell_type": "markdown",
   "metadata": {
    "id": "EtFNwVQPdBoO"
   },
   "source": [
    "## Cleanup\n",
    "Preprocessing and cleaning up data is an important aspect of data analysis. \n",
    "\n",
    "Show the column names."
   ]
  },
  {
   "cell_type": "markdown",
   "metadata": {
    "id": "x5vnpCindBoP"
   },
   "source": [
    "Note that some column titles end with spaces and some consist of two space separated words. For further analysis it's more convenient to have column names which are single words. \n"
   ]
  },
  {
   "cell_type": "markdown",
   "metadata": {
    "id": "yV3xJwVddBoP"
   },
   "source": [
    "We therefore strip trailing spaces and replace the remaining spaces with an underscore _. Instead of using the `rename` method, we create a modified copy of `columns` and assign to the `columns` field of the dataframe."
   ]
  },
  {
   "cell_type": "markdown",
   "metadata": {
    "id": "WUIRY30pdBoQ"
   },
   "source": [
    "## Accessing subsets of the data\n",
    "Pandas uses two methods to access rows in a data frame; `loc` and `iloc`. The `loc` method is more general and allows accessing rows using labels. The `iloc` method on the other hand only allows using integer numbers. To specify a range of rows use the slice notation, e.g. `0:9`.\n",
    "\n",
    "To show the first four rows of the data frame, you can use the following commands."
   ]
  },
  {
   "cell_type": "markdown",
   "metadata": {
    "id": "h30B5qUxdBoQ"
   },
   "source": [
    "Show the first ten rows of the first column"
   ]
  },
  {
   "cell_type": "markdown",
   "metadata": {
    "id": "qdGqhahhdBoR"
   },
   "source": [
    "Show the fifth row of the first 10 columns. The `iloc` methods allows specifying the rows and columns within one set of brackets. `dataframe.iloc[rows, columns]`"
   ]
  },
  {
   "cell_type": "markdown",
   "metadata": {
    "id": "s01TOUGPdBoR"
   },
   "source": [
    "If you prefer to preserve the data frame format, use a slice for the rows as well."
   ]
  },
  {
   "cell_type": "markdown",
   "metadata": {
    "id": "r0hwD6ZZdBoS"
   },
   "source": [
    "Use the `pd.concat` method if you want to combine non-consecutive columns into a new data frame. The `axis` argument specifies the dimension along which the concatenation happens, 0=rows, 1=columns."
   ]
  },
  {
   "cell_type": "markdown",
   "metadata": {
    "id": "cOOdWSvFdBoS"
   },
   "source": [
    "We can subset the column using a slice"
   ]
  },
  {
   "cell_type": "markdown",
   "metadata": {
    "id": "PXS9ucHGdBoT"
   },
   "source": [
    "Pandas provides a number of ways to access statistics of the columns."
   ]
  },
  {
   "cell_type": "markdown",
   "metadata": {
    "id": "WW1fRB32dBoT"
   },
   "source": [
    "A data frame also has the method `describe` that prints a number of common statistics "
   ]
  },
  {
   "cell_type": "markdown",
   "metadata": {
    "id": "LwOfrzFYdBoV"
   },
   "source": [
    "## Sampling\n",
    "Use the `sample` method to retrieve a random sample of observations. Here we sample 5 observations without replacement."
   ]
  },
  {
   "cell_type": "markdown",
   "metadata": {
    "id": "XtguttABdBoV"
   },
   "source": [
    "The sample method allows to specify weights for the individual rows. We use this here to oversample houses with over 10 rooms."
   ]
  },
  {
   "cell_type": "markdown",
   "metadata": {
    "id": "CXKmuqh7dBoV"
   },
   "source": [
    "## Variable Types"
   ]
  },
  {
   "cell_type": "markdown",
   "metadata": {
    "id": "Y9lUzwywdBoW"
   },
   "source": [
    "The REMODEL column is a factor, so we need to change it's type."
   ]
  },
  {
   "cell_type": "markdown",
   "metadata": {
    "id": "at4VPzoudBoW"
   },
   "source": [
    "Other columns also have types."
   ]
  },
  {
   "cell_type": "markdown",
   "metadata": {
    "id": "7ot9-YUEdBoX"
   },
   "source": [
    "It's also possible to the all columns data types "
   ]
  },
  {
   "cell_type": "markdown",
   "metadata": {
    "id": "aFpoGRHgdBoX"
   },
   "source": [
    "## Dummy / One Hot Encoding Variables\n",
    "Pandas provides a method to convert factors into dummy variables."
   ]
  },
  {
   "cell_type": "markdown",
   "metadata": {
    "id": "kZ3ryRlbdBoY"
   },
   "source": [
    "## Handling Missing Data\n",
    "To illustrate missing data procedures, we first convert a few entries for bedrooms to NA's. Then we impute these missing values using the median of the remaining values."
   ]
  },
  {
   "cell_type": "markdown",
   "metadata": {
    "id": "XPsrI-fydBoY"
   },
   "source": [
    "Replace the missing values using the median of the remaining values.\n"
   ]
  },
  {
   "cell_type": "markdown",
   "metadata": {
    "id": "h8DrwTZWdBoZ"
   },
   "source": [
    "## Normalizing / Scaling Data"
   ]
  },
  {
   "cell_type": "markdown",
   "metadata": {
    "id": "eKUNsoAndBoZ"
   },
   "source": [
    "The standardization of the dataset may give a <code>DataConversionWarning</code>. This informs you that the integer columns in the dataframe are automatically converted to real numbers (<code>float64</code>). This is expected and you can therefore ignore this warning. If you want to suppress the warning, you can explicitly convert the integer columns to real numbers</p>\n",
    "<pre>\n",
    "# Option 1: Identify all integer columns, remove personal loan, \n",
    "# and change their type\n",
    "intColumns = [c for c in housing_df.columns if housing_df[c].dtype == 'int']\n",
    "housing_df[intColumns] = housing_df[intColumns].astype('float64')\n",
    "</pre>\n",
    "Alternatively, you can suppress the warning as follows:\n",
    "<pre>\n",
    "# Option 2: use the warnings package to suppress the display of the warning\n",
    "import warnings\n",
    "with warnings.catch_warnings():\n",
    "    warnings.simplefilter('ignore')\n",
    "    norm_df = pd.DataFrame(scaler.fit_transform(housing_df), \n",
    "                       index=housing_df.index, columns=housing_df.columns)    \n",
    "</pre>"
   ]
  },
  {
   "cell_type": "markdown",
   "metadata": {
    "id": "1E4SKuIidBoZ"
   },
   "source": [
    "## Splitting Datasets\n",
    "Split the dataset into training (60%) and validation (40%) sets. Randomly sample 60% of the dataset into a new data frame `trainData`. The remaining 40% serve as validation."
   ]
  },
  {
   "cell_type": "markdown",
   "metadata": {
    "id": "xx2nB8EBdBoa"
   },
   "source": [
    "Partition the dataset into training (50%), validation (30%), and test sets (20%). "
   ]
  },
  {
   "cell_type": "markdown",
   "metadata": {
    "id": "9gceZG-YdBoa"
   },
   "source": [
    "## Linear Regression\n",
    "Let's create a linear regression model to predict TOTAL_VALUE\n",
    "\n",
    "Exclude TAX from analysis"
   ]
  },
  {
   "cell_type": "markdown",
   "metadata": {
    "id": "f8TZzCzgdBoc"
   },
   "source": [
    "Predict the validation data"
   ]
  },
  {
   "cell_type": "markdown",
   "metadata": {
    "id": "kU8s__JYdBoc"
   },
   "source": [
    "## Error Metrics\n"
   ]
  }
 ],
 "metadata": {
  "colab": {
   "name": "Chapter 02 - Overview.ipynb",
   "provenance": [],
   "toc_visible": true
  },
  "kernelspec": {
   "display_name": "Python 3",
   "language": "python",
   "name": "python3"
  },
  "language_info": {
   "codemirror_mode": {
    "name": "ipython",
    "version": 3
   },
   "file_extension": ".py",
   "mimetype": "text/x-python",
   "name": "python",
   "nbconvert_exporter": "python",
   "pygments_lexer": "ipython3",
   "version": "3.8.8"
  }
 },
 "nbformat": 4,
 "nbformat_minor": 1
}
