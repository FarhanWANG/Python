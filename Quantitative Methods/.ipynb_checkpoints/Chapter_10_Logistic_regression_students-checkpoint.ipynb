{
 "cells": [
  {
   "cell_type": "markdown",
   "metadata": {
    "id": "qBfkGvu6Ii8L"
   },
   "source": [
    "# Chapter 10: Logistic Regression\n",
    "\n",
    "> (c) 2019 Galit Shmueli, Peter C. Bruce, Peter Gedeck \n",
    ">\n",
    "> Code included in\n",
    ">\n",
    "> _Data Mining for Business Analytics: Concepts, Techniques, and Applications in Python_ (First Edition) \n",
    "> Galit Shmueli, Peter C. Bruce, Peter Gedeck, and Nitin R. Patel. 2019.\n",
    "\n",
    "## Import required packages"
   ]
  },
  {
   "cell_type": "code",
   "execution_count": 1,
   "metadata": {
    "colab": {
     "base_uri": "https://localhost:8080/"
    },
    "id": "vS_2c6aGIi8O",
    "outputId": "85f75430-7af8-4829-cef4-f9838827dce3"
   },
   "outputs": [
    {
     "name": "stderr",
     "output_type": "stream",
     "text": [
      "C:\\ProgramData\\Anaconda3\\lib\\site-packages\\statsmodels\\compat\\pandas.py:61: FutureWarning: pandas.Int64Index is deprecated and will be removed from pandas in a future version. Use pandas.Index with the appropriate dtype instead.\n",
      "  from pandas import Int64Index as NumericIndex\n"
     ]
    }
   ],
   "source": [
    "%matplotlib inline\n",
    "\n",
    "from pathlib import Path\n",
    "\n",
    "import numpy as np\n",
    "import pandas as pd\n",
    "from sklearn.linear_model import LogisticRegression, LogisticRegressionCV\n",
    "from sklearn.model_selection import train_test_split\n",
    "import statsmodels.api as sm\n",
    "\n",
    "# !pip install mord\n",
    "from mord import LogisticIT\n",
    "import matplotlib.pylab as plt\n",
    "import seaborn as sns\n",
    "\n",
    "# !pip install dmba\n",
    "from dmba import classificationSummary, gainsChart, liftChart\n",
    "from dmba.metric import AIC_score\n"
   ]
  },
  {
   "cell_type": "markdown",
   "metadata": {
    "id": "RshfNQf4Ii8R"
   },
   "source": [
    "## Universal Bank\n",
    "Load the `UniversalBank.csv` dataset. The columns `ID` and `ZIP Code` are not relevant for model building and therefore removed. Treat Education as categorical"
   ]
  },
  {
   "cell_type": "markdown",
   "metadata": {
    "id": "yYyZp7sfIi8S"
   },
   "source": [
    "## Universal bank probabilities\n",
    "Predict to get the probabilities"
   ]
  },
  {
   "cell_type": "markdown",
   "metadata": {
    "id": "t-cTq4W-Ii8U"
   },
   "source": [
    "## Universal Bank Gains Chart"
   ]
  },
  {
   "cell_type": "markdown",
   "metadata": {
    "id": "LIB80RyOIi8W"
   },
   "source": [
    "## Flight Delays"
   ]
  },
  {
   "cell_type": "markdown",
   "metadata": {
    "id": "DJhfHqn8Ii8Y"
   },
   "source": [
    "## Flight Delays Summary"
   ]
  },
  {
   "cell_type": "markdown",
   "metadata": {
    "id": "8j8QEQBxIi8a"
   },
   "source": [
    "## Nominal logistic regression"
   ]
  }
 ],
 "metadata": {
  "colab": {
   "name": "Chapter_10_Logistic_regression_students.ipynb",
   "provenance": [],
   "toc_visible": true
  },
  "hide_input": false,
  "kernelspec": {
   "display_name": "Python 3 (ipykernel)",
   "language": "python",
   "name": "python3"
  },
  "language_info": {
   "codemirror_mode": {
    "name": "ipython",
    "version": 3
   },
   "file_extension": ".py",
   "mimetype": "text/x-python",
   "name": "python",
   "nbconvert_exporter": "python",
   "pygments_lexer": "ipython3",
   "version": "3.8.8"
  }
 },
 "nbformat": 4,
 "nbformat_minor": 1
}
