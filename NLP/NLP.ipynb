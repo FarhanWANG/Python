{
 "cells": [
  {
   "cell_type": "code",
   "execution_count": 1,
   "metadata": {},
   "outputs": [],
   "source": [
    "import os\n",
    "import tarfile\n",
    "import urllib.request\n",
    "\n",
    "import tensorflow as tf\n",
    "import numpy as np\n",
    "\n",
    "import re\n",
    "import string\n",
    "from random import randint"
   ]
  },
  {
   "cell_type": "code",
   "execution_count": 2,
   "metadata": {},
   "outputs": [],
   "source": [
    "url = \"http://ai.stanford.edu/~ammas/data/sentiment/aclImdb_v1.tar.gz\"\n",
    "filepath = \"data/aclImdb_v1.tar.gz\"\n",
    "\n",
    "if not os.path.exists(\"data\"):\n",
    "    os.makedirs(\"data\")\n",
    "    \n",
    "if not os.path.isfile(filepath):\n",
    "    result = urllib.request.urlretrieve(url,filepath)\n",
    "    \n",
    "if not os.path.exists(\"data/aclImdb\"):\n",
    "    result = tarfile.open(filepath,\"r:gz\").extractall(\"data/\")"
   ]
  },
  {
   "cell_type": "code",
   "execution_count": 3,
   "metadata": {},
   "outputs": [],
   "source": [
    "def remove_tags(text):\n",
    "    re_tags = re.compile(r'<[^>]+>')\n",
    "    return re_tags.sub('',text)"
   ]
  },
  {
   "cell_type": "code",
   "execution_count": 6,
   "metadata": {},
   "outputs": [],
   "source": [
    "def read_files(filetype):\n",
    "    path = \"data/aclImdb/\"\n",
    "    file_list = []\n",
    "    \n",
    "    positive_path = path + filetype + \"/pos/\"\n",
    "    for file in os.listdir(positive_path):\n",
    "        file_list += [positive_path + file]\n",
    "    pos_files_num = len(file_list)\n",
    "    \n",
    "    negative_path = path + filetype + \"/neg/\"\n",
    "    for file in os.listdir(negative_path):\n",
    "        file_list += [negative_path + file]\n",
    "    neg_files_num = len(file_list) - pos_files_num\n",
    "    \n",
    "    all_labels = ([[1,0]]*pos_files_num + [[0,1]]*neg_files_num)\n",
    "    \n",
    "    all_texts = []\n",
    "    for file in file_list:\n",
    "        with open(file,encoding = 'utf8') as file_input:\n",
    "            all_texts += [remove_tags(\"\".join(file_input.readlines()))] \n",
    "    \n",
    "    return all_labels, all_texts    "
   ]
  },
  {
   "cell_type": "code",
   "execution_count": 24,
   "metadata": {},
   "outputs": [],
   "source": [
    "train_labels, train_texts = read_files(\"train\")\n",
    "test_labels, test_texts = read_files(\"test\")"
   ]
  },
  {
   "cell_type": "code",
   "execution_count": 10,
   "metadata": {},
   "outputs": [],
   "source": [
    "import keras"
   ]
  },
  {
   "cell_type": "code",
   "execution_count": 25,
   "metadata": {},
   "outputs": [],
   "source": [
    "#create related dictionary \"Token\"\n",
    "token = keras.preprocessing.text.Tokenizer(num_words = 4000)\n",
    "token.fit_on_texts(train_texts)\n",
    "#transfer texts into numbers\n",
    "train_sequences = token.texts_to_sequences(train_texts)\n",
    "test_sequences = token.texts_to_sequences(test_texts)\n",
    "#let the length of transferred texts equal to 400\n",
    "x_train = keras.preprocessing.sequence.pad_sequences(train_sequences, padding = 'post', truncating = 'post', maxlen = 400)\n",
    "x_test = keras.preprocessing.sequence.pad_sequences(test_sequences, padding = 'post', truncating = 'post', maxlen = 400)\n",
    "y_train = np.array(train_labels)\n",
    "y_test = np.array(test_labels)"
   ]
  },
  {
   "cell_type": "code",
   "execution_count": 12,
   "metadata": {},
   "outputs": [],
   "source": [
    "#settings\n",
    "model = keras.models.Sequential()\n",
    "model.add(keras.layers.Embedding(output_dim = 32, input_dim = 4000, input_length = 400))\n",
    "model.add(keras.layers.Flatten())\n",
    "model.add(keras.layers.Dense(units = 256, activation = 'relu'))\n",
    "model.add(keras.layers.Dropout(0.3))\n",
    "model.add(keras.layers.Dense(units = 2, activation = 'softmax'))"
   ]
  },
  {
   "cell_type": "code",
   "execution_count": 26,
   "metadata": {},
   "outputs": [
    {
     "name": "stdout",
     "output_type": "stream",
     "text": [
      "Epoch 1/10\n",
      "157/157 [==============================] - 9s 46ms/step - loss: 0.6024 - accuracy: 0.6665 - val_loss: 0.3850 - val_accuracy: 0.8534\n",
      "Epoch 2/10\n",
      "157/157 [==============================] - 6s 41ms/step - loss: 0.2068 - accuracy: 0.9210 - val_loss: 0.4673 - val_accuracy: 0.8172\n",
      "Epoch 3/10\n",
      "157/157 [==============================] - 6s 40ms/step - loss: 0.0626 - accuracy: 0.9836 - val_loss: 0.7530 - val_accuracy: 0.7736\n",
      "Epoch 4/10\n",
      "157/157 [==============================] - 6s 41ms/step - loss: 0.0124 - accuracy: 0.9987 - val_loss: 1.2209 - val_accuracy: 0.7168\n",
      "Epoch 5/10\n",
      "157/157 [==============================] - 6s 41ms/step - loss: 0.0054 - accuracy: 0.9996 - val_loss: 0.9229 - val_accuracy: 0.8036\n",
      "Epoch 6/10\n",
      "157/157 [==============================] - 6s 41ms/step - loss: 9.6035e-04 - accuracy: 1.0000 - val_loss: 1.0159 - val_accuracy: 0.7970\n",
      "Epoch 7/10\n",
      "157/157 [==============================] - 6s 41ms/step - loss: 5.4593e-04 - accuracy: 1.0000 - val_loss: 1.0521 - val_accuracy: 0.7990\n",
      "Epoch 8/10\n",
      "157/157 [==============================] - 6s 39ms/step - loss: 3.4806e-04 - accuracy: 1.0000 - val_loss: 1.1451 - val_accuracy: 0.7924\n",
      "Epoch 9/10\n",
      "157/157 [==============================] - 6s 39ms/step - loss: 2.4469e-04 - accuracy: 1.0000 - val_loss: 1.1955 - val_accuracy: 0.7908\n",
      "Epoch 10/10\n",
      "157/157 [==============================] - 6s 40ms/step - loss: 1.8878e-04 - accuracy: 1.0000 - val_loss: 1.2286 - val_accuracy: 0.7908\n"
     ]
    }
   ],
   "source": [
    "model.compile(optimizer = 'adam', loss = 'categorical_crossentropy', metrics = ['accuracy'])\n",
    "history = model.fit(x_train, y_train, validation_split = 0.2, epochs = 10, batch_size = 128, verbose = 1)"
   ]
  },
  {
   "cell_type": "code",
   "execution_count": 27,
   "metadata": {},
   "outputs": [
    {
     "name": "stdout",
     "output_type": "stream",
     "text": [
      "782/782 [==============================] - 5s 6ms/step - loss: 0.8650 - accuracy: 0.8372\n"
     ]
    }
   ],
   "source": [
    "test_loss, test_acc = model.evaluate(x_test, y_test, verbose = 1)"
   ]
  },
  {
   "cell_type": "code",
   "execution_count": 28,
   "metadata": {},
   "outputs": [],
   "source": [
    "review_text = \"good nice enough\"\n",
    "input_seq = token.texts_to_sequences([review_text])\n",
    "pad_input_seq = keras.preprocessing.sequence.pad_sequences(input_seq, padding = 'post', truncating = 'post', maxlen = 400)\n",
    "pred = model.predict(pad_input_seq)"
   ]
  },
  {
   "cell_type": "code",
   "execution_count": 29,
   "metadata": {},
   "outputs": [
    {
     "data": {
      "text/plain": [
       "array([[0.96413857, 0.03586143]], dtype=float32)"
      ]
     },
     "execution_count": 29,
     "metadata": {},
     "output_type": "execute_result"
    }
   ],
   "source": [
    "pred"
   ]
  },
  {
   "cell_type": "code",
   "execution_count": null,
   "metadata": {},
   "outputs": [],
   "source": []
  }
 ],
 "metadata": {
  "kernelspec": {
   "display_name": "Python 3",
   "language": "python",
   "name": "python3"
  },
  "language_info": {
   "codemirror_mode": {
    "name": "ipython",
    "version": 3
   },
   "file_extension": ".py",
   "mimetype": "text/x-python",
   "name": "python",
   "nbconvert_exporter": "python",
   "pygments_lexer": "ipython3",
   "version": "3.8.8"
  }
 },
 "nbformat": 4,
 "nbformat_minor": 4
}
