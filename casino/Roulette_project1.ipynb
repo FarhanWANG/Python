{
 "cells": [
  {
   "cell_type": "markdown",
   "id": "3jnYSs5Z4Gd6",
   "metadata": {
    "id": "3jnYSs5Z4Gd6"
   },
   "source": [
    "# Assumption"
   ]
  },
  {
   "cell_type": "markdown",
   "id": "7dzM_5Ig4Hkv",
   "metadata": {
    "id": "7dzM_5Ig4Hkv"
   },
   "source": [
    "\n",
    "*   As $N \\rightarrow \\infty$, $P_{real} \\rightarrow P_{theoretical}$\n",
    "*   Mean Reversion\n",
    "\n"
   ]
  },
  {
   "cell_type": "markdown",
   "id": "7JayMLHIXhTG",
   "metadata": {
    "id": "7JayMLHIXhTG"
   },
   "source": [
    "# Configuration"
   ]
  },
  {
   "cell_type": "code",
   "execution_count": 1,
   "id": "duzzwl_sayps",
   "metadata": {
    "id": "duzzwl_sayps"
   },
   "outputs": [],
   "source": [
    "import matplotlib.pyplot as plt\n",
    "import random\n",
    "import pandas as pd\n",
    "import numpy as np"
   ]
  },
  {
   "cell_type": "code",
   "execution_count": 2,
   "id": "silent-slave",
   "metadata": {
    "id": "silent-slave"
   },
   "outputs": [],
   "source": [
    "class point:\n",
    "    def __init__(self,number = None):\n",
    "        self.number = number\n",
    "        self.color = None\n",
    "        self.parity = None\n",
    "        \n",
    "    \n",
    "    def num2color(self,number):\n",
    "        if number == None:\n",
    "            return None\n",
    "        if 1<=number<=10 or 19<=number<=28:\n",
    "            color = 'Red' if number % 2 == 1 else 'Black'\n",
    "        elif 11<=number<=18 or 29<=number<=36:\n",
    "            color = 'Red' if number % 2 == 0 else 'Black'\n",
    "        else:\n",
    "            color = \"Green\"\n",
    "        return color\n",
    "    \n",
    "    def num2parity(self,number):\n",
    "        if number == None:\n",
    "            parity = None\n",
    "        elif number == 0:\n",
    "            parity = 'Zero'\n",
    "        elif number % 2 == 0:\n",
    "            parity = 'Even'\n",
    "        elif number % 2 == 1:\n",
    "            parity = 'Odd'\n",
    "            \n",
    "        return parity\n",
    "    \n",
    "    def Initialization(self):\n",
    "        self.color = self.num2color(self.number)\n",
    "        self.parity = self.num2parity(self.number)"
   ]
  },
  {
   "cell_type": "markdown",
   "id": "xIdrC7miXnzW",
   "metadata": {
    "id": "xIdrC7miXnzW"
   },
   "source": [
    "# Data Generating"
   ]
  },
  {
   "cell_type": "code",
   "execution_count": 5,
   "id": "obvious-butter",
   "metadata": {
    "id": "obvious-butter"
   },
   "outputs": [],
   "source": [
    "point_ls = []\n",
    "N = int(1e6)\n",
    "for i in range(N):\n",
    "    point_tmp=point(random.randint(0,36))\n",
    "    point_tmp.Initialization()\n",
    "    point_ls.append(point_tmp)"
   ]
  },
  {
   "cell_type": "markdown",
   "id": "lSHc-e1AXrxQ",
   "metadata": {
    "id": "lSHc-e1AXrxQ"
   },
   "source": [
    "# EDA"
   ]
  },
  {
   "cell_type": "markdown",
   "id": "UL-qSbXyYHKE",
   "metadata": {
    "id": "UL-qSbXyYHKE"
   },
   "source": [
    "## Color Distribution"
   ]
  },
  {
   "cell_type": "code",
   "execution_count": 6,
   "id": "rDBRF7iBuzuA",
   "metadata": {
    "colab": {
     "base_uri": "https://localhost:8080/",
     "height": 270
    },
    "id": "rDBRF7iBuzuA",
    "outputId": "d1384cea-a8af-491e-bedc-9ccdc4329561"
   },
   "outputs": [
    {
     "data": {
      "image/png": "[encoded data removed]",
      "text/plain": [
       "<Figure size 864x864 with 2 Axes>"
      ]
     },
     "metadata": {},
     "output_type": "display_data"
    }
   ],
   "source": [
    "def Color_Distribution(point_ls,start = 0,end = len(point_ls)):\n",
    "  red_count = black_count = green_count = 0\n",
    "  for point in point_ls[start:end]:\n",
    "    if point.color == 'Red':\n",
    "      red_count+=1\n",
    "    elif point.color == 'Black':\n",
    "      black_count+=1\n",
    "    elif point.color == 'Green':\n",
    "      green_count +=1\n",
    "\n",
    "  # Initialise the subplot function using number of rows and columns\n",
    "  figure, axis = plt.subplots(1,2,figsize=(12,12))\n",
    "  plt.subplots_adjust(wspace = 1, hspace =0)\n",
    "  axis[0].pie(np.array([red_count,black_count,green_count]),labels=['Red','Black','Green'],colors = ['firebrick','gray','g'],autopct='%.2f%%', textprops={'fontsize': 14})\n",
    "  axis[0].set_title(\"3-color Distribution\")\n",
    "  axis[1].pie(np.array([red_count,black_count]),labels=['Red','Black'],colors = ['firebrick','gray'],autopct='%.2f%%', textprops={'fontsize': 14})\n",
    "  axis[1].set_title(\"2-color Distribution\")\n",
    "  plt.show()\n",
    "  return {'Red_Count': red_count,'Black_Count':black_count,'Green_Count':green_count}\n",
    "\n",
    "color_count = Color_Distribution(point_ls)"
   ]
  },
  {
   "cell_type": "markdown",
   "id": "sTp7sQuDYMcq",
   "metadata": {
    "id": "sTp7sQuDYMcq"
   },
   "source": [
    "## Color Pattern Detection"
   ]
  },
  {
   "cell_type": "code",
   "execution_count": null,
   "id": "simple-equivalent",
   "metadata": {
    "id": "simple-equivalent"
   },
   "outputs": [],
   "source": [
    "def color_pattern_detection(point_ls = [], consecutive_same_colors = 5, num_different = 20):\n",
    "    pattern_ls = [] # stores patterns \n",
    "    '''\n",
    "    Each pattern starts with one color, then repeat this color for \"consecutive_same_colors\" times, \n",
    "    whenever the next color changes, store the next \"num_different\" points.\n",
    "    Eg. RRBRBBBBBBBBRBRRRBRBRBRRBRRB should save BBBBBBBBRBRRRB (BBBBB + BBB + RBRBRBRBRB)\n",
    "    '''\n",
    "\n",
    "    index = 0\n",
    "    while index < len(point_ls)- consecutive_same_colors - num_different-3:\n",
    "      point_ls_tmp = []\n",
    "      while True:\n",
    "        point_ls_tmp.append(point_ls[index])\n",
    "        index+=1\n",
    "        if point_ls[index-1].color != point_ls[index].color:\n",
    "          break\n",
    "          \n",
    "      if len(point_ls_tmp) >= consecutive_same_colors:\n",
    "        for i in range(num_different):\n",
    "          point_ls_tmp.append(point_ls[index+i])\n",
    "        pattern_ls.append(point_ls_tmp)  \n",
    "\n",
    "    return pattern_ls"
   ]
  },
  {
   "cell_type": "code",
   "execution_count": null,
   "id": "RbgOajUf99sB",
   "metadata": {
    "colab": {
     "base_uri": "https://localhost:8080/"
    },
    "id": "RbgOajUf99sB",
    "outputId": "fa3c1322-8fc4-400a-ea73-f5324dcec7b3"
   },
   "outputs": [
    {
     "data": {
      "text/plain": [
       "839762"
      ]
     },
     "execution_count": 15,
     "metadata": {},
     "output_type": "execute_result"
    }
   ],
   "source": [
    "ls = color_pattern_detection(point_ls,num_different=6)\n",
    "len(ls)"
   ]
  },
  {
   "cell_type": "code",
   "execution_count": null,
   "id": "-nK6VYEXJdbb",
   "metadata": {
    "id": "-nK6VYEXJdbb"
   },
   "outputs": [],
   "source": [
    "# def color_pattern_detection_fxw(point_ls = [], consecutive_same_colors=5, num_different = 6):\n",
    "#     pattern_ls = [] # stores patterns \n",
    "#     l = 0\n",
    "    \n",
    "#     while l < len(color_ls):\n",
    "#         color_ls = []\n",
    "#         window = point_ls[l:l+consecutive_same_colors]\n",
    "#         for i in window:\n",
    "#             color_ls.append(i.color)\n",
    "            \n",
    "#         if len(set(color_ls)) == 1:\n",
    "#             i = 0\n",
    "#             while point_ls[l+consecutive_same_colors+i].color == color_ls[0]:\n",
    "#                 color_ls.append(point_ls[l+consecutive_same_colors+i].color)\n",
    "#                 i += 1\n",
    "                \n",
    "#             n = 0\n",
    "#             additional_numbers = num_different\n",
    "#             while additional_numbers:\n",
    "#                 color_ls.append(point_ls[l+len(color_ls)+n].color)\n",
    "#                 n += 1\n",
    "#                 additional_numbers -= 1\n",
    "                \n",
    "#             l = l + consecutive_same_colors + i\n",
    "            \n",
    "#         else:\n",
    "#             l += 1\n",
    "#             color_ls = []\n",
    "\n",
    "#         if len(color_ls) != 0:\n",
    "#             pattern_ls.append(color_ls)\n",
    " \n",
    "#     return pattern_ls"
   ]
  },
  {
   "cell_type": "markdown",
   "id": "3nXx_i0FYR6F",
   "metadata": {
    "id": "3nXx_i0FYR6F"
   },
   "source": [
    "## Data exploration"
   ]
  },
  {
   "cell_type": "code",
   "execution_count": null,
   "id": "5lShGBjRUglW",
   "metadata": {
    "id": "5lShGBjRUglW"
   },
   "outputs": [],
   "source": [
    "def consec_table(point_ls=[], consecutive_same_colors=5, show_next = 6):\n",
    "  consec_list = []\n",
    "\n",
    "  index = 0\n",
    "\n",
    "  while index < len(point_ls) - consecutive_same_colors - show_next - 3:\n",
    "    color_ls_tmp = []\n",
    "    while True:\n",
    "      color_ls_tmp.append(point_ls[index].color)\n",
    "      index+=1\n",
    "      if point_ls[index-1].color != point_ls[index].color:\n",
    "        break\n",
    "        \n",
    "    if len(color_ls_tmp) >= consecutive_same_colors:\n",
    "      color_ls_tmp = color_ls_tmp[consecutive_same_colors-1:]\n",
    "      if len(color_ls_tmp)-1 >show_next:\n",
    "        color_ls_tmp = color_ls_tmp[:show_next]\n",
    "      else:\n",
    "        for i in range(show_next-len(color_ls_tmp)+1):\n",
    "          color_ls_tmp.append(point_ls[index+i].color)\n",
    "      consec_list.append(color_ls_tmp)\n",
    "\n",
    "  column_names = list(range(show_next+1))\n",
    "  df = pd.DataFrame(consec_list, columns=column_names)\n",
    "  return df"
   ]
  },
  {
   "cell_type": "code",
   "execution_count": null,
   "id": "4nanYjW387S_",
   "metadata": {
    "id": "4nanYjW387S_"
   },
   "outputs": [],
   "source": []
  },
  {
   "cell_type": "code",
   "execution_count": null,
   "id": "6G2OTvKwI6np",
   "metadata": {
    "colab": {
     "base_uri": "https://localhost:8080/",
     "height": 1000
    },
    "id": "6G2OTvKwI6np",
    "outputId": "275f3b64-82b9-4cee-9ea5-dd70014751a6"
   },
   "outputs": [
    {
     "name": "stdout",
     "output_type": "stream",
     "text": [
      "Consecutive_same_colors: 6\n",
      "There are 408787 desired patterns\n"
     ]
    },
    {
     "data": {
      "image/png": "[encoded data removed]",
      "text/plain": [
       "<Figure size 432x288 with 1 Axes>"
      ]
     },
     "metadata": {
      "needs_background": "light"
     },
     "output_type": "display_data"
    },
    {
     "name": "stdout",
     "output_type": "stream",
     "text": [
      "---------------------------------------------------------------------\n",
      "---------------------------------------------------------------------\n",
      "Consecutive_same_colors: 7\n",
      "There are 199356 desired patterns\n"
     ]
    },
    {
     "data": {
      "text/plain": [
       "<Figure size 432x288 with 0 Axes>"
      ]
     },
     "metadata": {},
     "output_type": "display_data"
    },
    {
     "data": {
      "image/png": "[encoded data removed]",
      "text/plain": [
       "<Figure size 432x288 with 1 Axes>"
      ]
     },
     "metadata": {
      "needs_background": "light"
     },
     "output_type": "display_data"
    },
    {
     "name": "stdout",
     "output_type": "stream",
     "text": [
      "---------------------------------------------------------------------\n",
      "---------------------------------------------------------------------\n",
      "Consecutive_same_colors: 8\n",
      "There are 96902 desired patterns\n"
     ]
    },
    {
     "data": {
      "text/plain": [
       "<Figure size 432x288 with 0 Axes>"
      ]
     },
     "metadata": {},
     "output_type": "display_data"
    },
    {
     "data": {
      "image/png": "[encoded data removed]",
      "text/plain": [
       "<Figure size 432x288 with 1 Axes>"
      ]
     },
     "metadata": {
      "needs_background": "light"
     },
     "output_type": "display_data"
    },
    {
     "name": "stdout",
     "output_type": "stream",
     "text": [
      "---------------------------------------------------------------------\n",
      "---------------------------------------------------------------------\n",
      "Consecutive_same_colors: 9\n",
      "There are 47311 desired patterns\n"
     ]
    },
    {
     "data": {
      "text/plain": [
       "<Figure size 432x288 with 0 Axes>"
      ]
     },
     "metadata": {},
     "output_type": "display_data"
    },
    {
     "data": {
      "image/png": "[encoded data removed]",
      "text/plain": [
       "<Figure size 432x288 with 1 Axes>"
      ]
     },
     "metadata": {
      "needs_background": "light"
     },
     "output_type": "display_data"
    },
    {
     "name": "stdout",
     "output_type": "stream",
     "text": [
      "---------------------------------------------------------------------\n",
      "---------------------------------------------------------------------\n",
      "Consecutive_same_colors: 10\n",
      "There are 22940 desired patterns\n"
     ]
    },
    {
     "data": {
      "text/plain": [
       "<Figure size 432x288 with 0 Axes>"
      ]
     },
     "metadata": {},
     "output_type": "display_data"
    },
    {
     "data": {
      "image/png": "[encoded data removed]",
      "text/plain": [
       "<Figure size 432x288 with 1 Axes>"
      ]
     },
     "metadata": {
      "needs_background": "light"
     },
     "output_type": "display_data"
    },
    {
     "name": "stdout",
     "output_type": "stream",
     "text": [
      "---------------------------------------------------------------------\n",
      "---------------------------------------------------------------------\n",
      "Consecutive_same_colors: 11\n",
      "There are 11142 desired patterns\n"
     ]
    },
    {
     "data": {
      "text/plain": [
       "<Figure size 432x288 with 0 Axes>"
      ]
     },
     "metadata": {},
     "output_type": "display_data"
    },
    {
     "data": {
      "image/png": "[encoded data removed]",
      "text/plain": [
       "<Figure size 432x288 with 1 Axes>"
      ]
     },
     "metadata": {
      "needs_background": "light"
     },
     "output_type": "display_data"
    },
    {
     "name": "stdout",
     "output_type": "stream",
     "text": [
      "---------------------------------------------------------------------\n",
      "---------------------------------------------------------------------\n"
     ]
    },
    {
     "data": {
      "text/plain": [
       "<Figure size 432x288 with 0 Axes>"
      ]
     },
     "metadata": {},
     "output_type": "display_data"
    }
   ],
   "source": [
    "# For each {consecutive_same_colors}, display percentage of the other color in vertical axis\n",
    "import matplotlib.lines as lines\n",
    "for consecutive_same_colors in range(6,12):\n",
    "  print(f\"Consecutive_same_colors: {consecutive_same_colors}\")\n",
    "  table = consec_table(point_ls, consecutive_same_colors=consecutive_same_colors, show_next = 6)\n",
    "  print(f\"There are {len(table)} desired patterns\")\n",
    "  # display(table.head())\n",
    "\n",
    "  # Convert Opposite color into 1 and same color into 0\n",
    "  table_tmp = table.copy()\n",
    "  for col in table_tmp.columns.values[1:]:\n",
    "    table_tmp[col] = ((table_tmp[0]!=table_tmp[col])&(table_tmp[col]!='Green'))*1\n",
    "  # display(table_tmp.head())\n",
    "\n",
    "  fig = plt.figure()\n",
    "  x = table_tmp.describe().loc['mean'].index\n",
    "  y = table_tmp.describe().loc['mean'].values\n",
    "  plt.bar(x,y,width=0.5)\n",
    "  plt.ylim(0.45,0.5)\n",
    "  # Add auxiliary line\n",
    "  for index,data in enumerate(y):\n",
    "      plt.text(index+1, data, str(round(data,3)),ha=\"center\")\n",
    "  plt.plot([0.5,6.5], [(color_count['Black_Count']+color_count['Red_Count'])/N/2,(color_count['Black_Count']+color_count['Red_Count'])/N/2], 'red')\n",
    "  plt.show()\n",
    "  plt.savefig(f\"{consecutive_same_colors}_.png\")\n",
    "  print(\"---------------------------------------------------------------------\")\n",
    "  print(\"---------------------------------------------------------------------\")"
   ]
  },
  {
   "cell_type": "code",
   "execution_count": null,
   "id": "iDSCSL5_O4ou",
   "metadata": {
    "id": "iDSCSL5_O4ou"
   },
   "outputs": [],
   "source": []
  },
  {
   "cell_type": "markdown",
   "id": "olUyty3qXwDn",
   "metadata": {
    "id": "olUyty3qXwDn"
   },
   "source": [
    "# Betting Strategy"
   ]
  },
  {
   "cell_type": "code",
   "execution_count": null,
   "id": "loose-boutique",
   "metadata": {
    "id": "loose-boutique"
   },
   "outputs": [],
   "source": [
    "def betting_strategy(pattern_ls = [], consecutive_same_colors=5, spliting_number = 10, stop_betting= 3,stop_loss = 6):\n",
    "    capital = 1 # divide capital into \"spliting_number\" parts, every time bet \"capital/spliting_number\"\n",
    "    number_wins = 0\n",
    "    number_loses = 0\n",
    "    \n",
    "    for pattern in pattern_ls:\n",
    "      pattern_for_investment = pattern[consecutive_same_colors:]\n",
    "      number_wins_tmp = number_loses_tmp = 0\n",
    "      for index in range(stop_loss):\n",
    "        if number_wins_tmp >= 3:\n",
    "          break\n",
    "        else:\n",
    "          if pattern_for_investment[index].color == pattern[0].color:\n",
    "            capital += capital/spliting_number\n",
    "            number_wins_tmp +=1\n",
    "          else:\n",
    "            capital -= capital/spliting_number\n",
    "            number_loses_tmp +=1\n",
    "      number_wins += number_wins_tmp     \n",
    "      number_loses += number_loses_tmp\n",
    "\n",
    "    # Metrics:\n",
    "    number_bets = number_wins + number_loses\n",
    "    winning_rate = number_wins/number_bets\n",
    "    return_each_bet = (capital - 1)/number_bets\n",
    "    # To do: largest consecutive loss in terms of \"number_loses\"\n",
    "    return [winning_rate,return_each_bet]"
   ]
  },
  {
   "cell_type": "code",
   "execution_count": null,
   "id": "gk94RApFaPkL",
   "metadata": {
    "id": "gk94RApFaPkL"
   },
   "outputs": [],
   "source": [
    "# May consider using ratios instead of absolute numbers for further update\n",
    "\n",
    "# To do: Study multiprocessing and threading to solve these issues (try to run fast for a large number)\n",
    "# find the best strategy\n",
    "max_return_each_bet = max_winning_rate = 0\n",
    "result = pd.DataFrame(columns = ['consecutive_same_colors','spliting_number','stop_betting','stop_loss','wining_rate','return_each_bet'])\n",
    "for consecutive_same_colors in range(5,9):\n",
    "  for spliting_number in range (5,15):\n",
    "    for stop_betting in range(1,5):\n",
    "      for stop_loss in range(3,spliting_number):\n",
    "        pattern_ls = color_pattern_detection(point_ls=point_ls, consecutive_same_colors=consecutive_same_colors)\n",
    "        [wining_rate,return_each_bet] = betting_strategy(pattern_ls=pattern_ls, consecutive_same_colors=consecutive_same_colors, spliting_number = spliting_number, stop_betting= stop_betting,stop_loss = stop_loss)\n",
    "        new_row = {'consecutive_same_colors':consecutive_same_colors, 'spliting_number':spliting_number, 'stop_betting':stop_betting, 'stop_loss':stop_loss,'wining_rate':wining_rate, 'return_each_bet': return_each_bet}\n",
    "        result=result.append(new_row,ignore_index=True) "
   ]
  },
  {
   "cell_type": "code",
   "execution_count": null,
   "id": "wvnC_mmpKvXy",
   "metadata": {
    "id": "wvnC_mmpKvXy"
   },
   "outputs": [],
   "source": [
    "result"
   ]
  },
  {
   "cell_type": "code",
   "execution_count": null,
   "id": "KXeT0zzeNfgD",
   "metadata": {
    "id": "KXeT0zzeNfgD"
   },
   "outputs": [],
   "source": [
    "result.sort_values(by=['wining_rate','return_each_bet'],ascending=False)"
   ]
  },
  {
   "cell_type": "code",
   "execution_count": null,
   "id": "wibFBksxNg03",
   "metadata": {
    "id": "wibFBksxNg03"
   },
   "outputs": [],
   "source": [
    "result.sort_values(by=['return_each_bet','wining_rate'],ascending=False)"
   ]
  },
  {
   "cell_type": "code",
   "execution_count": null,
   "id": "OQT-UsIq4_5Y",
   "metadata": {
    "id": "OQT-UsIq4_5Y"
   },
   "outputs": [],
   "source": []
  }
 ],
 "metadata": {
  "colab": {
   "collapsed_sections": [],
   "name": "Roulette.ipynb",
   "provenance": [],
   "toc_visible": true
  },
  "hide_input": false,
  "kernelspec": {
   "display_name": "Python 3 (ipykernel)",
   "language": "python",
   "name": "python3"
  },
  "language_info": {
   "codemirror_mode": {
    "name": "ipython",
    "version": 3
   },
   "file_extension": ".py",
   "mimetype": "text/x-python",
   "name": "python",
   "nbconvert_exporter": "python",
   "pygments_lexer": "ipython3",
   "version": "3.8.12"
  }
 },
 "nbformat": 4,
 "nbformat_minor": 5
}
