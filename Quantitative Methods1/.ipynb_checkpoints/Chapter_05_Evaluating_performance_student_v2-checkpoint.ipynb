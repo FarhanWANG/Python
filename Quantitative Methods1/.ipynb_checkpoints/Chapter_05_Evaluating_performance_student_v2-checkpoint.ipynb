{
 "cells": [
  {
   "cell_type": "markdown",
   "metadata": {
    "id": "QGdGKY2po8u8"
   },
   "source": [
    "# Chapter 5: Evaluating Predictive Performance\n",
    "\n",
    "> (c) 2019 Galit Shmueli, Peter C. Bruce, Peter Gedeck \n",
    ">\n",
    "> Code included in\n",
    ">\n",
    "> _Data Mining for Business Analytics: Concepts, Techniques, and Applications in Python_ (First Edition) \n",
    "> Galit Shmueli, Peter C. Bruce, Peter Gedeck, and Nitin R. Patel. 2019.\n",
    "\n",
    "\n",
    "## Import required packages"
   ]
  },
  {
   "cell_type": "code",
   "execution_count": null,
   "metadata": {
    "colab": {
     "base_uri": "https://localhost:8080/"
    },
    "id": "-IZDmzB6o8vA",
    "outputId": "e234551d-c971-4ddc-8a49-b8e2ceb9ab68"
   },
   "outputs": [
    {
     "name": "stdout",
     "output_type": "stream",
     "text": [
      "Requirement already satisfied: scikit-plot in /usr/local/lib/python3.7/dist-packages (0.3.7)\n",
      "Requirement already satisfied: matplotlib>=1.4.0 in /usr/local/lib/python3.7/dist-packages (from scikit-plot) (3.2.2)\n",
      "Requirement already satisfied: joblib>=0.10 in /usr/local/lib/python3.7/dist-packages (from scikit-plot) (1.0.1)\n",
      "Requirement already satisfied: scikit-learn>=0.18 in /usr/local/lib/python3.7/dist-packages (from scikit-plot) (0.22.2.post1)\n",
      "Requirement already satisfied: scipy>=0.9 in /usr/local/lib/python3.7/dist-packages (from scikit-plot) (1.4.1)\n",
      "Requirement already satisfied: cycler>=0.10 in /usr/local/lib/python3.7/dist-packages (from matplotlib>=1.4.0->scikit-plot) (0.10.0)\n",
      "Requirement already satisfied: kiwisolver>=1.0.1 in /usr/local/lib/python3.7/dist-packages (from matplotlib>=1.4.0->scikit-plot) (1.3.1)\n",
      "Requirement already satisfied: python-dateutil>=2.1 in /usr/local/lib/python3.7/dist-packages (from matplotlib>=1.4.0->scikit-plot) (2.8.1)\n",
      "Requirement already satisfied: numpy>=1.11 in /usr/local/lib/python3.7/dist-packages (from matplotlib>=1.4.0->scikit-plot) (1.19.5)\n",
      "Requirement already satisfied: pyparsing!=2.0.4,!=2.1.2,!=2.1.6,>=2.0.1 in /usr/local/lib/python3.7/dist-packages (from matplotlib>=1.4.0->scikit-plot) (2.4.7)\n",
      "Requirement already satisfied: six in /usr/local/lib/python3.7/dist-packages (from cycler>=0.10->matplotlib>=1.4.0->scikit-plot) (1.15.0)\n",
      "Requirement already satisfied: dmba in /usr/local/lib/python3.7/dist-packages (0.0.18)\n"
     ]
    }
   ],
   "source": [
    "%matplotlib inline\n",
    "import math\n",
    "from pathlib import Path\n",
    "import pandas as pd\n",
    "from sklearn.model_selection import train_test_split\n",
    "from sklearn.linear_model import LinearRegression\n",
    "from sklearn.metrics import accuracy_score, roc_curve, auc\n",
    "import matplotlib.pylab as plt\n",
    "\n",
    "\n",
    "!pip install scikit-plot\n",
    "import scikitplot as skplt\n",
    "!pip install dmba\n",
    "from dmba import regressionSummary, classificationSummary, liftChart, gainsChart\n"
   ]
  },
  {
   "cell_type": "markdown",
   "metadata": {
    "id": "TSEnqWlUo8vD"
   },
   "source": [
    "## Load file and generate training and validation sets. \n"
   ]
  },
  {
   "cell_type": "markdown",
   "metadata": {
    "id": "WXv4-wi_pgw2"
   },
   "source": [
    "* load the Toyota Corolla file\n",
    "* remove variables Model, ID, Price, Fuel Type and COlor from the model\n",
    "* create training and validation data sets\n",
    "* fit a regression model predicting the price"
   ]
  },
  {
   "cell_type": "markdown",
   "metadata": {
    "id": "Dr35gjk5o8vE"
   },
   "source": [
    "## Create a distribution of the residuals"
   ]
  },
  {
   "cell_type": "markdown",
   "metadata": {
    "id": "dDz95hossLUQ"
   },
   "source": [
    "* calculate the residual values for the training set\n",
    "* calculate the residual values for the validation set\n",
    "* create a historgram of the residual values for normality check\n",
    "* create a boxplot of the residuals for possible outlier check"
   ]
  }
 ],
 "metadata": {
  "colab": {
   "name": "Chapter_05_Evaluating_performance_student.ipynb",
   "provenance": [],
   "toc_visible": true
  },
  "kernelspec": {
   "display_name": "Python 3",
   "language": "python",
   "name": "python3"
  },
  "language_info": {
   "codemirror_mode": {
    "name": "ipython",
    "version": 3
   },
   "file_extension": ".py",
   "mimetype": "text/x-python",
   "name": "python",
   "nbconvert_exporter": "python",
   "pygments_lexer": "ipython3",
   "version": "3.8.8"
  }
 },
 "nbformat": 4,
 "nbformat_minor": 1
}
