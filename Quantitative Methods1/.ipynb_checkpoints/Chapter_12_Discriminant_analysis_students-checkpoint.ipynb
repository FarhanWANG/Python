{
 "cells": [
  {
   "cell_type": "markdown",
   "metadata": {
    "id": "uLIiuOPc3aFf"
   },
   "source": [
    "# Chapter 12: Discriminant Analysis\n",
    "\n",
    "> (c) 2019 Galit Shmueli, Peter C. Bruce, Peter Gedeck \n",
    ">\n",
    "> Code included in\n",
    ">\n",
    "> _Data Mining for Business Analytics: Concepts, Techniques, and Applications in Python_ (First Edition) \n",
    "> Galit Shmueli, Peter C. Bruce, Peter Gedeck, and Nitin R. Patel. 2019.\n",
    "\n",
    "## Import required packages"
   ]
  },
  {
   "cell_type": "code",
   "execution_count": 1,
   "metadata": {
    "colab": {
     "base_uri": "https://localhost:8080/"
    },
    "id": "PW_xAOmE3aFk",
    "outputId": "e823a544-ca96-44e5-a1d0-4568b6e072ef"
   },
   "outputs": [],
   "source": [
    "%matplotlib inline\n",
    "\n",
    "from pathlib import Path\n",
    "\n",
    "import numpy as np\n",
    "import pandas as pd\n",
    "from sklearn.discriminant_analysis import LinearDiscriminantAnalysis\n",
    "import matplotlib.pylab as plt\n",
    "# !pip install dmba\n",
    "from dmba import classificationSummary\n"
   ]
  },
  {
   "cell_type": "markdown",
   "metadata": {
    "id": "RMA8tb5M3aFn"
   },
   "source": [
    "## Riding Mowers Classification"
   ]
  },
  {
   "cell_type": "code",
   "execution_count": 2,
   "metadata": {
    "id": "yVEowYOJAX7n"
   },
   "outputs": [],
   "source": [
    "mow = pd.read_csv('RidingMowers.csv')"
   ]
  },
  {
   "cell_type": "code",
   "execution_count": 3,
   "metadata": {
    "colab": {
     "base_uri": "https://localhost:8080/",
     "height": 206
    },
    "id": "3kmDQxzbAeNR",
    "outputId": "91270db4-33c8-45d7-8517-17eb01f78ddf"
   },
   "outputs": [
    {
     "data": {
      "text/html": [
       "<div>\n",
       "<style scoped>\n",
       "    .dataframe tbody tr th:only-of-type {\n",
       "        vertical-align: middle;\n",
       "    }\n",
       "\n",
       "    .dataframe tbody tr th {\n",
       "        vertical-align: top;\n",
       "    }\n",
       "\n",
       "    .dataframe thead th {\n",
       "        text-align: right;\n",
       "    }\n",
       "</style>\n",
       "<table border=\"1\" class=\"dataframe\">\n",
       "  <thead>\n",
       "    <tr style=\"text-align: right;\">\n",
       "      <th></th>\n",
       "      <th>Income</th>\n",
       "      <th>Lot_Size</th>\n",
       "      <th>Ownership</th>\n",
       "    </tr>\n",
       "  </thead>\n",
       "  <tbody>\n",
       "    <tr>\n",
       "      <th>0</th>\n",
       "      <td>60.0</td>\n",
       "      <td>18.4</td>\n",
       "      <td>Owner</td>\n",
       "    </tr>\n",
       "    <tr>\n",
       "      <th>1</th>\n",
       "      <td>85.5</td>\n",
       "      <td>16.8</td>\n",
       "      <td>Owner</td>\n",
       "    </tr>\n",
       "    <tr>\n",
       "      <th>2</th>\n",
       "      <td>64.8</td>\n",
       "      <td>21.6</td>\n",
       "      <td>Owner</td>\n",
       "    </tr>\n",
       "    <tr>\n",
       "      <th>3</th>\n",
       "      <td>61.5</td>\n",
       "      <td>20.8</td>\n",
       "      <td>Owner</td>\n",
       "    </tr>\n",
       "    <tr>\n",
       "      <th>4</th>\n",
       "      <td>87.0</td>\n",
       "      <td>23.6</td>\n",
       "      <td>Owner</td>\n",
       "    </tr>\n",
       "  </tbody>\n",
       "</table>\n",
       "</div>"
      ],
      "text/plain": [
       "   Income  Lot_Size Ownership\n",
       "0    60.0      18.4     Owner\n",
       "1    85.5      16.8     Owner\n",
       "2    64.8      21.6     Owner\n",
       "3    61.5      20.8     Owner\n",
       "4    87.0      23.6     Owner"
      ]
     },
     "execution_count": 3,
     "metadata": {},
     "output_type": "execute_result"
    }
   ],
   "source": [
    "mow.head()"
   ]
  },
  {
   "cell_type": "code",
   "execution_count": 4,
   "metadata": {
    "colab": {
     "base_uri": "https://localhost:8080/"
    },
    "id": "wdnn8fM8Anm4",
    "outputId": "e2d1d8cd-857b-4f9d-fff3-1f0086e9c26c"
   },
   "outputs": [
    {
     "data": {
      "text/plain": [
       "LinearDiscriminantAnalysis()"
      ]
     },
     "execution_count": 4,
     "metadata": {},
     "output_type": "execute_result"
    }
   ],
   "source": [
    "lda = LinearDiscriminantAnalysis()\n",
    "lda.fit(mow.drop(columns='Ownership'), mow['Ownership'])"
   ]
  },
  {
   "cell_type": "code",
   "execution_count": 5,
   "metadata": {
    "colab": {
     "base_uri": "https://localhost:8080/"
    },
    "id": "SJevEH_HA2zp",
    "outputId": "362d21b5-ef7d-4498-9f4c-85194e2e984d"
   },
   "outputs": [
    {
     "data": {
      "text/plain": [
       "array(['Nonowner', 'Owner', 'Owner', 'Owner', 'Owner', 'Owner', 'Owner',\n",
       "       'Owner', 'Owner', 'Owner', 'Owner', 'Owner', 'Owner', 'Nonowner',\n",
       "       'Nonowner', 'Nonowner', 'Owner', 'Nonowner', 'Nonowner',\n",
       "       'Nonowner', 'Nonowner', 'Nonowner', 'Nonowner', 'Nonowner'],\n",
       "      dtype='<U8')"
      ]
     },
     "execution_count": 5,
     "metadata": {},
     "output_type": "execute_result"
    }
   ],
   "source": [
    "lda.predict(mow.drop(columns='Ownership'))"
   ]
  },
  {
   "cell_type": "code",
   "execution_count": 6,
   "metadata": {
    "colab": {
     "base_uri": "https://localhost:8080/"
    },
    "id": "yZv-rXqSA_zX",
    "outputId": "369c4099-4df1-4717-8fbb-2c90181acb91"
   },
   "outputs": [
    {
     "data": {
      "text/plain": [
       "array([[0.78203155, 0.21796845],\n",
       "       [0.49449211, 0.50550789],\n",
       "       [0.15236751, 0.84763249],\n",
       "       [0.31924493, 0.68075507],\n",
       "       [0.00402325, 0.99597675],\n",
       "       [0.0124668 , 0.9875332 ],\n",
       "       [0.05188913, 0.94811087],\n",
       "       [0.01554353, 0.98445647],\n",
       "       [0.29300716, 0.70699284],\n",
       "       [0.01956031, 0.98043969],\n",
       "       [0.3436552 , 0.6563448 ],\n",
       "       [0.11070233, 0.88929767],\n",
       "       [0.2371929 , 0.7628071 ],\n",
       "       [0.52865847, 0.47134153],\n",
       "       [0.8505169 , 0.1494831 ],\n",
       "       [0.80075893, 0.19924107],\n",
       "       [0.37757951, 0.62242049],\n",
       "       [0.95203727, 0.04796273],\n",
       "       [0.96165849, 0.03834151],\n",
       "       [0.66288177, 0.33711823],\n",
       "       [0.98387005, 0.01612995],\n",
       "       [0.97514892, 0.02485108],\n",
       "       [0.99644001, 0.00355999],\n",
       "       [0.97819391, 0.02180609]])"
      ]
     },
     "execution_count": 6,
     "metadata": {},
     "output_type": "execute_result"
    }
   ],
   "source": [
    "lda.predict_proba(mow.drop(columns='Ownership'))"
   ]
  },
  {
   "cell_type": "code",
   "execution_count": 7,
   "metadata": {
    "colab": {
     "base_uri": "https://localhost:8080/"
    },
    "id": "TF3PYfiHBGDF",
    "outputId": "e0222853-f5d8-4b51-9475-ce2b67adfd4f"
   },
   "outputs": [
    {
     "data": {
      "text/plain": [
       "array(['Nonowner', 'Owner'], dtype='<U8')"
      ]
     },
     "execution_count": 7,
     "metadata": {},
     "output_type": "execute_result"
    }
   ],
   "source": [
    "lda.classes_"
   ]
  },
  {
   "cell_type": "code",
   "execution_count": 8,
   "metadata": {
    "id": "VOsc3N0GBrOY"
   },
   "outputs": [],
   "source": [
    "pred = pd.DataFrame(lda.predict(mow.drop(columns='Ownership')),columns=['predicted'])"
   ]
  },
  {
   "cell_type": "code",
   "execution_count": 9,
   "metadata": {
    "id": "SHTAQfuCBLYQ"
   },
   "outputs": [],
   "source": [
    "prob = pd.DataFrame(lda.predict_proba(mow.drop(columns='Ownership'))[:,1],columns=['p_owner'])"
   ]
  },
  {
   "cell_type": "code",
   "execution_count": 10,
   "metadata": {
    "colab": {
     "base_uri": "https://localhost:8080/",
     "height": 802
    },
    "id": "4zrBsL6cB6P5",
    "outputId": "b4258777-df3e-44c9-ccb1-6e13a552d360"
   },
   "outputs": [
    {
     "data": {
      "text/html": [
       "<div>\n",
       "<style scoped>\n",
       "    .dataframe tbody tr th:only-of-type {\n",
       "        vertical-align: middle;\n",
       "    }\n",
       "\n",
       "    .dataframe tbody tr th {\n",
       "        vertical-align: top;\n",
       "    }\n",
       "\n",
       "    .dataframe thead th {\n",
       "        text-align: right;\n",
       "    }\n",
       "</style>\n",
       "<table border=\"1\" class=\"dataframe\">\n",
       "  <thead>\n",
       "    <tr style=\"text-align: right;\">\n",
       "      <th></th>\n",
       "      <th>Ownership</th>\n",
       "      <th>predicted</th>\n",
       "      <th>p_owner</th>\n",
       "    </tr>\n",
       "  </thead>\n",
       "  <tbody>\n",
       "    <tr>\n",
       "      <th>0</th>\n",
       "      <td>Owner</td>\n",
       "      <td>Nonowner</td>\n",
       "      <td>0.217968</td>\n",
       "    </tr>\n",
       "    <tr>\n",
       "      <th>1</th>\n",
       "      <td>Owner</td>\n",
       "      <td>Owner</td>\n",
       "      <td>0.505508</td>\n",
       "    </tr>\n",
       "    <tr>\n",
       "      <th>2</th>\n",
       "      <td>Owner</td>\n",
       "      <td>Owner</td>\n",
       "      <td>0.847632</td>\n",
       "    </tr>\n",
       "    <tr>\n",
       "      <th>3</th>\n",
       "      <td>Owner</td>\n",
       "      <td>Owner</td>\n",
       "      <td>0.680755</td>\n",
       "    </tr>\n",
       "    <tr>\n",
       "      <th>4</th>\n",
       "      <td>Owner</td>\n",
       "      <td>Owner</td>\n",
       "      <td>0.995977</td>\n",
       "    </tr>\n",
       "    <tr>\n",
       "      <th>5</th>\n",
       "      <td>Owner</td>\n",
       "      <td>Owner</td>\n",
       "      <td>0.987533</td>\n",
       "    </tr>\n",
       "    <tr>\n",
       "      <th>6</th>\n",
       "      <td>Owner</td>\n",
       "      <td>Owner</td>\n",
       "      <td>0.948111</td>\n",
       "    </tr>\n",
       "    <tr>\n",
       "      <th>7</th>\n",
       "      <td>Owner</td>\n",
       "      <td>Owner</td>\n",
       "      <td>0.984456</td>\n",
       "    </tr>\n",
       "    <tr>\n",
       "      <th>8</th>\n",
       "      <td>Owner</td>\n",
       "      <td>Owner</td>\n",
       "      <td>0.706993</td>\n",
       "    </tr>\n",
       "    <tr>\n",
       "      <th>9</th>\n",
       "      <td>Owner</td>\n",
       "      <td>Owner</td>\n",
       "      <td>0.980440</td>\n",
       "    </tr>\n",
       "    <tr>\n",
       "      <th>10</th>\n",
       "      <td>Owner</td>\n",
       "      <td>Owner</td>\n",
       "      <td>0.656345</td>\n",
       "    </tr>\n",
       "    <tr>\n",
       "      <th>11</th>\n",
       "      <td>Owner</td>\n",
       "      <td>Owner</td>\n",
       "      <td>0.889298</td>\n",
       "    </tr>\n",
       "    <tr>\n",
       "      <th>12</th>\n",
       "      <td>Nonowner</td>\n",
       "      <td>Owner</td>\n",
       "      <td>0.762807</td>\n",
       "    </tr>\n",
       "    <tr>\n",
       "      <th>13</th>\n",
       "      <td>Nonowner</td>\n",
       "      <td>Nonowner</td>\n",
       "      <td>0.471342</td>\n",
       "    </tr>\n",
       "    <tr>\n",
       "      <th>14</th>\n",
       "      <td>Nonowner</td>\n",
       "      <td>Nonowner</td>\n",
       "      <td>0.149483</td>\n",
       "    </tr>\n",
       "    <tr>\n",
       "      <th>15</th>\n",
       "      <td>Nonowner</td>\n",
       "      <td>Nonowner</td>\n",
       "      <td>0.199241</td>\n",
       "    </tr>\n",
       "    <tr>\n",
       "      <th>16</th>\n",
       "      <td>Nonowner</td>\n",
       "      <td>Owner</td>\n",
       "      <td>0.622420</td>\n",
       "    </tr>\n",
       "    <tr>\n",
       "      <th>17</th>\n",
       "      <td>Nonowner</td>\n",
       "      <td>Nonowner</td>\n",
       "      <td>0.047963</td>\n",
       "    </tr>\n",
       "    <tr>\n",
       "      <th>18</th>\n",
       "      <td>Nonowner</td>\n",
       "      <td>Nonowner</td>\n",
       "      <td>0.038342</td>\n",
       "    </tr>\n",
       "    <tr>\n",
       "      <th>19</th>\n",
       "      <td>Nonowner</td>\n",
       "      <td>Nonowner</td>\n",
       "      <td>0.337118</td>\n",
       "    </tr>\n",
       "    <tr>\n",
       "      <th>20</th>\n",
       "      <td>Nonowner</td>\n",
       "      <td>Nonowner</td>\n",
       "      <td>0.016130</td>\n",
       "    </tr>\n",
       "    <tr>\n",
       "      <th>21</th>\n",
       "      <td>Nonowner</td>\n",
       "      <td>Nonowner</td>\n",
       "      <td>0.024851</td>\n",
       "    </tr>\n",
       "    <tr>\n",
       "      <th>22</th>\n",
       "      <td>Nonowner</td>\n",
       "      <td>Nonowner</td>\n",
       "      <td>0.003560</td>\n",
       "    </tr>\n",
       "    <tr>\n",
       "      <th>23</th>\n",
       "      <td>Nonowner</td>\n",
       "      <td>Nonowner</td>\n",
       "      <td>0.021806</td>\n",
       "    </tr>\n",
       "  </tbody>\n",
       "</table>\n",
       "</div>"
      ],
      "text/plain": [
       "   Ownership predicted   p_owner\n",
       "0      Owner  Nonowner  0.217968\n",
       "1      Owner     Owner  0.505508\n",
       "2      Owner     Owner  0.847632\n",
       "3      Owner     Owner  0.680755\n",
       "4      Owner     Owner  0.995977\n",
       "5      Owner     Owner  0.987533\n",
       "6      Owner     Owner  0.948111\n",
       "7      Owner     Owner  0.984456\n",
       "8      Owner     Owner  0.706993\n",
       "9      Owner     Owner  0.980440\n",
       "10     Owner     Owner  0.656345\n",
       "11     Owner     Owner  0.889298\n",
       "12  Nonowner     Owner  0.762807\n",
       "13  Nonowner  Nonowner  0.471342\n",
       "14  Nonowner  Nonowner  0.149483\n",
       "15  Nonowner  Nonowner  0.199241\n",
       "16  Nonowner     Owner  0.622420\n",
       "17  Nonowner  Nonowner  0.047963\n",
       "18  Nonowner  Nonowner  0.038342\n",
       "19  Nonowner  Nonowner  0.337118\n",
       "20  Nonowner  Nonowner  0.016130\n",
       "21  Nonowner  Nonowner  0.024851\n",
       "22  Nonowner  Nonowner  0.003560\n",
       "23  Nonowner  Nonowner  0.021806"
      ]
     },
     "execution_count": 10,
     "metadata": {},
     "output_type": "execute_result"
    }
   ],
   "source": [
    "pd.concat([mow['Ownership'],pred,prob], axis=1)"
   ]
  },
  {
   "cell_type": "code",
   "execution_count": 11,
   "metadata": {
    "colab": {
     "base_uri": "https://localhost:8080/"
    },
    "id": "U3cdr_KfCKDd",
    "outputId": "94018ead-4139-4fd9-da47-26444d074c09"
   },
   "outputs": [
    {
     "name": "stdout",
     "output_type": "stream",
     "text": [
      "Confusion Matrix (Accuracy 0.8750)\n",
      "\n",
      "       Prediction\n",
      "Actual  0  1\n",
      "     0 10  2\n",
      "     1  1 11\n"
     ]
    }
   ],
   "source": [
    "classificationSummary(mow['Ownership'],pred['predicted'])"
   ]
  },
  {
   "cell_type": "markdown",
   "metadata": {
    "id": "gOEPowwRCVcJ"
   },
   "source": [
    "**Prior probabilities**\n",
    "\n",
    "Owner - 85%\n",
    "\n",
    "Nonowner - 15%"
   ]
  },
  {
   "cell_type": "code",
   "execution_count": 12,
   "metadata": {
    "colab": {
     "base_uri": "https://localhost:8080/"
    },
    "id": "hC1GOo5yCrSM",
    "outputId": "6affb7be-a7a7-48d5-f393-67ed760b0689"
   },
   "outputs": [
    {
     "data": {
      "text/plain": [
       "LinearDiscriminantAnalysis(priors=[0.15, 0.85])"
      ]
     },
     "execution_count": 12,
     "metadata": {},
     "output_type": "execute_result"
    }
   ],
   "source": [
    "lda2 = LinearDiscriminantAnalysis(priors = [0.15,0.85])\n",
    "lda2.fit(mow.drop(columns='Ownership'), mow['Ownership'])"
   ]
  },
  {
   "cell_type": "code",
   "execution_count": 13,
   "metadata": {
    "colab": {
     "base_uri": "https://localhost:8080/"
    },
    "id": "g3SCMWZmDaxf",
    "outputId": "4d223fab-ce4a-41a1-ac51-db44f723eadf"
   },
   "outputs": [
    {
     "data": {
      "text/plain": [
       "array(['Nonowner', 'Owner'], dtype='<U8')"
      ]
     },
     "execution_count": 13,
     "metadata": {},
     "output_type": "execute_result"
    }
   ],
   "source": [
    "lda2.classes_"
   ]
  },
  {
   "cell_type": "code",
   "execution_count": 14,
   "metadata": {
    "colab": {
     "base_uri": "https://localhost:8080/",
     "height": 206
    },
    "id": "wI_jyeTtC6Eb",
    "outputId": "800b8a68-c60e-45f9-8223-f2a566f8dbf8"
   },
   "outputs": [
    {
     "data": {
      "text/html": [
       "<div>\n",
       "<style scoped>\n",
       "    .dataframe tbody tr th:only-of-type {\n",
       "        vertical-align: middle;\n",
       "    }\n",
       "\n",
       "    .dataframe tbody tr th {\n",
       "        vertical-align: top;\n",
       "    }\n",
       "\n",
       "    .dataframe thead th {\n",
       "        text-align: right;\n",
       "    }\n",
       "</style>\n",
       "<table border=\"1\" class=\"dataframe\">\n",
       "  <thead>\n",
       "    <tr style=\"text-align: right;\">\n",
       "      <th></th>\n",
       "      <th>predicted2</th>\n",
       "    </tr>\n",
       "  </thead>\n",
       "  <tbody>\n",
       "    <tr>\n",
       "      <th>0</th>\n",
       "      <td>Owner</td>\n",
       "    </tr>\n",
       "    <tr>\n",
       "      <th>1</th>\n",
       "      <td>Owner</td>\n",
       "    </tr>\n",
       "    <tr>\n",
       "      <th>2</th>\n",
       "      <td>Owner</td>\n",
       "    </tr>\n",
       "    <tr>\n",
       "      <th>3</th>\n",
       "      <td>Owner</td>\n",
       "    </tr>\n",
       "    <tr>\n",
       "      <th>4</th>\n",
       "      <td>Owner</td>\n",
       "    </tr>\n",
       "  </tbody>\n",
       "</table>\n",
       "</div>"
      ],
      "text/plain": [
       "  predicted2\n",
       "0      Owner\n",
       "1      Owner\n",
       "2      Owner\n",
       "3      Owner\n",
       "4      Owner"
      ]
     },
     "execution_count": 14,
     "metadata": {},
     "output_type": "execute_result"
    }
   ],
   "source": [
    "pred2 = pd.DataFrame(lda2.predict(mow.drop(columns='Ownership')),columns=['predicted2'])\n",
    "pred2.head()"
   ]
  },
  {
   "cell_type": "code",
   "execution_count": 15,
   "metadata": {
    "colab": {
     "base_uri": "https://localhost:8080/"
    },
    "id": "C2NHj-woDFFv",
    "outputId": "108f49e3-5e80-41c0-fa62-da8f8912a119"
   },
   "outputs": [
    {
     "name": "stdout",
     "output_type": "stream",
     "text": [
      "Confusion Matrix (Accuracy 0.7917)\n",
      "\n",
      "       Prediction\n",
      "Actual  0  1\n",
      "     0  7  5\n",
      "     1  0 12\n"
     ]
    }
   ],
   "source": [
    "classificationSummary(mow['Ownership'],pred2['predicted2'])"
   ]
  },
  {
   "cell_type": "code",
   "execution_count": 16,
   "metadata": {
    "colab": {
     "base_uri": "https://localhost:8080/",
     "height": 206
    },
    "id": "cynOH6MpDNvV",
    "outputId": "b79211a4-5286-4f8f-d294-50ffd2a57a21"
   },
   "outputs": [
    {
     "data": {
      "text/html": [
       "<div>\n",
       "<style scoped>\n",
       "    .dataframe tbody tr th:only-of-type {\n",
       "        vertical-align: middle;\n",
       "    }\n",
       "\n",
       "    .dataframe tbody tr th {\n",
       "        vertical-align: top;\n",
       "    }\n",
       "\n",
       "    .dataframe thead th {\n",
       "        text-align: right;\n",
       "    }\n",
       "</style>\n",
       "<table border=\"1\" class=\"dataframe\">\n",
       "  <thead>\n",
       "    <tr style=\"text-align: right;\">\n",
       "      <th></th>\n",
       "      <th>Ownership</th>\n",
       "      <th>predicted</th>\n",
       "      <th>predicted2</th>\n",
       "    </tr>\n",
       "  </thead>\n",
       "  <tbody>\n",
       "    <tr>\n",
       "      <th>0</th>\n",
       "      <td>Owner</td>\n",
       "      <td>Nonowner</td>\n",
       "      <td>Owner</td>\n",
       "    </tr>\n",
       "    <tr>\n",
       "      <th>1</th>\n",
       "      <td>Owner</td>\n",
       "      <td>Owner</td>\n",
       "      <td>Owner</td>\n",
       "    </tr>\n",
       "    <tr>\n",
       "      <th>2</th>\n",
       "      <td>Owner</td>\n",
       "      <td>Owner</td>\n",
       "      <td>Owner</td>\n",
       "    </tr>\n",
       "    <tr>\n",
       "      <th>3</th>\n",
       "      <td>Owner</td>\n",
       "      <td>Owner</td>\n",
       "      <td>Owner</td>\n",
       "    </tr>\n",
       "    <tr>\n",
       "      <th>4</th>\n",
       "      <td>Owner</td>\n",
       "      <td>Owner</td>\n",
       "      <td>Owner</td>\n",
       "    </tr>\n",
       "  </tbody>\n",
       "</table>\n",
       "</div>"
      ],
      "text/plain": [
       "  Ownership predicted predicted2\n",
       "0     Owner  Nonowner      Owner\n",
       "1     Owner     Owner      Owner\n",
       "2     Owner     Owner      Owner\n",
       "3     Owner     Owner      Owner\n",
       "4     Owner     Owner      Owner"
      ]
     },
     "execution_count": 16,
     "metadata": {},
     "output_type": "execute_result"
    }
   ],
   "source": [
    "both_pred = pd.concat([mow['Ownership'],pred,pred2], axis=1)\n",
    "both_pred.head()"
   ]
  },
  {
   "cell_type": "markdown",
   "metadata": {
    "id": "2zsQQdiR3aFr"
   },
   "source": [
    "## Accidents Classification"
   ]
  },
  {
   "cell_type": "code",
   "execution_count": 17,
   "metadata": {
    "colab": {
     "base_uri": "https://localhost:8080/",
     "height": 206
    },
    "id": "d-z24JIVD8Kn",
    "outputId": "a59b17b6-931a-4aa5-93cb-25a091282532"
   },
   "outputs": [
    {
     "data": {
      "text/html": [
       "<div>\n",
       "<style scoped>\n",
       "    .dataframe tbody tr th:only-of-type {\n",
       "        vertical-align: middle;\n",
       "    }\n",
       "\n",
       "    .dataframe tbody tr th {\n",
       "        vertical-align: top;\n",
       "    }\n",
       "\n",
       "    .dataframe thead th {\n",
       "        text-align: right;\n",
       "    }\n",
       "</style>\n",
       "<table border=\"1\" class=\"dataframe\">\n",
       "  <thead>\n",
       "    <tr style=\"text-align: right;\">\n",
       "      <th></th>\n",
       "      <th>RushHour</th>\n",
       "      <th>WRK_ZONE</th>\n",
       "      <th>WKDY</th>\n",
       "      <th>INT_HWY</th>\n",
       "      <th>LGTCON_day</th>\n",
       "      <th>LEVEL</th>\n",
       "      <th>SPD_LIM</th>\n",
       "      <th>SUR_COND_dry</th>\n",
       "      <th>TRAF_two_way</th>\n",
       "      <th>WEATHER_adverse</th>\n",
       "      <th>MAX_SEV</th>\n",
       "    </tr>\n",
       "  </thead>\n",
       "  <tbody>\n",
       "    <tr>\n",
       "      <th>0</th>\n",
       "      <td>1</td>\n",
       "      <td>0</td>\n",
       "      <td>1</td>\n",
       "      <td>1</td>\n",
       "      <td>0</td>\n",
       "      <td>1</td>\n",
       "      <td>70</td>\n",
       "      <td>0</td>\n",
       "      <td>0</td>\n",
       "      <td>1</td>\n",
       "      <td>no-injury</td>\n",
       "    </tr>\n",
       "    <tr>\n",
       "      <th>1</th>\n",
       "      <td>1</td>\n",
       "      <td>0</td>\n",
       "      <td>1</td>\n",
       "      <td>0</td>\n",
       "      <td>0</td>\n",
       "      <td>0</td>\n",
       "      <td>55</td>\n",
       "      <td>0</td>\n",
       "      <td>1</td>\n",
       "      <td>0</td>\n",
       "      <td>non-fatal</td>\n",
       "    </tr>\n",
       "    <tr>\n",
       "      <th>2</th>\n",
       "      <td>1</td>\n",
       "      <td>0</td>\n",
       "      <td>0</td>\n",
       "      <td>0</td>\n",
       "      <td>0</td>\n",
       "      <td>0</td>\n",
       "      <td>35</td>\n",
       "      <td>0</td>\n",
       "      <td>0</td>\n",
       "      <td>1</td>\n",
       "      <td>no-injury</td>\n",
       "    </tr>\n",
       "    <tr>\n",
       "      <th>3</th>\n",
       "      <td>1</td>\n",
       "      <td>0</td>\n",
       "      <td>1</td>\n",
       "      <td>0</td>\n",
       "      <td>0</td>\n",
       "      <td>1</td>\n",
       "      <td>35</td>\n",
       "      <td>0</td>\n",
       "      <td>0</td>\n",
       "      <td>1</td>\n",
       "      <td>no-injury</td>\n",
       "    </tr>\n",
       "    <tr>\n",
       "      <th>4</th>\n",
       "      <td>1</td>\n",
       "      <td>0</td>\n",
       "      <td>1</td>\n",
       "      <td>0</td>\n",
       "      <td>0</td>\n",
       "      <td>0</td>\n",
       "      <td>25</td>\n",
       "      <td>0</td>\n",
       "      <td>0</td>\n",
       "      <td>1</td>\n",
       "      <td>non-fatal</td>\n",
       "    </tr>\n",
       "  </tbody>\n",
       "</table>\n",
       "</div>"
      ],
      "text/plain": [
       "   RushHour  WRK_ZONE  WKDY  INT_HWY  LGTCON_day  LEVEL  SPD_LIM  \\\n",
       "0         1         0     1        1           0      1       70   \n",
       "1         1         0     1        0           0      0       55   \n",
       "2         1         0     0        0           0      0       35   \n",
       "3         1         0     1        0           0      1       35   \n",
       "4         1         0     1        0           0      0       25   \n",
       "\n",
       "   SUR_COND_dry  TRAF_two_way  WEATHER_adverse    MAX_SEV  \n",
       "0             0             0                1  no-injury  \n",
       "1             0             1                0  non-fatal  \n",
       "2             0             0                1  no-injury  \n",
       "3             0             0                1  no-injury  \n",
       "4             0             0                1  non-fatal  "
      ]
     },
     "execution_count": 17,
     "metadata": {},
     "output_type": "execute_result"
    }
   ],
   "source": [
    "acc = pd.read_csv('accidents.csv')\n",
    "acc.head()"
   ]
  },
  {
   "cell_type": "code",
   "execution_count": 18,
   "metadata": {
    "colab": {
     "base_uri": "https://localhost:8080/"
    },
    "id": "EqzZdDOqEMav",
    "outputId": "ce42eada-b099-420a-fa55-73e7438dae73"
   },
   "outputs": [
    {
     "data": {
      "text/plain": [
       "LinearDiscriminantAnalysis()"
      ]
     },
     "execution_count": 18,
     "metadata": {},
     "output_type": "execute_result"
    }
   ],
   "source": [
    "lda3 = LinearDiscriminantAnalysis()\n",
    "lda3.fit(acc.drop(columns=['MAX_SEV']), acc['MAX_SEV'])"
   ]
  },
  {
   "cell_type": "code",
   "execution_count": 19,
   "metadata": {
    "colab": {
     "base_uri": "https://localhost:8080/",
     "height": 206
    },
    "id": "KAgqrqi4EqTs",
    "outputId": "c90d68d5-babf-4057-cf3d-b0464c07a800"
   },
   "outputs": [
    {
     "data": {
      "text/html": [
       "<div>\n",
       "<style scoped>\n",
       "    .dataframe tbody tr th:only-of-type {\n",
       "        vertical-align: middle;\n",
       "    }\n",
       "\n",
       "    .dataframe tbody tr th {\n",
       "        vertical-align: top;\n",
       "    }\n",
       "\n",
       "    .dataframe thead th {\n",
       "        text-align: right;\n",
       "    }\n",
       "</style>\n",
       "<table border=\"1\" class=\"dataframe\">\n",
       "  <thead>\n",
       "    <tr style=\"text-align: right;\">\n",
       "      <th></th>\n",
       "      <th>predicted</th>\n",
       "    </tr>\n",
       "  </thead>\n",
       "  <tbody>\n",
       "    <tr>\n",
       "      <th>0</th>\n",
       "      <td>no-injury</td>\n",
       "    </tr>\n",
       "    <tr>\n",
       "      <th>1</th>\n",
       "      <td>no-injury</td>\n",
       "    </tr>\n",
       "    <tr>\n",
       "      <th>2</th>\n",
       "      <td>no-injury</td>\n",
       "    </tr>\n",
       "    <tr>\n",
       "      <th>3</th>\n",
       "      <td>no-injury</td>\n",
       "    </tr>\n",
       "    <tr>\n",
       "      <th>4</th>\n",
       "      <td>no-injury</td>\n",
       "    </tr>\n",
       "  </tbody>\n",
       "</table>\n",
       "</div>"
      ],
      "text/plain": [
       "   predicted\n",
       "0  no-injury\n",
       "1  no-injury\n",
       "2  no-injury\n",
       "3  no-injury\n",
       "4  no-injury"
      ]
     },
     "execution_count": 19,
     "metadata": {},
     "output_type": "execute_result"
    }
   ],
   "source": [
    "pred3 = pd.DataFrame(lda3.predict(acc.drop(columns='MAX_SEV')),columns=['predicted'])\n",
    "pred3.head()"
   ]
  },
  {
   "cell_type": "code",
   "execution_count": 20,
   "metadata": {
    "colab": {
     "base_uri": "https://localhost:8080/",
     "height": 424
    },
    "id": "LYwr1sMbE5td",
    "outputId": "40464590-002b-46d2-82fe-1ec83543e596"
   },
   "outputs": [
    {
     "data": {
      "text/html": [
       "<div>\n",
       "<style scoped>\n",
       "    .dataframe tbody tr th:only-of-type {\n",
       "        vertical-align: middle;\n",
       "    }\n",
       "\n",
       "    .dataframe tbody tr th {\n",
       "        vertical-align: top;\n",
       "    }\n",
       "\n",
       "    .dataframe thead th {\n",
       "        text-align: right;\n",
       "    }\n",
       "</style>\n",
       "<table border=\"1\" class=\"dataframe\">\n",
       "  <thead>\n",
       "    <tr style=\"text-align: right;\">\n",
       "      <th></th>\n",
       "      <th>RushHour</th>\n",
       "      <th>WRK_ZONE</th>\n",
       "      <th>WKDY</th>\n",
       "      <th>INT_HWY</th>\n",
       "      <th>LGTCON_day</th>\n",
       "      <th>LEVEL</th>\n",
       "      <th>SPD_LIM</th>\n",
       "      <th>SUR_COND_dry</th>\n",
       "      <th>TRAF_two_way</th>\n",
       "      <th>WEATHER_adverse</th>\n",
       "      <th>MAX_SEV</th>\n",
       "      <th>predicted</th>\n",
       "    </tr>\n",
       "  </thead>\n",
       "  <tbody>\n",
       "    <tr>\n",
       "      <th>0</th>\n",
       "      <td>1</td>\n",
       "      <td>0</td>\n",
       "      <td>1</td>\n",
       "      <td>1</td>\n",
       "      <td>0</td>\n",
       "      <td>1</td>\n",
       "      <td>70</td>\n",
       "      <td>0</td>\n",
       "      <td>0</td>\n",
       "      <td>1</td>\n",
       "      <td>no-injury</td>\n",
       "      <td>no-injury</td>\n",
       "    </tr>\n",
       "    <tr>\n",
       "      <th>1</th>\n",
       "      <td>1</td>\n",
       "      <td>0</td>\n",
       "      <td>1</td>\n",
       "      <td>0</td>\n",
       "      <td>0</td>\n",
       "      <td>0</td>\n",
       "      <td>55</td>\n",
       "      <td>0</td>\n",
       "      <td>1</td>\n",
       "      <td>0</td>\n",
       "      <td>non-fatal</td>\n",
       "      <td>no-injury</td>\n",
       "    </tr>\n",
       "    <tr>\n",
       "      <th>2</th>\n",
       "      <td>1</td>\n",
       "      <td>0</td>\n",
       "      <td>0</td>\n",
       "      <td>0</td>\n",
       "      <td>0</td>\n",
       "      <td>0</td>\n",
       "      <td>35</td>\n",
       "      <td>0</td>\n",
       "      <td>0</td>\n",
       "      <td>1</td>\n",
       "      <td>no-injury</td>\n",
       "      <td>no-injury</td>\n",
       "    </tr>\n",
       "    <tr>\n",
       "      <th>3</th>\n",
       "      <td>1</td>\n",
       "      <td>0</td>\n",
       "      <td>1</td>\n",
       "      <td>0</td>\n",
       "      <td>0</td>\n",
       "      <td>1</td>\n",
       "      <td>35</td>\n",
       "      <td>0</td>\n",
       "      <td>0</td>\n",
       "      <td>1</td>\n",
       "      <td>no-injury</td>\n",
       "      <td>no-injury</td>\n",
       "    </tr>\n",
       "    <tr>\n",
       "      <th>4</th>\n",
       "      <td>1</td>\n",
       "      <td>0</td>\n",
       "      <td>1</td>\n",
       "      <td>0</td>\n",
       "      <td>0</td>\n",
       "      <td>0</td>\n",
       "      <td>25</td>\n",
       "      <td>0</td>\n",
       "      <td>0</td>\n",
       "      <td>1</td>\n",
       "      <td>non-fatal</td>\n",
       "      <td>no-injury</td>\n",
       "    </tr>\n",
       "    <tr>\n",
       "      <th>...</th>\n",
       "      <td>...</td>\n",
       "      <td>...</td>\n",
       "      <td>...</td>\n",
       "      <td>...</td>\n",
       "      <td>...</td>\n",
       "      <td>...</td>\n",
       "      <td>...</td>\n",
       "      <td>...</td>\n",
       "      <td>...</td>\n",
       "      <td>...</td>\n",
       "      <td>...</td>\n",
       "      <td>...</td>\n",
       "    </tr>\n",
       "    <tr>\n",
       "      <th>595</th>\n",
       "      <td>0</td>\n",
       "      <td>0</td>\n",
       "      <td>1</td>\n",
       "      <td>0</td>\n",
       "      <td>1</td>\n",
       "      <td>0</td>\n",
       "      <td>55</td>\n",
       "      <td>1</td>\n",
       "      <td>1</td>\n",
       "      <td>0</td>\n",
       "      <td>no-injury</td>\n",
       "      <td>no-injury</td>\n",
       "    </tr>\n",
       "    <tr>\n",
       "      <th>596</th>\n",
       "      <td>1</td>\n",
       "      <td>0</td>\n",
       "      <td>0</td>\n",
       "      <td>0</td>\n",
       "      <td>1</td>\n",
       "      <td>0</td>\n",
       "      <td>55</td>\n",
       "      <td>1</td>\n",
       "      <td>1</td>\n",
       "      <td>0</td>\n",
       "      <td>no-injury</td>\n",
       "      <td>non-fatal</td>\n",
       "    </tr>\n",
       "    <tr>\n",
       "      <th>597</th>\n",
       "      <td>0</td>\n",
       "      <td>0</td>\n",
       "      <td>1</td>\n",
       "      <td>0</td>\n",
       "      <td>1</td>\n",
       "      <td>0</td>\n",
       "      <td>55</td>\n",
       "      <td>1</td>\n",
       "      <td>1</td>\n",
       "      <td>0</td>\n",
       "      <td>no-injury</td>\n",
       "      <td>no-injury</td>\n",
       "    </tr>\n",
       "    <tr>\n",
       "      <th>598</th>\n",
       "      <td>0</td>\n",
       "      <td>0</td>\n",
       "      <td>0</td>\n",
       "      <td>0</td>\n",
       "      <td>1</td>\n",
       "      <td>0</td>\n",
       "      <td>65</td>\n",
       "      <td>1</td>\n",
       "      <td>1</td>\n",
       "      <td>0</td>\n",
       "      <td>non-fatal</td>\n",
       "      <td>non-fatal</td>\n",
       "    </tr>\n",
       "    <tr>\n",
       "      <th>599</th>\n",
       "      <td>0</td>\n",
       "      <td>0</td>\n",
       "      <td>0</td>\n",
       "      <td>0</td>\n",
       "      <td>1</td>\n",
       "      <td>0</td>\n",
       "      <td>70</td>\n",
       "      <td>1</td>\n",
       "      <td>1</td>\n",
       "      <td>0</td>\n",
       "      <td>no-injury</td>\n",
       "      <td>non-fatal</td>\n",
       "    </tr>\n",
       "  </tbody>\n",
       "</table>\n",
       "<p>600 rows × 12 columns</p>\n",
       "</div>"
      ],
      "text/plain": [
       "     RushHour  WRK_ZONE  WKDY  INT_HWY  LGTCON_day  LEVEL  SPD_LIM  \\\n",
       "0           1         0     1        1           0      1       70   \n",
       "1           1         0     1        0           0      0       55   \n",
       "2           1         0     0        0           0      0       35   \n",
       "3           1         0     1        0           0      1       35   \n",
       "4           1         0     1        0           0      0       25   \n",
       "..        ...       ...   ...      ...         ...    ...      ...   \n",
       "595         0         0     1        0           1      0       55   \n",
       "596         1         0     0        0           1      0       55   \n",
       "597         0         0     1        0           1      0       55   \n",
       "598         0         0     0        0           1      0       65   \n",
       "599         0         0     0        0           1      0       70   \n",
       "\n",
       "     SUR_COND_dry  TRAF_two_way  WEATHER_adverse    MAX_SEV  predicted  \n",
       "0               0             0                1  no-injury  no-injury  \n",
       "1               0             1                0  non-fatal  no-injury  \n",
       "2               0             0                1  no-injury  no-injury  \n",
       "3               0             0                1  no-injury  no-injury  \n",
       "4               0             0                1  non-fatal  no-injury  \n",
       "..            ...           ...              ...        ...        ...  \n",
       "595             1             1                0  no-injury  no-injury  \n",
       "596             1             1                0  no-injury  non-fatal  \n",
       "597             1             1                0  no-injury  no-injury  \n",
       "598             1             1                0  non-fatal  non-fatal  \n",
       "599             1             1                0  no-injury  non-fatal  \n",
       "\n",
       "[600 rows x 12 columns]"
      ]
     },
     "execution_count": 20,
     "metadata": {},
     "output_type": "execute_result"
    }
   ],
   "source": [
    "result = pd.concat([acc,pred3], axis=1)\n",
    "result"
   ]
  },
  {
   "cell_type": "code",
   "execution_count": 21,
   "metadata": {
    "colab": {
     "base_uri": "https://localhost:8080/"
    },
    "id": "bRWjDUncFJYp",
    "outputId": "6b2a9b6f-1113-4287-f2ff-ecf359dcf1bf"
   },
   "outputs": [
    {
     "name": "stdout",
     "output_type": "stream",
     "text": [
      "Confusion Matrix (Accuracy 0.5283)\n",
      "\n",
      "       Prediction\n",
      "Actual   0   1   2\n",
      "     0   1   1   3\n",
      "     1   6 114 172\n",
      "     2   6  95 202\n"
     ]
    }
   ],
   "source": [
    "classificationSummary(acc['MAX_SEV'],pred3['predicted'])"
   ]
  },
  {
   "cell_type": "code",
   "execution_count": 22,
   "metadata": {
    "colab": {
     "base_uri": "https://localhost:8080/"
    },
    "id": "Msvbu3W1FSMf",
    "outputId": "f3ce7508-d0a0-415a-b69b-9d1a4f4610d0"
   },
   "outputs": [
    {
     "data": {
      "text/plain": [
       "array(['fatal', 'no-injury', 'non-fatal'], dtype='<U9')"
      ]
     },
     "execution_count": 22,
     "metadata": {},
     "output_type": "execute_result"
    }
   ],
   "source": [
    "lda3.classes_"
   ]
  },
  {
   "cell_type": "code",
   "execution_count": 23,
   "metadata": {
    "colab": {
     "base_uri": "https://localhost:8080/"
    },
    "id": "aZb4p8GOFeEn",
    "outputId": "dc89658e-b41d-483a-e536-dadb12f74785"
   },
   "outputs": [
    {
     "data": {
      "text/plain": [
       "array([[2.58367054e-03, 6.18769483e-01, 3.78646847e-01],\n",
       "       [2.63265433e-01, 4.71200103e-01, 2.65534465e-01],\n",
       "       [3.76907831e-04, 5.35717590e-01, 4.63905503e-01],\n",
       "       ...,\n",
       "       [2.42471329e-03, 5.08766883e-01, 4.88808404e-01],\n",
       "       [1.70823665e-02, 4.50482201e-01, 5.32435433e-01],\n",
       "       [2.16884771e-02, 4.59800507e-01, 5.18511016e-01]])"
      ]
     },
     "execution_count": 23,
     "metadata": {},
     "output_type": "execute_result"
    }
   ],
   "source": [
    "lda3.predict_proba(acc.drop(columns=['MAX_SEV']))"
   ]
  },
  {
   "cell_type": "code",
   "execution_count": 24,
   "metadata": {
    "colab": {
     "base_uri": "https://localhost:8080/"
    },
    "id": "0WI-2K5XF0tm",
    "outputId": "5c50b73d-1e1f-4454-f635-2a725fd4cfc2"
   },
   "outputs": [
    {
     "name": "stdout",
     "output_type": "stream",
     "text": [
      "Confusion Matrix (Accuracy 0.5283)\n",
      "\n",
      "          Prediction\n",
      "   Actual     fatal no-injury non-fatal\n",
      "    fatal         1         1         3\n",
      "no-injury         6       114       172\n",
      "non-fatal         6        95       202\n"
     ]
    }
   ],
   "source": [
    "classificationSummary(acc['MAX_SEV'],pred3['predicted'],class_names=lda3.classes_)"
   ]
  },
  {
   "cell_type": "code",
   "execution_count": 25,
   "metadata": {
    "colab": {
     "base_uri": "https://localhost:8080/"
    },
    "id": "8P1mailoF_1-",
    "outputId": "7f3430c6-6ebd-4716-c296-061efc0c8b03"
   },
   "outputs": [
    {
     "data": {
      "text/plain": [
       "array([[-9.96410915e-01, -4.57187516e-01, -1.47177737e+00,\n",
       "         7.55343534e-01,  9.51536302e-03,  9.76626140e-01,\n",
       "         4.80327050e-02, -5.99980857e+00,  7.52985312e-01,\n",
       "        -6.59668997e+00],\n",
       "       [ 3.34301594e-02,  2.20011814e-01,  1.65706969e-01,\n",
       "        -7.58161346e-02, -3.14214567e-02, -8.27169309e-02,\n",
       "         4.38065885e-03, -1.64874117e-01, -1.28440158e-02,\n",
       "         7.91657803e-02],\n",
       "       [-1.57740989e-02, -2.04480238e-01, -1.35404450e-01,\n",
       "         6.05993189e-02,  3.01237246e-02,  6.35980631e-02,\n",
       "        -5.01424393e-03,  2.57895330e-01, -4.77688520e-05,\n",
       "         3.25644951e-02]])"
      ]
     },
     "execution_count": 25,
     "metadata": {},
     "output_type": "execute_result"
    }
   ],
   "source": [
    "lda3.coef_"
   ]
  },
  {
   "cell_type": "markdown",
   "metadata": {
    "id": "VuIYQkX23aFt"
   },
   "source": [
    "## 12.5 Prior probabilities"
   ]
  },
  {
   "cell_type": "code",
   "execution_count": null,
   "metadata": {},
   "outputs": [],
   "source": []
  }
 ],
 "metadata": {
  "colab": {
   "name": "Chapter_12_Discriminant_analysis_students.ipynb",
   "provenance": []
  },
  "hide_input": false,
  "kernelspec": {
   "display_name": "Python 3 (ipykernel)",
   "language": "python",
   "name": "python3"
  },
  "language_info": {
   "codemirror_mode": {
    "name": "ipython",
    "version": 3
   },
   "file_extension": ".py",
   "mimetype": "text/x-python",
   "name": "python",
   "nbconvert_exporter": "python",
   "pygments_lexer": "ipython3",
   "version": "3.8.8"
  }
 },
 "nbformat": 4,
 "nbformat_minor": 1
}
