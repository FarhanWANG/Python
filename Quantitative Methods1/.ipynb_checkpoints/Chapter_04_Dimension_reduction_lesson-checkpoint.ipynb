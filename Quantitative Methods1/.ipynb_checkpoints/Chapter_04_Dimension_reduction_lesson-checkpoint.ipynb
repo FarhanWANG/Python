{
 "cells": [
  {
   "cell_type": "markdown",
   "metadata": {
    "id": "hi6-Fs7kyire"
   },
   "source": [
    "# Chapter 4: Dimension Reduction\n",
    "\n",
    "> (c) 2019 Galit Shmueli, Peter C. Bruce, Peter Gedeck \n",
    ">\n",
    "> Code included in\n",
    ">\n",
    "> _Data Mining for Business Analytics: Concepts, Techniques, and Applications in Python_ (First Edition) \n",
    "> Galit Shmueli, Peter C. Bruce, Peter Gedeck, and Nitin R. Patel. 2019.\n",
    "\n",
    "## Import required packages"
   ]
  },
  {
   "cell_type": "code",
   "execution_count": 1,
   "metadata": {
    "id": "zBf8RX3wyiri"
   },
   "outputs": [],
   "source": [
    "%matplotlib inline\n",
    "from pathlib import Path\n",
    "import numpy as np\n",
    "import pandas as pd\n",
    "from sklearn.decomposition import PCA\n",
    "from sklearn import preprocessing\n",
    "import matplotlib.pylab as plt\n"
   ]
  },
  {
   "cell_type": "markdown",
   "metadata": {
    "id": "XP1L5Ynuyirl"
   },
   "source": [
    "## Descriptive Statistics\n"
   ]
  },
  {
   "cell_type": "markdown",
   "metadata": {
    "id": "22sIXP8hyirm"
   },
   "source": [
    "Compute mean, standard deviation, min, max, median, length, and missing values of CRIM"
   ]
  },
  {
   "cell_type": "markdown",
   "metadata": {
    "id": "iywjgTwUyirm"
   },
   "source": [
    "Compute mean, standard dev., min, max, median, length, and missing values for all variables"
   ]
  },
  {
   "cell_type": "markdown",
   "metadata": {
    "id": "4UJK_UWuyirn"
   },
   "source": [
    "## Correlation\n"
   ]
  },
  {
   "cell_type": "markdown",
   "metadata": {
    "id": "F8sm-RWdyirn"
   },
   "source": [
    "## Simple Table using CHAS"
   ]
  },
  {
   "cell_type": "markdown",
   "metadata": {
    "id": "sNAIObG6yiro"
   },
   "source": [
    "## Creatng Bins\n",
    "Create bins of size 1 for variable using the method `pd.cut`. By default, the method creates a categorical variable, e.g. `(6,7]`. The argument `labels=False` determines integers instead, e.g. `6`."
   ]
  },
  {
   "cell_type": "markdown",
   "metadata": {
    "id": "uPje8rg3yiro"
   },
   "source": [
    "Compute the average of MEDV by (binned) RM and CHAS. First group the data frame using the `groupby` method, then restrict the analysis to MEDV and determine the mean for each group."
   ]
  },
  {
   "cell_type": "markdown",
   "metadata": {
    "collapsed": true,
    "id": "ivtUfwFgyirp"
   },
   "source": [
    "## Melt & Pivot Tables"
   ]
  },
  {
   "cell_type": "markdown",
   "metadata": {
    "id": "qMXYGbbz0mII"
   },
   "source": [
    "* Use melt to compute the above and assign it to a dataframe\n",
    "* Use pivot table to compute the above and transpose CHAS "
   ]
  },
  {
   "cell_type": "markdown",
   "metadata": {
    "id": "TcQYaeJlyirq"
   },
   "source": [
    "## Combining Categories / Stacked bar chart\n",
    "Use the method `pd.crosstab` for cross tabulation of two variables. In a second step, we convert the counts into percentages along the columns."
   ]
  },
  {
   "cell_type": "markdown",
   "metadata": {
    "id": "bmPpB4XEyirr"
   },
   "source": [
    "## PCA using calories and rating only\n",
    "Compute principal components on two dimensions"
   ]
  },
  {
   "cell_type": "markdown",
   "metadata": {
    "id": "v62cklnpyirr"
   },
   "source": [
    "The importance of components can be assessed using the explained variance."
   ]
  },
  {
   "cell_type": "markdown",
   "metadata": {
    "id": "Lhmqz5xayirs"
   },
   "source": [
    "The `components_` field of `pcs` gives the individual components. The columns in this matrix are the principal components `PC1`, `PC2`. The rows are variables in the order they are found in the input matrix, `calories` and `rating`."
   ]
  },
  {
   "cell_type": "markdown",
   "metadata": {
    "id": "jL066D2Pyirs"
   },
   "source": [
    "Use the `transform` method to get the scores."
   ]
  },
  {
   "cell_type": "markdown",
   "metadata": {
    "id": "iUhK3V3Lyirt"
   },
   "source": [
    "## PCA on all numerical variables\n",
    "Perform a principal component analysis of the whole table ignoring the first three non-numerical columns."
   ]
  },
  {
   "cell_type": "markdown",
   "metadata": {
    "id": "i-j84fbCyirt"
   },
   "source": [
    "## Normalizing data prior to PCA\n",
    "We kept the Tableau graphic in the book, however these code snippets demonstrate how a similar graph could be generated using Python\n",
    "\n",
    "Use the preprocessing functionality in scikit-learn to standardize the data before the PCA"
   ]
  },
  {
   "cell_type": "markdown",
   "metadata": {
    "id": "1T2nFZ6Uyirv"
   },
   "source": [
    "## PCA on Wine Data"
   ]
  }
 ],
 "metadata": {
  "colab": {
   "name": "Chapter 04 - Dimension reduction with solutions.ipynb",
   "provenance": [],
   "toc_visible": true
  },
  "kernelspec": {
   "display_name": "Python 3",
   "language": "python",
   "name": "python3"
  },
  "language_info": {
   "codemirror_mode": {
    "name": "ipython",
    "version": 3
   },
   "file_extension": ".py",
   "mimetype": "text/x-python",
   "name": "python",
   "nbconvert_exporter": "python",
   "pygments_lexer": "ipython3",
   "version": "3.8.8"
  }
 },
 "nbformat": 4,
 "nbformat_minor": 1
}
