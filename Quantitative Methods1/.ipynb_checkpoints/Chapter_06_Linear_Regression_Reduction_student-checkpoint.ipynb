{
 "cells": [
  {
   "cell_type": "markdown",
   "metadata": {
    "id": "QGdGKY2po8u8"
   },
   "source": [
    "# Chapter 5: Evaluating Predictive Performance\n",
    "\n",
    "> (c) 2019 Galit Shmueli, Peter C. Bruce, Peter Gedeck \n",
    ">\n",
    "> Code included in\n",
    ">\n",
    "> _Data Mining for Business Analytics: Concepts, Techniques, and Applications in Python_ (First Edition) \n",
    "> Galit Shmueli, Peter C. Bruce, Peter Gedeck, and Nitin R. Patel. 2019.\n",
    "\n",
    "\n",
    "## Import required packages"
   ]
  },
  {
   "cell_type": "code",
   "execution_count": null,
   "metadata": {
    "colab": {
     "base_uri": "https://localhost:8080/"
    },
    "id": "-IZDmzB6o8vA",
    "outputId": "51609f12-e2ea-4a7f-b1d7-efdc4acd1af0"
   },
   "outputs": [
    {
     "name": "stdout",
     "output_type": "stream",
     "text": [
      "Requirement already satisfied: scikit-plot in /usr/local/lib/python3.7/dist-packages (0.3.7)\n",
      "Requirement already satisfied: scipy>=0.9 in /usr/local/lib/python3.7/dist-packages (from scikit-plot) (1.4.1)\n",
      "Requirement already satisfied: matplotlib>=1.4.0 in /usr/local/lib/python3.7/dist-packages (from scikit-plot) (3.2.2)\n",
      "Requirement already satisfied: scikit-learn>=0.18 in /usr/local/lib/python3.7/dist-packages (from scikit-plot) (1.0.2)\n",
      "Requirement already satisfied: joblib>=0.10 in /usr/local/lib/python3.7/dist-packages (from scikit-plot) (1.1.0)\n",
      "Requirement already satisfied: pyparsing!=2.0.4,!=2.1.2,!=2.1.6,>=2.0.1 in /usr/local/lib/python3.7/dist-packages (from matplotlib>=1.4.0->scikit-plot) (3.0.6)\n",
      "Requirement already satisfied: kiwisolver>=1.0.1 in /usr/local/lib/python3.7/dist-packages (from matplotlib>=1.4.0->scikit-plot) (1.3.2)\n",
      "Requirement already satisfied: numpy>=1.11 in /usr/local/lib/python3.7/dist-packages (from matplotlib>=1.4.0->scikit-plot) (1.19.5)\n",
      "Requirement already satisfied: cycler>=0.10 in /usr/local/lib/python3.7/dist-packages (from matplotlib>=1.4.0->scikit-plot) (0.11.0)\n",
      "Requirement already satisfied: python-dateutil>=2.1 in /usr/local/lib/python3.7/dist-packages (from matplotlib>=1.4.0->scikit-plot) (2.8.2)\n",
      "Requirement already satisfied: six>=1.5 in /usr/local/lib/python3.7/dist-packages (from python-dateutil>=2.1->matplotlib>=1.4.0->scikit-plot) (1.15.0)\n",
      "Requirement already satisfied: threadpoolctl>=2.0.0 in /usr/local/lib/python3.7/dist-packages (from scikit-learn>=0.18->scikit-plot) (3.0.0)\n",
      "Requirement already satisfied: dmba in /usr/local/lib/python3.7/dist-packages (0.0.19)\n"
     ]
    }
   ],
   "source": [
    "%matplotlib inline\n",
    "import math\n",
    "from pathlib import Path\n",
    "import pandas as pd\n",
    "from sklearn.model_selection import train_test_split\n",
    "from sklearn.linear_model import LinearRegression\n",
    "from sklearn.metrics import accuracy_score, roc_curve, auc\n",
    "import matplotlib.pylab as plt\n",
    "\n",
    "\n",
    "!pip install scikit-plot\n",
    "import scikitplot as skplt\n",
    "!pip install dmba\n",
    "from dmba import regressionSummary, classificationSummary, liftChart, gainsChart, adjusted_r2_score, exhaustive_search, backward_elimination, forward_selection, AIC_score, BIC_score\n"
   ]
  },
  {
   "cell_type": "markdown",
   "metadata": {
    "id": "TSEnqWlUo8vD"
   },
   "source": [
    "## Load file and generate training and validation sets. \n"
   ]
  },
  {
   "cell_type": "markdown",
   "metadata": {
    "id": "WXv4-wi_pgw2"
   },
   "source": [
    "* load the Toyota Corolla file\n",
    "* remove variables Model, ID, Price, Fuel Type and COlor from the model\n",
    "* create training and validation data sets\n",
    "* fit a regression model predicting the price"
   ]
  },
  {
   "cell_type": "code",
   "execution_count": null,
   "metadata": {
    "id": "NLZeNSFhL3XD"
   },
   "outputs": [],
   "source": [
    "#run for class\n",
    "car_df = pd.read_csv(\"ToyotaCorolla.csv\")"
   ]
  },
  {
   "cell_type": "code",
   "execution_count": null,
   "metadata": {
    "id": "8T7KXykaL94l"
   },
   "outputs": [],
   "source": [
    "car_df.shape"
   ]
  },
  {
   "cell_type": "code",
   "execution_count": null,
   "metadata": {
    "id": "HFMsK2laMFGG"
   },
   "outputs": [],
   "source": [
    "car_df.head()"
   ]
  },
  {
   "cell_type": "code",
   "execution_count": null,
   "metadata": {
    "id": "smbXVR5iMJgY"
   },
   "outputs": [],
   "source": [
    "#run for class\n",
    "excluded_columns = ('Price','Id','Model','Color','Fuel_Type')\n",
    "outcome = 'Price'\n",
    "predictors = [s for s in car_df.columns if s not in excluded_columns]"
   ]
  },
  {
   "cell_type": "code",
   "execution_count": null,
   "metadata": {
    "id": "oYm3y5tFNLm0"
   },
   "outputs": [],
   "source": [
    "outcome"
   ]
  },
  {
   "cell_type": "code",
   "execution_count": null,
   "metadata": {
    "id": "c4gjvHvLNN01"
   },
   "outputs": [],
   "source": [
    "predictors"
   ]
  },
  {
   "cell_type": "code",
   "execution_count": null,
   "metadata": {
    "id": "WHXVELDaNQwa"
   },
   "outputs": [],
   "source": [
    "#run for class\n",
    "X = car_df[predictors]\n",
    "y = car_df[outcome]"
   ]
  },
  {
   "cell_type": "code",
   "execution_count": null,
   "metadata": {
    "id": "0WyBZ5OZOM0I"
   },
   "outputs": [],
   "source": [
    "X"
   ]
  },
  {
   "cell_type": "code",
   "execution_count": null,
   "metadata": {
    "id": "qP-2WvKdOOoK"
   },
   "outputs": [],
   "source": [
    "#run for class\n",
    "train_X, valid_X, train_y, valid_y = train_test_split(X,y, test_size=.3, random_state=10)"
   ]
  },
  {
   "cell_type": "code",
   "execution_count": null,
   "metadata": {
    "id": "KUf5BfazQpQp"
   },
   "outputs": [],
   "source": [
    "print(train_X.shape)\n",
    "valid_X.shape"
   ]
  },
  {
   "cell_type": "code",
   "execution_count": null,
   "metadata": {
    "colab": {
     "base_uri": "https://localhost:8080/"
    },
    "id": "OJRC36EDRKQh",
    "outputId": "be146761-1682-4db1-db12-932d7a1774b4"
   },
   "outputs": [
    {
     "data": {
      "text/plain": [
       "LinearRegression()"
      ]
     },
     "execution_count": 122,
     "metadata": {},
     "output_type": "execute_result"
    }
   ],
   "source": [
    "#run for class\n",
    "car_lm = LinearRegression()\n",
    "car_lm.fit(train_X, train_y)"
   ]
  },
  {
   "cell_type": "code",
   "execution_count": null,
   "metadata": {
    "id": "rFFDzhgiQ53f"
   },
   "outputs": [],
   "source": [
    "car_lm.intercept_"
   ]
  },
  {
   "cell_type": "code",
   "execution_count": null,
   "metadata": {
    "id": "pmEqFbysS1Jd"
   },
   "outputs": [],
   "source": [
    "car_lm.coef_"
   ]
  },
  {
   "cell_type": "code",
   "execution_count": null,
   "metadata": {
    "id": "wnnglKeXS_Is"
   },
   "outputs": [],
   "source": [
    "regressionSummary(train_y, car_lm.predict(train_X))"
   ]
  },
  {
   "cell_type": "code",
   "execution_count": null,
   "metadata": {
    "id": "RNSDP7GST_Zr"
   },
   "outputs": [],
   "source": [
    "pred_y = car_lm.predict(train_X)"
   ]
  },
  {
   "cell_type": "code",
   "execution_count": null,
   "metadata": {
    "id": "xcBtov0fVJ_l"
   },
   "outputs": [],
   "source": [
    "pred_y"
   ]
  },
  {
   "cell_type": "code",
   "execution_count": null,
   "metadata": {
    "id": "EeHY7SmbVRMO"
   },
   "outputs": [],
   "source": [
    "adjusted_r2_score(train_y, pred_y, car_lm)"
   ]
  },
  {
   "cell_type": "code",
   "execution_count": null,
   "metadata": {
    "id": "ZjVya1jtWA7i"
   },
   "outputs": [],
   "source": [
    "result_train = pd.DataFrame({'predicted': pred_y,\n",
    "                       'actual': train_y,\n",
    "                       'residuals': train_y - pred_y})"
   ]
  },
  {
   "cell_type": "code",
   "execution_count": null,
   "metadata": {
    "id": "GWH6hHkIXWb_"
   },
   "outputs": [],
   "source": [
    "result_train"
   ]
  },
  {
   "cell_type": "code",
   "execution_count": null,
   "metadata": {
    "colab": {
     "base_uri": "https://localhost:8080/"
    },
    "id": "K5tcfktmVNFp",
    "outputId": "ca6f39b9-e1ea-40d4-9cb6-8d2cf93ddf72"
   },
   "outputs": [
    {
     "data": {
      "text/plain": [
       "(431,)"
      ]
     },
     "execution_count": 123,
     "metadata": {},
     "output_type": "execute_result"
    }
   ],
   "source": [
    "#run for class\n",
    "car_lm_predict = car_lm.predict(valid_X)\n",
    "car_lm_predict.shape"
   ]
  },
  {
   "cell_type": "code",
   "execution_count": null,
   "metadata": {
    "id": "UZakUAkBZUBW"
   },
   "outputs": [],
   "source": [
    "#run for class\n",
    "result = pd.DataFrame({'predicted': car_lm_predict,\n",
    "                       'actual': valid_y,\n",
    "                       'residual': valid_y - car_lm_predict})"
   ]
  },
  {
   "cell_type": "code",
   "execution_count": null,
   "metadata": {
    "id": "SSeexIyqZt3L"
   },
   "outputs": [],
   "source": [
    "result.head(10)"
   ]
  },
  {
   "cell_type": "code",
   "execution_count": null,
   "metadata": {
    "id": "_wcoj1gLZz9n"
   },
   "outputs": [],
   "source": [
    "#build data accuracy\n",
    "regressionSummary(train_y, pred_y)"
   ]
  },
  {
   "cell_type": "code",
   "execution_count": null,
   "metadata": {
    "id": "Kvy97ywCaFn7"
   },
   "outputs": [],
   "source": [
    "#validation data accuracy\n",
    "regressionSummary(valid_y, car_lm_predict)"
   ]
  },
  {
   "cell_type": "code",
   "execution_count": null,
   "metadata": {
    "id": "BF82HqXiaL8I"
   },
   "outputs": [],
   "source": [
    "#build data r2\n",
    "adjusted_r2_score(train_y, pred_y, car_lm)"
   ]
  },
  {
   "cell_type": "code",
   "execution_count": null,
   "metadata": {
    "id": "ALT0URowa8As"
   },
   "outputs": [],
   "source": [
    "#validation data r2\n",
    "adjusted_r2_score(valid_y, car_lm_predict, car_lm)"
   ]
  },
  {
   "cell_type": "code",
   "execution_count": null,
   "metadata": {
    "id": "Wxold7V6bHho"
   },
   "outputs": [],
   "source": [
    "car_df.columns"
   ]
  },
  {
   "cell_type": "code",
   "execution_count": null,
   "metadata": {
    "id": "EimKR9TabvxY"
   },
   "outputs": [],
   "source": [
    "predictors_2 = ['KM','Automatic','CC','Doors','Boardcomputer','Color']"
   ]
  },
  {
   "cell_type": "code",
   "execution_count": null,
   "metadata": {
    "id": "40XqhpSDcSYA"
   },
   "outputs": [],
   "source": [
    "X2 = pd.get_dummies(car_df[predictors_2], drop_first=True)"
   ]
  },
  {
   "cell_type": "code",
   "execution_count": null,
   "metadata": {
    "id": "c3KiIgdZgw0T"
   },
   "outputs": [],
   "source": [
    "X2.head()"
   ]
  },
  {
   "cell_type": "code",
   "execution_count": null,
   "metadata": {
    "id": "d5BbhKsJg0d_"
   },
   "outputs": [],
   "source": [
    "y2=car_df[outcome]"
   ]
  },
  {
   "cell_type": "code",
   "execution_count": null,
   "metadata": {
    "id": "Bi_YTmWma49s"
   },
   "outputs": [],
   "source": [
    "train_X2, valid_X2, train_y2, valid_y2 = train_test_split(X2, y2, test_size=.25, random_state=123)"
   ]
  },
  {
   "cell_type": "code",
   "execution_count": null,
   "metadata": {
    "id": "L5hqIJT2ZRNt"
   },
   "outputs": [],
   "source": [
    "car_lm2 = LinearRegression()\n",
    "car_lm2.fit(train_X2, train_y2)"
   ]
  },
  {
   "cell_type": "code",
   "execution_count": null,
   "metadata": {
    "id": "M0MKuI5Kh0MU"
   },
   "outputs": [],
   "source": [
    "#reduced model validation summary\n",
    "regressionSummary(valid_y2,car_lm2.predict(valid_X2))"
   ]
  },
  {
   "cell_type": "code",
   "execution_count": null,
   "metadata": {
    "id": "hfL3UuY3iVq5"
   },
   "outputs": [],
   "source": [
    "#full model validation summary\n",
    "regressionSummary(valid_y,car_lm.predict(valid_X))"
   ]
  },
  {
   "cell_type": "code",
   "execution_count": null,
   "metadata": {
    "id": "_7vP7lU3iTEq"
   },
   "outputs": [],
   "source": [
    "#reduced model r2\n",
    "adjusted_r2_score(valid_y2, car_lm2.predict(valid_X2), car_lm2)"
   ]
  },
  {
   "cell_type": "code",
   "execution_count": null,
   "metadata": {
    "id": "sXchve2yi7uS"
   },
   "outputs": [],
   "source": [
    "#full model r2\n",
    "adjusted_r2_score(valid_y, car_lm.predict(valid_X), car_lm)"
   ]
  },
  {
   "cell_type": "markdown",
   "metadata": {
    "id": "Dr35gjk5o8vE"
   },
   "source": [
    "## Create a distribution of the residuals"
   ]
  },
  {
   "cell_type": "markdown",
   "metadata": {
    "id": "dDz95hossLUQ"
   },
   "source": [
    "* calculate the residual values for the training set\n",
    "* calculate the residual values for the validation set\n",
    "* create a historgram of the residual values for normality check\n",
    "* create a boxplot of the residuals for possible outlier check"
   ]
  },
  {
   "cell_type": "code",
   "execution_count": null,
   "metadata": {
    "id": "dpLdC3qUjdSx"
   },
   "outputs": [],
   "source": [
    "pred_error_train = pd.DataFrame({'residual': train_y-car_lm.predict(train_X),\n",
    "                                 'data_set': 'training'})\n",
    "pred_error_valid = pd.DataFrame({'residual': valid_y-car_lm.predict(valid_X),\n",
    "                                 'data_set': 'validation'})"
   ]
  },
  {
   "cell_type": "code",
   "execution_count": null,
   "metadata": {
    "id": "C-xQYWrjkFjd"
   },
   "outputs": [],
   "source": [
    "pred_error_train.head(10)"
   ]
  },
  {
   "cell_type": "code",
   "execution_count": null,
   "metadata": {
    "id": "c2arSRg2kIqa"
   },
   "outputs": [],
   "source": [
    "pred_error_both = pred_error_train.append(pred_error_valid, ignore_index=True)"
   ]
  },
  {
   "cell_type": "code",
   "execution_count": null,
   "metadata": {
    "id": "aR8FmhC1kqiQ"
   },
   "outputs": [],
   "source": [
    "pred_error_both"
   ]
  },
  {
   "cell_type": "code",
   "execution_count": null,
   "metadata": {
    "id": "m3shyTQektW3"
   },
   "outputs": [],
   "source": [
    "fig, ax = plt.subplots(nrows=1, ncols=2)\n",
    "fig.set_size_inches(10,5)\n",
    "pred_error_train.hist(ax=ax[0])\n",
    "pred_error_valid.hist(ax=ax[1])"
   ]
  },
  {
   "cell_type": "code",
   "execution_count": null,
   "metadata": {
    "id": "g1KvF-8xlGas"
   },
   "outputs": [],
   "source": [
    "pred_error_both.boxplot(by='data_set')"
   ]
  },
  {
   "cell_type": "markdown",
   "metadata": {
    "id": "ahG4MJIyqFZR"
   },
   "source": [
    "## Begin Part 2\n",
    "## Variable Reduction"
   ]
  },
  {
   "cell_type": "markdown",
   "metadata": {
    "id": "fIApBFBXqKfG"
   },
   "source": [
    "\n",
    "\n",
    "*   Preform an exhaustive search for the best model.\n",
    "*   Preform a backward elimination\n",
    "*   Preform a forward selection\n",
    "*Examine best model and coefficients\n",
    "\n",
    "\n",
    "\n"
   ]
  },
  {
   "cell_type": "code",
   "execution_count": null,
   "metadata": {
    "id": "uXoxZxIt0Ghh"
   },
   "outputs": [],
   "source": [
    "def train_model(variables):\n",
    "    model = LinearRegression()\n",
    "    model.fit(train_X[variables], train_y)\n",
    "    return model\n",
    "\n",
    "def score_model(model, variables):\n",
    "    pred_y = model.predict(train_X[variables])\n",
    "    # we negate as score is optimized to be as low as possible\n",
    "    return -adjusted_r2_score(train_y, pred_y, model)\n",
    "\n",
    "allVariables = train_X.columns\n",
    "results = exhaustive_search(allVariables, train_model, score_model)\n",
    "\n",
    "data = []\n",
    "for result in results:\n",
    "    model = result['model']\n",
    "    variables = result['variables']\n",
    "    AIC = AIC_score(train_y, model.predict(train_X[variables]), model)\n",
    "    \n",
    "    d = {'n': result['n'], 'r2adj': -result['score'], 'AIC': AIC}\n",
    "    d.update({var: var in result['variables'] for var in allVariables})\n",
    "    data.append(d)\n",
    "pd.set_option('display.width', 100)\n",
    "print(pd.DataFrame(data, columns=('n', 'r2adj', 'AIC') + tuple(sorted(allVariables))))\n",
    "pd.reset_option('display.width')"
   ]
  },
  {
   "cell_type": "code",
   "execution_count": null,
   "metadata": {
    "id": "Dtpz595cASYx"
   },
   "outputs": [],
   "source": [
    "def train_model(variables):\n",
    "    model = LinearRegression()\n",
    "    model.fit(train_X[variables], train_y)\n",
    "    return model\n",
    "\n",
    "def score_model(model, variables):\n",
    "    return AIC_score(train_y, model.predict(train_X[variables]), model)\n",
    "\n",
    "best_model, best_variables = backward_elimination(train_X.columns, train_model, score_model, verbose=True)\n",
    "\n",
    "print(best_variables)"
   ]
  },
  {
   "cell_type": "code",
   "execution_count": null,
   "metadata": {
    "id": "xXril8tYD1hX"
   },
   "outputs": [],
   "source": [
    "# The initial model is the constant model - this requires special handling\n",
    "# in train_model and score_model\n",
    "def train_model(variables):\n",
    "    if len(variables) == 0:\n",
    "        return None\n",
    "    model = LinearRegression()\n",
    "    model.fit(train_X[variables], train_y)\n",
    "    return model\n",
    "\n",
    "def score_model(model, variables):\n",
    "    if len(variables) == 0:\n",
    "        return AIC_score(train_y, [train_y.mean()] * len(train_y), model, df=1)\n",
    "    return AIC_score(train_y, model.predict(train_X[variables]), model)\n",
    "\n",
    "best_model, best_variables = forward_selection(train_X.columns, train_model, score_model, verbose=True)\n",
    "\n",
    "print(best_variables)"
   ]
  },
  {
   "cell_type": "code",
   "execution_count": null,
   "metadata": {
    "id": "ettEDcFxv9hl"
   },
   "outputs": [],
   "source": [
    "insights = pd.DataFrame({'variable': best_variables,\n",
    "                       'coefficient': best_model.coef_})\n",
    "insights"
   ]
  }
 ],
 "metadata": {
  "colab": {
   "name": "Chapter_06_Linear_Regression_Reduction_student.ipynb",
   "provenance": []
  },
  "kernelspec": {
   "display_name": "Python 3",
   "language": "python",
   "name": "python3"
  },
  "language_info": {
   "codemirror_mode": {
    "name": "ipython",
    "version": 3
   },
   "file_extension": ".py",
   "mimetype": "text/x-python",
   "name": "python",
   "nbconvert_exporter": "python",
   "pygments_lexer": "ipython3",
   "version": "3.8.8"
  }
 },
 "nbformat": 4,
 "nbformat_minor": 1
}
