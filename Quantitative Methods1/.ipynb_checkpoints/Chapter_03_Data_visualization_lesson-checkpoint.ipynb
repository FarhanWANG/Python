{
 "cells": [
  {
   "cell_type": "markdown",
   "metadata": {
    "id": "wuYP-hPuY-2-"
   },
   "source": [
    "# Chapter 3: Data Visualization\n",
    "\n",
    "> (c) 2019 Galit Shmueli, Peter C. Bruce, Peter Gedeck \n",
    ">\n",
    "> Code included in\n",
    ">\n",
    "> _Data Mining for Business Analytics: Concepts, Techniques, and Applications in Python_ (First Edition) \n",
    "> Galit Shmueli, Peter C. Bruce, Peter Gedeck, and Nitin R. Patel. 2019.\n",
    "\n",
    "Pandas provides a number of basic plotting capabilities. Matplotlib however gives you more control over details of the visualisation. The Pandas plot methods return an axes object, which can also be used to modify the visualisation using basic matplotlib commands.\n",
    "\n",
    "## Import required packages"
   ]
  },
  {
   "cell_type": "code",
   "execution_count": null,
   "metadata": {
    "id": "hjEWMzzDY-3B"
   },
   "outputs": [],
   "source": [
    "%matplotlib inline\n",
    "import os\n",
    "import calendar\n",
    "from pathlib import Path\n",
    "import numpy as np\n",
    "import networkx as nx\n",
    "import pandas as pd\n",
    "from pandas.plotting import scatter_matrix, parallel_coordinates\n",
    "import seaborn as sns\n",
    "from sklearn import preprocessing\n",
    "import matplotlib.pylab as plt\n"
   ]
  },
  {
   "cell_type": "markdown",
   "metadata": {
    "id": "MnkghW-VY-3F"
   },
   "source": [
    "## Bar and Scatter plots\n"
   ]
  },
  {
   "cell_type": "markdown",
   "metadata": {
    "id": "migayFs8F11Q"
   },
   "source": [
    "Load Boston Housing data and display the average median value intersecting Charles River (CHAS)"
   ]
  },
  {
   "cell_type": "code",
   "execution_count": null,
   "metadata": {
    "id": "OCKWThYaOEQr"
   },
   "outputs": [],
   "source": [
    "Display reationship between Median value and LStat"
   ]
  },
  {
   "cell_type": "markdown",
   "metadata": {
    "id": "RABAVdRVY-3J"
   },
   "source": [
    "## Distribution Plots (Boston Housing)\n",
    "Histogram of MEDV"
   ]
  },
  {
   "cell_type": "markdown",
   "metadata": {
    "id": "4FyF6gKfY-3G"
   },
   "source": [
    "## Line Plot (Amtrak Data)\n",
    "Load the Amtrak data and convert them to be suitable for time series analysis"
   ]
  },
  {
   "cell_type": "markdown",
   "metadata": {
    "id": "LrzmeH6kY-3L"
   },
   "source": [
    "## Heat Maps (Boston housing)"
   ]
  },
  {
   "cell_type": "markdown",
   "metadata": {
    "id": "hHkdo9vgcQhg"
   },
   "source": [
    "## Adding Dimesions to plots\n"
   ]
  },
  {
   "cell_type": "code",
   "execution_count": null,
   "metadata": {
    "id": "3klIzvkfcsE0"
   },
   "outputs": [],
   "source": [
    "# Create Scatter plot by NOX and LStat\n",
    "# Color the points by the value of CAT.MEDV"
   ]
  },
  {
   "cell_type": "markdown",
   "metadata": {
    "id": "-3h_rBE_Y-3O"
   },
   "source": [
    "## Scatter Plot Matrix\n",
    "Scatterplot matrix"
   ]
  },
  {
   "cell_type": "markdown",
   "metadata": {
    "id": "S5-jpATCY-3P"
   },
   "source": [
    "## Log Plotting (uncrowd the data)"
   ]
  },
  {
   "cell_type": "markdown",
   "metadata": {
    "id": "3-ZqZ4x0exf8"
   },
   "source": [
    "Create scatter plot of Med value and CRIM using Boston Housing data"
   ]
  },
  {
   "cell_type": "markdown",
   "metadata": {
    "id": "inh6Z6_lY-3Q"
   },
   "source": [
    "## Amtrak Ridership Curve Plots"
   ]
  },
  {
   "cell_type": "markdown",
   "metadata": {
    "id": "vlk676iLY-3Q"
   },
   "source": [
    "## Scatter plot with label (Utilities)"
   ]
  },
  {
   "cell_type": "markdown",
   "metadata": {
    "id": "rI_MJFASY-3S"
   },
   "source": [
    "## Parallel Coordinates (Boston Housing)"
   ]
  }
 ],
 "metadata": {
  "colab": {
   "name": "Chapter 03 - Data visualization.ipynb",
   "provenance": [],
   "toc_visible": true
  },
  "kernelspec": {
   "display_name": "Python 3",
   "language": "python",
   "name": "python3"
  },
  "language_info": {
   "codemirror_mode": {
    "name": "ipython",
    "version": 3
   },
   "file_extension": ".py",
   "mimetype": "text/x-python",
   "name": "python",
   "nbconvert_exporter": "python",
   "pygments_lexer": "ipython3",
   "version": "3.8.8"
  }
 },
 "nbformat": 4,
 "nbformat_minor": 1
}
