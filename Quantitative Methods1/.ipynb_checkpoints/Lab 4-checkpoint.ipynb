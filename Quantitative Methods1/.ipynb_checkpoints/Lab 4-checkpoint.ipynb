{
 "cells": [
  {
   "cell_type": "markdown",
   "metadata": {
    "id": "DdwbI6kKQaR2"
   },
   "source": [
    "# Lab 4: Due Sunday February 6th"
   ]
  },
  {
   "cell_type": "code",
   "execution_count": 1,
   "metadata": {
    "colab": {
     "base_uri": "https://localhost:8080/"
    },
    "id": "aFmK7fiAQaR-",
    "outputId": "37d19512-f919-4e6b-8a62-2c73a3eeb43e"
   },
   "outputs": [
    {
     "name": "stdout",
     "output_type": "stream",
     "text": [
      "Looking in indexes: http://mirrors.aliyun.com/pypi/simple\n",
      "Requirement already satisfied: dmba in c:\\programdata\\anaconda3\\lib\\site-packages (0.0.19)\n"
     ]
    }
   ],
   "source": [
    "# Import required packages\n",
    "from pathlib import Path\n",
    "\n",
    "import pandas as pd\n",
    "import numpy as np\n",
    "from sklearn.model_selection import train_test_split\n",
    "from sklearn.naive_bayes import MultinomialNB\n",
    "\n",
    "!pip install dmba\n",
    "from dmba import classificationSummary\n",
    "\n",
    "%matplotlib inline"
   ]
  },
  {
   "cell_type": "markdown",
   "metadata": {
    "id": "KleQv0QfQaSC"
   },
   "source": [
    "# Personal Loan Acceptance"
   ]
  },
  {
   "cell_type": "markdown",
   "metadata": {
    "id": "xUTb6DdhQaSD"
   },
   "source": [
    "The file _UniversalBank.csv_ contains data on 5000 customers of Universal Bank. The data include customer demographic information (age, income, etc.), the customer’s relationship with the bank (mortgage, securities account, etc.), and the customer response to the last personal loan campaign (Personal Loan). Among these 5000 customers, only 480 (= 9.6%) accepted the personal loan that was offered to them in the earlier campaign. In this exercise, we focus on two predictors: Online (whether or not the customer is an active user of online banking services) and Credit Card (abbreviated CC below) (does the customer hold a credit card issued by the bank), and the outcome Personal Loan (abbreviated Loan below).\n",
    "\n",
    "Partition the data into training (60%) and validation (40%) sets."
   ]
  },
  {
   "cell_type": "markdown",
   "metadata": {
    "id": "eP6kKBXuQaSE"
   },
   "source": [
    "## 1. Data Preparation\n",
    "\n",
    "__1.1__ Load the data and remove all unnecessary columns from the dataset and convert _Online_ and _CreditCard_ to categories. Split the data into training (60%), and validation (40%) sets (use <code>random_state=1</code>). Remove any spaces from variable names."
   ]
  },
  {
   "cell_type": "code",
   "execution_count": 2,
   "metadata": {
    "id": "Yie_FyP7QaSF",
    "scrolled": false
   },
   "outputs": [],
   "source": [
    "#Insert code here\n",
    "loan = pd.read_csv(\"UniversalBank1.csv\")\n",
    "loan = loan[['Personal Loan', 'Online','CreditCard']]\n",
    "loan.rename(columns={'Personal Loan' : 'PersonalLoan'}, inplace=True)\n",
    "loan.Online = loan.Online.astype('category')\n",
    "loan.CreditCard = loan.CreditCard.astype('category')"
   ]
  },
  {
   "cell_type": "markdown",
   "metadata": {
    "id": "ZATtibXXQaSG"
   },
   "source": [
    "Split dataset into training and validation sets."
   ]
  },
  {
   "cell_type": "code",
   "execution_count": 3,
   "metadata": {
    "id": "CaDfc8G6QaSH"
   },
   "outputs": [],
   "source": [
    "#Insert code here\n",
    "train_df,valid_df = train_test_split(loan, test_size=0.4, random_state=1)"
   ]
  },
  {
   "cell_type": "markdown",
   "metadata": {
    "id": "sZUpc4SBQaSJ"
   },
   "source": [
    "## 2. Pivot Table\n",
    "\n",
    "__2.1__ Create a pivot table for the training data with Online as a column variable, CC as a row variable, and Loan as a secondary row variable. The values inside the table should convey the count.\n",
    "\n",
    "(Hint: Use pivot_table with an index, columns and aggfunc=len.  This step should only be one line of code.)"
   ]
  },
  {
   "cell_type": "code",
   "execution_count": 4,
   "metadata": {
    "id": "9q6XV2mOQaSK"
   },
   "outputs": [
    {
     "data": {
      "text/html": [
       "<div>\n",
       "<style scoped>\n",
       "    .dataframe tbody tr th:only-of-type {\n",
       "        vertical-align: middle;\n",
       "    }\n",
       "\n",
       "    .dataframe tbody tr th {\n",
       "        vertical-align: top;\n",
       "    }\n",
       "\n",
       "    .dataframe thead th {\n",
       "        text-align: right;\n",
       "    }\n",
       "</style>\n",
       "<table border=\"1\" class=\"dataframe\">\n",
       "  <thead>\n",
       "    <tr style=\"text-align: right;\">\n",
       "      <th></th>\n",
       "      <th>Online</th>\n",
       "      <th>0</th>\n",
       "      <th>1</th>\n",
       "    </tr>\n",
       "    <tr>\n",
       "      <th>CreditCard</th>\n",
       "      <th>PersonalLoan</th>\n",
       "      <th></th>\n",
       "      <th></th>\n",
       "    </tr>\n",
       "  </thead>\n",
       "  <tbody>\n",
       "    <tr>\n",
       "      <th rowspan=\"2\" valign=\"top\">0</th>\n",
       "      <th>0</th>\n",
       "      <td>792</td>\n",
       "      <td>1117</td>\n",
       "    </tr>\n",
       "    <tr>\n",
       "      <th>1</th>\n",
       "      <td>73</td>\n",
       "      <td>126</td>\n",
       "    </tr>\n",
       "    <tr>\n",
       "      <th rowspan=\"2\" valign=\"top\">1</th>\n",
       "      <th>0</th>\n",
       "      <td>327</td>\n",
       "      <td>477</td>\n",
       "    </tr>\n",
       "    <tr>\n",
       "      <th>1</th>\n",
       "      <td>39</td>\n",
       "      <td>49</td>\n",
       "    </tr>\n",
       "  </tbody>\n",
       "</table>\n",
       "</div>"
      ],
      "text/plain": [
       "Online                     0     1\n",
       "CreditCard PersonalLoan           \n",
       "0          0             792  1117\n",
       "           1              73   126\n",
       "1          0             327   477\n",
       "           1              39    49"
      ]
     },
     "execution_count": 4,
     "metadata": {},
     "output_type": "execute_result"
    }
   ],
   "source": [
    "#Insert code here\n",
    "count_table = train_df.pivot_table(index=['CreditCard','PersonalLoan'],columns = 'Online', aggfunc=len)\n",
    "count_table"
   ]
  },
  {
   "cell_type": "markdown",
   "metadata": {
    "id": "J0iPZE-nQaSL"
   },
   "source": [
    "__2.2__ Using the pivot table created, consider the task of classifying a customer who owns a bank credit card and is actively using online banking services. \n",
    "\n",
    "Looking at the pivot table, what is the probability that this customer will accept the loan offer? (This is the probability of loan acceptance (Loan = 1) conditional on having a bank credit card (CC = 1) and being an active user of online banking services (Online = 1))."
   ]
  },
  {
   "cell_type": "code",
   "execution_count": 5,
   "metadata": {},
   "outputs": [
    {
     "data": {
      "text/plain": [
       "0.09315589353612168"
      ]
     },
     "execution_count": 5,
     "metadata": {},
     "output_type": "execute_result"
    }
   ],
   "source": [
    "count_table.values[3,1]/(count_table.values[3,1]+count_table.values[2,1])"
   ]
  },
  {
   "cell_type": "markdown",
   "metadata": {
    "id": "LgzE6PQPQaSM"
   },
   "source": [
    "__Answer:__\n",
    "\n",
    "49/(477+49) = 9.32%"
   ]
  },
  {
   "cell_type": "markdown",
   "metadata": {
    "id": "3Z1KFYImQaSO"
   },
   "source": [
    "__2.3__ Create two separate pivot tables for the training data. One will have Loan (rows) as a function of Online (columns) and the other will have Loan (rows) as a function of CC."
   ]
  },
  {
   "cell_type": "markdown",
   "metadata": {
    "id": "WuKeYHWMQaSP"
   },
   "source": [
    "Pivot table for Loan (rows) as a function of Online (columns). Here we can use the `pivot_table` method of the pandas data frame."
   ]
  },
  {
   "cell_type": "code",
   "execution_count": 6,
   "metadata": {},
   "outputs": [
    {
     "name": "stdout",
     "output_type": "stream",
     "text": [
      "0    0.904333\n",
      "1    0.095667\n",
      "Name: PersonalLoan, dtype: float64\n",
      "\n",
      "CreditCard           0         1\n",
      "PersonalLoan                    \n",
      "0             0.703649  0.296351\n",
      "1             0.693380  0.306620\n",
      "\n",
      "Online               0         1\n",
      "PersonalLoan                    \n",
      "0             0.412459  0.587541\n",
      "1             0.390244  0.609756\n",
      "\n"
     ]
    }
   ],
   "source": [
    "#Since we had some issues in class, I'm providing the following code:\n",
    "\n",
    "predictors = ['CreditCard', 'Online']\n",
    "\n",
    "print(train_df['PersonalLoan'].value_counts() / len(train_df))\n",
    "print()\n",
    "\n",
    "for predictor in predictors:\n",
    "    # construct the frequency table\n",
    "    df = train_df[['PersonalLoan', predictor]]\n",
    "    freqTable = df.pivot_table(index='PersonalLoan', columns=predictor, aggfunc=len)\n",
    "\n",
    "    # divide each row by the sum of the row to get conditional probabilities\n",
    "    propTable = freqTable.apply(lambda x: x / sum(x), axis=1)\n",
    "    print(propTable)\n",
    "    print()"
   ]
  },
  {
   "cell_type": "markdown",
   "metadata": {
    "id": "CGC9lvz2QaSS"
   },
   "source": [
    "<small><em>CreditCard</em> abbreviated as CC, <em>Personal Loan</em> abbreviated as Loan)</small>"
   ]
  },
  {
   "cell_type": "markdown",
   "metadata": {
    "id": "zSwJcQlwQaST"
   },
   "source": [
    "__2.4__ Compute the following quantities, P(A | B) means “the probability of A given B”]:\n",
    "\n",
    "<ul>\n",
    "<li>i. P(CC = 1 | Loan = 1) (the proportion of credit card holders among the loan acceptors)</i>\n",
    "<li>ii. P(Online = 1|Loan = 1)</li>\n",
    "<li>iii. P(Loan = 1) = the proportion of loan acceptors</li>\n",
    "<li>iv. P(CC = 1|Loan = 0)</li>\n",
    "<li>v.  P(Online = 1|Loan = 0)</li>\n",
    "<li>vi. P(Loan = 0)</li>\n",
    "</ul>\n",
    "\n",
    "Use the pivot tables created in 2.3."
   ]
  },
  {
   "cell_type": "markdown",
   "metadata": {},
   "source": [
    "__Answers:__\n",
    "\n",
    "    i. P(CreditCard = 1|Loan = 1) = 0.306620\n",
    "    ii. P(Online = 1|Loan = 1) = 0.609756\n",
    "    iii. P(Loan = 1) = 0.095667\n",
    "    iv. P(CC = 1|Loan = 0) = 0.296351\n",
    "    v. P(Online = 1|Loan = 0) = 0.587541\n",
    "    vi. P(Loan = 0) = 0.904333"
   ]
  },
  {
   "cell_type": "markdown",
   "metadata": {
    "id": "VyK3qjgzQaSZ"
   },
   "source": [
    "__2.5__ Which of the entries in this table are needed for computing P(Loan = 1 | CC = 1, Online = 1)? In Python, run naive Bayes on the data. Examine the model output on training data, and find the entry that corresponds to P(Loan = 1 | CC = 1,\n",
    "Online = 1). \n",
    "\n",
    "In Python, run naive Bayes on the training data. Use data points that match the condition <em>CreditCard=1,Online=1</em> to find the predicted probability for P(Loan=1|CC=1,Online=1).\n",
    "\n",
    "(Hint: Your target is Loan and your predictors are Online and CC.)"
   ]
  },
  {
   "cell_type": "markdown",
   "metadata": {},
   "source": [
    "P( Loan = 1| CC = 1; Online = 1)\n",
    "\n",
    "= (0.306620 * 0.609756 * 0.095667) / [(0.306620 * 0.609756 * 0.095667) + (0.296351 * 0.587541 * 0.904333)] \n",
    "\n",
    "= 0.0179/(0.0179+0.1575)\n",
    "\n",
    "= 0.0179/0.1754\n",
    "\n",
    "= 0.1021"
   ]
  },
  {
   "cell_type": "markdown",
   "metadata": {
    "id": "xcpo3lEJQaSa"
   },
   "source": [
    "Change the types of variables to categories and create dummies"
   ]
  },
  {
   "cell_type": "code",
   "execution_count": 7,
   "metadata": {
    "id": "OV6QCvg5QaSb"
   },
   "outputs": [],
   "source": [
    "#Insert code here\n",
    "train_df = pd.get_dummies(train_df,drop_first=True)\n",
    "valid_df = pd.get_dummies(valid_df,drop_first=True)"
   ]
  },
  {
   "cell_type": "markdown",
   "metadata": {
    "id": "A9f4Y8TrUm7D"
   },
   "source": [
    "Create your outcome and predictors lists and fit a MultinomialNB"
   ]
  },
  {
   "cell_type": "code",
   "execution_count": 8,
   "metadata": {},
   "outputs": [],
   "source": [
    "X_train = train_df[['Online_1', 'CreditCard_1']]\n",
    "y_train = train_df['PersonalLoan']\n",
    "X_valid = valid_df[['Online_1', 'CreditCard_1']]\n",
    "y_valid = valid_df['PersonalLoan']"
   ]
  },
  {
   "cell_type": "code",
   "execution_count": 9,
   "metadata": {
    "id": "dCfxNIPDQaSd"
   },
   "outputs": [],
   "source": [
    "#Insert code here\n",
    "loan_nb = MultinomialNB(alpha=0.1)\n",
    "loan_nb.fit(X_train, y_train)\n",
    "\n",
    "y_train_pred = loan_nb.predict(X_train)\n",
    "y_valid_pred = loan_nb.predict(X_valid)"
   ]
  },
  {
   "cell_type": "markdown",
   "metadata": {
    "id": "oGyzNkNqQaSf"
   },
   "source": [
    "a) Predict probabilities using predict_proba. \n",
    "\n",
    "b) Concatenate the training data frame and the predicted probability data frame in part a.\n",
    "\n",
    "c) Check for the probability of \"1\" in the row where Online = 1 and CreditCard = 1"
   ]
  },
  {
   "cell_type": "code",
   "execution_count": 10,
   "metadata": {},
   "outputs": [],
   "source": [
    "# a) Predict probabilities using predict_proba.\n",
    "pred_prob_train = loan_nb.predict_proba(X_train)\n",
    "pred_prob_valid = loan_nb.predict_proba(X_valid)"
   ]
  },
  {
   "cell_type": "code",
   "execution_count": 11,
   "metadata": {
    "id": "nbszqVLAQaSh"
   },
   "outputs": [
    {
     "data": {
      "text/html": [
       "<div>\n",
       "<style scoped>\n",
       "    .dataframe tbody tr th:only-of-type {\n",
       "        vertical-align: middle;\n",
       "    }\n",
       "\n",
       "    .dataframe tbody tr th {\n",
       "        vertical-align: top;\n",
       "    }\n",
       "\n",
       "    .dataframe thead th {\n",
       "        text-align: right;\n",
       "    }\n",
       "</style>\n",
       "<table border=\"1\" class=\"dataframe\">\n",
       "  <thead>\n",
       "    <tr style=\"text-align: right;\">\n",
       "      <th></th>\n",
       "      <th>Online_1</th>\n",
       "      <th>CreditCard_1</th>\n",
       "      <th>loan</th>\n",
       "      <th>no_pred_prob</th>\n",
       "      <th>pred_prob</th>\n",
       "      <th>loan_pred</th>\n",
       "    </tr>\n",
       "  </thead>\n",
       "  <tbody>\n",
       "    <tr>\n",
       "      <th>0</th>\n",
       "      <td>0</td>\n",
       "      <td>0</td>\n",
       "      <td>0</td>\n",
       "      <td>0.904333</td>\n",
       "      <td>0.095667</td>\n",
       "      <td>0</td>\n",
       "    </tr>\n",
       "    <tr>\n",
       "      <th>1</th>\n",
       "      <td>1</td>\n",
       "      <td>0</td>\n",
       "      <td>0</td>\n",
       "      <td>0.904260</td>\n",
       "      <td>0.095740</td>\n",
       "      <td>0</td>\n",
       "    </tr>\n",
       "    <tr>\n",
       "      <th>2</th>\n",
       "      <td>1</td>\n",
       "      <td>1</td>\n",
       "      <td>0</td>\n",
       "      <td>0.904406</td>\n",
       "      <td>0.095594</td>\n",
       "      <td>0</td>\n",
       "    </tr>\n",
       "    <tr>\n",
       "      <th>3</th>\n",
       "      <td>0</td>\n",
       "      <td>1</td>\n",
       "      <td>0</td>\n",
       "      <td>0.904480</td>\n",
       "      <td>0.095520</td>\n",
       "      <td>0</td>\n",
       "    </tr>\n",
       "    <tr>\n",
       "      <th>4</th>\n",
       "      <td>1</td>\n",
       "      <td>0</td>\n",
       "      <td>1</td>\n",
       "      <td>0.904260</td>\n",
       "      <td>0.095740</td>\n",
       "      <td>0</td>\n",
       "    </tr>\n",
       "    <tr>\n",
       "      <th>...</th>\n",
       "      <td>...</td>\n",
       "      <td>...</td>\n",
       "      <td>...</td>\n",
       "      <td>...</td>\n",
       "      <td>...</td>\n",
       "      <td>...</td>\n",
       "    </tr>\n",
       "    <tr>\n",
       "      <th>2995</th>\n",
       "      <td>1</td>\n",
       "      <td>0</td>\n",
       "      <td>0</td>\n",
       "      <td>0.904260</td>\n",
       "      <td>0.095740</td>\n",
       "      <td>0</td>\n",
       "    </tr>\n",
       "    <tr>\n",
       "      <th>2996</th>\n",
       "      <td>1</td>\n",
       "      <td>0</td>\n",
       "      <td>0</td>\n",
       "      <td>0.904260</td>\n",
       "      <td>0.095740</td>\n",
       "      <td>0</td>\n",
       "    </tr>\n",
       "    <tr>\n",
       "      <th>2997</th>\n",
       "      <td>1</td>\n",
       "      <td>1</td>\n",
       "      <td>0</td>\n",
       "      <td>0.904406</td>\n",
       "      <td>0.095594</td>\n",
       "      <td>0</td>\n",
       "    </tr>\n",
       "    <tr>\n",
       "      <th>2998</th>\n",
       "      <td>1</td>\n",
       "      <td>0</td>\n",
       "      <td>0</td>\n",
       "      <td>0.904260</td>\n",
       "      <td>0.095740</td>\n",
       "      <td>0</td>\n",
       "    </tr>\n",
       "    <tr>\n",
       "      <th>2999</th>\n",
       "      <td>1</td>\n",
       "      <td>0</td>\n",
       "      <td>0</td>\n",
       "      <td>0.904260</td>\n",
       "      <td>0.095740</td>\n",
       "      <td>0</td>\n",
       "    </tr>\n",
       "  </tbody>\n",
       "</table>\n",
       "<p>3000 rows × 6 columns</p>\n",
       "</div>"
      ],
      "text/plain": [
       "      Online_1  CreditCard_1  loan  no_pred_prob  pred_prob  loan_pred\n",
       "0            0             0     0      0.904333   0.095667          0\n",
       "1            1             0     0      0.904260   0.095740          0\n",
       "2            1             1     0      0.904406   0.095594          0\n",
       "3            0             1     0      0.904480   0.095520          0\n",
       "4            1             0     1      0.904260   0.095740          0\n",
       "...        ...           ...   ...           ...        ...        ...\n",
       "2995         1             0     0      0.904260   0.095740          0\n",
       "2996         1             0     0      0.904260   0.095740          0\n",
       "2997         1             1     0      0.904406   0.095594          0\n",
       "2998         1             0     0      0.904260   0.095740          0\n",
       "2999         1             0     0      0.904260   0.095740          0\n",
       "\n",
       "[3000 rows x 6 columns]"
      ]
     },
     "execution_count": 11,
     "metadata": {},
     "output_type": "execute_result"
    }
   ],
   "source": [
    "# b) Concatenate the training data frame and the predicted probability data frame in part a.\n",
    "X_train_concatenate = X_train.copy().reset_index(drop=True)\n",
    "X_train_concatenate['loan'] = y_train.values\n",
    "X_train_concatenate[['no_pred_prob','pred_prob']] = pd.DataFrame(pred_prob_train)\n",
    "X_train_concatenate['loan_pred'] = y_train_pred\n",
    "X_train_concatenate"
   ]
  },
  {
   "cell_type": "code",
   "execution_count": 12,
   "metadata": {},
   "outputs": [
    {
     "data": {
      "text/html": [
       "<div>\n",
       "<style scoped>\n",
       "    .dataframe tbody tr th:only-of-type {\n",
       "        vertical-align: middle;\n",
       "    }\n",
       "\n",
       "    .dataframe tbody tr th {\n",
       "        vertical-align: top;\n",
       "    }\n",
       "\n",
       "    .dataframe thead th {\n",
       "        text-align: right;\n",
       "    }\n",
       "</style>\n",
       "<table border=\"1\" class=\"dataframe\">\n",
       "  <thead>\n",
       "    <tr style=\"text-align: right;\">\n",
       "      <th></th>\n",
       "      <th>Online_1</th>\n",
       "      <th>CreditCard_1</th>\n",
       "      <th>loan</th>\n",
       "      <th>no_pred_prob</th>\n",
       "      <th>pred_prob</th>\n",
       "      <th>loan_pred</th>\n",
       "    </tr>\n",
       "  </thead>\n",
       "  <tbody>\n",
       "    <tr>\n",
       "      <th>2</th>\n",
       "      <td>1</td>\n",
       "      <td>1</td>\n",
       "      <td>0</td>\n",
       "      <td>0.904406</td>\n",
       "      <td>0.095594</td>\n",
       "      <td>0</td>\n",
       "    </tr>\n",
       "    <tr>\n",
       "      <th>9</th>\n",
       "      <td>1</td>\n",
       "      <td>1</td>\n",
       "      <td>1</td>\n",
       "      <td>0.904406</td>\n",
       "      <td>0.095594</td>\n",
       "      <td>0</td>\n",
       "    </tr>\n",
       "    <tr>\n",
       "      <th>10</th>\n",
       "      <td>1</td>\n",
       "      <td>1</td>\n",
       "      <td>0</td>\n",
       "      <td>0.904406</td>\n",
       "      <td>0.095594</td>\n",
       "      <td>0</td>\n",
       "    </tr>\n",
       "    <tr>\n",
       "      <th>11</th>\n",
       "      <td>1</td>\n",
       "      <td>1</td>\n",
       "      <td>0</td>\n",
       "      <td>0.904406</td>\n",
       "      <td>0.095594</td>\n",
       "      <td>0</td>\n",
       "    </tr>\n",
       "    <tr>\n",
       "      <th>22</th>\n",
       "      <td>1</td>\n",
       "      <td>1</td>\n",
       "      <td>0</td>\n",
       "      <td>0.904406</td>\n",
       "      <td>0.095594</td>\n",
       "      <td>0</td>\n",
       "    </tr>\n",
       "    <tr>\n",
       "      <th>...</th>\n",
       "      <td>...</td>\n",
       "      <td>...</td>\n",
       "      <td>...</td>\n",
       "      <td>...</td>\n",
       "      <td>...</td>\n",
       "      <td>...</td>\n",
       "    </tr>\n",
       "    <tr>\n",
       "      <th>2972</th>\n",
       "      <td>1</td>\n",
       "      <td>1</td>\n",
       "      <td>0</td>\n",
       "      <td>0.904406</td>\n",
       "      <td>0.095594</td>\n",
       "      <td>0</td>\n",
       "    </tr>\n",
       "    <tr>\n",
       "      <th>2980</th>\n",
       "      <td>1</td>\n",
       "      <td>1</td>\n",
       "      <td>0</td>\n",
       "      <td>0.904406</td>\n",
       "      <td>0.095594</td>\n",
       "      <td>0</td>\n",
       "    </tr>\n",
       "    <tr>\n",
       "      <th>2983</th>\n",
       "      <td>1</td>\n",
       "      <td>1</td>\n",
       "      <td>0</td>\n",
       "      <td>0.904406</td>\n",
       "      <td>0.095594</td>\n",
       "      <td>0</td>\n",
       "    </tr>\n",
       "    <tr>\n",
       "      <th>2984</th>\n",
       "      <td>1</td>\n",
       "      <td>1</td>\n",
       "      <td>0</td>\n",
       "      <td>0.904406</td>\n",
       "      <td>0.095594</td>\n",
       "      <td>0</td>\n",
       "    </tr>\n",
       "    <tr>\n",
       "      <th>2997</th>\n",
       "      <td>1</td>\n",
       "      <td>1</td>\n",
       "      <td>0</td>\n",
       "      <td>0.904406</td>\n",
       "      <td>0.095594</td>\n",
       "      <td>0</td>\n",
       "    </tr>\n",
       "  </tbody>\n",
       "</table>\n",
       "<p>526 rows × 6 columns</p>\n",
       "</div>"
      ],
      "text/plain": [
       "      Online_1  CreditCard_1  loan  no_pred_prob  pred_prob  loan_pred\n",
       "2            1             1     0      0.904406   0.095594          0\n",
       "9            1             1     1      0.904406   0.095594          0\n",
       "10           1             1     0      0.904406   0.095594          0\n",
       "11           1             1     0      0.904406   0.095594          0\n",
       "22           1             1     0      0.904406   0.095594          0\n",
       "...        ...           ...   ...           ...        ...        ...\n",
       "2972         1             1     0      0.904406   0.095594          0\n",
       "2980         1             1     0      0.904406   0.095594          0\n",
       "2983         1             1     0      0.904406   0.095594          0\n",
       "2984         1             1     0      0.904406   0.095594          0\n",
       "2997         1             1     0      0.904406   0.095594          0\n",
       "\n",
       "[526 rows x 6 columns]"
      ]
     },
     "execution_count": 12,
     "metadata": {},
     "output_type": "execute_result"
    }
   ],
   "source": [
    "# c) Check for the probability of \"1\" in the row where Online = 1 and CreditCard = 1\n",
    "X_train_concatenate[(X_train_concatenate['Online_1']==1) & (X_train_concatenate['CreditCard_1']==1)]"
   ]
  },
  {
   "cell_type": "markdown",
   "metadata": {
    "id": "cDMGpjwUXlxv"
   },
   "source": [
    "__2.6__ What is the probability of a Loan given Online and CC?"
   ]
  },
  {
   "cell_type": "markdown",
   "metadata": {},
   "source": [
    "The probability of loan = 1 given Online = 1 and CC = 1 is **0.095594**"
   ]
  }
 ],
 "metadata": {
  "colab": {
   "name": "Lab_4_Student.ipynb",
   "provenance": []
  },
  "kernelspec": {
   "display_name": "Python 3",
   "language": "python",
   "name": "python3"
  },
  "language_info": {
   "codemirror_mode": {
    "name": "ipython",
    "version": 3
   },
   "file_extension": ".py",
   "mimetype": "text/x-python",
   "name": "python",
   "nbconvert_exporter": "python",
   "pygments_lexer": "ipython3",
   "version": "3.8.8"
  },
  "toc": {
   "base_numbering": 1,
   "nav_menu": {},
   "number_sections": false,
   "sideBar": true,
   "skip_h1_title": false,
   "title_cell": "Table of Contents",
   "title_sidebar": "Contents",
   "toc_cell": false,
   "toc_position": {},
   "toc_section_display": true,
   "toc_window_display": false
  },
  "varInspector": {
   "cols": {
    "lenName": 16,
    "lenType": 16,
    "lenVar": 40
   },
   "kernels_config": {
    "python": {
     "delete_cmd_postfix": "",
     "delete_cmd_prefix": "del ",
     "library": "var_list.py",
     "varRefreshCmd": "print(var_dic_list())"
    },
    "r": {
     "delete_cmd_postfix": ") ",
     "delete_cmd_prefix": "rm(",
     "library": "var_list.r",
     "varRefreshCmd": "cat(var_dic_list()) "
    }
   },
   "types_to_exclude": [
    "module",
    "function",
    "builtin_function_or_method",
    "instance",
    "_Feature"
   ],
   "window_display": false
  }
 },
 "nbformat": 4,
 "nbformat_minor": 1
}
