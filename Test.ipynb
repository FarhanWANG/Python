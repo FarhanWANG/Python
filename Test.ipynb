{
 "cells": [
  {
   "cell_type": "code",
   "execution_count": 2,
   "id": "bad5cb77",
   "metadata": {},
   "outputs": [],
   "source": [
    "import pandas as pd\n",
    "import numpy as np\n",
    "import matplotlib.pyplot as plt"
   ]
  },
  {
   "cell_type": "code",
   "execution_count": 11,
   "id": "2531da79",
   "metadata": {},
   "outputs": [],
   "source": [
    "def SumOfList(ls):\n",
    "    total = 0\n",
    "    for i in ls:\n",
    "        total += i\n",
    "    return total"
   ]
  },
  {
   "cell_type": "code",
   "execution_count": 12,
   "id": "607c5504",
   "metadata": {},
   "outputs": [
    {
     "data": {
      "text/plain": [
       "7"
      ]
     },
     "execution_count": 12,
     "metadata": {},
     "output_type": "execute_result"
    }
   ],
   "source": [
    "SumOfList([3,4])"
   ]
  },
  {
   "cell_type": "code",
   "execution_count": 6,
   "id": "45a23261",
   "metadata": {},
   "outputs": [
    {
     "data": {
      "text/plain": [
       "99.16354247154959"
      ]
     },
     "execution_count": 6,
     "metadata": {},
     "output_type": "execute_result"
    }
   ],
   "source": [
    "100.861 * np.exp(-0.07 * (2.15914-1.91667))"
   ]
  },
  {
   "cell_type": "code",
   "execution_count": 8,
   "id": "81c6d5e8",
   "metadata": {},
   "outputs": [
    {
     "data": {
      "text/plain": [
       "862.3409639097634"
      ]
     },
     "execution_count": 8,
     "metadata": {},
     "output_type": "execute_result"
    }
   ],
   "source": [
    "699 * np.exp(0.07 * (3))"
   ]
  },
  {
   "cell_type": "code",
   "execution_count": 10,
   "id": "7cdd4bba",
   "metadata": {},
   "outputs": [
    {
     "data": {
      "text/plain": [
       "224.1477838167215"
      ]
     },
     "execution_count": 10,
     "metadata": {},
     "output_type": "execute_result"
    }
   ],
   "source": [
    "100 * np.exp(-0.07 * (1.91667-1)) +143.116 * np.exp(-0.07 * (   2.33333-1))"
   ]
  },
  {
   "cell_type": "code",
   "execution_count": 11,
   "id": "2129ef80",
   "metadata": {},
   "outputs": [
    {
     "data": {
      "text/plain": [
       "268.37140543490716"
      ]
     },
     "execution_count": 11,
     "metadata": {},
     "output_type": "execute_result"
    }
   ],
   "source": [
    "155.467 * np.exp(-0.07 * (2.75-1)) +152.255 * np.exp(-0.07 * (3.16667-1))"
   ]
  },
  {
   "cell_type": "code",
   "execution_count": 12,
   "id": "db3e120b",
   "metadata": {},
   "outputs": [
    {
     "data": {
      "text/plain": [
       "209.26895010276735"
      ]
     },
     "execution_count": 12,
     "metadata": {},
     "output_type": "execute_result"
    }
   ],
   "source": [
    "160.78 * np.exp(-0.07 * (3.58333-1)) +92.632 * np.exp(-0.07 * (4-1))"
   ]
  },
  {
   "cell_type": "code",
   "execution_count": 13,
   "id": "bf08bcbe",
   "metadata": {},
   "outputs": [
    {
     "data": {
      "text/plain": [
       "701.788139354396"
      ]
     },
     "execution_count": 13,
     "metadata": {},
     "output_type": "execute_result"
    }
   ],
   "source": [
    "224.1477838167215 +268.37140543490716+209.26895010276735"
   ]
  },
  {
   "cell_type": "code",
   "execution_count": null,
   "id": "a4f1da12",
   "metadata": {},
   "outputs": [],
   "source": []
  }
 ],
 "metadata": {
  "hide_input": false,
  "kernelspec": {
   "display_name": "Python 3 (ipykernel)",
   "language": "python",
   "name": "python3"
  },
  "language_info": {
   "codemirror_mode": {
    "name": "ipython",
    "version": 3
   },
   "file_extension": ".py",
   "mimetype": "text/x-python",
   "name": "python",
   "nbconvert_exporter": "python",
   "pygments_lexer": "ipython3",
   "version": "3.8.12"
  }
 },
 "nbformat": 4,
 "nbformat_minor": 5
}
