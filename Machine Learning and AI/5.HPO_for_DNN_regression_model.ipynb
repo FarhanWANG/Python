{
 "cells": [
  {
   "cell_type": "code",
   "execution_count": 1,
   "metadata": {
    "executionInfo": {
     "elapsed": 4858,
     "status": "ok",
     "timestamp": 1647918092174,
     "user": {
      "displayName": "Ulya Sabeel",
      "photoUrl": "https://lh3.googleusercontent.com/a-/AOh14Gh2kYDr8ZsJiXZIbRZRo9WSzV60-6-lbSyCqdg_=s64",
      "userId": "12600023100446105368"
     },
     "user_tz": 240
    },
    "id": "STxf6cvlEQkM"
   },
   "outputs": [],
   "source": [
    "import sys\n",
    "import sklearn\n",
    "import numpy as np\n",
    "import os\n",
    "\n",
    "# to make this notebook's output stable across runs\n",
    "np.random.seed(42)\n",
    "\n",
    "import tensorflow as tf\n",
    "from tensorflow import keras\n"
   ]
  },
  {
   "cell_type": "markdown",
   "metadata": {
    "id": "RbfM0I4tEQkX"
   },
   "source": [
    "# Load California Housing Dataset"
   ]
  },
  {
   "cell_type": "markdown",
   "metadata": {
    "id": "tL4vUI-3EQkY"
   },
   "source": [
    "Let's start by loading the California housing dataset from sklearn.datasets"
   ]
  },
  {
   "cell_type": "code",
   "execution_count": 2,
   "metadata": {
    "executionInfo": {
     "elapsed": 3257,
     "status": "ok",
     "timestamp": 1647918095422,
     "user": {
      "displayName": "Ulya Sabeel",
      "photoUrl": "https://lh3.googleusercontent.com/a-/AOh14Gh2kYDr8ZsJiXZIbRZRo9WSzV60-6-lbSyCqdg_=s64",
      "userId": "12600023100446105368"
     },
     "user_tz": 240
    },
    "id": "54PQZ5KhEQkZ"
   },
   "outputs": [],
   "source": [
    "from sklearn.datasets import fetch_california_housing\n",
    "from sklearn.model_selection import train_test_split\n",
    "from sklearn.preprocessing import StandardScaler\n",
    "\n",
    "housing = fetch_california_housing()\n",
    "\n",
    "X_train_full, X_test, y_train_full, y_test = train_test_split(housing.data, housing.target)\n",
    "X_train, X_valid, y_train, y_valid = train_test_split(X_train_full, y_train_full)"
   ]
  },
  {
   "cell_type": "code",
   "execution_count": 3,
   "metadata": {
    "colab": {
     "base_uri": "https://localhost:8080/"
    },
    "executionInfo": {
     "elapsed": 178,
     "status": "ok",
     "timestamp": 1647918096552,
     "user": {
      "displayName": "Ulya Sabeel",
      "photoUrl": "https://lh3.googleusercontent.com/a-/AOh14Gh2kYDr8ZsJiXZIbRZRo9WSzV60-6-lbSyCqdg_=s64",
      "userId": "12600023100446105368"
     },
     "user_tz": 240
    },
    "id": "81IB2teKEQka",
    "outputId": "3bb6293d-f6f8-4f6c-a520-33f4419ac1b1"
   },
   "outputs": [
    {
     "data": {
      "text/plain": [
       "(15480, 8)"
      ]
     },
     "execution_count": 3,
     "metadata": {},
     "output_type": "execute_result"
    }
   ],
   "source": [
    "X_train_full.shape"
   ]
  },
  {
   "cell_type": "markdown",
   "metadata": {
    "id": "HWYRkvUfEQkb"
   },
   "source": [
    "Scale the train, validation and test data using standard scaler"
   ]
  },
  {
   "cell_type": "code",
   "execution_count": 4,
   "metadata": {
    "executionInfo": {
     "elapsed": 181,
     "status": "ok",
     "timestamp": 1647918098484,
     "user": {
      "displayName": "Ulya Sabeel",
      "photoUrl": "https://lh3.googleusercontent.com/a-/AOh14Gh2kYDr8ZsJiXZIbRZRo9WSzV60-6-lbSyCqdg_=s64",
      "userId": "12600023100446105368"
     },
     "user_tz": 240
    },
    "id": "-a0mznZFEQkc"
   },
   "outputs": [],
   "source": [
    "scaler = StandardScaler()\n",
    "X_train = scaler.fit_transform(X_train)\n",
    "X_valid = scaler.transform(X_valid)\n",
    "X_test = scaler.transform(X_test)"
   ]
  },
  {
   "cell_type": "markdown",
   "metadata": {
    "id": "jDSZMRHxV0uU"
   },
   "source": [
    "**Fine Tune your model: Hyperparameter optimization using Grid Search HPO**"
   ]
  },
  {
   "cell_type": "code",
   "execution_count": 5,
   "metadata": {
    "colab": {
     "base_uri": "https://localhost:8080/"
    },
    "executionInfo": {
     "elapsed": 3611,
     "status": "ok",
     "timestamp": 1647918130429,
     "user": {
      "displayName": "Ulya Sabeel",
      "photoUrl": "https://lh3.googleusercontent.com/a-/AOh14Gh2kYDr8ZsJiXZIbRZRo9WSzV60-6-lbSyCqdg_=s64",
      "userId": "12600023100446105368"
     },
     "user_tz": 240
    },
    "id": "AUmT2mHWb-MN",
    "outputId": "e884d83e-4ef9-4660-f0da-87799bebfc34"
   },
   "outputs": [
    {
     "name": "stdout",
     "output_type": "stream",
     "text": [
      "Collecting scikeras\n",
      "  Downloading scikeras-0.6.1-py3-none-any.whl (27 kB)\n",
      "Requirement already satisfied: packaging<22.0,>=0.21 in /usr/local/lib/python3.7/dist-packages (from scikeras) (21.3)\n",
      "Requirement already satisfied: scikit-learn>=1.0.0 in /usr/local/lib/python3.7/dist-packages (from scikeras) (1.0.2)\n",
      "Collecting importlib-metadata<4,>=3\n",
      "  Downloading importlib_metadata-3.10.1-py3-none-any.whl (14 kB)\n",
      "Requirement already satisfied: typing-extensions>=3.6.4 in /usr/local/lib/python3.7/dist-packages (from importlib-metadata<4,>=3->scikeras) (3.10.0.2)\n",
      "Requirement already satisfied: zipp>=0.5 in /usr/local/lib/python3.7/dist-packages (from importlib-metadata<4,>=3->scikeras) (3.7.0)\n",
      "Requirement already satisfied: pyparsing!=3.0.5,>=2.0.2 in /usr/local/lib/python3.7/dist-packages (from packaging<22.0,>=0.21->scikeras) (3.0.7)\n",
      "Requirement already satisfied: threadpoolctl>=2.0.0 in /usr/local/lib/python3.7/dist-packages (from scikit-learn>=1.0.0->scikeras) (3.1.0)\n",
      "Requirement already satisfied: joblib>=0.11 in /usr/local/lib/python3.7/dist-packages (from scikit-learn>=1.0.0->scikeras) (1.1.0)\n",
      "Requirement already satisfied: scipy>=1.1.0 in /usr/local/lib/python3.7/dist-packages (from scikit-learn>=1.0.0->scikeras) (1.4.1)\n",
      "Requirement already satisfied: numpy>=1.14.6 in /usr/local/lib/python3.7/dist-packages (from scikit-learn>=1.0.0->scikeras) (1.21.5)\n",
      "Installing collected packages: importlib-metadata, scikeras\n",
      "  Attempting uninstall: importlib-metadata\n",
      "    Found existing installation: importlib-metadata 4.11.2\n",
      "    Uninstalling importlib-metadata-4.11.2:\n",
      "      Successfully uninstalled importlib-metadata-4.11.2\n",
      "\u001b[31mERROR: pip's dependency resolver does not currently take into account all the packages that are installed. This behaviour is the source of the following dependency conflicts.\n",
      "markdown 3.3.6 requires importlib-metadata>=4.4; python_version < \"3.10\", but you have importlib-metadata 3.10.1 which is incompatible.\u001b[0m\n",
      "Successfully installed importlib-metadata-3.10.1 scikeras-0.6.1\n"
     ]
    }
   ],
   "source": [
    "!pip install scikeras"
   ]
  },
  {
   "cell_type": "code",
   "execution_count": 6,
   "metadata": {
    "executionInfo": {
     "elapsed": 202,
     "status": "ok",
     "timestamp": 1647918130626,
     "user": {
      "displayName": "Ulya Sabeel",
      "photoUrl": "https://lh3.googleusercontent.com/a-/AOh14Gh2kYDr8ZsJiXZIbRZRo9WSzV60-6-lbSyCqdg_=s64",
      "userId": "12600023100446105368"
     },
     "user_tz": 240
    },
    "id": "_0DDk0VbZznt"
   },
   "outputs": [],
   "source": [
    "import numpy\n",
    "from keras.models import Sequential\n",
    "from keras.layers import Dense\n",
    "from keras.layers import Dropout\n",
    "from scikeras.wrappers import KerasClassifier, KerasRegressor\n",
    "\n",
    "# Function to create model, required for KerasClassifier\n",
    "def create_model(optimizer='adam'):\n",
    "  # create model\n",
    "  model = Sequential()\n",
    "  model.add(Dense(30, activation=\"relu\", input_shape=[8]))\n",
    "  model.add(Dense(30, activation=\"relu\"))\n",
    "  model.add(Dropout(0.2))\n",
    "  model.add(Dense(1, activation='linear'))\n",
    "  # Compile model\n",
    "  \n",
    "  model.compile(loss='mse',optimizer='adam',metrics=['mse']) \n",
    "  return model"
   ]
  },
  {
   "cell_type": "code",
   "execution_count": 7,
   "metadata": {
    "executionInfo": {
     "elapsed": 341,
     "status": "ok",
     "timestamp": 1647918134488,
     "user": {
      "displayName": "Ulya Sabeel",
      "photoUrl": "https://lh3.googleusercontent.com/a-/AOh14Gh2kYDr8ZsJiXZIbRZRo9WSzV60-6-lbSyCqdg_=s64",
      "userId": "12600023100446105368"
     },
     "user_tz": 240
    },
    "id": "l0G8VvJqZ0W5"
   },
   "outputs": [],
   "source": [
    "# create model\n",
    "model = KerasRegressor(build_fn=create_model, epochs=50, batch_size=32, verbose=0)"
   ]
  },
  {
   "cell_type": "code",
   "execution_count": 11,
   "metadata": {
    "colab": {
     "base_uri": "https://localhost:8080/"
    },
    "executionInfo": {
     "elapsed": 470308,
     "status": "ok",
     "timestamp": 1647919215918,
     "user": {
      "displayName": "Ulya Sabeel",
      "photoUrl": "https://lh3.googleusercontent.com/a-/AOh14Gh2kYDr8ZsJiXZIbRZRo9WSzV60-6-lbSyCqdg_=s64",
      "userId": "12600023100446105368"
     },
     "user_tz": 240
    },
    "id": "QUk3-3QzMiBN",
    "outputId": "ce6f2e2c-d4bf-416c-8d9e-5604c90ed91d"
   },
   "outputs": [
    {
     "name": "stdout",
     "output_type": "stream",
     "text": [
      "Fitting 3 folds for each of 4 candidates, totalling 12 fits\n"
     ]
    },
    {
     "name": "stderr",
     "output_type": "stream",
     "text": [
      "/usr/local/lib/python3.7/dist-packages/scikeras/wrappers.py:290: UserWarning: ``build_fn`` will be renamed to ``model`` in a future release, at which point use of ``build_fn`` will raise an Error instead.\n",
      "  \"``build_fn`` will be renamed to ``model`` in a future release,\"\n"
     ]
    }
   ],
   "source": [
    "from numpy import random\n",
    "from scipy.stats import reciprocal\n",
    "from scipy.stats import randint\n",
    "from sklearn.model_selection import GridSearchCV #Grid Search HPO\n",
    "\n",
    "\n",
    "# define the grid search parameters\n",
    "#batch_size = [32,64,128]\n",
    "epochs = [50, 70]\n",
    "optimizer = ['adam','rmsprop']\n",
    "param_grid = dict(optimizer=optimizer,epochs=epochs)\n",
    "#param_grid = dict(optimizer=optimizer,batch_size=batch_size, epochs=epochs)\n",
    "\n",
    "grid = GridSearchCV(estimator=model, param_grid=param_grid, n_jobs=-1, cv=3, verbose=2)\n",
    "grid_result = grid.fit(X_train, y_train)\n"
   ]
  },
  {
   "cell_type": "code",
   "execution_count": 12,
   "metadata": {
    "colab": {
     "base_uri": "https://localhost:8080/"
    },
    "executionInfo": {
     "elapsed": 10,
     "status": "ok",
     "timestamp": 1647919215919,
     "user": {
      "displayName": "Ulya Sabeel",
      "photoUrl": "https://lh3.googleusercontent.com/a-/AOh14Gh2kYDr8ZsJiXZIbRZRo9WSzV60-6-lbSyCqdg_=s64",
      "userId": "12600023100446105368"
     },
     "user_tz": 240
    },
    "id": "VN2xlrkcZLo9",
    "outputId": "115eff38-05c5-460a-9943-314bf0979a31"
   },
   "outputs": [
    {
     "name": "stdout",
     "output_type": "stream",
     "text": [
      "Best: 0.779539 using {'epochs': 70, 'optimizer': 'adam'}\n",
      "0.776430 (0.005589) with: {'epochs': 50, 'optimizer': 'adam'}\n",
      "0.779215 (0.002688) with: {'epochs': 50, 'optimizer': 'rmsprop'}\n",
      "0.779539 (0.008717) with: {'epochs': 70, 'optimizer': 'adam'}\n",
      "0.777716 (0.006859) with: {'epochs': 70, 'optimizer': 'rmsprop'}\n"
     ]
    }
   ],
   "source": [
    "# summarize results\n",
    "print(\"Best: %f using %s\" % (grid_result.best_score_, grid_result.best_params_))\n",
    "means = grid_result.cv_results_['mean_test_score']\n",
    "stds = grid_result.cv_results_['std_test_score']\n",
    "params = grid_result.cv_results_['params']\n",
    "for mean, stdev, param in zip(means, stds, params):\n",
    "    print(\"%f (%f) with: %r\" % (mean, stdev, param))"
   ]
  },
  {
   "cell_type": "markdown",
   "metadata": {
    "id": "txSFGT-npxGR"
   },
   "source": [
    "#Exercise:\n",
    "\n",
    "Add the following parameters for Grid search CV. Run it again and observe the results.\n",
    "\n",
    "batch_size = [32,64,128]\n",
    "\n",
    "epochs = [50, 70, 90, 100]"
   ]
  }
 ],
 "metadata": {
  "accelerator": "GPU",
  "colab": {
   "collapsed_sections": [],
   "name": "HPO_for_DNN_regression_model.ipynb",
   "provenance": []
  },
  "hide_input": false,
  "kernelspec": {
   "display_name": "Python 3 (ipykernel)",
   "language": "python",
   "name": "python3"
  },
  "language_info": {
   "codemirror_mode": {
    "name": "ipython",
    "version": 3
   },
   "file_extension": ".py",
   "mimetype": "text/x-python",
   "name": "python",
   "nbconvert_exporter": "python",
   "pygments_lexer": "ipython3",
   "version": "3.8.12"
  },
  "nav_menu": {
   "height": "264px",
   "width": "369px"
  },
  "toc": {
   "navigate_menu": true,
   "number_sections": true,
   "sideBar": true,
   "threshold": 6,
   "toc_cell": false,
   "toc_section_display": "block",
   "toc_window_display": false
  }
 },
 "nbformat": 4,
 "nbformat_minor": 1
}
