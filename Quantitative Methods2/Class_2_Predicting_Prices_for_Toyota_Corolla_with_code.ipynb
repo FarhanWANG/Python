{
 "cells": [
  {
   "cell_type": "markdown",
   "metadata": {
    "id": "8eW7t3e4z5sk"
   },
   "source": [
    "Predicted Prices for Cars using multiple algorithms\n",
    "\n",
    "Objective: Predict the price for Toyota Corolla using:\n",
    "  1. Regression\n",
    "  2. Regression Trees\n",
    "  3. NNet"
   ]
  },
  {
   "cell_type": "markdown",
   "metadata": {
    "id": "fDDgMpY82B9O"
   },
   "source": [
    "Steps invovled in creating the above models:\n",
    "  1. Load the packages required\n",
    "  2. Load the data\n",
    "  3. review the data\n",
    "  4. make any necessary changes i.e. column headers etc\n",
    "  5. split the dataset into train and validation sets\n",
    "  6. train the model\n",
    "  7. test the model\n",
    "  8. evaluate performance of the model(s)\n"
   ]
  },
  {
   "cell_type": "code",
   "execution_count": 1,
   "metadata": {
    "colab": {
     "base_uri": "https://localhost:8080/"
    },
    "id": "D3Uajp7T24Wd",
    "outputId": "4777cbb1-3759-4985-c08f-37e026565947"
   },
   "outputs": [
    {
     "name": "stderr",
     "output_type": "stream",
     "text": [
      "C:\\ProgramData\\Anaconda3\\lib\\site-packages\\statsmodels\\compat\\pandas.py:61: FutureWarning: pandas.Int64Index is deprecated and will be removed from pandas in a future version. Use pandas.Index with the appropriate dtype instead.\n",
      "  from pandas import Int64Index as NumericIndex\n"
     ]
    }
   ],
   "source": [
    "### STEP 1 - Load the packages\n",
    "# !pip install dmba\n",
    "import pandas as pd\n",
    "import numpy as np\n",
    "from sklearn.model_selection import train_test_split\n",
    "from sklearn.linear_model import LinearRegression, Lasso, Ridge, LassoCV, BayesianRidge\n",
    "\n",
    "from sklearn.tree import DecisionTreeClassifier, DecisionTreeRegressor\n",
    "from sklearn.ensemble import RandomForestClassifier, GradientBoostingClassifier\n",
    "from sklearn.model_selection import train_test_split, cross_val_score, GridSearchCV\n",
    "import matplotlib.pylab as plt\n",
    "from dmba import plotDecisionTree, classificationSummary, regressionSummary\n",
    "\n",
    "from sklearn.model_selection import train_test_split\n",
    "from sklearn.preprocessing import MinMaxScaler\n",
    "from sklearn.neural_network import MLPClassifier, MLPRegressor\n",
    "\n",
    "import statsmodels.formula.api as sm\n",
    "import matplotlib.pylab as plt"
   ]
  },
  {
   "cell_type": "code",
   "execution_count": 2,
   "metadata": {
    "id": "BYNnabKCz1J7"
   },
   "outputs": [],
   "source": [
    "### Step 2 - Load the data\n",
    "car_df = pd.read_csv('ToyotaCorolla.csv')"
   ]
  },
  {
   "cell_type": "code",
   "execution_count": 3,
   "metadata": {
    "colab": {
     "base_uri": "https://localhost:8080/"
    },
    "id": "g8-UJiFv2uN2",
    "outputId": "f0496e3c-d6ef-484d-9540-f431fec2d515"
   },
   "outputs": [
    {
     "data": {
      "text/plain": [
       "Id                   0\n",
       "Model                0\n",
       "Price                0\n",
       "Age_08_04            0\n",
       "Mfg_Month            0\n",
       "Mfg_Year             0\n",
       "KM                   0\n",
       "Fuel_Type            0\n",
       "HP                   0\n",
       "Met_Color            0\n",
       "Color                0\n",
       "Automatic            0\n",
       "CC                   0\n",
       "Doors                0\n",
       "Cylinders            0\n",
       "Gears                0\n",
       "Quarterly_Tax        0\n",
       "Weight               0\n",
       "Mfr_Guarantee        0\n",
       "BOVAG_Guarantee      0\n",
       "Guarantee_Period     0\n",
       "ABS                  0\n",
       "Airbag_1             0\n",
       "Airbag_2             0\n",
       "Airco                0\n",
       "Automatic_airco      0\n",
       "Boardcomputer        0\n",
       "CD_Player            0\n",
       "Central_Lock         0\n",
       "Powered_Windows      0\n",
       "Power_Steering       0\n",
       "Radio                0\n",
       "Mistlamps            0\n",
       "Sport_Model          0\n",
       "Backseat_Divider     0\n",
       "Metallic_Rim         0\n",
       "Radio_cassette       0\n",
       "Parking_Assistant    0\n",
       "Tow_Bar              0\n",
       "dtype: int64"
      ]
     },
     "execution_count": 3,
     "metadata": {},
     "output_type": "execute_result"
    }
   ],
   "source": [
    "### STEP 3 - review the data\n",
    "\n",
    "car_df.head()\n",
    "car_df.tail()\n",
    "car_df.describe()\n",
    "car_df.isnull().sum()\n",
    "car_df.isna().sum()\n"
   ]
  },
  {
   "cell_type": "code",
   "execution_count": 5,
   "metadata": {
    "colab": {
     "base_uri": "https://localhost:8080/",
     "height": 1000
    },
    "id": "LI4xJJRO54fZ",
    "outputId": "e2744a35-7156-470d-dec5-201e02e66feb"
   },
   "outputs": [
    {
     "name": "stdout",
     "output_type": "stream",
     "text": [
      "Collecting skimpy\n",
      "  Downloading skimpy-0.0.5-py3-none-any.whl (15 kB)\n",
      "Collecting typeguard<3.0.0,>=2.12.1\n",
      "  Downloading typeguard-2.13.3-py3-none-any.whl (17 kB)\n",
      "Collecting click==7.1.2\n",
      "  Downloading click-7.1.2-py2.py3-none-any.whl (82 kB)\n",
      "Collecting rich<11.0.0,>=10.9.0\n",
      "  Downloading rich-10.16.2-py3-none-any.whl (214 kB)\n",
      "Requirement already satisfied: pandas<2.0.0,>=1.3.2 in c:\\programdata\\anaconda3\\lib\\site-packages (from skimpy) (1.4.1)\n",
      "Requirement already satisfied: Pygments<3.0.0,>=2.10.0 in c:\\programdata\\anaconda3\\lib\\site-packages (from skimpy) (2.11.2)\n",
      "Requirement already satisfied: python-dateutil>=2.8.1 in c:\\programdata\\anaconda3\\lib\\site-packages (from pandas<2.0.0,>=1.3.2->skimpy) (2.8.2)\n",
      "Requirement already satisfied: numpy>=1.18.5 in c:\\programdata\\anaconda3\\lib\\site-packages (from pandas<2.0.0,>=1.3.2->skimpy) (1.22.3)\n",
      "Requirement already satisfied: pytz>=2020.1 in c:\\programdata\\anaconda3\\lib\\site-packages (from pandas<2.0.0,>=1.3.2->skimpy) (2021.3)\n",
      "Requirement already satisfied: six>=1.5 in c:\\programdata\\anaconda3\\lib\\site-packages (from python-dateutil>=2.8.1->pandas<2.0.0,>=1.3.2->skimpy) (1.16.0)\n",
      "Collecting commonmark<0.10.0,>=0.9.0\n",
      "  Downloading commonmark-0.9.1-py2.py3-none-any.whl (51 kB)\n",
      "Requirement already satisfied: colorama<0.5.0,>=0.4.0 in c:\\programdata\\anaconda3\\lib\\site-packages (from rich<11.0.0,>=10.9.0->skimpy) (0.4.4)\n",
      "Installing collected packages: commonmark, typeguard, rich, click, skimpy\n",
      "  Attempting uninstall: click\n",
      "    Found existing installation: click 8.0.4\n",
      "    Uninstalling click-8.0.4:\n",
      "      Successfully uninstalled click-8.0.4\n",
      "Successfully installed click-7.1.2 commonmark-0.9.1 rich-10.16.2 skimpy-0.0.5 typeguard-2.13.3\n"
     ]
    },
    {
     "data": {
      "text/html": [
       "<pre style=\"white-space:pre;overflow-x:auto;line-height:normal;font-family:Menlo,'DejaVu Sans Mono',consolas,'Courier New',monospace\">╭───────────────────────────────────── skimpy summary ──────────────────────────────────────╮\n",
       "│ <span style=\"font-style: italic\">         Data Summary         </span> <span style=\"font-style: italic\">      Data Types       </span>                                    │\n",
       "│ ┏━━━━━━━━━━━━━━━━━━━┳━━━━━━━━┓ ┏━━━━━━━━━━━━━┳━━━━━━━┓                                    │\n",
       "│ ┃<span style=\"color: #008080; text-decoration-color: #008080; font-weight: bold\"> dataframe         </span>┃<span style=\"color: #008080; text-decoration-color: #008080; font-weight: bold\"> Values </span>┃ ┃<span style=\"color: #008080; text-decoration-color: #008080; font-weight: bold\"> Column Type </span>┃<span style=\"color: #008080; text-decoration-color: #008080; font-weight: bold\"> Count </span>┃                                    │\n",
       "│ ┡━━━━━━━━━━━━━━━━━━━╇━━━━━━━━┩ ┡━━━━━━━━━━━━━╇━━━━━━━┩                                    │\n",
       "│ │ Number of rows    │ 1436   │ │ int64       │ 36    │                                    │\n",
       "│ │ Number of columns │ 39     │ │ object      │ 3     │                                    │\n",
       "│ └───────────────────┴────────┘ └─────────────┴───────┘                                    │\n",
       "│ <span style=\"font-style: italic\">                                         number                                         </span>  │\n",
       "│ ┏━━━━━━━━━┳━━━━━━━━━┳━━━━━━━━┳━━━━━━━━┳━━━━━━━┳━━━━━━┳━━━━━━━┳━━━━━━━┳━━━━━━━━┳━━━━━━━━┓  │\n",
       "│ ┃<span style=\"font-weight: bold\">         </span>┃<span style=\"font-weight: bold\"> missing </span>┃<span style=\"font-weight: bold\"> comple </span>┃<span style=\"font-weight: bold\"> mean   </span>┃<span style=\"font-weight: bold\"> sd    </span>┃<span style=\"font-weight: bold\"> p0   </span>┃<span style=\"font-weight: bold\"> p25   </span>┃<span style=\"font-weight: bold\"> p75   </span>┃<span style=\"font-weight: bold\"> p100   </span>┃<span style=\"font-weight: bold\"> hist   </span>┃  │\n",
       "│ ┃         ┃         ┃<span style=\"font-weight: bold\"> te     </span>┃        ┃       ┃      ┃       ┃       ┃        ┃        ┃  │\n",
       "│ ┃         ┃         ┃<span style=\"font-weight: bold\"> rate   </span>┃        ┃       ┃      ┃       ┃       ┃        ┃        ┃  │\n",
       "│ ┡━━━━━━━━━╇━━━━━━━━━╇━━━━━━━━╇━━━━━━━━╇━━━━━━━╇━━━━━━╇━━━━━━━╇━━━━━━━╇━━━━━━━━╇━━━━━━━━┩  │\n",
       "│ │ <span style=\"color: #af87ff; text-decoration-color: #af87ff\">Id     </span> │ <span style=\"color: #008080; text-decoration-color: #008080\">      0</span> │ <span style=\"color: #008080; text-decoration-color: #008080\">     1</span> │ <span style=\"color: #008080; text-decoration-color: #008080\">   720</span> │ <span style=\"color: #008080; text-decoration-color: #008080\">  420</span> │ <span style=\"color: #008080; text-decoration-color: #008080\">   1</span> │ <span style=\"color: #008080; text-decoration-color: #008080\">  360</span> │ <span style=\"color: #008080; text-decoration-color: #008080\"> 1100</span> │ <span style=\"color: #008080; text-decoration-color: #008080\">  1400</span> │ <span style=\"color: #008000; text-decoration-color: #008000\">██████</span> │  │\n",
       "│ │ <span style=\"color: #af87ff; text-decoration-color: #af87ff\">Price  </span> │ <span style=\"color: #008080; text-decoration-color: #008080\">      0</span> │ <span style=\"color: #008080; text-decoration-color: #008080\">     1</span> │ <span style=\"color: #008080; text-decoration-color: #008080\"> 11000</span> │ <span style=\"color: #008080; text-decoration-color: #008080\"> 3600</span> │ <span style=\"color: #008080; text-decoration-color: #008080\">4400</span> │ <span style=\"color: #008080; text-decoration-color: #008080\"> 8400</span> │ <span style=\"color: #008080; text-decoration-color: #008080\">12000</span> │ <span style=\"color: #008080; text-decoration-color: #008080\"> 32000</span> │ <span style=\"color: #008000; text-decoration-color: #008000\"> ▇█▂▁ </span> │  │\n",
       "│ │ <span style=\"color: #af87ff; text-decoration-color: #af87ff\">Age_08_</span> │ <span style=\"color: #008080; text-decoration-color: #008080\">      0</span> │ <span style=\"color: #008080; text-decoration-color: #008080\">     1</span> │ <span style=\"color: #008080; text-decoration-color: #008080\">    56</span> │ <span style=\"color: #008080; text-decoration-color: #008080\">   19</span> │ <span style=\"color: #008080; text-decoration-color: #008080\">   1</span> │ <span style=\"color: #008080; text-decoration-color: #008080\">   44</span> │ <span style=\"color: #008080; text-decoration-color: #008080\">   70</span> │ <span style=\"color: #008080; text-decoration-color: #008080\">    80</span> │ <span style=\"color: #008000; text-decoration-color: #008000\">▁▂▂▄▇█</span> │  │\n",
       "│ │ <span style=\"color: #af87ff; text-decoration-color: #af87ff\">04     </span> │         │        │        │       │      │       │       │        │        │  │\n",
       "│ │ <span style=\"color: #af87ff; text-decoration-color: #af87ff\">Mfg_Mon</span> │ <span style=\"color: #008080; text-decoration-color: #008080\">      0</span> │ <span style=\"color: #008080; text-decoration-color: #008080\">     1</span> │ <span style=\"color: #008080; text-decoration-color: #008080\">   5.5</span> │ <span style=\"color: #008080; text-decoration-color: #008080\">  3.4</span> │ <span style=\"color: #008080; text-decoration-color: #008080\">   1</span> │ <span style=\"color: #008080; text-decoration-color: #008080\">    3</span> │ <span style=\"color: #008080; text-decoration-color: #008080\">    8</span> │ <span style=\"color: #008080; text-decoration-color: #008080\">    12</span> │ <span style=\"color: #008000; text-decoration-color: #008000\">█▇▆▆▄▃</span> │  │\n",
       "│ │ <span style=\"color: #af87ff; text-decoration-color: #af87ff\">th     </span> │         │        │        │       │      │       │       │        │        │  │\n",
       "│ │ <span style=\"color: #af87ff; text-decoration-color: #af87ff\">Mfg_Yea</span> │ <span style=\"color: #008080; text-decoration-color: #008080\">      0</span> │ <span style=\"color: #008080; text-decoration-color: #008080\">     1</span> │ <span style=\"color: #008080; text-decoration-color: #008080\">  2000</span> │ <span style=\"color: #008080; text-decoration-color: #008080\">  1.5</span> │ <span style=\"color: #008080; text-decoration-color: #008080\">2000</span> │ <span style=\"color: #008080; text-decoration-color: #008080\"> 2000</span> │ <span style=\"color: #008080; text-decoration-color: #008080\"> 2000</span> │ <span style=\"color: #008080; text-decoration-color: #008080\">  2000</span> │ <span style=\"color: #008000; text-decoration-color: #008000\">▇█▄▃▂▂</span> │  │\n",
       "│ │ <span style=\"color: #af87ff; text-decoration-color: #af87ff\">r      </span> │         │        │        │       │      │       │       │        │        │  │\n",
       "│ │ <span style=\"color: #af87ff; text-decoration-color: #af87ff\">KM     </span> │ <span style=\"color: #008080; text-decoration-color: #008080\">      0</span> │ <span style=\"color: #008080; text-decoration-color: #008080\">     1</span> │ <span style=\"color: #008080; text-decoration-color: #008080\"> 69000</span> │ <span style=\"color: #008080; text-decoration-color: #008080\">38000</span> │ <span style=\"color: #008080; text-decoration-color: #008080\">   1</span> │ <span style=\"color: #008080; text-decoration-color: #008080\">43000</span> │ <span style=\"color: #008080; text-decoration-color: #008080\">87000</span> │ <span style=\"color: #008080; text-decoration-color: #008080\">240000</span> │ <span style=\"color: #008000; text-decoration-color: #008000\"> ▄█▄▁ </span> │  │\n",
       "│ │ <span style=\"color: #af87ff; text-decoration-color: #af87ff\">HP     </span> │ <span style=\"color: #008080; text-decoration-color: #008080\">      0</span> │ <span style=\"color: #008080; text-decoration-color: #008080\">     1</span> │ <span style=\"color: #008080; text-decoration-color: #008080\">   100</span> │ <span style=\"color: #008080; text-decoration-color: #008080\">   15</span> │ <span style=\"color: #008080; text-decoration-color: #008080\">  69</span> │ <span style=\"color: #008080; text-decoration-color: #008080\">   90</span> │ <span style=\"color: #008080; text-decoration-color: #008080\">  110</span> │ <span style=\"color: #008080; text-decoration-color: #008080\">   190</span> │ <span style=\"color: #008000; text-decoration-color: #008000\"> ▃▂█  </span> │  │\n",
       "│ │ <span style=\"color: #af87ff; text-decoration-color: #af87ff\">Met_Col</span> │ <span style=\"color: #008080; text-decoration-color: #008080\">      0</span> │ <span style=\"color: #008080; text-decoration-color: #008080\">     1</span> │ <span style=\"color: #008080; text-decoration-color: #008080\">  0.67</span> │ <span style=\"color: #008080; text-decoration-color: #008080\"> 0.47</span> │ <span style=\"color: #008080; text-decoration-color: #008080\">   0</span> │ <span style=\"color: #008080; text-decoration-color: #008080\">    0</span> │ <span style=\"color: #008080; text-decoration-color: #008080\">    1</span> │ <span style=\"color: #008080; text-decoration-color: #008080\">     1</span> │ <span style=\"color: #008000; text-decoration-color: #008000\">▄    █</span> │  │\n",
       "│ │ <span style=\"color: #af87ff; text-decoration-color: #af87ff\">or     </span> │         │        │        │       │      │       │       │        │        │  │\n",
       "│ │ <span style=\"color: #af87ff; text-decoration-color: #af87ff\">Automat</span> │ <span style=\"color: #008080; text-decoration-color: #008080\">      0</span> │ <span style=\"color: #008080; text-decoration-color: #008080\">     1</span> │ <span style=\"color: #008080; text-decoration-color: #008080\"> 0.056</span> │ <span style=\"color: #008080; text-decoration-color: #008080\"> 0.23</span> │ <span style=\"color: #008080; text-decoration-color: #008080\">   0</span> │ <span style=\"color: #008080; text-decoration-color: #008080\">    0</span> │ <span style=\"color: #008080; text-decoration-color: #008080\">    0</span> │ <span style=\"color: #008080; text-decoration-color: #008080\">     1</span> │ <span style=\"color: #008000; text-decoration-color: #008000\">  █   </span> │  │\n",
       "│ │ <span style=\"color: #af87ff; text-decoration-color: #af87ff\">ic     </span> │         │        │        │       │      │       │       │        │        │  │\n",
       "│ │ <span style=\"color: #af87ff; text-decoration-color: #af87ff\">CC     </span> │ <span style=\"color: #008080; text-decoration-color: #008080\">      0</span> │ <span style=\"color: #008080; text-decoration-color: #008080\">     1</span> │ <span style=\"color: #008080; text-decoration-color: #008080\">  1600</span> │ <span style=\"color: #008080; text-decoration-color: #008080\">  420</span> │ <span style=\"color: #008080; text-decoration-color: #008080\">1300</span> │ <span style=\"color: #008080; text-decoration-color: #008080\"> 1400</span> │ <span style=\"color: #008080; text-decoration-color: #008080\"> 1600</span> │ <span style=\"color: #008080; text-decoration-color: #008080\"> 16000</span> │ <span style=\"color: #008000; text-decoration-color: #008000\">  █   </span> │  │\n",
       "│ │ <span style=\"color: #af87ff; text-decoration-color: #af87ff\">Doors  </span> │ <span style=\"color: #008080; text-decoration-color: #008080\">      0</span> │ <span style=\"color: #008080; text-decoration-color: #008080\">     1</span> │ <span style=\"color: #008080; text-decoration-color: #008080\">     4</span> │ <span style=\"color: #008080; text-decoration-color: #008080\"> 0.95</span> │ <span style=\"color: #008080; text-decoration-color: #008080\">   2</span> │ <span style=\"color: #008080; text-decoration-color: #008080\">    3</span> │ <span style=\"color: #008080; text-decoration-color: #008080\">    5</span> │ <span style=\"color: #008080; text-decoration-color: #008080\">     5</span> │ <span style=\"color: #008000; text-decoration-color: #008000\">  ▇ ▂█</span> │  │\n",
       "│ │ <span style=\"color: #af87ff; text-decoration-color: #af87ff\">Cylinde</span> │ <span style=\"color: #008080; text-decoration-color: #008080\">      0</span> │ <span style=\"color: #008080; text-decoration-color: #008080\">     1</span> │ <span style=\"color: #008080; text-decoration-color: #008080\">     4</span> │ <span style=\"color: #008080; text-decoration-color: #008080\">    0</span> │ <span style=\"color: #008080; text-decoration-color: #008080\">   4</span> │ <span style=\"color: #008080; text-decoration-color: #008080\">    4</span> │ <span style=\"color: #008080; text-decoration-color: #008080\">    4</span> │ <span style=\"color: #008080; text-decoration-color: #008080\">     4</span> │ <span style=\"color: #008000; text-decoration-color: #008000\">    █ </span> │  │\n",
       "│ │ <span style=\"color: #af87ff; text-decoration-color: #af87ff\">rs     </span> │         │        │        │       │      │       │       │        │        │  │\n",
       "│ │ <span style=\"color: #af87ff; text-decoration-color: #af87ff\">Gears  </span> │ <span style=\"color: #008080; text-decoration-color: #008080\">      0</span> │ <span style=\"color: #008080; text-decoration-color: #008080\">     1</span> │ <span style=\"color: #008080; text-decoration-color: #008080\">     5</span> │ <span style=\"color: #008080; text-decoration-color: #008080\"> 0.19</span> │ <span style=\"color: #008080; text-decoration-color: #008080\">   3</span> │ <span style=\"color: #008080; text-decoration-color: #008080\">    5</span> │ <span style=\"color: #008080; text-decoration-color: #008080\">    5</span> │ <span style=\"color: #008080; text-decoration-color: #008080\">     6</span> │ <span style=\"color: #008000; text-decoration-color: #008000\">    █ </span> │  │\n",
       "│ │ <span style=\"color: #af87ff; text-decoration-color: #af87ff\">Quarter</span> │ <span style=\"color: #008080; text-decoration-color: #008080\">      0</span> │ <span style=\"color: #008080; text-decoration-color: #008080\">     1</span> │ <span style=\"color: #008080; text-decoration-color: #008080\">    87</span> │ <span style=\"color: #008080; text-decoration-color: #008080\">   41</span> │ <span style=\"color: #008080; text-decoration-color: #008080\">  19</span> │ <span style=\"color: #008080; text-decoration-color: #008080\">   69</span> │ <span style=\"color: #008080; text-decoration-color: #008080\">   85</span> │ <span style=\"color: #008080; text-decoration-color: #008080\">   280</span> │ <span style=\"color: #008000; text-decoration-color: #008000\">  █ ▁ </span> │  │\n",
       "│ │ <span style=\"color: #af87ff; text-decoration-color: #af87ff\">ly_Tax </span> │         │        │        │       │      │       │       │        │        │  │\n",
       "│ │ <span style=\"color: #af87ff; text-decoration-color: #af87ff\">Weight </span> │ <span style=\"color: #008080; text-decoration-color: #008080\">      0</span> │ <span style=\"color: #008080; text-decoration-color: #008080\">     1</span> │ <span style=\"color: #008080; text-decoration-color: #008080\">  1100</span> │ <span style=\"color: #008080; text-decoration-color: #008080\">   53</span> │ <span style=\"color: #008080; text-decoration-color: #008080\">1000</span> │ <span style=\"color: #008080; text-decoration-color: #008080\"> 1000</span> │ <span style=\"color: #008080; text-decoration-color: #008080\"> 1100</span> │ <span style=\"color: #008080; text-decoration-color: #008080\">  1600</span> │ <span style=\"color: #008000; text-decoration-color: #008000\">  █▂  </span> │  │\n",
       "│ │ <span style=\"color: #af87ff; text-decoration-color: #af87ff\">Mfr_Gua</span> │ <span style=\"color: #008080; text-decoration-color: #008080\">      0</span> │ <span style=\"color: #008080; text-decoration-color: #008080\">     1</span> │ <span style=\"color: #008080; text-decoration-color: #008080\">  0.41</span> │ <span style=\"color: #008080; text-decoration-color: #008080\"> 0.49</span> │ <span style=\"color: #008080; text-decoration-color: #008080\">   0</span> │ <span style=\"color: #008080; text-decoration-color: #008080\">    0</span> │ <span style=\"color: #008080; text-decoration-color: #008080\">    1</span> │ <span style=\"color: #008080; text-decoration-color: #008080\">     1</span> │ <span style=\"color: #008000; text-decoration-color: #008000\">█    ▆</span> │  │\n",
       "│ │ <span style=\"color: #af87ff; text-decoration-color: #af87ff\">rantee </span> │         │        │        │       │      │       │       │        │        │  │\n",
       "│ │ <span style=\"color: #af87ff; text-decoration-color: #af87ff\">BOVAG_G</span> │ <span style=\"color: #008080; text-decoration-color: #008080\">      0</span> │ <span style=\"color: #008080; text-decoration-color: #008080\">     1</span> │ <span style=\"color: #008080; text-decoration-color: #008080\">   0.9</span> │ <span style=\"color: #008080; text-decoration-color: #008080\"> 0.31</span> │ <span style=\"color: #008080; text-decoration-color: #008080\">   0</span> │ <span style=\"color: #008080; text-decoration-color: #008080\">    1</span> │ <span style=\"color: #008080; text-decoration-color: #008080\">    1</span> │ <span style=\"color: #008080; text-decoration-color: #008080\">     1</span> │ <span style=\"color: #008000; text-decoration-color: #008000\">▁    █</span> │  │\n",
       "│ │ <span style=\"color: #af87ff; text-decoration-color: #af87ff\">uarante</span> │         │        │        │       │      │       │       │        │        │  │\n",
       "│ │ <span style=\"color: #af87ff; text-decoration-color: #af87ff\">e      </span> │         │        │        │       │      │       │       │        │        │  │\n",
       "│ │ <span style=\"color: #af87ff; text-decoration-color: #af87ff\">Guarant</span> │ <span style=\"color: #008080; text-decoration-color: #008080\">      0</span> │ <span style=\"color: #008080; text-decoration-color: #008080\">     1</span> │ <span style=\"color: #008080; text-decoration-color: #008080\">   3.8</span> │ <span style=\"color: #008080; text-decoration-color: #008080\">    3</span> │ <span style=\"color: #008080; text-decoration-color: #008080\">   3</span> │ <span style=\"color: #008080; text-decoration-color: #008080\">    3</span> │ <span style=\"color: #008080; text-decoration-color: #008080\">    3</span> │ <span style=\"color: #008080; text-decoration-color: #008080\">    36</span> │ <span style=\"color: #008000; text-decoration-color: #008000\">  █   </span> │  │\n",
       "│ │ <span style=\"color: #af87ff; text-decoration-color: #af87ff\">ee_Peri</span> │         │        │        │       │      │       │       │        │        │  │\n",
       "│ │ <span style=\"color: #af87ff; text-decoration-color: #af87ff\">od     </span> │         │        │        │       │      │       │       │        │        │  │\n",
       "│ │ <span style=\"color: #af87ff; text-decoration-color: #af87ff\">ABS    </span> │ <span style=\"color: #008080; text-decoration-color: #008080\">      0</span> │ <span style=\"color: #008080; text-decoration-color: #008080\">     1</span> │ <span style=\"color: #008080; text-decoration-color: #008080\">  0.81</span> │ <span style=\"color: #008080; text-decoration-color: #008080\"> 0.39</span> │ <span style=\"color: #008080; text-decoration-color: #008080\">   0</span> │ <span style=\"color: #008080; text-decoration-color: #008080\">    1</span> │ <span style=\"color: #008080; text-decoration-color: #008080\">    1</span> │ <span style=\"color: #008080; text-decoration-color: #008080\">     1</span> │ <span style=\"color: #008000; text-decoration-color: #008000\">▂    █</span> │  │\n",
       "│ │ <span style=\"color: #af87ff; text-decoration-color: #af87ff\">Airbag_</span> │ <span style=\"color: #008080; text-decoration-color: #008080\">      0</span> │ <span style=\"color: #008080; text-decoration-color: #008080\">     1</span> │ <span style=\"color: #008080; text-decoration-color: #008080\">  0.97</span> │ <span style=\"color: #008080; text-decoration-color: #008080\"> 0.17</span> │ <span style=\"color: #008080; text-decoration-color: #008080\">   0</span> │ <span style=\"color: #008080; text-decoration-color: #008080\">    1</span> │ <span style=\"color: #008080; text-decoration-color: #008080\">    1</span> │ <span style=\"color: #008080; text-decoration-color: #008080\">     1</span> │ <span style=\"color: #008000; text-decoration-color: #008000\">     █</span> │  │\n",
       "│ │ <span style=\"color: #af87ff; text-decoration-color: #af87ff\">1      </span> │         │        │        │       │      │       │       │        │        │  │\n",
       "│ │ <span style=\"color: #af87ff; text-decoration-color: #af87ff\">Airbag_</span> │ <span style=\"color: #008080; text-decoration-color: #008080\">      0</span> │ <span style=\"color: #008080; text-decoration-color: #008080\">     1</span> │ <span style=\"color: #008080; text-decoration-color: #008080\">  0.72</span> │ <span style=\"color: #008080; text-decoration-color: #008080\"> 0.45</span> │ <span style=\"color: #008080; text-decoration-color: #008080\">   0</span> │ <span style=\"color: #008080; text-decoration-color: #008080\">    0</span> │ <span style=\"color: #008080; text-decoration-color: #008080\">    1</span> │ <span style=\"color: #008080; text-decoration-color: #008080\">     1</span> │ <span style=\"color: #008000; text-decoration-color: #008000\">▃    █</span> │  │\n",
       "│ │ <span style=\"color: #af87ff; text-decoration-color: #af87ff\">2      </span> │         │        │        │       │      │       │       │        │        │  │\n",
       "│ │ <span style=\"color: #af87ff; text-decoration-color: #af87ff\">Airco  </span> │ <span style=\"color: #008080; text-decoration-color: #008080\">      0</span> │ <span style=\"color: #008080; text-decoration-color: #008080\">     1</span> │ <span style=\"color: #008080; text-decoration-color: #008080\">  0.51</span> │ <span style=\"color: #008080; text-decoration-color: #008080\">  0.5</span> │ <span style=\"color: #008080; text-decoration-color: #008080\">   0</span> │ <span style=\"color: #008080; text-decoration-color: #008080\">    0</span> │ <span style=\"color: #008080; text-decoration-color: #008080\">    1</span> │ <span style=\"color: #008080; text-decoration-color: #008080\">     1</span> │ <span style=\"color: #008000; text-decoration-color: #008000\">█    █</span> │  │\n",
       "│ │ <span style=\"color: #af87ff; text-decoration-color: #af87ff\">Automat</span> │ <span style=\"color: #008080; text-decoration-color: #008080\">      0</span> │ <span style=\"color: #008080; text-decoration-color: #008080\">     1</span> │ <span style=\"color: #008080; text-decoration-color: #008080\"> 0.056</span> │ <span style=\"color: #008080; text-decoration-color: #008080\"> 0.23</span> │ <span style=\"color: #008080; text-decoration-color: #008080\">   0</span> │ <span style=\"color: #008080; text-decoration-color: #008080\">    0</span> │ <span style=\"color: #008080; text-decoration-color: #008080\">    0</span> │ <span style=\"color: #008080; text-decoration-color: #008080\">     1</span> │ <span style=\"color: #008000; text-decoration-color: #008000\">  █   </span> │  │\n",
       "│ │ <span style=\"color: #af87ff; text-decoration-color: #af87ff\">ic_airc</span> │         │        │        │       │      │       │       │        │        │  │\n",
       "│ │ <span style=\"color: #af87ff; text-decoration-color: #af87ff\">o      </span> │         │        │        │       │      │       │       │        │        │  │\n",
       "│ │ <span style=\"color: #af87ff; text-decoration-color: #af87ff\">Boardco</span> │ <span style=\"color: #008080; text-decoration-color: #008080\">      0</span> │ <span style=\"color: #008080; text-decoration-color: #008080\">     1</span> │ <span style=\"color: #008080; text-decoration-color: #008080\">  0.29</span> │ <span style=\"color: #008080; text-decoration-color: #008080\"> 0.46</span> │ <span style=\"color: #008080; text-decoration-color: #008080\">   0</span> │ <span style=\"color: #008080; text-decoration-color: #008080\">    0</span> │ <span style=\"color: #008080; text-decoration-color: #008080\">    1</span> │ <span style=\"color: #008080; text-decoration-color: #008080\">     1</span> │ <span style=\"color: #008000; text-decoration-color: #008000\">█    ▃</span> │  │\n",
       "│ │ <span style=\"color: #af87ff; text-decoration-color: #af87ff\">mputer </span> │         │        │        │       │      │       │       │        │        │  │\n",
       "│ │ <span style=\"color: #af87ff; text-decoration-color: #af87ff\">CD_Play</span> │ <span style=\"color: #008080; text-decoration-color: #008080\">      0</span> │ <span style=\"color: #008080; text-decoration-color: #008080\">     1</span> │ <span style=\"color: #008080; text-decoration-color: #008080\">  0.22</span> │ <span style=\"color: #008080; text-decoration-color: #008080\"> 0.41</span> │ <span style=\"color: #008080; text-decoration-color: #008080\">   0</span> │ <span style=\"color: #008080; text-decoration-color: #008080\">    0</span> │ <span style=\"color: #008080; text-decoration-color: #008080\">    0</span> │ <span style=\"color: #008080; text-decoration-color: #008080\">     1</span> │ <span style=\"color: #008000; text-decoration-color: #008000\">█    ▂</span> │  │\n",
       "│ │ <span style=\"color: #af87ff; text-decoration-color: #af87ff\">er     </span> │         │        │        │       │      │       │       │        │        │  │\n",
       "│ │ <span style=\"color: #af87ff; text-decoration-color: #af87ff\">Central</span> │ <span style=\"color: #008080; text-decoration-color: #008080\">      0</span> │ <span style=\"color: #008080; text-decoration-color: #008080\">     1</span> │ <span style=\"color: #008080; text-decoration-color: #008080\">  0.58</span> │ <span style=\"color: #008080; text-decoration-color: #008080\"> 0.49</span> │ <span style=\"color: #008080; text-decoration-color: #008080\">   0</span> │ <span style=\"color: #008080; text-decoration-color: #008080\">    0</span> │ <span style=\"color: #008080; text-decoration-color: #008080\">    1</span> │ <span style=\"color: #008080; text-decoration-color: #008080\">     1</span> │ <span style=\"color: #008000; text-decoration-color: #008000\">▆    █</span> │  │\n",
       "│ │ <span style=\"color: #af87ff; text-decoration-color: #af87ff\">_Lock  </span> │         │        │        │       │      │       │       │        │        │  │\n",
       "│ │ <span style=\"color: #af87ff; text-decoration-color: #af87ff\">Powered</span> │ <span style=\"color: #008080; text-decoration-color: #008080\">      0</span> │ <span style=\"color: #008080; text-decoration-color: #008080\">     1</span> │ <span style=\"color: #008080; text-decoration-color: #008080\">  0.56</span> │ <span style=\"color: #008080; text-decoration-color: #008080\">  0.5</span> │ <span style=\"color: #008080; text-decoration-color: #008080\">   0</span> │ <span style=\"color: #008080; text-decoration-color: #008080\">    0</span> │ <span style=\"color: #008080; text-decoration-color: #008080\">    1</span> │ <span style=\"color: #008080; text-decoration-color: #008080\">     1</span> │ <span style=\"color: #008000; text-decoration-color: #008000\">▆    █</span> │  │\n",
       "│ │ <span style=\"color: #af87ff; text-decoration-color: #af87ff\">_Window</span> │         │        │        │       │      │       │       │        │        │  │\n",
       "│ │ <span style=\"color: #af87ff; text-decoration-color: #af87ff\">s      </span> │         │        │        │       │      │       │       │        │        │  │\n",
       "│ │ <span style=\"color: #af87ff; text-decoration-color: #af87ff\">Power_S</span> │ <span style=\"color: #008080; text-decoration-color: #008080\">      0</span> │ <span style=\"color: #008080; text-decoration-color: #008080\">     1</span> │ <span style=\"color: #008080; text-decoration-color: #008080\">  0.98</span> │ <span style=\"color: #008080; text-decoration-color: #008080\"> 0.15</span> │ <span style=\"color: #008080; text-decoration-color: #008080\">   0</span> │ <span style=\"color: #008080; text-decoration-color: #008080\">    1</span> │ <span style=\"color: #008080; text-decoration-color: #008080\">    1</span> │ <span style=\"color: #008080; text-decoration-color: #008080\">     1</span> │ <span style=\"color: #008000; text-decoration-color: #008000\">     █</span> │  │\n",
       "│ │ <span style=\"color: #af87ff; text-decoration-color: #af87ff\">teering</span> │         │        │        │       │      │       │       │        │        │  │\n",
       "│ │ <span style=\"color: #af87ff; text-decoration-color: #af87ff\">Radio  </span> │ <span style=\"color: #008080; text-decoration-color: #008080\">      0</span> │ <span style=\"color: #008080; text-decoration-color: #008080\">     1</span> │ <span style=\"color: #008080; text-decoration-color: #008080\">  0.15</span> │ <span style=\"color: #008080; text-decoration-color: #008080\"> 0.35</span> │ <span style=\"color: #008080; text-decoration-color: #008080\">   0</span> │ <span style=\"color: #008080; text-decoration-color: #008080\">    0</span> │ <span style=\"color: #008080; text-decoration-color: #008080\">    0</span> │ <span style=\"color: #008080; text-decoration-color: #008080\">     1</span> │ <span style=\"color: #008000; text-decoration-color: #008000\">█    ▁</span> │  │\n",
       "│ │ <span style=\"color: #af87ff; text-decoration-color: #af87ff\">Mistlam</span> │ <span style=\"color: #008080; text-decoration-color: #008080\">      0</span> │ <span style=\"color: #008080; text-decoration-color: #008080\">     1</span> │ <span style=\"color: #008080; text-decoration-color: #008080\">  0.26</span> │ <span style=\"color: #008080; text-decoration-color: #008080\"> 0.44</span> │ <span style=\"color: #008080; text-decoration-color: #008080\">   0</span> │ <span style=\"color: #008080; text-decoration-color: #008080\">    0</span> │ <span style=\"color: #008080; text-decoration-color: #008080\">    1</span> │ <span style=\"color: #008080; text-decoration-color: #008080\">     1</span> │ <span style=\"color: #008000; text-decoration-color: #008000\">█    ▃</span> │  │\n",
       "│ │ <span style=\"color: #af87ff; text-decoration-color: #af87ff\">ps     </span> │         │        │        │       │      │       │       │        │        │  │\n",
       "│ │ <span style=\"color: #af87ff; text-decoration-color: #af87ff\">Sport_M</span> │ <span style=\"color: #008080; text-decoration-color: #008080\">      0</span> │ <span style=\"color: #008080; text-decoration-color: #008080\">     1</span> │ <span style=\"color: #008080; text-decoration-color: #008080\">   0.3</span> │ <span style=\"color: #008080; text-decoration-color: #008080\"> 0.46</span> │ <span style=\"color: #008080; text-decoration-color: #008080\">   0</span> │ <span style=\"color: #008080; text-decoration-color: #008080\">    0</span> │ <span style=\"color: #008080; text-decoration-color: #008080\">    1</span> │ <span style=\"color: #008080; text-decoration-color: #008080\">     1</span> │ <span style=\"color: #008000; text-decoration-color: #008000\">█    ▃</span> │  │\n",
       "│ │ <span style=\"color: #af87ff; text-decoration-color: #af87ff\">odel   </span> │         │        │        │       │      │       │       │        │        │  │\n",
       "│ │ <span style=\"color: #af87ff; text-decoration-color: #af87ff\">Backsea</span> │ <span style=\"color: #008080; text-decoration-color: #008080\">      0</span> │ <span style=\"color: #008080; text-decoration-color: #008080\">     1</span> │ <span style=\"color: #008080; text-decoration-color: #008080\">  0.77</span> │ <span style=\"color: #008080; text-decoration-color: #008080\"> 0.42</span> │ <span style=\"color: #008080; text-decoration-color: #008080\">   0</span> │ <span style=\"color: #008080; text-decoration-color: #008080\">    1</span> │ <span style=\"color: #008080; text-decoration-color: #008080\">    1</span> │ <span style=\"color: #008080; text-decoration-color: #008080\">     1</span> │ <span style=\"color: #008000; text-decoration-color: #008000\">▂    █</span> │  │\n",
       "│ │ <span style=\"color: #af87ff; text-decoration-color: #af87ff\">t_Divid</span> │         │        │        │       │      │       │       │        │        │  │\n",
       "│ │ <span style=\"color: #af87ff; text-decoration-color: #af87ff\">er     </span> │         │        │        │       │      │       │       │        │        │  │\n",
       "│ │ <span style=\"color: #af87ff; text-decoration-color: #af87ff\">Metalli</span> │ <span style=\"color: #008080; text-decoration-color: #008080\">      0</span> │ <span style=\"color: #008080; text-decoration-color: #008080\">     1</span> │ <span style=\"color: #008080; text-decoration-color: #008080\">   0.2</span> │ <span style=\"color: #008080; text-decoration-color: #008080\">  0.4</span> │ <span style=\"color: #008080; text-decoration-color: #008080\">   0</span> │ <span style=\"color: #008080; text-decoration-color: #008080\">    0</span> │ <span style=\"color: #008080; text-decoration-color: #008080\">    0</span> │ <span style=\"color: #008080; text-decoration-color: #008080\">     1</span> │ <span style=\"color: #008000; text-decoration-color: #008000\">█    ▂</span> │  │\n",
       "│ │ <span style=\"color: #af87ff; text-decoration-color: #af87ff\">c_Rim  </span> │         │        │        │       │      │       │       │        │        │  │\n",
       "│ │ <span style=\"color: #af87ff; text-decoration-color: #af87ff\">Radio_c</span> │ <span style=\"color: #008080; text-decoration-color: #008080\">      0</span> │ <span style=\"color: #008080; text-decoration-color: #008080\">     1</span> │ <span style=\"color: #008080; text-decoration-color: #008080\">  0.15</span> │ <span style=\"color: #008080; text-decoration-color: #008080\"> 0.35</span> │ <span style=\"color: #008080; text-decoration-color: #008080\">   0</span> │ <span style=\"color: #008080; text-decoration-color: #008080\">    0</span> │ <span style=\"color: #008080; text-decoration-color: #008080\">    0</span> │ <span style=\"color: #008080; text-decoration-color: #008080\">     1</span> │ <span style=\"color: #008000; text-decoration-color: #008000\">█    ▁</span> │  │\n",
       "│ │ <span style=\"color: #af87ff; text-decoration-color: #af87ff\">assette</span> │         │        │        │       │      │       │       │        │        │  │\n",
       "│ │ <span style=\"color: #af87ff; text-decoration-color: #af87ff\">Parking</span> │ <span style=\"color: #008080; text-decoration-color: #008080\">      0</span> │ <span style=\"color: #008080; text-decoration-color: #008080\">     1</span> │ <span style=\"color: #008080; text-decoration-color: #008080\">0.0028</span> │ <span style=\"color: #008080; text-decoration-color: #008080\">0.053</span> │ <span style=\"color: #008080; text-decoration-color: #008080\">   0</span> │ <span style=\"color: #008080; text-decoration-color: #008080\">    0</span> │ <span style=\"color: #008080; text-decoration-color: #008080\">    0</span> │ <span style=\"color: #008080; text-decoration-color: #008080\">     1</span> │ <span style=\"color: #008000; text-decoration-color: #008000\">  █   </span> │  │\n",
       "│ │ <span style=\"color: #af87ff; text-decoration-color: #af87ff\">_Assist</span> │         │        │        │       │      │       │       │        │        │  │\n",
       "│ │ <span style=\"color: #af87ff; text-decoration-color: #af87ff\">ant    </span> │         │        │        │       │      │       │       │        │        │  │\n",
       "│ │ <span style=\"color: #af87ff; text-decoration-color: #af87ff\">Tow_Bar</span> │ <span style=\"color: #008080; text-decoration-color: #008080\">      0</span> │ <span style=\"color: #008080; text-decoration-color: #008080\">     1</span> │ <span style=\"color: #008080; text-decoration-color: #008080\">  0.28</span> │ <span style=\"color: #008080; text-decoration-color: #008080\"> 0.45</span> │ <span style=\"color: #008080; text-decoration-color: #008080\">   0</span> │ <span style=\"color: #008080; text-decoration-color: #008080\">    0</span> │ <span style=\"color: #008080; text-decoration-color: #008080\">    1</span> │ <span style=\"color: #008080; text-decoration-color: #008080\">     1</span> │ <span style=\"color: #008000; text-decoration-color: #008000\">█    ▃</span> │  │\n",
       "│ └─────────┴─────────┴────────┴────────┴───────┴──────┴───────┴───────┴────────┴────────┘  │\n",
       "╰─────────────────────────────────────────── End ───────────────────────────────────────────╯\n",
       "</pre>\n"
      ],
      "text/plain": [
       "╭───────────────────────────────────── skimpy summary ──────────────────────────────────────╮\n",
       "│ \u001b[3m         Data Summary         \u001b[0m \u001b[3m      Data Types       \u001b[0m                                    │\n",
       "│ ┏━━━━━━━━━━━━━━━━━━━┳━━━━━━━━┓ ┏━━━━━━━━━━━━━┳━━━━━━━┓                                    │\n",
       "│ ┃\u001b[1;36m \u001b[0m\u001b[1;36mdataframe        \u001b[0m\u001b[1;36m \u001b[0m┃\u001b[1;36m \u001b[0m\u001b[1;36mValues\u001b[0m\u001b[1;36m \u001b[0m┃ ┃\u001b[1;36m \u001b[0m\u001b[1;36mColumn Type\u001b[0m\u001b[1;36m \u001b[0m┃\u001b[1;36m \u001b[0m\u001b[1;36mCount\u001b[0m\u001b[1;36m \u001b[0m┃                                    │\n",
       "│ ┡━━━━━━━━━━━━━━━━━━━╇━━━━━━━━┩ ┡━━━━━━━━━━━━━╇━━━━━━━┩                                    │\n",
       "│ │ Number of rows    │ 1436   │ │ int64       │ 36    │                                    │\n",
       "│ │ Number of columns │ 39     │ │ object      │ 3     │                                    │\n",
       "│ └───────────────────┴────────┘ └─────────────┴───────┘                                    │\n",
       "│ \u001b[3m                                         number                                         \u001b[0m  │\n",
       "│ ┏━━━━━━━━━┳━━━━━━━━━┳━━━━━━━━┳━━━━━━━━┳━━━━━━━┳━━━━━━┳━━━━━━━┳━━━━━━━┳━━━━━━━━┳━━━━━━━━┓  │\n",
       "│ ┃\u001b[1m \u001b[0m\u001b[1m       \u001b[0m\u001b[1m \u001b[0m┃\u001b[1m \u001b[0m\u001b[1mmissing\u001b[0m\u001b[1m \u001b[0m┃\u001b[1m \u001b[0m\u001b[1mcomple\u001b[0m\u001b[1m \u001b[0m┃\u001b[1m \u001b[0m\u001b[1mmean  \u001b[0m\u001b[1m \u001b[0m┃\u001b[1m \u001b[0m\u001b[1msd   \u001b[0m\u001b[1m \u001b[0m┃\u001b[1m \u001b[0m\u001b[1mp0  \u001b[0m\u001b[1m \u001b[0m┃\u001b[1m \u001b[0m\u001b[1mp25  \u001b[0m\u001b[1m \u001b[0m┃\u001b[1m \u001b[0m\u001b[1mp75  \u001b[0m\u001b[1m \u001b[0m┃\u001b[1m \u001b[0m\u001b[1mp100  \u001b[0m\u001b[1m \u001b[0m┃\u001b[1m \u001b[0m\u001b[1mhist  \u001b[0m\u001b[1m \u001b[0m┃  │\n",
       "│ ┃         ┃         ┃\u001b[1m \u001b[0m\u001b[1mte    \u001b[0m\u001b[1m \u001b[0m┃        ┃       ┃      ┃       ┃       ┃        ┃        ┃  │\n",
       "│ ┃         ┃         ┃\u001b[1m \u001b[0m\u001b[1mrate  \u001b[0m\u001b[1m \u001b[0m┃        ┃       ┃      ┃       ┃       ┃        ┃        ┃  │\n",
       "│ ┡━━━━━━━━━╇━━━━━━━━━╇━━━━━━━━╇━━━━━━━━╇━━━━━━━╇━━━━━━╇━━━━━━━╇━━━━━━━╇━━━━━━━━╇━━━━━━━━┩  │\n",
       "│ │ \u001b[38;5;141mId     \u001b[0m │ \u001b[36m      0\u001b[0m │ \u001b[36m     1\u001b[0m │ \u001b[36m   720\u001b[0m │ \u001b[36m  420\u001b[0m │ \u001b[36m   1\u001b[0m │ \u001b[36m  360\u001b[0m │ \u001b[36m 1100\u001b[0m │ \u001b[36m  1400\u001b[0m │ \u001b[32m██████\u001b[0m │  │\n",
       "│ │ \u001b[38;5;141mPrice  \u001b[0m │ \u001b[36m      0\u001b[0m │ \u001b[36m     1\u001b[0m │ \u001b[36m 11000\u001b[0m │ \u001b[36m 3600\u001b[0m │ \u001b[36m4400\u001b[0m │ \u001b[36m 8400\u001b[0m │ \u001b[36m12000\u001b[0m │ \u001b[36m 32000\u001b[0m │ \u001b[32m ▇█▂▁ \u001b[0m │  │\n",
       "│ │ \u001b[38;5;141mAge_08_\u001b[0m │ \u001b[36m      0\u001b[0m │ \u001b[36m     1\u001b[0m │ \u001b[36m    56\u001b[0m │ \u001b[36m   19\u001b[0m │ \u001b[36m   1\u001b[0m │ \u001b[36m   44\u001b[0m │ \u001b[36m   70\u001b[0m │ \u001b[36m    80\u001b[0m │ \u001b[32m▁▂▂▄▇█\u001b[0m │  │\n",
       "│ │ \u001b[38;5;141m04     \u001b[0m │         │        │        │       │      │       │       │        │        │  │\n",
       "│ │ \u001b[38;5;141mMfg_Mon\u001b[0m │ \u001b[36m      0\u001b[0m │ \u001b[36m     1\u001b[0m │ \u001b[36m   5.5\u001b[0m │ \u001b[36m  3.4\u001b[0m │ \u001b[36m   1\u001b[0m │ \u001b[36m    3\u001b[0m │ \u001b[36m    8\u001b[0m │ \u001b[36m    12\u001b[0m │ \u001b[32m█▇▆▆▄▃\u001b[0m │  │\n",
       "│ │ \u001b[38;5;141mth     \u001b[0m │         │        │        │       │      │       │       │        │        │  │\n",
       "│ │ \u001b[38;5;141mMfg_Yea\u001b[0m │ \u001b[36m      0\u001b[0m │ \u001b[36m     1\u001b[0m │ \u001b[36m  2000\u001b[0m │ \u001b[36m  1.5\u001b[0m │ \u001b[36m2000\u001b[0m │ \u001b[36m 2000\u001b[0m │ \u001b[36m 2000\u001b[0m │ \u001b[36m  2000\u001b[0m │ \u001b[32m▇█▄▃▂▂\u001b[0m │  │\n",
       "│ │ \u001b[38;5;141mr      \u001b[0m │         │        │        │       │      │       │       │        │        │  │\n",
       "│ │ \u001b[38;5;141mKM     \u001b[0m │ \u001b[36m      0\u001b[0m │ \u001b[36m     1\u001b[0m │ \u001b[36m 69000\u001b[0m │ \u001b[36m38000\u001b[0m │ \u001b[36m   1\u001b[0m │ \u001b[36m43000\u001b[0m │ \u001b[36m87000\u001b[0m │ \u001b[36m240000\u001b[0m │ \u001b[32m ▄█▄▁ \u001b[0m │  │\n",
       "│ │ \u001b[38;5;141mHP     \u001b[0m │ \u001b[36m      0\u001b[0m │ \u001b[36m     1\u001b[0m │ \u001b[36m   100\u001b[0m │ \u001b[36m   15\u001b[0m │ \u001b[36m  69\u001b[0m │ \u001b[36m   90\u001b[0m │ \u001b[36m  110\u001b[0m │ \u001b[36m   190\u001b[0m │ \u001b[32m ▃▂█  \u001b[0m │  │\n",
       "│ │ \u001b[38;5;141mMet_Col\u001b[0m │ \u001b[36m      0\u001b[0m │ \u001b[36m     1\u001b[0m │ \u001b[36m  0.67\u001b[0m │ \u001b[36m 0.47\u001b[0m │ \u001b[36m   0\u001b[0m │ \u001b[36m    0\u001b[0m │ \u001b[36m    1\u001b[0m │ \u001b[36m     1\u001b[0m │ \u001b[32m▄    █\u001b[0m │  │\n",
       "│ │ \u001b[38;5;141mor     \u001b[0m │         │        │        │       │      │       │       │        │        │  │\n",
       "│ │ \u001b[38;5;141mAutomat\u001b[0m │ \u001b[36m      0\u001b[0m │ \u001b[36m     1\u001b[0m │ \u001b[36m 0.056\u001b[0m │ \u001b[36m 0.23\u001b[0m │ \u001b[36m   0\u001b[0m │ \u001b[36m    0\u001b[0m │ \u001b[36m    0\u001b[0m │ \u001b[36m     1\u001b[0m │ \u001b[32m  █   \u001b[0m │  │\n",
       "│ │ \u001b[38;5;141mic     \u001b[0m │         │        │        │       │      │       │       │        │        │  │\n",
       "│ │ \u001b[38;5;141mCC     \u001b[0m │ \u001b[36m      0\u001b[0m │ \u001b[36m     1\u001b[0m │ \u001b[36m  1600\u001b[0m │ \u001b[36m  420\u001b[0m │ \u001b[36m1300\u001b[0m │ \u001b[36m 1400\u001b[0m │ \u001b[36m 1600\u001b[0m │ \u001b[36m 16000\u001b[0m │ \u001b[32m  █   \u001b[0m │  │\n",
       "│ │ \u001b[38;5;141mDoors  \u001b[0m │ \u001b[36m      0\u001b[0m │ \u001b[36m     1\u001b[0m │ \u001b[36m     4\u001b[0m │ \u001b[36m 0.95\u001b[0m │ \u001b[36m   2\u001b[0m │ \u001b[36m    3\u001b[0m │ \u001b[36m    5\u001b[0m │ \u001b[36m     5\u001b[0m │ \u001b[32m  ▇ ▂█\u001b[0m │  │\n",
       "│ │ \u001b[38;5;141mCylinde\u001b[0m │ \u001b[36m      0\u001b[0m │ \u001b[36m     1\u001b[0m │ \u001b[36m     4\u001b[0m │ \u001b[36m    0\u001b[0m │ \u001b[36m   4\u001b[0m │ \u001b[36m    4\u001b[0m │ \u001b[36m    4\u001b[0m │ \u001b[36m     4\u001b[0m │ \u001b[32m    █ \u001b[0m │  │\n",
       "│ │ \u001b[38;5;141mrs     \u001b[0m │         │        │        │       │      │       │       │        │        │  │\n",
       "│ │ \u001b[38;5;141mGears  \u001b[0m │ \u001b[36m      0\u001b[0m │ \u001b[36m     1\u001b[0m │ \u001b[36m     5\u001b[0m │ \u001b[36m 0.19\u001b[0m │ \u001b[36m   3\u001b[0m │ \u001b[36m    5\u001b[0m │ \u001b[36m    5\u001b[0m │ \u001b[36m     6\u001b[0m │ \u001b[32m    █ \u001b[0m │  │\n",
       "│ │ \u001b[38;5;141mQuarter\u001b[0m │ \u001b[36m      0\u001b[0m │ \u001b[36m     1\u001b[0m │ \u001b[36m    87\u001b[0m │ \u001b[36m   41\u001b[0m │ \u001b[36m  19\u001b[0m │ \u001b[36m   69\u001b[0m │ \u001b[36m   85\u001b[0m │ \u001b[36m   280\u001b[0m │ \u001b[32m  █ ▁ \u001b[0m │  │\n",
       "│ │ \u001b[38;5;141mly_Tax \u001b[0m │         │        │        │       │      │       │       │        │        │  │\n",
       "│ │ \u001b[38;5;141mWeight \u001b[0m │ \u001b[36m      0\u001b[0m │ \u001b[36m     1\u001b[0m │ \u001b[36m  1100\u001b[0m │ \u001b[36m   53\u001b[0m │ \u001b[36m1000\u001b[0m │ \u001b[36m 1000\u001b[0m │ \u001b[36m 1100\u001b[0m │ \u001b[36m  1600\u001b[0m │ \u001b[32m  █▂  \u001b[0m │  │\n",
       "│ │ \u001b[38;5;141mMfr_Gua\u001b[0m │ \u001b[36m      0\u001b[0m │ \u001b[36m     1\u001b[0m │ \u001b[36m  0.41\u001b[0m │ \u001b[36m 0.49\u001b[0m │ \u001b[36m   0\u001b[0m │ \u001b[36m    0\u001b[0m │ \u001b[36m    1\u001b[0m │ \u001b[36m     1\u001b[0m │ \u001b[32m█    ▆\u001b[0m │  │\n",
       "│ │ \u001b[38;5;141mrantee \u001b[0m │         │        │        │       │      │       │       │        │        │  │\n",
       "│ │ \u001b[38;5;141mBOVAG_G\u001b[0m │ \u001b[36m      0\u001b[0m │ \u001b[36m     1\u001b[0m │ \u001b[36m   0.9\u001b[0m │ \u001b[36m 0.31\u001b[0m │ \u001b[36m   0\u001b[0m │ \u001b[36m    1\u001b[0m │ \u001b[36m    1\u001b[0m │ \u001b[36m     1\u001b[0m │ \u001b[32m▁    █\u001b[0m │  │\n",
       "│ │ \u001b[38;5;141muarante\u001b[0m │         │        │        │       │      │       │       │        │        │  │\n",
       "│ │ \u001b[38;5;141me      \u001b[0m │         │        │        │       │      │       │       │        │        │  │\n",
       "│ │ \u001b[38;5;141mGuarant\u001b[0m │ \u001b[36m      0\u001b[0m │ \u001b[36m     1\u001b[0m │ \u001b[36m   3.8\u001b[0m │ \u001b[36m    3\u001b[0m │ \u001b[36m   3\u001b[0m │ \u001b[36m    3\u001b[0m │ \u001b[36m    3\u001b[0m │ \u001b[36m    36\u001b[0m │ \u001b[32m  █   \u001b[0m │  │\n",
       "│ │ \u001b[38;5;141mee_Peri\u001b[0m │         │        │        │       │      │       │       │        │        │  │\n",
       "│ │ \u001b[38;5;141mod     \u001b[0m │         │        │        │       │      │       │       │        │        │  │\n",
       "│ │ \u001b[38;5;141mABS    \u001b[0m │ \u001b[36m      0\u001b[0m │ \u001b[36m     1\u001b[0m │ \u001b[36m  0.81\u001b[0m │ \u001b[36m 0.39\u001b[0m │ \u001b[36m   0\u001b[0m │ \u001b[36m    1\u001b[0m │ \u001b[36m    1\u001b[0m │ \u001b[36m     1\u001b[0m │ \u001b[32m▂    █\u001b[0m │  │\n",
       "│ │ \u001b[38;5;141mAirbag_\u001b[0m │ \u001b[36m      0\u001b[0m │ \u001b[36m     1\u001b[0m │ \u001b[36m  0.97\u001b[0m │ \u001b[36m 0.17\u001b[0m │ \u001b[36m   0\u001b[0m │ \u001b[36m    1\u001b[0m │ \u001b[36m    1\u001b[0m │ \u001b[36m     1\u001b[0m │ \u001b[32m     █\u001b[0m │  │\n",
       "│ │ \u001b[38;5;141m1      \u001b[0m │         │        │        │       │      │       │       │        │        │  │\n",
       "│ │ \u001b[38;5;141mAirbag_\u001b[0m │ \u001b[36m      0\u001b[0m │ \u001b[36m     1\u001b[0m │ \u001b[36m  0.72\u001b[0m │ \u001b[36m 0.45\u001b[0m │ \u001b[36m   0\u001b[0m │ \u001b[36m    0\u001b[0m │ \u001b[36m    1\u001b[0m │ \u001b[36m     1\u001b[0m │ \u001b[32m▃    █\u001b[0m │  │\n",
       "│ │ \u001b[38;5;141m2      \u001b[0m │         │        │        │       │      │       │       │        │        │  │\n",
       "│ │ \u001b[38;5;141mAirco  \u001b[0m │ \u001b[36m      0\u001b[0m │ \u001b[36m     1\u001b[0m │ \u001b[36m  0.51\u001b[0m │ \u001b[36m  0.5\u001b[0m │ \u001b[36m   0\u001b[0m │ \u001b[36m    0\u001b[0m │ \u001b[36m    1\u001b[0m │ \u001b[36m     1\u001b[0m │ \u001b[32m█    █\u001b[0m │  │\n",
       "│ │ \u001b[38;5;141mAutomat\u001b[0m │ \u001b[36m      0\u001b[0m │ \u001b[36m     1\u001b[0m │ \u001b[36m 0.056\u001b[0m │ \u001b[36m 0.23\u001b[0m │ \u001b[36m   0\u001b[0m │ \u001b[36m    0\u001b[0m │ \u001b[36m    0\u001b[0m │ \u001b[36m     1\u001b[0m │ \u001b[32m  █   \u001b[0m │  │\n",
       "│ │ \u001b[38;5;141mic_airc\u001b[0m │         │        │        │       │      │       │       │        │        │  │\n",
       "│ │ \u001b[38;5;141mo      \u001b[0m │         │        │        │       │      │       │       │        │        │  │\n",
       "│ │ \u001b[38;5;141mBoardco\u001b[0m │ \u001b[36m      0\u001b[0m │ \u001b[36m     1\u001b[0m │ \u001b[36m  0.29\u001b[0m │ \u001b[36m 0.46\u001b[0m │ \u001b[36m   0\u001b[0m │ \u001b[36m    0\u001b[0m │ \u001b[36m    1\u001b[0m │ \u001b[36m     1\u001b[0m │ \u001b[32m█    ▃\u001b[0m │  │\n",
       "│ │ \u001b[38;5;141mmputer \u001b[0m │         │        │        │       │      │       │       │        │        │  │\n",
       "│ │ \u001b[38;5;141mCD_Play\u001b[0m │ \u001b[36m      0\u001b[0m │ \u001b[36m     1\u001b[0m │ \u001b[36m  0.22\u001b[0m │ \u001b[36m 0.41\u001b[0m │ \u001b[36m   0\u001b[0m │ \u001b[36m    0\u001b[0m │ \u001b[36m    0\u001b[0m │ \u001b[36m     1\u001b[0m │ \u001b[32m█    ▂\u001b[0m │  │\n",
       "│ │ \u001b[38;5;141mer     \u001b[0m │         │        │        │       │      │       │       │        │        │  │\n",
       "│ │ \u001b[38;5;141mCentral\u001b[0m │ \u001b[36m      0\u001b[0m │ \u001b[36m     1\u001b[0m │ \u001b[36m  0.58\u001b[0m │ \u001b[36m 0.49\u001b[0m │ \u001b[36m   0\u001b[0m │ \u001b[36m    0\u001b[0m │ \u001b[36m    1\u001b[0m │ \u001b[36m     1\u001b[0m │ \u001b[32m▆    █\u001b[0m │  │\n",
       "│ │ \u001b[38;5;141m_Lock  \u001b[0m │         │        │        │       │      │       │       │        │        │  │\n",
       "│ │ \u001b[38;5;141mPowered\u001b[0m │ \u001b[36m      0\u001b[0m │ \u001b[36m     1\u001b[0m │ \u001b[36m  0.56\u001b[0m │ \u001b[36m  0.5\u001b[0m │ \u001b[36m   0\u001b[0m │ \u001b[36m    0\u001b[0m │ \u001b[36m    1\u001b[0m │ \u001b[36m     1\u001b[0m │ \u001b[32m▆    █\u001b[0m │  │\n",
       "│ │ \u001b[38;5;141m_Window\u001b[0m │         │        │        │       │      │       │       │        │        │  │\n",
       "│ │ \u001b[38;5;141ms      \u001b[0m │         │        │        │       │      │       │       │        │        │  │\n",
       "│ │ \u001b[38;5;141mPower_S\u001b[0m │ \u001b[36m      0\u001b[0m │ \u001b[36m     1\u001b[0m │ \u001b[36m  0.98\u001b[0m │ \u001b[36m 0.15\u001b[0m │ \u001b[36m   0\u001b[0m │ \u001b[36m    1\u001b[0m │ \u001b[36m    1\u001b[0m │ \u001b[36m     1\u001b[0m │ \u001b[32m     █\u001b[0m │  │\n",
       "│ │ \u001b[38;5;141mteering\u001b[0m │         │        │        │       │      │       │       │        │        │  │\n",
       "│ │ \u001b[38;5;141mRadio  \u001b[0m │ \u001b[36m      0\u001b[0m │ \u001b[36m     1\u001b[0m │ \u001b[36m  0.15\u001b[0m │ \u001b[36m 0.35\u001b[0m │ \u001b[36m   0\u001b[0m │ \u001b[36m    0\u001b[0m │ \u001b[36m    0\u001b[0m │ \u001b[36m     1\u001b[0m │ \u001b[32m█    ▁\u001b[0m │  │\n",
       "│ │ \u001b[38;5;141mMistlam\u001b[0m │ \u001b[36m      0\u001b[0m │ \u001b[36m     1\u001b[0m │ \u001b[36m  0.26\u001b[0m │ \u001b[36m 0.44\u001b[0m │ \u001b[36m   0\u001b[0m │ \u001b[36m    0\u001b[0m │ \u001b[36m    1\u001b[0m │ \u001b[36m     1\u001b[0m │ \u001b[32m█    ▃\u001b[0m │  │\n",
       "│ │ \u001b[38;5;141mps     \u001b[0m │         │        │        │       │      │       │       │        │        │  │\n",
       "│ │ \u001b[38;5;141mSport_M\u001b[0m │ \u001b[36m      0\u001b[0m │ \u001b[36m     1\u001b[0m │ \u001b[36m   0.3\u001b[0m │ \u001b[36m 0.46\u001b[0m │ \u001b[36m   0\u001b[0m │ \u001b[36m    0\u001b[0m │ \u001b[36m    1\u001b[0m │ \u001b[36m     1\u001b[0m │ \u001b[32m█    ▃\u001b[0m │  │\n",
       "│ │ \u001b[38;5;141model   \u001b[0m │         │        │        │       │      │       │       │        │        │  │\n",
       "│ │ \u001b[38;5;141mBacksea\u001b[0m │ \u001b[36m      0\u001b[0m │ \u001b[36m     1\u001b[0m │ \u001b[36m  0.77\u001b[0m │ \u001b[36m 0.42\u001b[0m │ \u001b[36m   0\u001b[0m │ \u001b[36m    1\u001b[0m │ \u001b[36m    1\u001b[0m │ \u001b[36m     1\u001b[0m │ \u001b[32m▂    █\u001b[0m │  │\n",
       "│ │ \u001b[38;5;141mt_Divid\u001b[0m │         │        │        │       │      │       │       │        │        │  │\n",
       "│ │ \u001b[38;5;141mer     \u001b[0m │         │        │        │       │      │       │       │        │        │  │\n",
       "│ │ \u001b[38;5;141mMetalli\u001b[0m │ \u001b[36m      0\u001b[0m │ \u001b[36m     1\u001b[0m │ \u001b[36m   0.2\u001b[0m │ \u001b[36m  0.4\u001b[0m │ \u001b[36m   0\u001b[0m │ \u001b[36m    0\u001b[0m │ \u001b[36m    0\u001b[0m │ \u001b[36m     1\u001b[0m │ \u001b[32m█    ▂\u001b[0m │  │\n",
       "│ │ \u001b[38;5;141mc_Rim  \u001b[0m │         │        │        │       │      │       │       │        │        │  │\n",
       "│ │ \u001b[38;5;141mRadio_c\u001b[0m │ \u001b[36m      0\u001b[0m │ \u001b[36m     1\u001b[0m │ \u001b[36m  0.15\u001b[0m │ \u001b[36m 0.35\u001b[0m │ \u001b[36m   0\u001b[0m │ \u001b[36m    0\u001b[0m │ \u001b[36m    0\u001b[0m │ \u001b[36m     1\u001b[0m │ \u001b[32m█    ▁\u001b[0m │  │\n",
       "│ │ \u001b[38;5;141massette\u001b[0m │         │        │        │       │      │       │       │        │        │  │\n",
       "│ │ \u001b[38;5;141mParking\u001b[0m │ \u001b[36m      0\u001b[0m │ \u001b[36m     1\u001b[0m │ \u001b[36m0.0028\u001b[0m │ \u001b[36m0.053\u001b[0m │ \u001b[36m   0\u001b[0m │ \u001b[36m    0\u001b[0m │ \u001b[36m    0\u001b[0m │ \u001b[36m     1\u001b[0m │ \u001b[32m  █   \u001b[0m │  │\n",
       "│ │ \u001b[38;5;141m_Assist\u001b[0m │         │        │        │       │      │       │       │        │        │  │\n",
       "│ │ \u001b[38;5;141mant    \u001b[0m │         │        │        │       │      │       │       │        │        │  │\n",
       "│ │ \u001b[38;5;141mTow_Bar\u001b[0m │ \u001b[36m      0\u001b[0m │ \u001b[36m     1\u001b[0m │ \u001b[36m  0.28\u001b[0m │ \u001b[36m 0.45\u001b[0m │ \u001b[36m   0\u001b[0m │ \u001b[36m    0\u001b[0m │ \u001b[36m    1\u001b[0m │ \u001b[36m     1\u001b[0m │ \u001b[32m█    ▃\u001b[0m │  │\n",
       "│ └─────────┴─────────┴────────┴────────┴───────┴──────┴───────┴───────┴────────┴────────┘  │\n",
       "╰─────────────────────────────────────────── End ───────────────────────────────────────────╯\n"
      ]
     },
     "metadata": {},
     "output_type": "display_data"
    }
   ],
   "source": [
    "# !pip install skimpy\n",
    "from skimpy import skim\n",
    "skim(car_df)"
   ]
  },
  {
   "cell_type": "code",
   "execution_count": 6,
   "metadata": {
    "colab": {
     "base_uri": "https://localhost:8080/"
    },
    "id": "S5Jp6TdD4-wm",
    "outputId": "5b4a9817-f369-4fba-825d-e3101c92a672"
   },
   "outputs": [
    {
     "data": {
      "text/plain": [
       "Index(['Id', 'Model', 'Price', 'Age_08_04', 'Mfg_Month', 'Mfg_Year', 'KM',\n",
       "       'Fuel_Type', 'HP', 'Met_Color', 'Color', 'Automatic', 'CC', 'Doors',\n",
       "       'Cylinders', 'Gears', 'Quarterly_Tax', 'Weight', 'Mfr_Guarantee',\n",
       "       'BOVAG_Guarantee', 'Guarantee_Period', 'ABS', 'Airbag_1', 'Airbag_2',\n",
       "       'Airco', 'Automatic_airco', 'Boardcomputer', 'CD_Player',\n",
       "       'Central_Lock', 'Powered_Windows', 'Power_Steering', 'Radio',\n",
       "       'Mistlamps', 'Sport_Model', 'Backseat_Divider', 'Metallic_Rim',\n",
       "       'Radio_cassette', 'Parking_Assistant', 'Tow_Bar'],\n",
       "      dtype='object')"
      ]
     },
     "execution_count": 6,
     "metadata": {},
     "output_type": "execute_result"
    }
   ],
   "source": [
    "car_df.columns"
   ]
  },
  {
   "cell_type": "code",
   "execution_count": 7,
   "metadata": {
    "colab": {
     "base_uri": "https://localhost:8080/"
    },
    "id": "eCNsDQAv6VJ-",
    "outputId": "0f984c20-6b65-49a6-d8ac-44a0fa23f109"
   },
   "outputs": [
    {
     "data": {
      "text/plain": [
       "Index(['Id', 'Model', 'Price', 'Age', 'Mfg_Month', 'Mfg_Year', 'KM',\n",
       "       'Fuel_Type', 'HP', 'Met_Color', 'Color', 'Automatic', 'CC', 'Doors',\n",
       "       'Cylinders', 'Gears', 'tax', 'Weight', 'Mfr_Guarantee',\n",
       "       'BOVAG_Guarantee', 'Guarantee_Period', 'ABS', 'Airbag_1', 'Airbag_2',\n",
       "       'Airco', 'Automatic_airco', 'Boardcomputer', 'CD_Player',\n",
       "       'Central_Lock', 'Powered_Windows', 'Power_Steering', 'Radio',\n",
       "       'Mistlamps', 'Sport_Model', 'Backseat_Divider', 'Metallic_Rim',\n",
       "       'Radio_cassette', 'Parking_Assistant', 'Tow_Bar'],\n",
       "      dtype='object')"
      ]
     },
     "execution_count": 7,
     "metadata": {},
     "output_type": "execute_result"
    }
   ],
   "source": [
    "car_df = car_df.rename(columns={'Age_08_04':'Age','Quarterly_Tax':'tax' })\n",
    "car_df.columns"
   ]
  },
  {
   "cell_type": "code",
   "execution_count": 8,
   "metadata": {
    "id": "bwVbeyym7Jpw"
   },
   "outputs": [],
   "source": [
    "predictors = ['Age', 'KM', 'Fuel_Type', 'HP', 'Met_Color', 'Automatic', 'CC', \n",
    "              'Doors', 'tax', 'Weight']\n",
    "outcome = 'Price'"
   ]
  },
  {
   "cell_type": "code",
   "execution_count": 10,
   "metadata": {},
   "outputs": [
    {
     "name": "stdout",
     "output_type": "stream",
     "text": [
      "<class 'pandas.core.frame.DataFrame'>\n",
      "RangeIndex: 1436 entries, 0 to 1435\n",
      "Data columns (total 10 columns):\n",
      " #   Column     Non-Null Count  Dtype \n",
      "---  ------     --------------  ----- \n",
      " 0   Age        1436 non-null   int64 \n",
      " 1   KM         1436 non-null   int64 \n",
      " 2   Fuel_Type  1436 non-null   object\n",
      " 3   HP         1436 non-null   int64 \n",
      " 4   Met_Color  1436 non-null   int64 \n",
      " 5   Automatic  1436 non-null   int64 \n",
      " 6   CC         1436 non-null   int64 \n",
      " 7   Doors      1436 non-null   int64 \n",
      " 8   tax        1436 non-null   int64 \n",
      " 9   Weight     1436 non-null   int64 \n",
      "dtypes: int64(9), object(1)\n",
      "memory usage: 112.3+ KB\n"
     ]
    }
   ],
   "source": [
    "car_df[predictors].info()"
   ]
  },
  {
   "cell_type": "code",
   "execution_count": null,
   "metadata": {
    "colab": {
     "base_uri": "https://localhost:8080/"
    },
    "id": "pTKt2nu78EOq",
    "outputId": "73acd7fe-6a61-4a5d-df33-5c98f8573b3e"
   },
   "outputs": [
    {
     "name": "stdout",
     "output_type": "stream",
     "text": [
      "intercept  -258.6042161509922\n",
      "           Predictor  coefficient\n",
      "0                Age  -124.110305\n",
      "1                 KM    -0.016059\n",
      "2                 HP    75.549218\n",
      "3          Met_Color    47.715778\n",
      "4          Automatic   462.441526\n",
      "5                 CC    -5.027585\n",
      "6              Doors    58.417871\n",
      "7                tax    13.009195\n",
      "8             Weight    14.156177\n",
      "9   Fuel_Type_Diesel  4481.088703\n",
      "10  Fuel_Type_Petrol  2413.063717\n",
      "\n",
      "Regression statistics\n",
      "\n",
      "                      Mean Error (ME) : 190.6887\n",
      "       Root Mean Squared Error (RMSE) : 3315.7836\n",
      "            Mean Absolute Error (MAE) : 1095.1592\n",
      "          Mean Percentage Error (MPE) : 0.2537\n",
      "Mean Absolute Percentage Error (MAPE) : 10.3465\n"
     ]
    }
   ],
   "source": [
    "# partition data\n",
    "X = pd.get_dummies(car_df[predictors], drop_first=True)\n",
    "y = car_df[outcome]\n",
    "train_X, valid_X, train_y, valid_y = train_test_split(X, y, test_size=0.4, random_state=1)\n",
    "\n",
    "### create the REGRESSION MODEL\n",
    "car_lm = LinearRegression()\n",
    "car_lm.fit(train_X, train_y)\n",
    "\n",
    "## print the coefficients\n",
    "print('intercept ', car_lm.intercept_)\n",
    "print(pd.DataFrame({'Predictor': X.columns, 'coefficient': car_lm.coef_}))\n",
    "\n",
    "##print performance measures\n",
    "regressionSummary(valid_y, car_lm.predict(valid_X))\n"
   ]
  },
  {
   "cell_type": "code",
   "execution_count": null,
   "metadata": {
    "colab": {
     "base_uri": "https://localhost:8080/"
    },
    "id": "KNBVBA4s9bBh",
    "outputId": "ae3fcda2-5659-42cb-f8d7-5991e10560dd"
   },
   "outputs": [
    {
     "name": "stdout",
     "output_type": "stream",
     "text": [
      "Initial parameters:  {'max_depth': 5, 'min_impurity_decrease': 0, 'min_samples_split': 10}\n"
     ]
    }
   ],
   "source": [
    "### create the REGRESSION TREE MODEL\n",
    "param_grid = {\n",
    "    'max_depth': [5, 10, 15, 20, 25], \n",
    "    'min_impurity_decrease': [0, 0.001, 0.005, 0.01], \n",
    "    'min_samples_split': [10, 20, 30, 40, 50], \n",
    "}\n",
    "gridSearch = GridSearchCV(DecisionTreeRegressor(), param_grid, cv=5, n_jobs=-1)\n",
    "gridSearch.fit(train_X, train_y)\n",
    "print('Initial parameters: ', gridSearch.best_params_)\n",
    "\n",
    "param_grid = {\n",
    "    'max_depth': [3, 4, 5, 6, 7, 8, 9, 10, 11, 12], \n",
    "    'min_impurity_decrease': [0, 0.001, 0.002, 0.003, 0.005, 0.006, 0.007, 0.008], \n",
    "    'min_samples_split': [14, 15, 16, 18, 20, ], \n",
    "}\n",
    "gridSearch = GridSearchCV(DecisionTreeRegressor(), param_grid, cv=5, n_jobs=-1)\n",
    "gridSearch.fit(train_X, train_y)\n",
    "print('Improved parameters: ', gridSearch.best_params_)\n",
    "\n",
    "regTree = gridSearch.best_estimator_\n",
    "print(regTree)\n",
    "\n",
    "regressionSummary(train_y, regTree.predict(train_X))\n",
    "regressionSummary(valid_y, regTree.predict(valid_X))\n"
   ]
  },
  {
   "cell_type": "code",
   "execution_count": null,
   "metadata": {
    "colab": {
     "base_uri": "https://localhost:8080/"
    },
    "id": "0OHdZoGp_XG1",
    "outputId": "39cd0fbd-5b67-4a9e-ac0e-3729200e30ec"
   },
   "outputs": [
    {
     "data": {
      "text/plain": [
       "((861, 11), (575, 11), (861, 1), (575, 1))"
      ]
     },
     "execution_count": 64,
     "metadata": {},
     "output_type": "execute_result"
    }
   ],
   "source": [
    "# CREATE THE NNet Model\n",
    "\n",
    "car_df = pd.read_csv('ToyotaCorolla.csv')\n",
    "car_df = car_df.rename(columns={'Age_08_04':'Age','Quarterly_Tax':'tax' })\n",
    "\n",
    "selected_var = ['Price', 'Age', 'KM', 'Fuel_Type', 'HP', 'Met_Color', 'Automatic', 'CC', \n",
    "              'Doors', 'tax', 'Weight']\n",
    "car_df = car_df[selected_var]\n",
    "\n",
    "#then convert the categorical var\n",
    "categorical_var = ['Fuel_Type']\n",
    "car_df = pd.get_dummies(car_df, columns=['Fuel_Type'], drop_first=True)\n",
    "\n",
    "# separate out predictors and response variables\n",
    "X_df = car_df.drop(columns=['Price'])\n",
    "Y_df = car_df[ ['Price'] ]\n",
    "\n",
    "#normalize the data\n",
    "scaleInput = MinMaxScaler()\n",
    "scaleOutput = MinMaxScaler()\n",
    "X = scaleInput.fit_transform(X_df)\n",
    "y = scaleOutput.fit_transform(Y_df)\n",
    "\n",
    "#partition the data\n",
    "X_train, X_valid, y_train, y_valid = train_test_split(X, y, test_size=0.4, random_state=12345)\n",
    "X_train.shape, X_valid.shape, y_train.shape, y_valid.shape\n",
    "\n",
    "#train NNet with 2 hidden nodes\n",
    "car_nnet = MLPRegressor(hidden_layer_sizes=(2), activation='logistic', solver='lbfgs', random_state=1)\n",
    "car_nnet.fit(X_train, y_train.ravel())\n",
    "\n",
    "#RMSE for training set\n",
    "print('Training data (2)')\n",
    "y_actual = scaleOutput.inverse_transform(y_train).ravel()\n",
    "y_pred = scaleOutput.inverse_transform([car_nnet.predict(X_train)]).ravel()\n",
    "regressionSummary(y_pred, y_actual)\n",
    "\n",
    "#RMSE for validation set\n",
    "print('\\nValidation data (2)')\n",
    "y_actual = scaleOutput.inverse_transform(y_valid).ravel()\n",
    "y_pred = scaleOutput.inverse_transform([car_nnet.predict(X_valid)]).ravel()\n",
    "regressionSummary(y_pred, y_actual)\n"
   ]
  }
 ],
 "metadata": {
  "colab": {
   "name": "Class_2_Predicting_Prices_for_Toyota_Corolla_with_code.ipynb",
   "provenance": []
  },
  "hide_input": false,
  "kernelspec": {
   "display_name": "Python 3 (ipykernel)",
   "language": "python",
   "name": "python3"
  },
  "language_info": {
   "codemirror_mode": {
    "name": "ipython",
    "version": 3
   },
   "file_extension": ".py",
   "mimetype": "text/x-python",
   "name": "python",
   "nbconvert_exporter": "python",
   "pygments_lexer": "ipython3",
   "version": "3.8.12"
  }
 },
 "nbformat": 4,
 "nbformat_minor": 1
}
