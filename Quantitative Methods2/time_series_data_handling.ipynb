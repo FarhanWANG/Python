{
 "cells": [
  {
   "cell_type": "code",
   "execution_count": 1,
   "metadata": {
    "colab": {
     "base_uri": "https://localhost:8080/"
    },
    "id": "B8JVzvKMJNAp",
    "outputId": "7abb9fd8-80ea-43ed-b9d1-b623a0c27ea4"
   },
   "outputs": [
    {
     "name": "stderr",
     "output_type": "stream",
     "text": [
      "C:\\ProgramData\\Anaconda3\\lib\\site-packages\\statsmodels\\compat\\pandas.py:61: FutureWarning: pandas.Int64Index is deprecated and will be removed from pandas in a future version. Use pandas.Index with the appropriate dtype instead.\n",
      "  from pandas import Int64Index as NumericIndex\n"
     ]
    }
   ],
   "source": [
    "import pandas as pd\n",
    "import matplotlib.pyplot as plt\n",
    "import statsmodels.formula.api as sm\n",
    "# !pip install dmba\n",
    "from dmba import regressionSummary\n",
    "from statsmodels.tsa import tsatools"
   ]
  },
  {
   "cell_type": "code",
   "execution_count": 2,
   "metadata": {
    "colab": {
     "base_uri": "https://localhost:8080/",
     "height": 206
    },
    "id": "TdRjoRpGOn11",
    "outputId": "6021cc8c-6e1f-4521-ab3e-9e7808b5d11c"
   },
   "outputs": [
    {
     "data": {
      "text/html": [
       "<div>\n",
       "<style scoped>\n",
       "    .dataframe tbody tr th:only-of-type {\n",
       "        vertical-align: middle;\n",
       "    }\n",
       "\n",
       "    .dataframe tbody tr th {\n",
       "        vertical-align: top;\n",
       "    }\n",
       "\n",
       "    .dataframe thead th {\n",
       "        text-align: right;\n",
       "    }\n",
       "</style>\n",
       "<table border=\"1\" class=\"dataframe\">\n",
       "  <thead>\n",
       "    <tr style=\"text-align: right;\">\n",
       "      <th></th>\n",
       "      <th>Month</th>\n",
       "      <th>Ridership</th>\n",
       "    </tr>\n",
       "  </thead>\n",
       "  <tbody>\n",
       "    <tr>\n",
       "      <th>0</th>\n",
       "      <td>01/01/1991</td>\n",
       "      <td>1708.917</td>\n",
       "    </tr>\n",
       "    <tr>\n",
       "      <th>1</th>\n",
       "      <td>01/02/1991</td>\n",
       "      <td>1620.586</td>\n",
       "    </tr>\n",
       "    <tr>\n",
       "      <th>2</th>\n",
       "      <td>01/03/1991</td>\n",
       "      <td>1972.715</td>\n",
       "    </tr>\n",
       "    <tr>\n",
       "      <th>3</th>\n",
       "      <td>01/04/1991</td>\n",
       "      <td>1811.665</td>\n",
       "    </tr>\n",
       "    <tr>\n",
       "      <th>4</th>\n",
       "      <td>01/05/1991</td>\n",
       "      <td>1974.964</td>\n",
       "    </tr>\n",
       "  </tbody>\n",
       "</table>\n",
       "</div>"
      ],
      "text/plain": [
       "        Month  Ridership\n",
       "0  01/01/1991   1708.917\n",
       "1  01/02/1991   1620.586\n",
       "2  01/03/1991   1972.715\n",
       "3  01/04/1991   1811.665\n",
       "4  01/05/1991   1974.964"
      ]
     },
     "execution_count": 2,
     "metadata": {},
     "output_type": "execute_result"
    }
   ],
   "source": [
    "amtrak = pd.read_csv('Amtrak.csv')\n",
    "amtrak.head()"
   ]
  },
  {
   "cell_type": "code",
   "execution_count": 3,
   "metadata": {
    "colab": {
     "base_uri": "https://localhost:8080/",
     "height": 206
    },
    "id": "CnhFI4AmO6QZ",
    "outputId": "ebd1d633-7623-42f3-c457-be06a2798d61"
   },
   "outputs": [
    {
     "data": {
      "text/html": [
       "<div>\n",
       "<style scoped>\n",
       "    .dataframe tbody tr th:only-of-type {\n",
       "        vertical-align: middle;\n",
       "    }\n",
       "\n",
       "    .dataframe tbody tr th {\n",
       "        vertical-align: top;\n",
       "    }\n",
       "\n",
       "    .dataframe thead th {\n",
       "        text-align: right;\n",
       "    }\n",
       "</style>\n",
       "<table border=\"1\" class=\"dataframe\">\n",
       "  <thead>\n",
       "    <tr style=\"text-align: right;\">\n",
       "      <th></th>\n",
       "      <th>Month</th>\n",
       "      <th>Ridership</th>\n",
       "      <th>date</th>\n",
       "    </tr>\n",
       "  </thead>\n",
       "  <tbody>\n",
       "    <tr>\n",
       "      <th>0</th>\n",
       "      <td>01/01/1991</td>\n",
       "      <td>1708.917</td>\n",
       "      <td>1991-01-01</td>\n",
       "    </tr>\n",
       "    <tr>\n",
       "      <th>1</th>\n",
       "      <td>01/02/1991</td>\n",
       "      <td>1620.586</td>\n",
       "      <td>1991-02-01</td>\n",
       "    </tr>\n",
       "    <tr>\n",
       "      <th>2</th>\n",
       "      <td>01/03/1991</td>\n",
       "      <td>1972.715</td>\n",
       "      <td>1991-03-01</td>\n",
       "    </tr>\n",
       "    <tr>\n",
       "      <th>3</th>\n",
       "      <td>01/04/1991</td>\n",
       "      <td>1811.665</td>\n",
       "      <td>1991-04-01</td>\n",
       "    </tr>\n",
       "    <tr>\n",
       "      <th>4</th>\n",
       "      <td>01/05/1991</td>\n",
       "      <td>1974.964</td>\n",
       "      <td>1991-05-01</td>\n",
       "    </tr>\n",
       "  </tbody>\n",
       "</table>\n",
       "</div>"
      ],
      "text/plain": [
       "        Month  Ridership       date\n",
       "0  01/01/1991   1708.917 1991-01-01\n",
       "1  01/02/1991   1620.586 1991-02-01\n",
       "2  01/03/1991   1972.715 1991-03-01\n",
       "3  01/04/1991   1811.665 1991-04-01\n",
       "4  01/05/1991   1974.964 1991-05-01"
      ]
     },
     "execution_count": 3,
     "metadata": {},
     "output_type": "execute_result"
    }
   ],
   "source": [
    "amtrak['date'] = pd.to_datetime(amtrak.Month,format='%d/%m/%Y')\n",
    "amtrak.head()"
   ]
  },
  {
   "cell_type": "code",
   "execution_count": 4,
   "metadata": {
    "colab": {
     "base_uri": "https://localhost:8080/",
     "height": 206
    },
    "id": "VD804GI3Q_kz",
    "outputId": "4441982f-b299-47b9-88f3-aeb73079df5f"
   },
   "outputs": [
    {
     "data": {
      "text/html": [
       "<div>\n",
       "<style scoped>\n",
       "    .dataframe tbody tr th:only-of-type {\n",
       "        vertical-align: middle;\n",
       "    }\n",
       "\n",
       "    .dataframe tbody tr th {\n",
       "        vertical-align: top;\n",
       "    }\n",
       "\n",
       "    .dataframe thead th {\n",
       "        text-align: right;\n",
       "    }\n",
       "</style>\n",
       "<table border=\"1\" class=\"dataframe\">\n",
       "  <thead>\n",
       "    <tr style=\"text-align: right;\">\n",
       "      <th></th>\n",
       "      <th>Month</th>\n",
       "      <th>Ridership</th>\n",
       "      <th>date</th>\n",
       "    </tr>\n",
       "  </thead>\n",
       "  <tbody>\n",
       "    <tr>\n",
       "      <th>0</th>\n",
       "      <td>01/01/1991</td>\n",
       "      <td>1708.917</td>\n",
       "      <td>1991-01-01</td>\n",
       "    </tr>\n",
       "    <tr>\n",
       "      <th>1</th>\n",
       "      <td>01/02/1991</td>\n",
       "      <td>1620.586</td>\n",
       "      <td>1991-02-01</td>\n",
       "    </tr>\n",
       "    <tr>\n",
       "      <th>2</th>\n",
       "      <td>01/03/1991</td>\n",
       "      <td>1972.715</td>\n",
       "      <td>1991-03-01</td>\n",
       "    </tr>\n",
       "    <tr>\n",
       "      <th>3</th>\n",
       "      <td>01/04/1991</td>\n",
       "      <td>1811.665</td>\n",
       "      <td>1991-04-01</td>\n",
       "    </tr>\n",
       "    <tr>\n",
       "      <th>4</th>\n",
       "      <td>01/05/1991</td>\n",
       "      <td>1974.964</td>\n",
       "      <td>1991-05-01</td>\n",
       "    </tr>\n",
       "  </tbody>\n",
       "</table>\n",
       "</div>"
      ],
      "text/plain": [
       "        Month  Ridership       date\n",
       "0  01/01/1991   1708.917 1991-01-01\n",
       "1  01/02/1991   1620.586 1991-02-01\n",
       "2  01/03/1991   1972.715 1991-03-01\n",
       "3  01/04/1991   1811.665 1991-04-01\n",
       "4  01/05/1991   1974.964 1991-05-01"
      ]
     },
     "execution_count": 4,
     "metadata": {},
     "output_type": "execute_result"
    }
   ],
   "source": [
    "ridership_df = amtrak\n",
    "ridership_df.head()"
   ]
  },
  {
   "cell_type": "code",
   "execution_count": 5,
   "metadata": {
    "id": "YtEON-yqR3QL"
   },
   "outputs": [],
   "source": [
    "ridership_ts = pd.Series(ridership_df.Ridership.values, index=ridership_df.date, name='ridership')"
   ]
  },
  {
   "cell_type": "code",
   "execution_count": 6,
   "metadata": {
    "colab": {
     "base_uri": "https://localhost:8080/"
    },
    "id": "8hNm3KHyRkLz",
    "outputId": "a7842edb-d515-41e2-c919-d556d1f2b243"
   },
   "outputs": [
    {
     "data": {
      "text/plain": [
       "date\n",
       "1991-01-01    1708.917\n",
       "1991-02-01    1620.586\n",
       "1991-03-01    1972.715\n",
       "1991-04-01    1811.665\n",
       "1991-05-01    1974.964\n",
       "                ...   \n",
       "2003-11-01    2076.054\n",
       "2003-12-01    2140.677\n",
       "2004-01-01    1831.508\n",
       "2004-02-01    1838.006\n",
       "2004-03-01    2132.446\n",
       "Name: ridership, Length: 159, dtype: float64"
      ]
     },
     "execution_count": 6,
     "metadata": {},
     "output_type": "execute_result"
    }
   ],
   "source": [
    "ridership_ts"
   ]
  },
  {
   "cell_type": "markdown",
   "metadata": {
    "id": "obcUBPLgS3Pu"
   },
   "source": [
    "Defined the frequency of the data"
   ]
  },
  {
   "cell_type": "code",
   "execution_count": 7,
   "metadata": {
    "id": "At9NDtmuSfYC"
   },
   "outputs": [
    {
     "data": {
      "text/plain": [
       "date\n",
       "1991-01-01    1708.917\n",
       "1991-02-01    1620.586\n",
       "1991-03-01    1972.715\n",
       "1991-04-01    1811.665\n",
       "1991-05-01    1974.964\n",
       "                ...   \n",
       "2003-11-01    2076.054\n",
       "2003-12-01    2140.677\n",
       "2004-01-01    1831.508\n",
       "2004-02-01    1838.006\n",
       "2004-03-01    2132.446\n",
       "Freq: MS, Name: ridership, Length: 159, dtype: float64"
      ]
     },
     "execution_count": 7,
     "metadata": {},
     "output_type": "execute_result"
    }
   ],
   "source": [
    "ridership_ts.index = pd.DatetimeIndex(ridership_ts.index,freq=ridership_ts.index.inferred_freq)\n",
    "ridership_ts"
   ]
  },
  {
   "cell_type": "markdown",
   "metadata": {
    "id": "Uo3BRdOLS8LC"
   },
   "source": [
    "PLot the data"
   ]
  },
  {
   "cell_type": "code",
   "execution_count": 8,
   "metadata": {
    "colab": {
     "base_uri": "https://localhost:8080/"
    },
    "id": "MkidWCqQS7vP",
    "outputId": "cc45e227-a301-468f-81c9-52045e57dd64"
   },
   "outputs": [
    {
     "data": {
      "text/plain": [
       "date\n",
       "1999-08-01    1949.002\n",
       "1999-09-01    1607.373\n",
       "1999-10-01    1803.664\n",
       "1999-11-01    1850.309\n",
       "1999-12-01    1836.435\n",
       "Freq: MS, Name: ridership, dtype: float64"
      ]
     },
     "execution_count": 8,
     "metadata": {},
     "output_type": "execute_result"
    }
   ],
   "source": [
    "ridership_ts_3yrs = ridership_ts['1997':'1999']\n",
    "ridership_ts_3yrs.tail()"
   ]
  },
  {
   "cell_type": "code",
   "execution_count": 9,
   "metadata": {
    "colab": {
     "base_uri": "https://localhost:8080/",
     "height": 510
    },
    "id": "BJhrKQMmTSRt",
    "outputId": "6a98f67b-9bfe-4d0f-c4f8-cb27f20e4fe6"
   },
   "outputs": [
    {
     "data": {
      "text/html": [
       "<div>\n",
       "<style scoped>\n",
       "    .dataframe tbody tr th:only-of-type {\n",
       "        vertical-align: middle;\n",
       "    }\n",
       "\n",
       "    .dataframe tbody tr th {\n",
       "        vertical-align: top;\n",
       "    }\n",
       "\n",
       "    .dataframe thead th {\n",
       "        text-align: right;\n",
       "    }\n",
       "</style>\n",
       "<table border=\"1\" class=\"dataframe\">\n",
       "  <thead>\n",
       "    <tr style=\"text-align: right;\">\n",
       "      <th></th>\n",
       "      <th>ridership</th>\n",
       "      <th>const</th>\n",
       "      <th>trend</th>\n",
       "      <th>trend_squared</th>\n",
       "    </tr>\n",
       "    <tr>\n",
       "      <th>date</th>\n",
       "      <th></th>\n",
       "      <th></th>\n",
       "      <th></th>\n",
       "      <th></th>\n",
       "    </tr>\n",
       "  </thead>\n",
       "  <tbody>\n",
       "    <tr>\n",
       "      <th>1991-01-01</th>\n",
       "      <td>1708.917</td>\n",
       "      <td>1.0</td>\n",
       "      <td>1.0</td>\n",
       "      <td>1.0</td>\n",
       "    </tr>\n",
       "    <tr>\n",
       "      <th>1991-02-01</th>\n",
       "      <td>1620.586</td>\n",
       "      <td>1.0</td>\n",
       "      <td>2.0</td>\n",
       "      <td>4.0</td>\n",
       "    </tr>\n",
       "    <tr>\n",
       "      <th>1991-03-01</th>\n",
       "      <td>1972.715</td>\n",
       "      <td>1.0</td>\n",
       "      <td>3.0</td>\n",
       "      <td>9.0</td>\n",
       "    </tr>\n",
       "    <tr>\n",
       "      <th>1991-04-01</th>\n",
       "      <td>1811.665</td>\n",
       "      <td>1.0</td>\n",
       "      <td>4.0</td>\n",
       "      <td>16.0</td>\n",
       "    </tr>\n",
       "    <tr>\n",
       "      <th>1991-05-01</th>\n",
       "      <td>1974.964</td>\n",
       "      <td>1.0</td>\n",
       "      <td>5.0</td>\n",
       "      <td>25.0</td>\n",
       "    </tr>\n",
       "    <tr>\n",
       "      <th>...</th>\n",
       "      <td>...</td>\n",
       "      <td>...</td>\n",
       "      <td>...</td>\n",
       "      <td>...</td>\n",
       "    </tr>\n",
       "    <tr>\n",
       "      <th>2003-11-01</th>\n",
       "      <td>2076.054</td>\n",
       "      <td>1.0</td>\n",
       "      <td>155.0</td>\n",
       "      <td>24025.0</td>\n",
       "    </tr>\n",
       "    <tr>\n",
       "      <th>2003-12-01</th>\n",
       "      <td>2140.677</td>\n",
       "      <td>1.0</td>\n",
       "      <td>156.0</td>\n",
       "      <td>24336.0</td>\n",
       "    </tr>\n",
       "    <tr>\n",
       "      <th>2004-01-01</th>\n",
       "      <td>1831.508</td>\n",
       "      <td>1.0</td>\n",
       "      <td>157.0</td>\n",
       "      <td>24649.0</td>\n",
       "    </tr>\n",
       "    <tr>\n",
       "      <th>2004-02-01</th>\n",
       "      <td>1838.006</td>\n",
       "      <td>1.0</td>\n",
       "      <td>158.0</td>\n",
       "      <td>24964.0</td>\n",
       "    </tr>\n",
       "    <tr>\n",
       "      <th>2004-03-01</th>\n",
       "      <td>2132.446</td>\n",
       "      <td>1.0</td>\n",
       "      <td>159.0</td>\n",
       "      <td>25281.0</td>\n",
       "    </tr>\n",
       "  </tbody>\n",
       "</table>\n",
       "<p>159 rows × 4 columns</p>\n",
       "</div>"
      ],
      "text/plain": [
       "            ridership  const  trend  trend_squared\n",
       "date                                              \n",
       "1991-01-01   1708.917    1.0    1.0            1.0\n",
       "1991-02-01   1620.586    1.0    2.0            4.0\n",
       "1991-03-01   1972.715    1.0    3.0            9.0\n",
       "1991-04-01   1811.665    1.0    4.0           16.0\n",
       "1991-05-01   1974.964    1.0    5.0           25.0\n",
       "...               ...    ...    ...            ...\n",
       "2003-11-01   2076.054    1.0  155.0        24025.0\n",
       "2003-12-01   2140.677    1.0  156.0        24336.0\n",
       "2004-01-01   1831.508    1.0  157.0        24649.0\n",
       "2004-02-01   1838.006    1.0  158.0        24964.0\n",
       "2004-03-01   2132.446    1.0  159.0        25281.0\n",
       "\n",
       "[159 rows x 4 columns]"
      ]
     },
     "execution_count": 9,
     "metadata": {},
     "output_type": "execute_result"
    }
   ],
   "source": [
    "ridership_df_trend = tsatools.add_trend(ridership_ts,trend='ctt')\n",
    "ridership_df_trend"
   ]
  },
  {
   "cell_type": "code",
   "execution_count": 10,
   "metadata": {
    "id": "KOmXimlhT-bZ"
   },
   "outputs": [],
   "source": [
    "ridership_lm = sm.ols('ridership ~ trend + trend_squared', data=ridership_df_trend).fit()"
   ]
  },
  {
   "cell_type": "code",
   "execution_count": 11,
   "metadata": {
    "colab": {
     "base_uri": "https://localhost:8080/",
     "height": 392
    },
    "id": "4Uq4FFanV4lU",
    "outputId": "d274419c-e4ae-45e8-98eb-ef9b5e4a9bec"
   },
   "outputs": [
    {
     "data": {
      "image/png": "[encoded data removed]",
      "text/plain": [
       "<Figure size 720x432 with 2 Axes>"
      ]
     },
     "metadata": {
      "needs_background": "light"
     },
     "output_type": "display_data"
    }
   ],
   "source": [
    "fig, axes = plt.subplots(2,1, figsize=(10,6))\n",
    "ridership_ts_3yrs.plot(ax=axes[0])\n",
    "ridership_ts.plot(ax=axes[1])\n",
    "for ax in axes:\n",
    "  ax.set_xlabel('time')\n",
    "  ax.set_ylabel('ridership')\n",
    "  ax.set_ylim(1000,2500)\n",
    "ridership_lm.predict(ridership_df_trend).plot(ax=axes[1])\n",
    "plt.show()"
   ]
  },
  {
   "cell_type": "markdown",
   "metadata": {
    "id": "v5YTwOo1Xwn9"
   },
   "source": [
    "parition timeseries dataset"
   ]
  },
  {
   "cell_type": "code",
   "execution_count": 31,
   "metadata": {
    "id": "q6bPWbiDXtd1"
   },
   "outputs": [],
   "source": [
    "nvalid = 36\n",
    "ntrain=len(ridership_ts) - nvalid\n",
    "train_ts = ridership_ts[:ntrain]\n",
    "valid_ts = ridership_ts[ntrain:]"
   ]
  },
  {
   "cell_type": "code",
   "execution_count": 34,
   "metadata": {
    "colab": {
     "base_uri": "https://localhost:8080/"
    },
    "id": "1F3DqMjyYHmZ",
    "outputId": "80e4fc64-a05c-4644-c3a6-9e9b1a5564b3"
   },
   "outputs": [
    {
     "data": {
      "text/plain": [
       "date\n",
       "2001-04-01    2023.792\n",
       "2001-05-01    2047.008\n",
       "2001-06-01    2072.913\n",
       "2001-07-01    2126.717\n",
       "2001-08-01    2202.638\n",
       "Freq: MS, Name: ridership, dtype: float64"
      ]
     },
     "execution_count": 34,
     "metadata": {},
     "output_type": "execute_result"
    }
   ],
   "source": [
    "valid_ts.head()"
   ]
  },
  {
   "cell_type": "code",
   "execution_count": 36,
   "metadata": {
    "id": "znMPhxN3YW8_"
   },
   "outputs": [],
   "source": [
    "naive_pred = pd.Series(train_ts[-1], index=valid_ts.index)\n",
    "last_season= train_ts[-12:]\n",
    "seasonal_pred = pd.Series(pd.concat([last_season]*5)[:len(valid_ts)].values,index=valid_ts.index)"
   ]
  },
  {
   "cell_type": "code",
   "execution_count": 37,
   "metadata": {
    "colab": {
     "base_uri": "https://localhost:8080/",
     "height": 446
    },
    "id": "Mh7UobthZku-",
    "outputId": "bdacf720-d678-4266-96d2-5bd8c638da8a"
   },
   "outputs": [
    {
     "data": {
      "image/png": "[encoded data removed]",
      "text/plain": [
       "<Figure size 648x504 with 1 Axes>"
      ]
     },
     "metadata": {
      "needs_background": "light"
     },
     "output_type": "display_data"
    }
   ],
   "source": [
    "ax = train_ts.plot(color='C0', linewidth=0.75, figsize=(9,7))\n",
    "valid_ts.plot(ax=ax, color='C0', linestyle='dashed',linewidth=0.75)\n",
    "ax.set_xlim('1990', '2006-6')\n",
    "ax.set_ylim(1300, 2600)\n",
    "ax.set_xlabel('Time')\n",
    "ax.set_ylabel('Ridership (in 000s)')\n",
    "naive_pred.plot(ax=ax, color='green')\n",
    "seasonal_pred.plot(ax=ax, color='orange')\n",
    "# determine coordinates for drawing the arrows and lines\n",
    "one_month = pd.Timedelta('31 days')\n",
    "xtrain = (min(train_ts.index), max(train_ts.index) -\n",
    "one_month)\n",
    "xvalid = (min(valid_ts.index) + one_month,\n",
    "max(valid_ts.index) - one_month)\n",
    "xfuture = (max(valid_ts.index) + one_month, '2006')\n",
    "xtv = xtrain[1] + 0.5 * (xvalid[0] - xtrain[1])\n",
    "xvf = xvalid[1] + 0.5 * (xfuture[0] - xvalid[1])\n",
    "ax.add_line(plt.Line2D(xtrain, (2450, 2450),\n",
    "color='black', linewidth=0.5))\n",
    "ax.add_line(plt.Line2D(xvalid, (2450, 2450),\n",
    "color='black', linewidth=0.5))\n",
    "ax.add_line(plt.Line2D(xfuture, (2450, 2450),\n",
    "color='black', linewidth=0.5))\n",
    "ax.text('1995', 2500, 'Training')\n",
    "ax.text('2001-9', 2500, 'Validation')\n",
    "ax.text('2004-7', 2500, 'Future')\n",
    "ax.axvline(x=xtv, ymin=0, ymax=1, color='black',\n",
    "linewidth=0.5)\n",
    "ax.axvline(x=xvf, ymin=0, ymax=1, color='black',\n",
    "linewidth=0.5)\n",
    "plt.show()"
   ]
  }
 ],
 "metadata": {
  "colab": {
   "name": "time series data handling.ipynb",
   "provenance": []
  },
  "hide_input": false,
  "kernelspec": {
   "display_name": "Python 3 (ipykernel)",
   "language": "python",
   "name": "python3"
  },
  "language_info": {
   "codemirror_mode": {
    "name": "ipython",
    "version": 3
   },
   "file_extension": ".py",
   "mimetype": "text/x-python",
   "name": "python",
   "nbconvert_exporter": "python",
   "pygments_lexer": "ipython3",
   "version": "3.8.12"
  }
 },
 "nbformat": 4,
 "nbformat_minor": 1
}
