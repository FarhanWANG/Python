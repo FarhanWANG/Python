{
 "cells": [
  {
   "cell_type": "code",
   "execution_count": 1,
   "id": "d9849855",
   "metadata": {},
   "outputs": [],
   "source": [
    "import pandas as pd\n",
    "import numpy as np\n",
    "import matplotlib.pyplot as pp"
   ]
  },
  {
   "cell_type": "markdown",
   "id": "c5e5055b",
   "metadata": {},
   "source": [
    "# Q1"
   ]
  },
  {
   "cell_type": "code",
   "execution_count": 2,
   "id": "b8a883c4",
   "metadata": {},
   "outputs": [
    {
     "data": {
      "text/html": [
       "<div>\n",
       "<style scoped>\n",
       "    .dataframe tbody tr th:only-of-type {\n",
       "        vertical-align: middle;\n",
       "    }\n",
       "\n",
       "    .dataframe tbody tr th {\n",
       "        vertical-align: top;\n",
       "    }\n",
       "\n",
       "    .dataframe thead th {\n",
       "        text-align: right;\n",
       "    }\n",
       "</style>\n",
       "<table border=\"1\" class=\"dataframe\">\n",
       "  <thead>\n",
       "    <tr style=\"text-align: right;\">\n",
       "      <th></th>\n",
       "      <th>Quarter</th>\n",
       "      <th>Sales</th>\n",
       "      <th>% to target</th>\n",
       "    </tr>\n",
       "  </thead>\n",
       "  <tbody>\n",
       "    <tr>\n",
       "      <th>0</th>\n",
       "      <td>1</td>\n",
       "      <td>50147</td>\n",
       "      <td>87</td>\n",
       "    </tr>\n",
       "    <tr>\n",
       "      <th>1</th>\n",
       "      <td>2</td>\n",
       "      <td>49325</td>\n",
       "      <td>91</td>\n",
       "    </tr>\n",
       "    <tr>\n",
       "      <th>2</th>\n",
       "      <td>3</td>\n",
       "      <td>57048</td>\n",
       "      <td>89</td>\n",
       "    </tr>\n",
       "    <tr>\n",
       "      <th>3</th>\n",
       "      <td>4</td>\n",
       "      <td>76781</td>\n",
       "      <td>79</td>\n",
       "    </tr>\n",
       "    <tr>\n",
       "      <th>4</th>\n",
       "      <td>5</td>\n",
       "      <td>48617</td>\n",
       "      <td>86</td>\n",
       "    </tr>\n",
       "  </tbody>\n",
       "</table>\n",
       "</div>"
      ],
      "text/plain": [
       "   Quarter  Sales  % to target\n",
       "0        1  50147           87\n",
       "1        2  49325           91\n",
       "2        3  57048           89\n",
       "3        4  76781           79\n",
       "4        5  48617           86"
      ]
     },
     "execution_count": 2,
     "metadata": {},
     "output_type": "execute_result"
    }
   ],
   "source": [
    "df = pd.read_excel('DepartmentStoreSales_test 2 data.xlsx')\n",
    "df.head()"
   ]
  },
  {
   "cell_type": "code",
   "execution_count": 3,
   "id": "bdadc52d",
   "metadata": {},
   "outputs": [
    {
     "data": {
      "text/plain": [
       "(24, 3)"
      ]
     },
     "execution_count": 3,
     "metadata": {},
     "output_type": "execute_result"
    }
   ],
   "source": [
    "df.shape"
   ]
  },
  {
   "cell_type": "code",
   "execution_count": 4,
   "id": "dda981e6",
   "metadata": {},
   "outputs": [
    {
     "data": {
      "text/plain": [
       "count        24.000000\n",
       "mean      64757.375000\n",
       "std       14961.523379\n",
       "min       48617.000000\n",
       "25%       52681.000000\n",
       "50%       59440.000000\n",
       "75%       76835.000000\n",
       "max      103337.000000\n",
       "Name: Sales, dtype: float64"
      ]
     },
     "execution_count": 4,
     "metadata": {},
     "output_type": "execute_result"
    }
   ],
   "source": [
    "df.Sales.describe()"
   ]
  },
  {
   "cell_type": "code",
   "execution_count": 5,
   "id": "cbff9afc",
   "metadata": {},
   "outputs": [
    {
     "name": "stdout",
     "output_type": "stream",
     "text": [
      "(24, 1)\n",
      "64812.71748333332\n",
      "64757.375\n"
     ]
    }
   ],
   "source": [
    "bootstrap = pd.DataFrame({'avg_price':[df.sample(10000, replace=True,random_state=i+1).Sales.mean() for i in range(24)]})\n",
    "print(bootstrap.shape)\n",
    "print(bootstrap.avg_price.mean())\n",
    "print(df.Sales.mean())"
   ]
  },
  {
   "cell_type": "code",
   "execution_count": 6,
   "id": "545f46a9",
   "metadata": {},
   "outputs": [
    {
     "data": {
      "text/plain": [
       "<AxesSubplot:>"
      ]
     },
     "execution_count": 6,
     "metadata": {},
     "output_type": "execute_result"
    },
    {
     "data": {
      "image/png": "[encoded data removed]",
      "text/plain": [
       "<Figure size 432x288 with 1 Axes>"
      ]
     },
     "metadata": {
      "needs_background": "light"
     },
     "output_type": "display_data"
    }
   ],
   "source": [
    "df.Sales.hist()"
   ]
  },
  {
   "cell_type": "code",
   "execution_count": null,
   "id": "1100fe44",
   "metadata": {},
   "outputs": [],
   "source": []
  },
  {
   "cell_type": "markdown",
   "id": "64347ce4",
   "metadata": {},
   "source": [
    "# Q2"
   ]
  },
  {
   "cell_type": "markdown",
   "id": "f119968a",
   "metadata": {},
   "source": [
    "Null Hypothesis: average sales of bootstrap and original are equal\n",
    "\n",
    "Alternative Hypothesis: they are not equal"
   ]
  },
  {
   "cell_type": "code",
   "execution_count": 7,
   "id": "1750984c",
   "metadata": {},
   "outputs": [
    {
     "name": "stderr",
     "output_type": "stream",
     "text": [
      "C:\\ProgramData\\Anaconda3\\lib\\site-packages\\statsmodels\\compat\\pandas.py:61: FutureWarning: pandas.Int64Index is deprecated and will be removed from pandas in a future version. Use pandas.Index with the appropriate dtype instead.\n",
      "  from pandas import Int64Index as NumericIndex\n"
     ]
    }
   ],
   "source": [
    "from scipy import stats as st\n",
    "from statsmodels.stats import weightstats as stests"
   ]
  },
  {
   "cell_type": "code",
   "execution_count": 8,
   "id": "c670d016",
   "metadata": {},
   "outputs": [
    {
     "data": {
      "text/plain": [
       "Ttest_indResult(statistic=array([0.0181208]), pvalue=array([0.98562086]))"
      ]
     },
     "execution_count": 8,
     "metadata": {},
     "output_type": "execute_result"
    }
   ],
   "source": [
    "st.ttest_ind(bootstrap,df.Sales,equal_var=True)"
   ]
  },
  {
   "cell_type": "code",
   "execution_count": 9,
   "id": "468327a2",
   "metadata": {},
   "outputs": [
    {
     "data": {
      "text/plain": [
       "(array([0.0181208]), array([0.98554249]))"
      ]
     },
     "execution_count": 9,
     "metadata": {},
     "output_type": "execute_result"
    }
   ],
   "source": [
    "stests.ztest(bootstrap,df.Sales, value= 0)"
   ]
  },
  {
   "cell_type": "markdown",
   "id": "1c2f8240",
   "metadata": {},
   "source": [
    "Ans: The p-value is so large that we cannot reject the null hypothesis. Thus, the two means are equal"
   ]
  },
  {
   "cell_type": "code",
   "execution_count": null,
   "id": "4d8cf46a",
   "metadata": {},
   "outputs": [],
   "source": []
  },
  {
   "cell_type": "markdown",
   "id": "99663204",
   "metadata": {},
   "source": [
    "# Q3"
   ]
  },
  {
   "cell_type": "code",
   "execution_count": 10,
   "id": "38cdc511",
   "metadata": {},
   "outputs": [
    {
     "data": {
      "text/html": [
       "<div>\n",
       "<style scoped>\n",
       "    .dataframe tbody tr th:only-of-type {\n",
       "        vertical-align: middle;\n",
       "    }\n",
       "\n",
       "    .dataframe tbody tr th {\n",
       "        vertical-align: top;\n",
       "    }\n",
       "\n",
       "    .dataframe thead th {\n",
       "        text-align: right;\n",
       "    }\n",
       "</style>\n",
       "<table border=\"1\" class=\"dataframe\">\n",
       "  <thead>\n",
       "    <tr style=\"text-align: right;\">\n",
       "      <th></th>\n",
       "      <th>Quarter</th>\n",
       "      <th>Sales</th>\n",
       "      <th>% to target</th>\n",
       "      <th>Sales_target</th>\n",
       "    </tr>\n",
       "  </thead>\n",
       "  <tbody>\n",
       "    <tr>\n",
       "      <th>0</th>\n",
       "      <td>1</td>\n",
       "      <td>50147</td>\n",
       "      <td>87</td>\n",
       "      <td>576.402299</td>\n",
       "    </tr>\n",
       "    <tr>\n",
       "      <th>1</th>\n",
       "      <td>2</td>\n",
       "      <td>49325</td>\n",
       "      <td>91</td>\n",
       "      <td>542.032967</td>\n",
       "    </tr>\n",
       "    <tr>\n",
       "      <th>2</th>\n",
       "      <td>3</td>\n",
       "      <td>57048</td>\n",
       "      <td>89</td>\n",
       "      <td>640.988764</td>\n",
       "    </tr>\n",
       "    <tr>\n",
       "      <th>3</th>\n",
       "      <td>4</td>\n",
       "      <td>76781</td>\n",
       "      <td>79</td>\n",
       "      <td>971.911392</td>\n",
       "    </tr>\n",
       "    <tr>\n",
       "      <th>4</th>\n",
       "      <td>5</td>\n",
       "      <td>48617</td>\n",
       "      <td>86</td>\n",
       "      <td>565.313953</td>\n",
       "    </tr>\n",
       "  </tbody>\n",
       "</table>\n",
       "</div>"
      ],
      "text/plain": [
       "   Quarter  Sales  % to target  Sales_target\n",
       "0        1  50147           87    576.402299\n",
       "1        2  49325           91    542.032967\n",
       "2        3  57048           89    640.988764\n",
       "3        4  76781           79    971.911392\n",
       "4        5  48617           86    565.313953"
      ]
     },
     "execution_count": 10,
     "metadata": {},
     "output_type": "execute_result"
    }
   ],
   "source": [
    "df['Sales_target'] = df['Sales']/df['% to target']\n",
    "df.head()"
   ]
  },
  {
   "cell_type": "code",
   "execution_count": 11,
   "id": "aacb22f6",
   "metadata": {},
   "outputs": [],
   "source": [
    "avg = df['% to target'].mean()\n",
    "std = df['% to target'].std()\n",
    "num_reps = 200\n",
    "num_sim =500"
   ]
  },
  {
   "cell_type": "code",
   "execution_count": 12,
   "id": "3a7fb07c",
   "metadata": {},
   "outputs": [],
   "source": [
    "all_stats = []\n",
    "for i in range(num_sim):\n",
    "    sales_tgt = np.random.choice(df['Sales_target'],num_reps)\n",
    "    percentage = np.random.normal(avg,std,num_reps)\n",
    "    tmp = pd.DataFrame({'pct_to_target': percentage,\n",
    "                        'sales_target': sales_tgt})\n",
    "    tmp['sales'] = tmp.pct_to_target * tmp.sales_target\n",
    "    all_stats.append([tmp['sales'].mean(),tmp['pct_to_target'].mean(),tmp['sales_target'].mean()])"
   ]
  },
  {
   "cell_type": "code",
   "execution_count": 13,
   "id": "68629d7f",
   "metadata": {},
   "outputs": [
    {
     "data": {
      "text/html": [
       "<div>\n",
       "<style scoped>\n",
       "    .dataframe tbody tr th:only-of-type {\n",
       "        vertical-align: middle;\n",
       "    }\n",
       "\n",
       "    .dataframe tbody tr th {\n",
       "        vertical-align: top;\n",
       "    }\n",
       "\n",
       "    .dataframe thead th {\n",
       "        text-align: right;\n",
       "    }\n",
       "</style>\n",
       "<table border=\"1\" class=\"dataframe\">\n",
       "  <thead>\n",
       "    <tr style=\"text-align: right;\">\n",
       "      <th></th>\n",
       "      <th>sales</th>\n",
       "      <th>pct_to_target</th>\n",
       "      <th>sales_target</th>\n",
       "    </tr>\n",
       "  </thead>\n",
       "  <tbody>\n",
       "    <tr>\n",
       "      <th>0</th>\n",
       "      <td>65236.459022</td>\n",
       "      <td>86.100322</td>\n",
       "      <td>758.039075</td>\n",
       "    </tr>\n",
       "    <tr>\n",
       "      <th>1</th>\n",
       "      <td>67311.714229</td>\n",
       "      <td>86.656032</td>\n",
       "      <td>775.921845</td>\n",
       "    </tr>\n",
       "    <tr>\n",
       "      <th>2</th>\n",
       "      <td>64238.067826</td>\n",
       "      <td>87.089983</td>\n",
       "      <td>736.946172</td>\n",
       "    </tr>\n",
       "    <tr>\n",
       "      <th>3</th>\n",
       "      <td>66491.663735</td>\n",
       "      <td>86.800016</td>\n",
       "      <td>765.714626</td>\n",
       "    </tr>\n",
       "    <tr>\n",
       "      <th>4</th>\n",
       "      <td>65119.111000</td>\n",
       "      <td>86.296373</td>\n",
       "      <td>755.467542</td>\n",
       "    </tr>\n",
       "  </tbody>\n",
       "</table>\n",
       "</div>"
      ],
      "text/plain": [
       "          sales  pct_to_target  sales_target\n",
       "0  65236.459022      86.100322    758.039075\n",
       "1  67311.714229      86.656032    775.921845\n",
       "2  64238.067826      87.089983    736.946172\n",
       "3  66491.663735      86.800016    765.714626\n",
       "4  65119.111000      86.296373    755.467542"
      ]
     },
     "execution_count": 13,
     "metadata": {},
     "output_type": "execute_result"
    }
   ],
   "source": [
    "results = pd.DataFrame(all_stats, columns=['sales', 'pct_to_target', 'sales_target'])                    \n",
    "results.head()"
   ]
  },
  {
   "cell_type": "code",
   "execution_count": 14,
   "id": "e2db9107",
   "metadata": {},
   "outputs": [
    {
     "data": {
      "text/plain": [
       "<AxesSubplot:>"
      ]
     },
     "execution_count": 14,
     "metadata": {},
     "output_type": "execute_result"
    },
    {
     "data": {
      "image/png": "[encoded data removed]",
      "text/plain": [
       "<Figure size 432x288 with 1 Axes>"
      ]
     },
     "metadata": {
      "needs_background": "light"
     },
     "output_type": "display_data"
    }
   ],
   "source": [
    "results.pct_to_target.hist()"
   ]
  },
  {
   "cell_type": "code",
   "execution_count": 15,
   "id": "9ef64b15",
   "metadata": {},
   "outputs": [
    {
     "data": {
      "text/plain": [
       "(85.78031408867317, 87.34112573555427)"
      ]
     },
     "execution_count": 15,
     "metadata": {},
     "output_type": "execute_result"
    }
   ],
   "source": [
    "results.pct_to_target.quantile(.025),results.pct_to_target.quantile(.975)"
   ]
  },
  {
   "cell_type": "markdown",
   "id": "41c4d908",
   "metadata": {},
   "source": [
    "For 95% confidence level, the percentage to target is between 85.7995% and 87.4062%."
   ]
  },
  {
   "cell_type": "code",
   "execution_count": null,
   "id": "6f5ffc6f",
   "metadata": {},
   "outputs": [],
   "source": []
  }
 ],
 "metadata": {
  "hide_input": false,
  "kernelspec": {
   "display_name": "Python 3 (ipykernel)",
   "language": "python",
   "name": "python3"
  },
  "language_info": {
   "codemirror_mode": {
    "name": "ipython",
    "version": 3
   },
   "file_extension": ".py",
   "mimetype": "text/x-python",
   "name": "python",
   "nbconvert_exporter": "python",
   "pygments_lexer": "ipython3",
   "version": "3.8.12"
  }
 },
 "nbformat": 4,
 "nbformat_minor": 5
}
