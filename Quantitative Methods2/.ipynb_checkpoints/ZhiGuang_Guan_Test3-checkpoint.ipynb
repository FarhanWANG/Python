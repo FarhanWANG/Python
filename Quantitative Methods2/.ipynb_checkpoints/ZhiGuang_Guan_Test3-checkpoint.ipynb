{
 "cells": [
  {
   "cell_type": "code",
   "execution_count": 1,
   "id": "d9849855",
   "metadata": {},
   "outputs": [
    {
     "name": "stderr",
     "output_type": "stream",
     "text": [
      "C:\\ProgramData\\Anaconda3\\lib\\site-packages\\statsmodels\\compat\\pandas.py:61: FutureWarning: pandas.Int64Index is deprecated and will be removed from pandas in a future version. Use pandas.Index with the appropriate dtype instead.\n",
      "  from pandas import Int64Index as NumericIndex\n"
     ]
    }
   ],
   "source": [
    "%matplotlib inline\n",
    "from pathlib import Path\n",
    "import math\n",
    "import numpy as np\n",
    "import pandas as pd\n",
    "import matplotlib.pylab as plt\n",
    "import statsmodels.formula.api as sm\n",
    "from statsmodels.tsa import tsatools, stattools\n",
    "from statsmodels.tsa.arima_model import ARIMA\n",
    "from statsmodels.graphics import tsaplots\n",
    "from dmba import regressionSummary"
   ]
  },
  {
   "cell_type": "markdown",
   "id": "c5e5055b",
   "metadata": {},
   "source": [
    "# Q1"
   ]
  },
  {
   "cell_type": "markdown",
   "id": "5116570b",
   "metadata": {},
   "source": [
    "(a)"
   ]
  },
  {
   "cell_type": "code",
   "execution_count": 2,
   "id": "b8a883c4",
   "metadata": {},
   "outputs": [
    {
     "data": {
      "text/html": [
       "<div>\n",
       "<style scoped>\n",
       "    .dataframe tbody tr th:only-of-type {\n",
       "        vertical-align: middle;\n",
       "    }\n",
       "\n",
       "    .dataframe tbody tr th {\n",
       "        vertical-align: top;\n",
       "    }\n",
       "\n",
       "    .dataframe thead th {\n",
       "        text-align: right;\n",
       "    }\n",
       "</style>\n",
       "<table border=\"1\" class=\"dataframe\">\n",
       "  <thead>\n",
       "    <tr style=\"text-align: right;\">\n",
       "      <th></th>\n",
       "      <th>Date</th>\n",
       "      <th>Sales</th>\n",
       "    </tr>\n",
       "  </thead>\n",
       "  <tbody>\n",
       "    <tr>\n",
       "      <th>0</th>\n",
       "      <td>Jan-95</td>\n",
       "      <td>1664.81</td>\n",
       "    </tr>\n",
       "    <tr>\n",
       "      <th>1</th>\n",
       "      <td>Feb-95</td>\n",
       "      <td>2397.53</td>\n",
       "    </tr>\n",
       "    <tr>\n",
       "      <th>2</th>\n",
       "      <td>Mar-95</td>\n",
       "      <td>2840.71</td>\n",
       "    </tr>\n",
       "    <tr>\n",
       "      <th>3</th>\n",
       "      <td>Apr-95</td>\n",
       "      <td>3547.29</td>\n",
       "    </tr>\n",
       "    <tr>\n",
       "      <th>4</th>\n",
       "      <td>May-95</td>\n",
       "      <td>3752.96</td>\n",
       "    </tr>\n",
       "    <tr>\n",
       "      <th>...</th>\n",
       "      <td>...</td>\n",
       "      <td>...</td>\n",
       "    </tr>\n",
       "    <tr>\n",
       "      <th>79</th>\n",
       "      <td>Aug-01</td>\n",
       "      <td>28586.52</td>\n",
       "    </tr>\n",
       "    <tr>\n",
       "      <th>80</th>\n",
       "      <td>Sep-01</td>\n",
       "      <td>30505.41</td>\n",
       "    </tr>\n",
       "    <tr>\n",
       "      <th>81</th>\n",
       "      <td>Oct-01</td>\n",
       "      <td>30821.33</td>\n",
       "    </tr>\n",
       "    <tr>\n",
       "      <th>82</th>\n",
       "      <td>Nov-01</td>\n",
       "      <td>46634.38</td>\n",
       "    </tr>\n",
       "    <tr>\n",
       "      <th>83</th>\n",
       "      <td>Dec-01</td>\n",
       "      <td>104660.67</td>\n",
       "    </tr>\n",
       "  </tbody>\n",
       "</table>\n",
       "<p>84 rows × 2 columns</p>\n",
       "</div>"
      ],
      "text/plain": [
       "      Date      Sales\n",
       "0   Jan-95    1664.81\n",
       "1   Feb-95    2397.53\n",
       "2   Mar-95    2840.71\n",
       "3   Apr-95    3547.29\n",
       "4   May-95    3752.96\n",
       "..     ...        ...\n",
       "79  Aug-01   28586.52\n",
       "80  Sep-01   30505.41\n",
       "81  Oct-01   30821.33\n",
       "82  Nov-01   46634.38\n",
       "83  Dec-01  104660.67\n",
       "\n",
       "[84 rows x 2 columns]"
      ]
     },
     "execution_count": 2,
     "metadata": {},
     "output_type": "execute_result"
    }
   ],
   "source": [
    "df = pd.read_csv('SouvenirSales.csv')\n",
    "df"
   ]
  },
  {
   "cell_type": "code",
   "execution_count": 3,
   "id": "bdadc52d",
   "metadata": {},
   "outputs": [
    {
     "data": {
      "text/plain": [
       "Date\n",
       "1995-01-01      1664.81\n",
       "1995-02-01      2397.53\n",
       "1995-03-01      2840.71\n",
       "1995-04-01      3547.29\n",
       "1995-05-01      3752.96\n",
       "                ...    \n",
       "2001-08-01     28586.52\n",
       "2001-09-01     30505.41\n",
       "2001-10-01     30821.33\n",
       "2001-11-01     46634.38\n",
       "2001-12-01    104660.67\n",
       "Freq: MS, Name: Sales, Length: 84, dtype: float64"
      ]
     },
     "execution_count": 3,
     "metadata": {},
     "output_type": "execute_result"
    }
   ],
   "source": [
    "df['Date'] = pd.to_datetime(df.Date, format='%b-%y')\n",
    "df_ts= pd.Series(df.Sales.values, index=df.Date, name='Sales')\n",
    "df_ts.index=pd.DatetimeIndex(df_ts.index, freq=df_ts.index.inferred_freq)\n",
    "df_ts"
   ]
  },
  {
   "cell_type": "code",
   "execution_count": 4,
   "id": "b5078edb",
   "metadata": {},
   "outputs": [],
   "source": [
    "#fitting model\n",
    "df_ = tsatools.add_trend(df_ts,trend='ct')\n",
    "df_lm = sm.ols(formula='Sales ~ trend', data=df_).fit()"
   ]
  },
  {
   "cell_type": "code",
   "execution_count": 5,
   "id": "69e70495",
   "metadata": {},
   "outputs": [
    {
     "data": {
      "image/png": "[encoded data removed]",
      "text/plain": [
       "<Figure size 432x288 with 1 Axes>"
      ]
     },
     "metadata": {
      "needs_background": "light"
     },
     "output_type": "display_data"
    }
   ],
   "source": [
    "ax = df_ts.plot()\n",
    "df_lm.predict(df_).plot(ax=ax)\n",
    "plt.show()"
   ]
  },
  {
   "cell_type": "markdown",
   "id": "3e229b8b",
   "metadata": {},
   "source": [
    "(b)"
   ]
  },
  {
   "cell_type": "code",
   "execution_count": 6,
   "id": "ec5aaf32",
   "metadata": {},
   "outputs": [
    {
     "data": {
      "text/html": [
       "<div>\n",
       "<style scoped>\n",
       "    .dataframe tbody tr th:only-of-type {\n",
       "        vertical-align: middle;\n",
       "    }\n",
       "\n",
       "    .dataframe tbody tr th {\n",
       "        vertical-align: top;\n",
       "    }\n",
       "\n",
       "    .dataframe thead th {\n",
       "        text-align: right;\n",
       "    }\n",
       "</style>\n",
       "<table border=\"1\" class=\"dataframe\">\n",
       "  <thead>\n",
       "    <tr style=\"text-align: right;\">\n",
       "      <th></th>\n",
       "      <th>Date</th>\n",
       "      <th>Sales</th>\n",
       "      <th>logSales</th>\n",
       "    </tr>\n",
       "  </thead>\n",
       "  <tbody>\n",
       "    <tr>\n",
       "      <th>0</th>\n",
       "      <td>1995-01-01</td>\n",
       "      <td>1664.81</td>\n",
       "      <td>7.417466</td>\n",
       "    </tr>\n",
       "    <tr>\n",
       "      <th>1</th>\n",
       "      <td>1995-02-01</td>\n",
       "      <td>2397.53</td>\n",
       "      <td>7.782194</td>\n",
       "    </tr>\n",
       "    <tr>\n",
       "      <th>2</th>\n",
       "      <td>1995-03-01</td>\n",
       "      <td>2840.71</td>\n",
       "      <td>7.951809</td>\n",
       "    </tr>\n",
       "    <tr>\n",
       "      <th>3</th>\n",
       "      <td>1995-04-01</td>\n",
       "      <td>3547.29</td>\n",
       "      <td>8.173939</td>\n",
       "    </tr>\n",
       "    <tr>\n",
       "      <th>4</th>\n",
       "      <td>1995-05-01</td>\n",
       "      <td>3752.96</td>\n",
       "      <td>8.230300</td>\n",
       "    </tr>\n",
       "    <tr>\n",
       "      <th>...</th>\n",
       "      <td>...</td>\n",
       "      <td>...</td>\n",
       "      <td>...</td>\n",
       "    </tr>\n",
       "    <tr>\n",
       "      <th>79</th>\n",
       "      <td>2001-08-01</td>\n",
       "      <td>28586.52</td>\n",
       "      <td>10.260691</td>\n",
       "    </tr>\n",
       "    <tr>\n",
       "      <th>80</th>\n",
       "      <td>2001-09-01</td>\n",
       "      <td>30505.41</td>\n",
       "      <td>10.325659</td>\n",
       "    </tr>\n",
       "    <tr>\n",
       "      <th>81</th>\n",
       "      <td>2001-10-01</td>\n",
       "      <td>30821.33</td>\n",
       "      <td>10.335962</td>\n",
       "    </tr>\n",
       "    <tr>\n",
       "      <th>82</th>\n",
       "      <td>2001-11-01</td>\n",
       "      <td>46634.38</td>\n",
       "      <td>10.750093</td>\n",
       "    </tr>\n",
       "    <tr>\n",
       "      <th>83</th>\n",
       "      <td>2001-12-01</td>\n",
       "      <td>104660.67</td>\n",
       "      <td>11.558479</td>\n",
       "    </tr>\n",
       "  </tbody>\n",
       "</table>\n",
       "<p>84 rows × 3 columns</p>\n",
       "</div>"
      ],
      "text/plain": [
       "         Date      Sales   logSales\n",
       "0  1995-01-01    1664.81   7.417466\n",
       "1  1995-02-01    2397.53   7.782194\n",
       "2  1995-03-01    2840.71   7.951809\n",
       "3  1995-04-01    3547.29   8.173939\n",
       "4  1995-05-01    3752.96   8.230300\n",
       "..        ...        ...        ...\n",
       "79 2001-08-01   28586.52  10.260691\n",
       "80 2001-09-01   30505.41  10.325659\n",
       "81 2001-10-01   30821.33  10.335962\n",
       "82 2001-11-01   46634.38  10.750093\n",
       "83 2001-12-01  104660.67  11.558479\n",
       "\n",
       "[84 rows x 3 columns]"
      ]
     },
     "execution_count": 6,
     "metadata": {},
     "output_type": "execute_result"
    }
   ],
   "source": [
    "df['logSales'] = np.log(df.Sales)\n",
    "df"
   ]
  },
  {
   "cell_type": "code",
   "execution_count": 7,
   "id": "5281dcf1",
   "metadata": {},
   "outputs": [
    {
     "data": {
      "image/png": "[encoded data removed]",
      "text/plain": [
       "<Figure size 432x288 with 1 Axes>"
      ]
     },
     "metadata": {
      "needs_background": "light"
     },
     "output_type": "display_data"
    }
   ],
   "source": [
    "df_ts= pd.Series(df.logSales.values, index=df.Date, name='logSales')['1996-01-01':]\n",
    "df_ts.index=pd.DatetimeIndex(df_ts.index, freq=df_ts.index.inferred_freq)\n",
    "df_ = tsatools.add_trend(df_ts,trend='ct')\n",
    "df_lm = sm.ols(formula='logSales ~ trend', data=df_).fit()\n",
    "ax = df_ts.plot()\n",
    "df_lm.predict(df_).plot(ax=ax)\n",
    "plt.show()"
   ]
  },
  {
   "cell_type": "markdown",
   "id": "aed44016",
   "metadata": {},
   "source": [
    "(c)"
   ]
  },
  {
   "cell_type": "markdown",
   "id": "fefb6d0b",
   "metadata": {},
   "source": [
    "The sales will gradually increase from each year start to end and reach the peak at the end of each year. Then the sales will drop in the next Jan.\n",
    "\n",
    "The log scale shows a linear relationship and if only in terms of yearly sales, it will become more linear."
   ]
  },
  {
   "cell_type": "markdown",
   "id": "56f98b13",
   "metadata": {},
   "source": [
    "(d)"
   ]
  },
  {
   "cell_type": "markdown",
   "id": "9c1731f9",
   "metadata": {},
   "source": [
    "Partitioning data is to prevent overfitting and test our training process"
   ]
  },
  {
   "cell_type": "code",
   "execution_count": 8,
   "id": "6205a4ac",
   "metadata": {},
   "outputs": [],
   "source": [
    "nvalid = 12\n",
    "nTrain=len(df_ts) - nvalid\n",
    "train_df = df_[:nTrain]\n",
    "valid_df = df_[nTrain:]"
   ]
  },
  {
   "cell_type": "code",
   "execution_count": 9,
   "id": "ceddd0d6",
   "metadata": {},
   "outputs": [],
   "source": [
    "df_lm = sm.ols(formula = 'logSales ~ trend', data=train_df).fit()\n",
    "predict_df = df_lm.predict(valid_df)"
   ]
  },
  {
   "cell_type": "code",
   "execution_count": 10,
   "id": "4fd6c29a",
   "metadata": {},
   "outputs": [
    {
     "data": {
      "image/png": "[encoded data removed]",
      "text/plain": [
       "<Figure size 432x288 with 1 Axes>"
      ]
     },
     "metadata": {
      "needs_background": "light"
     },
     "output_type": "display_data"
    }
   ],
   "source": [
    "ax = valid_df.plot()\n",
    "predict_df.plot(ax=ax)\n",
    "ax.set_ylim(8,12)\n",
    "plt.show()"
   ]
  },
  {
   "cell_type": "code",
   "execution_count": 11,
   "id": "09ce808b",
   "metadata": {},
   "outputs": [
    {
     "name": "stdout",
     "output_type": "stream",
     "text": [
      "                            OLS Regression Results                            \n",
      "==============================================================================\n",
      "Dep. Variable:               logSales   R-squared:                       0.403\n",
      "Model:                            OLS   Adj. R-squared:                  0.393\n",
      "Method:                 Least Squares   F-statistic:                     39.21\n",
      "Date:                Fri, 24 Jun 2022   Prob (F-statistic):           5.03e-08\n",
      "Time:                        10:32:39   Log-Likelihood:                -43.436\n",
      "No. Observations:                  60   AIC:                             90.87\n",
      "Df Residuals:                      58   BIC:                             95.06\n",
      "Df Model:                           1                                         \n",
      "Covariance Type:            nonrobust                                         \n",
      "==============================================================================\n",
      "                 coef    std err          t      P>|t|      [0.025      0.975]\n",
      "------------------------------------------------------------------------------\n",
      "Intercept      8.4907      0.133     63.975      0.000       8.225       8.756\n",
      "trend          0.0237      0.004      6.261      0.000       0.016       0.031\n",
      "==============================================================================\n",
      "Omnibus:                       17.316   Durbin-Watson:                   1.403\n",
      "Prob(Omnibus):                  0.000   Jarque-Bera (JB):               20.753\n",
      "Skew:                           1.237   Prob(JB):                     3.12e-05\n",
      "Kurtosis:                       4.478   Cond. No.                         71.1\n",
      "==============================================================================\n",
      "\n",
      "Notes:\n",
      "[1] Standard Errors assume that the covariance matrix of the errors is correctly specified.\n"
     ]
    }
   ],
   "source": [
    "print(df_lm.summary())"
   ]
  },
  {
   "cell_type": "code",
   "execution_count": null,
   "id": "7db62110",
   "metadata": {},
   "outputs": [],
   "source": []
  },
  {
   "cell_type": "markdown",
   "id": "60b0e49e",
   "metadata": {},
   "source": [
    "# Q2"
   ]
  },
  {
   "cell_type": "markdown",
   "id": "016b5db2",
   "metadata": {},
   "source": [
    "(a)"
   ]
  },
  {
   "cell_type": "code",
   "execution_count": 12,
   "id": "737d1ef2",
   "metadata": {},
   "outputs": [
    {
     "data": {
      "text/html": [
       "<div>\n",
       "<style scoped>\n",
       "    .dataframe tbody tr th:only-of-type {\n",
       "        vertical-align: middle;\n",
       "    }\n",
       "\n",
       "    .dataframe tbody tr th {\n",
       "        vertical-align: top;\n",
       "    }\n",
       "\n",
       "    .dataframe thead th {\n",
       "        text-align: right;\n",
       "    }\n",
       "</style>\n",
       "<table border=\"1\" class=\"dataframe\">\n",
       "  <thead>\n",
       "    <tr style=\"text-align: right;\">\n",
       "      <th></th>\n",
       "      <th>Hours</th>\n",
       "    </tr>\n",
       "    <tr>\n",
       "      <th>Year</th>\n",
       "      <th></th>\n",
       "    </tr>\n",
       "  </thead>\n",
       "  <tbody>\n",
       "    <tr>\n",
       "      <th>1966</th>\n",
       "      <td>37.2</td>\n",
       "    </tr>\n",
       "    <tr>\n",
       "      <th>1967</th>\n",
       "      <td>37.0</td>\n",
       "    </tr>\n",
       "    <tr>\n",
       "      <th>1968</th>\n",
       "      <td>37.4</td>\n",
       "    </tr>\n",
       "    <tr>\n",
       "      <th>1969</th>\n",
       "      <td>37.5</td>\n",
       "    </tr>\n",
       "    <tr>\n",
       "      <th>1970</th>\n",
       "      <td>37.7</td>\n",
       "    </tr>\n",
       "  </tbody>\n",
       "</table>\n",
       "</div>"
      ],
      "text/plain": [
       "      Hours\n",
       "Year       \n",
       "1966   37.2\n",
       "1967   37.0\n",
       "1968   37.4\n",
       "1969   37.5\n",
       "1970   37.7"
      ]
     },
     "execution_count": 12,
     "metadata": {},
     "output_type": "execute_result"
    }
   ],
   "source": [
    "df = pd.read_csv('CanadianWorkHours.csv').set_index('Year')\n",
    "df.head()"
   ]
  },
  {
   "cell_type": "code",
   "execution_count": 13,
   "id": "bbbd0118",
   "metadata": {},
   "outputs": [
    {
     "data": {
      "text/plain": [
       "<AxesSubplot:xlabel='Year'>"
      ]
     },
     "execution_count": 13,
     "metadata": {},
     "output_type": "execute_result"
    },
    {
     "data": {
      "image/png": "[encoded data removed]",
      "text/plain": [
       "<Figure size 432x288 with 1 Axes>"
      ]
     },
     "metadata": {
      "needs_background": "light"
     },
     "output_type": "display_data"
    }
   ],
   "source": [
    "df.plot()"
   ]
  },
  {
   "cell_type": "markdown",
   "id": "857a9a26",
   "metadata": {},
   "source": [
    "Quadratic trend model will fit the data"
   ]
  },
  {
   "cell_type": "markdown",
   "id": "2775da6c",
   "metadata": {},
   "source": [
    "(b)"
   ]
  },
  {
   "cell_type": "markdown",
   "id": "74db9ffd",
   "metadata": {},
   "source": [
    "Positive.\n",
    "\n",
    "The lag 1 autocorrelation is the correlation between values that are one time period apart. We can see from the plot that most the following period shares similar pattern/trend to the previous one (Consecutive values appear to follow one another fairly closely)"
   ]
  },
  {
   "cell_type": "markdown",
   "id": "c474bbf5",
   "metadata": {},
   "source": [
    "(c)"
   ]
  },
  {
   "cell_type": "code",
   "execution_count": 14,
   "id": "199c0191",
   "metadata": {},
   "outputs": [
    {
     "data": {
      "image/png": "[encoded data removed]",
      "text/plain": [
       "<Figure size 432x288 with 1 Axes>"
      ]
     },
     "metadata": {
      "needs_background": "light"
     },
     "output_type": "display_data"
    }
   ],
   "source": [
    "tsaplots.plot_acf(df.Hours)\n",
    "plt.show()"
   ]
  },
  {
   "cell_type": "markdown",
   "id": "fef3c022",
   "metadata": {},
   "source": [
    "The ACF plot shows the lag 1 autocorrelation is positive"
   ]
  },
  {
   "cell_type": "code",
   "execution_count": null,
   "id": "2ba01c9e",
   "metadata": {},
   "outputs": [],
   "source": []
  }
 ],
 "metadata": {
  "hide_input": false,
  "kernelspec": {
   "display_name": "Python 3 (ipykernel)",
   "language": "python",
   "name": "python3"
  },
  "language_info": {
   "codemirror_mode": {
    "name": "ipython",
    "version": 3
   },
   "file_extension": ".py",
   "mimetype": "text/x-python",
   "name": "python",
   "nbconvert_exporter": "python",
   "pygments_lexer": "ipython3",
   "version": "3.8.12"
  }
 },
 "nbformat": 4,
 "nbformat_minor": 5
}
