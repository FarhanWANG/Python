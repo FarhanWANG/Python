{
 "cells": [
  {
   "cell_type": "markdown",
   "metadata": {
    "id": "5XlBNvhVu9ys"
   },
   "source": [
    "# Chapter 13: Combining Models: Ensembles and Uplift Modeling\n",
    "\n",
    "> (c) 2019 Galit Shmueli, Peter C. Bruce, Peter Gedeck \n",
    ">\n",
    "> Code included in\n",
    ">\n",
    "> _Data Mining for Business Analytics: Concepts, Techniques, and Applications in Python_ (First Edition) \n",
    "> Galit Shmueli, Peter C. Bruce, Peter Gedeck, and Nitin R. Patel. 2019.\n",
    "\n",
    "## Import required packages"
   ]
  },
  {
   "cell_type": "code",
   "execution_count": 12,
   "metadata": {
    "colab": {
     "base_uri": "https://localhost:8080/"
    },
    "id": "KO5kFFaIu9yt",
    "outputId": "53373e7d-7e70-4b93-a349-76abf985e088"
   },
   "outputs": [
    {
     "name": "stdout",
     "output_type": "stream",
     "text": [
      "Requirement already satisfied: dmba in /usr/local/lib/python3.7/dist-packages (0.1.0)\n"
     ]
    }
   ],
   "source": [
    "%matplotlib inline\n",
    "\n",
    "from pathlib import Path\n",
    "\n",
    "import pandas as pd\n",
    "from sklearn.model_selection import train_test_split\n",
    "from sklearn.tree import DecisionTreeClassifier\n",
    "from sklearn.ensemble import AdaBoostClassifier\n",
    "from sklearn.ensemble import BaggingClassifier\n",
    "from sklearn.ensemble import RandomForestClassifier\n",
    "from sklearn.ensemble import GradientBoostingClassifier\n",
    "!pip install dmba\n",
    "from dmba import classificationSummary\n"
   ]
  },
  {
   "cell_type": "markdown",
   "metadata": {
    "id": "THwsMHUd03ku"
   },
   "source": [
    "Create a classification model to predict Personal Loan Outcomes using the following models:\n",
    "\n",
    "1. Decision Tree\n",
    "2. Random Forest \n",
    "3. Boosting\n",
    "4. Bagging\n",
    "5. Gradient Boosting\n",
    "6. rf with hyperparameter tuning\n"
   ]
  },
  {
   "cell_type": "markdown",
   "metadata": {
    "id": "G_9G6kN9u9yx"
   },
   "source": [
    "## Ensemble"
   ]
  },
  {
   "cell_type": "markdown",
   "metadata": {
    "id": "UmoQkGzsu9y1"
   },
   "source": [
    "### single tree"
   ]
  },
  {
   "cell_type": "markdown",
   "metadata": {
    "id": "3vHJPN9_u9y5"
   },
   "source": [
    "### bagging"
   ]
  },
  {
   "cell_type": "markdown",
   "metadata": {
    "id": "M7G6PBE4u9y8"
   },
   "source": [
    "### boosting"
   ]
  },
  {
   "cell_type": "markdown",
   "metadata": {
    "id": "qBjWieO237dD"
   },
   "source": [
    "Random Forest\n"
   ]
  },
  {
   "cell_type": "markdown",
   "metadata": {
    "id": "Qh7RRkvD4OHH"
   },
   "source": [
    "Gradient Boosting Classification"
   ]
  },
  {
   "cell_type": "markdown",
   "metadata": {
    "id": "LsKupWsv6RNH"
   },
   "source": [
    "RF with hyperparameters"
   ]
  }
 ],
 "metadata": {
  "colab": {
   "name": "Chapter 13 - Ensembles students.ipynb",
   "provenance": []
  },
  "hide_input": false,
  "kernelspec": {
   "display_name": "Python 3 (ipykernel)",
   "language": "python",
   "name": "python3"
  },
  "language_info": {
   "codemirror_mode": {
    "name": "ipython",
    "version": 3
   },
   "file_extension": ".py",
   "mimetype": "text/x-python",
   "name": "python",
   "nbconvert_exporter": "python",
   "pygments_lexer": "ipython3",
   "version": "3.8.12"
  }
 },
 "nbformat": 4,
 "nbformat_minor": 1
}
