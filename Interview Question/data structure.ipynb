{
 "cells": [
  {
   "cell_type": "code",
   "execution_count": 4,
   "id": "governmental-browser",
   "metadata": {},
   "outputs": [
    {
     "name": "stdout",
     "output_type": "stream",
     "text": [
      "local\n",
      "global\n",
      "global\n"
     ]
    }
   ],
   "source": [
    "x = 'global'\n",
    "def func():\n",
    "    exec('x=\"local\"')\n",
    "    exec('print(x)')\n",
    "    print(x)\n",
    "    return lambda: print(x)\n",
    "func()()"
   ]
  },
  {
   "cell_type": "code",
   "execution_count": 1,
   "id": "concrete-blues",
   "metadata": {},
   "outputs": [
    {
     "name": "stdout",
     "output_type": "stream",
     "text": [
      "a\n",
      "c\n"
     ]
    }
   ],
   "source": [
    "class A:\n",
    "    x = 'a'\n",
    "class B(A):\n",
    "    pass\n",
    "class C:\n",
    "    x = 'c'\n",
    "class D(A):\n",
    "    pass\n",
    "class Y(B,C):\n",
    "    pass\n",
    "class Z(B,C,D):\n",
    "    pass\n",
    "print(Y.x)\n",
    "print(Z.x)"
   ]
  },
  {
   "cell_type": "code",
   "execution_count": null,
   "id": "realistic-federal",
   "metadata": {},
   "outputs": [],
   "source": []
  }
 ],
 "metadata": {
  "hide_input": false,
  "kernelspec": {
   "display_name": "Python 3 (ipykernel)",
   "language": "python",
   "name": "python3"
  },
  "language_info": {
   "codemirror_mode": {
    "name": "ipython",
    "version": 3
   },
   "file_extension": ".py",
   "mimetype": "text/x-python",
   "name": "python",
   "nbconvert_exporter": "python",
   "pygments_lexer": "ipython3",
   "version": "3.8.8"
  }
 },
 "nbformat": 4,
 "nbformat_minor": 5
}
