{
 "cells": [
  {
   "cell_type": "code",
   "execution_count": 40,
   "id": "filled-preliminary",
   "metadata": {},
   "outputs": [],
   "source": [
    "n = 4\n",
    "allergic = [2,1,3,1]\n",
    "p = [3,3,1,4]\n",
    "merged = []\n",
    "for n in range(len(allergic)):\n",
    "    merged.append([allergic[n],p[n]])\n",
    "for n in range(len(merged)):\n",
    "    if merged[n][0] > merged[n][1]:\n",
    "        merged[n][1],merged[n][0] = merged[n][0],merged[n][1]\n",
    "merged = sorted(merged)\n",
    "for i in range(len(merged)):\n",
    "    if i == len(merged)-1:\n",
    "        break\n",
    "    while merged[i][0] == merged[i+1][0]:\n",
    "        merged.remove(merged[i+1])"
   ]
  },
  {
   "cell_type": "code",
   "execution_count": 41,
   "id": "associate-garlic",
   "metadata": {},
   "outputs": [
    {
     "name": "stdout",
     "output_type": "stream",
     "text": [
      "[[1, 2], [3, 3]]\n",
      "4\n"
     ]
    }
   ],
   "source": [
    "ls = merged.copy()\n",
    "subset_ls = [[1,n]]\n",
    "for pair in ls:\n",
    "    for subset in subset_ls:\n",
    "        if(pair[1]<=subset[1] and pair[0]>=subset[0]):\n",
    "            if (pair[1]==subset[1] and pair[0]==subset[0] and (pair[1]-1 == pair[0]) ):\n",
    "                subset_ls.append([pair[0]+1,subset[1]])\n",
    "                subset_ls.remove(subset)\n",
    "            else:\n",
    "                subset_ls.append([subset[0],pair[1]-1])\n",
    "                subset_ls.append([pair[0]+1,subset[1]])\n",
    "                subset_ls.remove(subset)\n",
    "\n",
    "count = 0\n",
    "for subset in subset_ls:\n",
    "    count+=(pow(2,subset[1]-subset[0]+1)  -1 )     \n",
    "\n",
    "print(subset_ls)\n",
    "print(count)"
   ]
  },
  {
   "cell_type": "code",
   "execution_count": null,
   "id": "resident-disposition",
   "metadata": {},
   "outputs": [],
   "source": []
  }
 ],
 "metadata": {
  "hide_input": false,
  "kernelspec": {
   "display_name": "Python 3 (ipykernel)",
   "language": "python",
   "name": "python3"
  },
  "language_info": {
   "codemirror_mode": {
    "name": "ipython",
    "version": 3
   },
   "file_extension": ".py",
   "mimetype": "text/x-python",
   "name": "python",
   "nbconvert_exporter": "python",
   "pygments_lexer": "ipython3",
   "version": "3.8.8"
  }
 },
 "nbformat": 4,
 "nbformat_minor": 5
}
