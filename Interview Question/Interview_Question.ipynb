{
 "cells": [
  {
   "cell_type": "markdown",
   "id": "behavioral-tractor",
   "metadata": {},
   "source": [
    "# 1."
   ]
  },
  {
   "cell_type": "code",
   "execution_count": null,
   "id": "beneficial-ready",
   "metadata": {},
   "outputs": [],
   "source": [
    "x = 'global'\n",
    "def func():\n",
    "    exec('x=\"local\"')\n",
    "    exec('print(x)')\n",
    "    print(x)\n",
    "    return lambda: print(x)"
   ]
  },
  {
   "cell_type": "code",
   "execution_count": null,
   "id": "lonely-trading",
   "metadata": {},
   "outputs": [],
   "source": [
    "func()()"
   ]
  },
  {
   "cell_type": "markdown",
   "id": "committed-argument",
   "metadata": {},
   "source": [
    "# 2. Write one Python function which compute factorial of n (n!) recursively and another one which compute this in a non-recursive manner. Which function should be faster and why?"
   ]
  },
  {
   "cell_type": "markdown",
   "id": "chinese-custody",
   "metadata": {},
   "source": [
    "# 3. Given input is an array X containing daily percentage PNLs (in chronological order) of portfolio. Write a function:¶ def compute_mdd(X) which compute the Maximum Drawdown (MDD) of this portfolio in percentage. MDD is defined as the maximum observed loss from a peak to a trough of a portfolio, before a new peak is attained.\n",
    "\n",
    "Example: X = numpy.array([1%, 2%, -3%, -5%, 2%, -3%, 5%, 5%, 5%, -7%, 2%, 3%]) The function should return -9% which comes from the sequence of daily PNLs highlighted in red (this portfolio suffers a drawdown of: (-3%) + (-5%) + (2%) + (-3%) = -9%, before returning: 5% + 5% = 10% over the next 2 days and attaining a new peak"
   ]
  },
  {
   "cell_type": "markdown",
   "id": "impossible-people",
   "metadata": {},
   "source": [
    "# 4. "
   ]
  },
  {
   "cell_type": "code",
   "execution_count": 1,
   "id": "arbitrary-contrary",
   "metadata": {},
   "outputs": [
    {
     "name": "stdout",
     "output_type": "stream",
     "text": [
      "a\n",
      "c\n"
     ]
    }
   ],
   "source": [
    "class A:\n",
    "    x = 'a'\n",
    "class B(A):\n",
    "    pass\n",
    "class C:\n",
    "    x = 'c'\n",
    "class D(A):\n",
    "    pass\n",
    "class Y(B,C):\n",
    "    pass\n",
    "class Z(B,C,D):\n",
    "    pass\n",
    "print(Y.x)\n",
    "print(Z.x)"
   ]
  },
  {
   "cell_type": "code",
   "execution_count": null,
   "id": "standing-shelter",
   "metadata": {},
   "outputs": [],
   "source": []
  }
 ],
 "metadata": {
  "kernelspec": {
   "display_name": "Python 3",
   "language": "python",
   "name": "python3"
  },
  "language_info": {
   "codemirror_mode": {
    "name": "ipython",
    "version": 3
   },
   "file_extension": ".py",
   "mimetype": "text/x-python",
   "name": "python",
   "nbconvert_exporter": "python",
   "pygments_lexer": "ipython3",
   "version": "3.8.8"
  }
 },
 "nbformat": 4,
 "nbformat_minor": 5
}
