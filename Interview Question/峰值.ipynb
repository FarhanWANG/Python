{
 "cells": [
  {
   "cell_type": "code",
   "execution_count": 49,
   "id": "bronze-intro",
   "metadata": {},
   "outputs": [
    {
     "data": {
      "text/plain": [
       "[7, 7, 7, 7, 7, 7, 5]"
      ]
     },
     "execution_count": 49,
     "metadata": {},
     "output_type": "execute_result"
    }
   ],
   "source": [
    "a = [2,3,7,7,7,7,5,6,7,7,3,5]\n",
    "res  = []\n",
    "if a[0]>a[1]:\n",
    "    res.append(a[0])\n",
    "i = 1\n",
    "while i < len(a)-1:\n",
    "    if a[i]>a[i-1] and a[i]>a[i+1]:\n",
    "        res.append(a[i])\n",
    "        \n",
    "    elif a[i]>a[i-1] and a[i]==a[i+1]:\n",
    "        count = 0\n",
    "        signal = 1\n",
    "        j = i\n",
    "        while j<len(a)-1:\n",
    "            if j == len(a)-2 and a[j]==a[j+1]:\n",
    "                count+=2\n",
    "                break\n",
    "            if a[j]<a[j+1]:\n",
    "                signal = 0\n",
    "                break\n",
    "            elif a[j]>a[j+1]:\n",
    "                count+=1\n",
    "                break\n",
    "            else:\n",
    "                count+=1\n",
    "                j+=1\n",
    "        if signal:\n",
    "            for tmp in range(count):\n",
    "                res.append(a[i])\n",
    "        i = j\n",
    "    i+=1\n",
    "if a[-1]>a[-2]:\n",
    "    res.append(a[-1])\n",
    "res"
   ]
  },
  {
   "cell_type": "code",
   "execution_count": null,
   "id": "distinguished-durham",
   "metadata": {},
   "outputs": [],
   "source": []
  },
  {
   "cell_type": "code",
   "execution_count": null,
   "id": "technological-nevada",
   "metadata": {},
   "outputs": [],
   "source": []
  }
 ],
 "metadata": {
  "hide_input": false,
  "kernelspec": {
   "display_name": "Python 3 (ipykernel)",
   "language": "python",
   "name": "python3"
  },
  "language_info": {
   "codemirror_mode": {
    "name": "ipython",
    "version": 3
   },
   "file_extension": ".py",
   "mimetype": "text/x-python",
   "name": "python",
   "nbconvert_exporter": "python",
   "pygments_lexer": "ipython3",
   "version": "3.8.8"
  }
 },
 "nbformat": 4,
 "nbformat_minor": 5
}
