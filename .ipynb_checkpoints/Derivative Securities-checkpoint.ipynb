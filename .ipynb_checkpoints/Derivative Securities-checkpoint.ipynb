{
 "cells": [
  {
   "cell_type": "markdown",
   "id": "desperate-communist",
   "metadata": {},
   "source": [
    "# FE8814 Derivative Securities – 2021- Course Project"
   ]
  },
  {
   "cell_type": "code",
   "execution_count": 1,
   "id": "practical-sharing",
   "metadata": {},
   "outputs": [],
   "source": [
    "import pandas as pd\n",
    "import numpy as np\n",
    "import matplotlib.pyplot as plt"
   ]
  },
  {
   "cell_type": "code",
   "execution_count": 2,
   "id": "ongoing-mobile",
   "metadata": {},
   "outputs": [],
   "source": [
    "data_all = pd.read_csv(\"BRK-B_all_data.csv\")\n",
    "data_all = data_all.set_index(\"Date\")[['Close']]\n",
    "data_all['Return'] = np.log(data_all.shift(1)/data_all).fillna(0)"
   ]
  },
  {
   "cell_type": "markdown",
   "id": "satisfied-saying",
   "metadata": {},
   "source": [
    "## Question 1 Modeling volatility \n",
    "Find data for historical prices for any publicly traded stock (for which the stock also trades options). To\n",
    "ensure the length of data, use daily data for at least 3 years."
   ]
  },
  {
   "cell_type": "code",
   "execution_count": 3,
   "id": "wanted-ocean",
   "metadata": {},
   "outputs": [],
   "source": [
    "testing_start_date  = \"2018-01-02\"\n",
    "data = data_all.loc[testing_start_date:].copy()\n",
    "N = len(data)\n",
    "t = np.arange(1, N + 1) # array for time points in the prediction time horizon [1, 2, 3, .. , N]\n",
    "S_0 = data.iloc[0]['Close'] # initial stock price"
   ]
  },
  {
   "cell_type": "markdown",
   "id": "mobile-scenario",
   "metadata": {},
   "source": [
    "### (a) Geometric Brownian Motion "
   ]
  },
  {
   "cell_type": "code",
   "execution_count": 4,
   "id": "finished-brunswick",
   "metadata": {},
   "outputs": [
    {
     "data": {
      "text/plain": [
       "<AxesSubplot:xlabel='Date'>"
      ]
     },
     "execution_count": 4,
     "metadata": {},
     "output_type": "execute_result"
    },
    {
     "data": {
      "image/png": "[encoded data removed]",
      "text/plain": [
       "<Figure size 432x288 with 1 Axes>"
      ]
     },
     "metadata": {
      "needs_background": "light"
     },
     "output_type": "display_data"
    }
   ],
   "source": [
    "data_GBM = data.copy()\n",
    "\n",
    "sigma = data_GBM['Return'].std() # standard deviation of historical daily returns\n",
    "mu = data_GBM['Return'].mean() + 0.5*sigma**2 # drift\n",
    "brownian_motion = np.random.normal(0, 1, N) # array for brownian increments\n",
    "brownian_path = brownian_motion.cumsum() # array for brownian path\n",
    "drift = (mu - 0.5 * sigma**2) * t\n",
    "diffusion =  sigma * brownian_path\n",
    "\n",
    "data_GBM['Simulated_Close'] = S_0 * np.exp(drift + diffusion)\n",
    "\n",
    "data_GBM[['Close','Simulated_Close']].plot()"
   ]
  },
  {
   "cell_type": "markdown",
   "id": "personalized-replication",
   "metadata": {},
   "source": [
    "### (b) 1. EWMA"
   ]
  },
  {
   "cell_type": "code",
   "execution_count": 8,
   "id": "endless-escape",
   "metadata": {},
   "outputs": [],
   "source": [
    "data_EWMA = data.copy()\n",
    "from scipy.optimize import minimize\n",
    "\n",
    "def objective_function(lambda_,data_EWMA):\n",
    "    data_EWMA['EWMA Variance'] = data_EWMA['Return'].shift()**2\n",
    "    for i in range(2,len(data_EWMA)):\n",
    "        data_EWMA.iloc[i]['EWMA Variance'] = (1-lambda_)*data_EWMA.iloc[i]['Return']**2+lambda_*data_EWMA.iloc[i-1]['EWMA Variance']\n",
    "    data_EWMA['likelihood'] = -np.log(data_EWMA['EWMA Variance'])-data_EWMA['Return']**2 /data_EWMA['EWMA Variance']\n",
    "    data_EWMA = data_EWMA.dropna()\n",
    "    return sum(data_EWMA['likelihood'])"
   ]
  },
  {
   "cell_type": "code",
   "execution_count": 10,
   "id": "informed-bullet",
   "metadata": {},
   "outputs": [
    {
     "ename": "TypeError",
     "evalue": "minimize() missing 1 required positional argument: 'x0'",
     "output_type": "error",
     "traceback": [
      "\u001b[1;31m---------------------------------------------------------------------------\u001b[0m",
      "\u001b[1;31mTypeError\u001b[0m                                 Traceback (most recent call last)",
      "\u001b[1;32m<ipython-input-10-16307eb80774>\u001b[0m in \u001b[0;36m<module>\u001b[1;34m\u001b[0m\n\u001b[1;32m----> 1\u001b[1;33m \u001b[0mres\u001b[0m \u001b[1;33m=\u001b[0m \u001b[0mminimize\u001b[0m\u001b[1;33m(\u001b[0m\u001b[0mobjective_function\u001b[0m\u001b[1;33m,\u001b[0m\u001b[0mbounds\u001b[0m \u001b[1;33m=\u001b[0m \u001b[1;33m(\u001b[0m\u001b[1;36m0\u001b[0m\u001b[1;33m,\u001b[0m\u001b[1;36m1\u001b[0m\u001b[1;33m)\u001b[0m\u001b[1;33m)\u001b[0m\u001b[1;33m\u001b[0m\u001b[1;33m\u001b[0m\u001b[0m\n\u001b[0m",
      "\u001b[1;31mTypeError\u001b[0m: minimize() missing 1 required positional argument: 'x0'"
     ]
    }
   ],
   "source": [
    "res = minimize(objective_function,bounds = (0,1))"
   ]
  },
  {
   "cell_type": "markdown",
   "id": "driving-history",
   "metadata": {},
   "source": [
    "### (b) 2. GARCH(1,1)"
   ]
  },
  {
   "cell_type": "code",
   "execution_count": null,
   "id": "civilian-scanning",
   "metadata": {},
   "outputs": [],
   "source": []
  },
  {
   "cell_type": "code",
   "execution_count": null,
   "id": "crude-bryan",
   "metadata": {},
   "outputs": [],
   "source": []
  }
 ],
 "metadata": {
  "kernelspec": {
   "display_name": "Python 3",
   "language": "python",
   "name": "python3"
  },
  "language_info": {
   "codemirror_mode": {
    "name": "ipython",
    "version": 3
   },
   "file_extension": ".py",
   "mimetype": "text/x-python",
   "name": "python",
   "nbconvert_exporter": "python",
   "pygments_lexer": "ipython3",
   "version": "3.8.8"
  }
 },
 "nbformat": 4,
 "nbformat_minor": 5
}
