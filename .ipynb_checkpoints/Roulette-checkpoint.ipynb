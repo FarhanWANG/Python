{
 "cells": [
  {
   "cell_type": "code",
   "execution_count": 26,
   "id": "silent-slave",
   "metadata": {},
   "outputs": [],
   "source": [
    "class point:\n",
    "    def __init__(self,number = None):\n",
    "        self.number = number\n",
    "        self.color = None\n",
    "        self.parity = None\n",
    "        \n",
    "    \n",
    "    def num2color(self,number):\n",
    "        if not number:\n",
    "            return None\n",
    "        if 1<=number<=10 or 19<=number<=28:\n",
    "            color = 'Red' if number % 2 == 1 else 'Black'\n",
    "        elif 11<=number<=18 or 29<=number<=36:\n",
    "            color = 'Red' if number % 2 == 0 else 'Black'\n",
    "        else:\n",
    "            color = \"Green\"\n",
    "        return color\n",
    "    \n",
    "    def num2parity(self,number):\n",
    "        if not number:\n",
    "            return None\n",
    "        if number % 2 == 0:\n",
    "            parity = 'Even'\n",
    "        elif number % 2 == 1:\n",
    "            parity = 'Odd'\n",
    "        else:\n",
    "            parity = 'Zero'\n",
    "        return parity\n",
    "    \n",
    "    def Initialization(self):\n",
    "        self.color = self.num2color(self.number)\n",
    "        self.parity = self.num2parity(self.number)"
   ]
  },
  {
   "cell_type": "code",
   "execution_count": 4,
   "id": "obvious-butter",
   "metadata": {},
   "outputs": [],
   "source": [
    "import random\n",
    "point_ls = []\n",
    "for i in range(10):\n",
    "    point_tmp=point(random.randint(0,36))\n",
    "    point_tmp.Initialization()\n",
    "    point_ls.append(point_tmp)"
   ]
  },
  {
   "cell_type": "code",
   "execution_count": 7,
   "id": "expanded-action",
   "metadata": {},
   "outputs": [
    {
     "data": {
      "text/plain": [
       "16"
      ]
     },
     "execution_count": 7,
     "metadata": {},
     "output_type": "execute_result"
    }
   ],
   "source": [
    "point_ls[0].number"
   ]
  },
  {
   "cell_type": "code",
   "execution_count": 27,
   "id": "middle-procedure",
   "metadata": {},
   "outputs": [
    {
     "data": {
      "text/plain": [
       "'Black'"
      ]
     },
     "execution_count": 27,
     "metadata": {},
     "output_type": "execute_result"
    }
   ],
   "source": [
    "point().num2color(10)"
   ]
  },
  {
   "cell_type": "code",
   "execution_count": null,
   "id": "simple-equivalent",
   "metadata": {},
   "outputs": [],
   "source": []
  }
 ],
 "metadata": {
  "kernelspec": {
   "display_name": "Python 3",
   "language": "python",
   "name": "python3"
  },
  "language_info": {
   "codemirror_mode": {
    "name": "ipython",
    "version": 3
   },
   "file_extension": ".py",
   "mimetype": "text/x-python",
   "name": "python",
   "nbconvert_exporter": "python",
   "pygments_lexer": "ipython3",
   "version": "3.8.8"
  }
 },
 "nbformat": 4,
 "nbformat_minor": 5
}
