{
 "cells": [
  {
   "cell_type": "code",
   "execution_count": 1,
   "metadata": {},
   "outputs": [],
   "source": [
    "import numpy as np"
   ]
  },
  {
   "cell_type": "markdown",
   "metadata": {},
   "source": [
    "# 1. Write one Python function which compute factorial of n (n!) recursively and another one which compute this in a non-recursive manner. Which function should be faster and why?"
   ]
  },
  {
   "cell_type": "code",
   "execution_count": 2,
   "metadata": {},
   "outputs": [],
   "source": [
    "num = 3"
   ]
  },
  {
   "cell_type": "markdown",
   "metadata": {},
   "source": [
    "## Recursive"
   ]
  },
  {
   "cell_type": "code",
   "execution_count": 3,
   "metadata": {},
   "outputs": [
    {
     "name": "stdout",
     "output_type": "stream",
     "text": [
      "The factorial of 3 is 6\n"
     ]
    }
   ],
   "source": [
    "def recur_factorial(n): \n",
    "    if n == 1: return n\n",
    "    else: return n*recur_factorial(n-1)  \n",
    "if num < 0:\n",
    "    print(\"Sorry, factorial does not exist for negative numbers\")  \n",
    "elif num == 0:  \n",
    "    print(\"The factorial of 0 is 1\")  \n",
    "else:  \n",
    "    print(\"The factorial of\",num,\"is\",recur_factorial(num))  "
   ]
  },
  {
   "cell_type": "markdown",
   "metadata": {},
   "source": [
    "## Non-recursive"
   ]
  },
  {
   "cell_type": "code",
   "execution_count": 4,
   "metadata": {},
   "outputs": [
    {
     "name": "stdout",
     "output_type": "stream",
     "text": [
      "The factorial of 3 is 6\n"
     ]
    }
   ],
   "source": [
    "def nonrecur_factorial(n):\n",
    "    fact = 1\n",
    "    for num in range(2, n + 1):\n",
    "        fact *= num\n",
    "    return fact\n",
    "if num < 0:  \n",
    "    print(\"Sorry, factorial does not exist for negative numbers\")  \n",
    "elif num == 0:  \n",
    "    print(\"The factorial of 0 is 1\")  \n",
    "else:  \n",
    "    print(\"The factorial of\",num,\"is\",nonrecur_factorial(num))  "
   ]
  },
  {
   "cell_type": "markdown",
   "metadata": {},
   "source": [
    "## The two approaches are essentially the same because their time complexities are both O(n)."
   ]
  },
  {
   "cell_type": "code",
   "execution_count": null,
   "metadata": {},
   "outputs": [],
   "source": []
  },
  {
   "cell_type": "markdown",
   "metadata": {},
   "source": [
    "# 2. Given input is an array X containing daily percentage PNLs (in chronological order) of portfolio. Write a function:\n",
    "\n",
    "## def compute_mdd(X)\n",
    "\n",
    "which compute the Maximum Drawdown (MDD) of this portfolio in percentage. \n",
    "MDD is defined as the maximum observed loss from a peak to a trough of a portfolio, before a new peak is attained.\n",
    "\n",
    "\n",
    "Example: X = numpy.array([1%, 2%, -3%, -5%, 2%, -3%, 5%, 5%, 5%, -7%, 2%, 3%])\n",
    "The function should return -9% which comes from the sequence of daily PNLs highlighted in red (this portfolio suffers a drawdown of: (-3%) + (-5%) + (2%) + (-3%) = -9%, before returning: 5% + 5% = 10% over the next 2 days and attaining a new peak\n"
   ]
  },
  {
   "cell_type": "code",
   "execution_count": 1,
   "metadata": {},
   "outputs": [],
   "source": [
    "def compute_mdd(X):\n",
    "    values = np.cumsum(X)\n",
    "    drawdowns = []\n",
    "    \n",
    "    max_so_far = values[0]\n",
    "    for i in range(len(values)):\n",
    "        if values[i] > max_so_far:\n",
    "            drawdown = 0\n",
    "            drawdowns.append(drawdown)\n",
    "            max_so_far = values[i]\n",
    "        else:\n",
    "            drawdown = max_so_far - values[i]\n",
    "            drawdowns.append(drawdown)\n",
    "    print(values)\n",
    "    print(drawdowns)\n",
    "    return round(max(drawdowns),2)"
   ]
  },
  {
   "cell_type": "code",
   "execution_count": 2,
   "metadata": {},
   "outputs": [
    {
     "data": {
      "text/plain": [
       "array([ 1.00000000e-02,  3.00000000e-02,  0.00000000e+00, -5.00000000e-02,\n",
       "       -3.00000000e-02, -6.00000000e-02, -1.00000000e-02,  4.00000000e-02,\n",
       "        9.00000000e-02,  2.00000000e-02,  3.46944695e-18,  3.00000000e-02])"
      ]
     },
     "execution_count": 2,
     "metadata": {},
     "output_type": "execute_result"
    }
   ],
   "source": [
    "X = [0.01,0.02,-0.03,-0.05,0.02,-0.03,0.05,0.05,0.05,-0.07,-0.02,0.03]\n",
    "compute_mdd(X)"
   ]
  },
  {
   "cell_type": "markdown",
   "metadata": {},
   "source": [
    "# 3. Given input is a string S consisting of lower case English (from a to z) and having maximum length of 100 letters. Write a function:\n",
    "\n",
    "## def get_total_number_of_identical_sub_string(S)\n",
    "\n",
    "which returns an integer that represents the number of ways we can select a non-empty substring of S where all the characters of the substring are identical (substring which contains only 1 letter is also considered qualified for this criteria). Two substrings with the same letters but different locations are still considered different.\n",
    "\n",
    "Example:\n",
    "-\tif S = \"a\", then the return shold be just 1 as it contains only 1 such substring: \"a\"\n",
    "-\tS = \"aaaba\" then the return should be 8 (4 instances of \"a\", 1 instance of \"b\", 2 instances of \"aa\" and 1 instance of \"aaa\")\n"
   ]
  },
  {
   "cell_type": "code",
   "execution_count": 9,
   "metadata": {},
   "outputs": [
    {
     "data": {
      "text/plain": [
       "8"
      ]
     },
     "execution_count": 9,
     "metadata": {},
     "output_type": "execute_result"
    }
   ],
   "source": [
    "S = \"aaaba\"\n",
    "def get_total_number_of_identical_sub_string(S):\n",
    "    idx_begin, idx_end, result = 0, 0, 0\n",
    "    while idx_begin<len(S):\n",
    "        while idx_end<len(S):\n",
    "            if S[idx_end]!=S[idx_begin]:\n",
    "                break\n",
    "            idx_end+=1\n",
    "            \n",
    "        result+=(idx_end-idx_begin+1)*(idx_end-idx_begin)/2\n",
    "        \n",
    "        idx_begin=idx_end\n",
    "    return round(result)\n",
    "\n",
    "get_total_number_of_identical_sub_string(S)"
   ]
  },
  {
   "cell_type": "code",
   "execution_count": null,
   "metadata": {},
   "outputs": [],
   "source": []
  },
  {
   "cell_type": "code",
   "execution_count": null,
   "metadata": {},
   "outputs": [],
   "source": []
  }
 ],
 "metadata": {
  "hide_input": false,
  "kernelspec": {
   "display_name": "Python 3 (ipykernel)",
   "language": "python",
   "name": "python3"
  },
  "language_info": {
   "codemirror_mode": {
    "name": "ipython",
    "version": 3
   },
   "file_extension": ".py",
   "mimetype": "text/x-python",
   "name": "python",
   "nbconvert_exporter": "python",
   "pygments_lexer": "ipython3",
   "version": "3.8.8"
  }
 },
 "nbformat": 4,
 "nbformat_minor": 4
}
