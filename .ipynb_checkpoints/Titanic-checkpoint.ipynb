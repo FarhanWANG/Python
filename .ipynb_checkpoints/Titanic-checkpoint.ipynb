{
 "cells": [
  {
   "cell_type": "code",
   "execution_count": 18,
   "metadata": {},
   "outputs": [
    {
     "name": "stdout",
     "output_type": "stream",
     "text": [
      "data/titanic3.xls data file already exists\n"
     ]
    }
   ],
   "source": [
    "import urllib.request\n",
    "import os\n",
    "data_url=\"http://biostat.mc.vanderbilt.edu/wiki/pub/Main/DataSets/titanic3.xls\"\n",
    "data_file_path=\"data/titanic3.xls\"\n",
    "\n",
    "if not os.path.isfile(data_file_path):\n",
    "    result=urllib.request.urlretrieve(data_url,data_file_path)\n",
    "    print(\"downloaded:\",result)\n",
    "else:\n",
    "    print(data_file_path,\"data file already exists\")"
   ]
  },
  {
   "cell_type": "code",
   "execution_count": 19,
   "metadata": {},
   "outputs": [],
   "source": [
    "import numpy\n",
    "import pandas as pd\n",
    "#读取数据文件为DataFrame格式\n",
    "df_data= pd.read_excel(data_file_path)"
   ]
  },
  {
   "cell_type": "code",
   "execution_count": 20,
   "metadata": {},
   "outputs": [],
   "source": [
    "# df_data.describe()"
   ]
  },
  {
   "cell_type": "code",
   "execution_count": 34,
   "metadata": {},
   "outputs": [],
   "source": [
    "#筛选特征字段\n",
    "selected_cols=['survived','name','pclass','sex','age','sibsp','parch','fare','embarked']\n",
    "selected_df_data=df_data[selected_cols]"
   ]
  },
  {
   "cell_type": "code",
   "execution_count": 23,
   "metadata": {},
   "outputs": [],
   "source": [
    "# selected_df_data.isnull().sum()"
   ]
  },
  {
   "cell_type": "code",
   "execution_count": 24,
   "metadata": {},
   "outputs": [],
   "source": [
    "# #填充null数据\n",
    "# age_mean_value=selected_df_data['age'].mean()\n",
    "# selected_df_data['age']=selected_df_data['age'].fillna(age_mean_value)\n",
    "# fare_mean_value=selected_df_data['fare'].mean()\n",
    "# selected_df_data['fare']=selected_df_data['fare'].fillna(fare_mean_value)\n",
    "# selected_df_data['embarked']=selected_df_data['embarked'].fillna('s')"
   ]
  },
  {
   "cell_type": "code",
   "execution_count": 26,
   "metadata": {},
   "outputs": [],
   "source": [
    "# #字符串转换为数字编码\n",
    "# selected_df_data['sex']=selected_df_data['sex'].map({'female':0,'male':1}).astype(int)\n",
    "# selected_df_data['embarked']=selected_df_data['embarked'].map({'C':0,'Q':1,'S':2}).astype(int)"
   ]
  },
  {
   "cell_type": "code",
   "execution_count": 27,
   "metadata": {},
   "outputs": [],
   "source": [
    "# selected_df_data=selected_df_data.drop(['name'],axis=1)"
   ]
  },
  {
   "cell_type": "code",
   "execution_count": 29,
   "metadata": {},
   "outputs": [],
   "source": [
    "# #分离标签\n",
    "# ndarray_data=selected_df_data.values\n",
    "# features=ndarray_data[:,1:]\n",
    "# label=ndarray_data[:,0]"
   ]
  },
  {
   "cell_type": "code",
   "execution_count": 30,
   "metadata": {},
   "outputs": [],
   "source": [
    "from sklearn import preprocessing\n",
    "# #将特征值标准化 取值范围0-1\n",
    "# minmax_scale=preprocessing.MinMaxScaler(feature_range=(0,1))\n",
    "# norm_features=minmax_scale.fit_transform(features)"
   ]
  },
  {
   "cell_type": "code",
   "execution_count": 32,
   "metadata": {},
   "outputs": [],
   "source": [
    "def prepare_data(df_data):\n",
    "    df=df_data.drop(['name'],axis=1) #删除姓名列\n",
    "    age_mean_value=df['age'].mean()\n",
    "    df['age']=df['age'].fillna(age_mean_value)\n",
    "    fare_mean_value=df['fare'].mean()\n",
    "    df['fare']=df['fare'].fillna(fare_mean_value)\n",
    "    df['embarked']=df['embarked'].fillna('S')\n",
    "    #字符串转换为数字编码\n",
    "    df['sex']=df['sex'].map({'female':0,'male':1}).astype(int)\n",
    "    df['embarked']=df['embarked'].map({'C':0,'Q':1,'S':2}).astype(int)\n",
    "    \n",
    "    #分离标签\n",
    "    ndarray_data=df.values\n",
    "    features=ndarray_data[:,1:]\n",
    "    label=ndarray_data[:,0]\n",
    "    \n",
    "    #将特征值标准化 取值范围0-1\n",
    "    minmax_scale=preprocessing.MinMaxScaler(feature_range=(0,1))\n",
    "    norm_features=minmax_scale.fit_transform(features)\n",
    "    \n",
    "    return norm_features,label"
   ]
  },
  {
   "cell_type": "code",
   "execution_count": 36,
   "metadata": {},
   "outputs": [],
   "source": [
    "#shuffle,打乱数据顺序后进行划分训练集和测试集,通过pandas抽样函数sample实现，frac为百分比\n",
    "shuffled_df_data=selected_df_data.sample(frac=1)\n",
    "x_data,y_data=prepare_data(shuffled_df_data)\n",
    "train_size=int(len(x_data) *0.8)\n",
    "x_train=x_data[:train_size]\n",
    "y_train=y_data[:train_size]\n",
    "\n",
    "x_test=x_data[train_size:]\n",
    "y_test=y_data[train_size:]"
   ]
  },
  {
   "cell_type": "code",
   "execution_count": 37,
   "metadata": {},
   "outputs": [
    {
     "name": "stderr",
     "output_type": "stream",
     "text": [
      "C:\\Users\\Farhan\\anaconda3\\lib\\site-packages\\tensorflow\\python\\framework\\dtypes.py:516: FutureWarning: Passing (type, 1) or '1type' as a synonym of type is deprecated; in a future version of numpy, it will be understood as (type, (1,)) / '(1,)type'.\n",
      "  _np_qint8 = np.dtype([(\"qint8\", np.int8, 1)])\n",
      "C:\\Users\\Farhan\\anaconda3\\lib\\site-packages\\tensorflow\\python\\framework\\dtypes.py:517: FutureWarning: Passing (type, 1) or '1type' as a synonym of type is deprecated; in a future version of numpy, it will be understood as (type, (1,)) / '(1,)type'.\n",
      "  _np_quint8 = np.dtype([(\"quint8\", np.uint8, 1)])\n",
      "C:\\Users\\Farhan\\anaconda3\\lib\\site-packages\\tensorflow\\python\\framework\\dtypes.py:518: FutureWarning: Passing (type, 1) or '1type' as a synonym of type is deprecated; in a future version of numpy, it will be understood as (type, (1,)) / '(1,)type'.\n",
      "  _np_qint16 = np.dtype([(\"qint16\", np.int16, 1)])\n",
      "C:\\Users\\Farhan\\anaconda3\\lib\\site-packages\\tensorflow\\python\\framework\\dtypes.py:519: FutureWarning: Passing (type, 1) or '1type' as a synonym of type is deprecated; in a future version of numpy, it will be understood as (type, (1,)) / '(1,)type'.\n",
      "  _np_quint16 = np.dtype([(\"quint16\", np.uint16, 1)])\n",
      "C:\\Users\\Farhan\\anaconda3\\lib\\site-packages\\tensorflow\\python\\framework\\dtypes.py:520: FutureWarning: Passing (type, 1) or '1type' as a synonym of type is deprecated; in a future version of numpy, it will be understood as (type, (1,)) / '(1,)type'.\n",
      "  _np_qint32 = np.dtype([(\"qint32\", np.int32, 1)])\n",
      "C:\\Users\\Farhan\\anaconda3\\lib\\site-packages\\tensorflow\\python\\framework\\dtypes.py:525: FutureWarning: Passing (type, 1) or '1type' as a synonym of type is deprecated; in a future version of numpy, it will be understood as (type, (1,)) / '(1,)type'.\n",
      "  np_resource = np.dtype([(\"resource\", np.ubyte, 1)])\n"
     ]
    },
    {
     "name": "stdout",
     "output_type": "stream",
     "text": [
      "WARNING:tensorflow:From C:\\Users\\Farhan\\anaconda3\\lib\\site-packages\\tensorflow\\python\\keras\\initializers.py:119: calling RandomUniform.__init__ (from tensorflow.python.ops.init_ops) with dtype is deprecated and will be removed in a future version.\n",
      "Instructions for updating:\n",
      "Call initializer instance with the dtype argument instead of passing it to the constructor\n",
      "WARNING:tensorflow:From C:\\Users\\Farhan\\anaconda3\\lib\\site-packages\\tensorflow\\python\\ops\\init_ops.py:1251: calling VarianceScaling.__init__ (from tensorflow.python.ops.init_ops) with dtype is deprecated and will be removed in a future version.\n",
      "Instructions for updating:\n",
      "Call initializer instance with the dtype argument instead of passing it to the constructor\n"
     ]
    },
    {
     "name": "stderr",
     "output_type": "stream",
     "text": [
      "C:\\Users\\Farhan\\anaconda3\\lib\\site-packages\\tensorboard\\compat\\tensorflow_stub\\dtypes.py:541: FutureWarning: Passing (type, 1) or '1type' as a synonym of type is deprecated; in a future version of numpy, it will be understood as (type, (1,)) / '(1,)type'.\n",
      "  _np_qint8 = np.dtype([(\"qint8\", np.int8, 1)])\n",
      "C:\\Users\\Farhan\\anaconda3\\lib\\site-packages\\tensorboard\\compat\\tensorflow_stub\\dtypes.py:542: FutureWarning: Passing (type, 1) or '1type' as a synonym of type is deprecated; in a future version of numpy, it will be understood as (type, (1,)) / '(1,)type'.\n",
      "  _np_quint8 = np.dtype([(\"quint8\", np.uint8, 1)])\n",
      "C:\\Users\\Farhan\\anaconda3\\lib\\site-packages\\tensorboard\\compat\\tensorflow_stub\\dtypes.py:543: FutureWarning: Passing (type, 1) or '1type' as a synonym of type is deprecated; in a future version of numpy, it will be understood as (type, (1,)) / '(1,)type'.\n",
      "  _np_qint16 = np.dtype([(\"qint16\", np.int16, 1)])\n",
      "C:\\Users\\Farhan\\anaconda3\\lib\\site-packages\\tensorboard\\compat\\tensorflow_stub\\dtypes.py:544: FutureWarning: Passing (type, 1) or '1type' as a synonym of type is deprecated; in a future version of numpy, it will be understood as (type, (1,)) / '(1,)type'.\n",
      "  _np_quint16 = np.dtype([(\"quint16\", np.uint16, 1)])\n",
      "C:\\Users\\Farhan\\anaconda3\\lib\\site-packages\\tensorboard\\compat\\tensorflow_stub\\dtypes.py:545: FutureWarning: Passing (type, 1) or '1type' as a synonym of type is deprecated; in a future version of numpy, it will be understood as (type, (1,)) / '(1,)type'.\n",
      "  _np_qint32 = np.dtype([(\"qint32\", np.int32, 1)])\n",
      "C:\\Users\\Farhan\\anaconda3\\lib\\site-packages\\tensorboard\\compat\\tensorflow_stub\\dtypes.py:550: FutureWarning: Passing (type, 1) or '1type' as a synonym of type is deprecated; in a future version of numpy, it will be understood as (type, (1,)) / '(1,)type'.\n",
      "  np_resource = np.dtype([(\"resource\", np.ubyte, 1)])\n"
     ]
    }
   ],
   "source": [
    "import tensorflow as tf\n",
    "\n",
    "#建立Keras序列模型\n",
    "model=tf.keras.models.Sequential()\n",
    "#units输出个数\n",
    "model.add(tf.keras.layers.Dense(units=64,input_dim=7,use_bias=True,kernel_initializer='uniform',bias_initializer='zeros',activation='relu'))\n",
    "model.add(tf.keras.layers.Dense(units=32,activation='sigmoid'))#无需指定输入层数\n",
    "model.add(tf.keras.layers.Dense(units=1,activation='sigmoid'))"
   ]
  },
  {
   "cell_type": "code",
   "execution_count": 38,
   "metadata": {},
   "outputs": [
    {
     "name": "stdout",
     "output_type": "stream",
     "text": [
      "Model: \"sequential\"\n",
      "_________________________________________________________________\n",
      "Layer (type)                 Output Shape              Param #   \n",
      "=================================================================\n",
      "dense (Dense)                (None, 64)                512       \n",
      "_________________________________________________________________\n",
      "dense_1 (Dense)              (None, 32)                2080      \n",
      "_________________________________________________________________\n",
      "dense_2 (Dense)              (None, 1)                 33        \n",
      "=================================================================\n",
      "Total params: 2,625\n",
      "Trainable params: 2,625\n",
      "Non-trainable params: 0\n",
      "_________________________________________________________________\n"
     ]
    }
   ],
   "source": [
    "model.summary()"
   ]
  },
  {
   "cell_type": "code",
   "execution_count": 39,
   "metadata": {},
   "outputs": [
    {
     "name": "stdout",
     "output_type": "stream",
     "text": [
      "WARNING:tensorflow:From C:\\Users\\Farhan\\anaconda3\\lib\\site-packages\\tensorflow\\python\\ops\\nn_impl.py:180: add_dispatch_support.<locals>.wrapper (from tensorflow.python.ops.array_ops) is deprecated and will be removed in a future version.\n",
      "Instructions for updating:\n",
      "Use tf.where in 2.0, which has the same broadcast rule as np.where\n"
     ]
    }
   ],
   "source": [
    "model.compile(optimizer=tf.keras.optimizers.Adam(0.003),loss='binary_crossentropy',metrics=['accuracy'])\n",
    "#sigmoid作为激活函数，一般loss选binary_crossentropy\n",
    "#softmax作为激活函数，一般loss选categorical_crossentropy"
   ]
  },
  {
   "cell_type": "code",
   "execution_count": 45,
   "metadata": {},
   "outputs": [
    {
     "name": "stdout",
     "output_type": "stream",
     "text": [
      "Train on 837 samples, validate on 210 samples\n",
      "Epoch 1/100\n",
      "837/837 - 0s - loss: 0.6410 - acc: 0.6225 - val_loss: 0.6487 - val_acc: 0.5429\n",
      "Epoch 2/100\n",
      "837/837 - 0s - loss: 0.5594 - acc: 0.7228 - val_loss: 0.5544 - val_acc: 0.7381\n",
      "Epoch 3/100\n",
      "837/837 - 0s - loss: 0.4921 - acc: 0.7885 - val_loss: 0.5147 - val_acc: 0.7905\n",
      "Epoch 4/100\n",
      "837/837 - 0s - loss: 0.4724 - acc: 0.7945 - val_loss: 0.4987 - val_acc: 0.7905\n",
      "Epoch 5/100\n",
      "837/837 - 0s - loss: 0.4686 - acc: 0.7897 - val_loss: 0.4834 - val_acc: 0.7857\n",
      "Epoch 6/100\n",
      "837/837 - 0s - loss: 0.4657 - acc: 0.7909 - val_loss: 0.4774 - val_acc: 0.7714\n",
      "Epoch 7/100\n",
      "837/837 - 0s - loss: 0.4612 - acc: 0.7957 - val_loss: 0.4737 - val_acc: 0.7952\n",
      "Epoch 8/100\n",
      "837/837 - 0s - loss: 0.4565 - acc: 0.7969 - val_loss: 0.4692 - val_acc: 0.7952\n",
      "Epoch 9/100\n",
      "837/837 - 0s - loss: 0.4525 - acc: 0.7981 - val_loss: 0.4674 - val_acc: 0.7952\n",
      "Epoch 10/100\n",
      "837/837 - 0s - loss: 0.4531 - acc: 0.7945 - val_loss: 0.4672 - val_acc: 0.8048\n",
      "Epoch 11/100\n",
      "837/837 - 0s - loss: 0.4538 - acc: 0.8041 - val_loss: 0.4755 - val_acc: 0.7857\n",
      "Epoch 12/100\n",
      "837/837 - 0s - loss: 0.4487 - acc: 0.8005 - val_loss: 0.4597 - val_acc: 0.7952\n",
      "Epoch 13/100\n",
      "837/837 - 0s - loss: 0.4508 - acc: 0.7993 - val_loss: 0.4562 - val_acc: 0.7905\n",
      "Epoch 14/100\n",
      "837/837 - 0s - loss: 0.4540 - acc: 0.7981 - val_loss: 0.4735 - val_acc: 0.7857\n",
      "Epoch 15/100\n",
      "837/837 - 0s - loss: 0.4465 - acc: 0.8041 - val_loss: 0.4573 - val_acc: 0.8095\n",
      "Epoch 16/100\n",
      "837/837 - 0s - loss: 0.4458 - acc: 0.7993 - val_loss: 0.4553 - val_acc: 0.8048\n",
      "Epoch 17/100\n",
      "837/837 - 0s - loss: 0.4511 - acc: 0.8065 - val_loss: 0.4531 - val_acc: 0.7952\n",
      "Epoch 18/100\n",
      "837/837 - 0s - loss: 0.4452 - acc: 0.8053 - val_loss: 0.4517 - val_acc: 0.7952\n",
      "Epoch 19/100\n",
      "837/837 - 0s - loss: 0.4452 - acc: 0.8053 - val_loss: 0.4638 - val_acc: 0.7857\n",
      "Epoch 20/100\n",
      "837/837 - 0s - loss: 0.4521 - acc: 0.7981 - val_loss: 0.4515 - val_acc: 0.8000\n",
      "Epoch 21/100\n",
      "837/837 - 0s - loss: 0.4516 - acc: 0.8029 - val_loss: 0.4492 - val_acc: 0.8000\n",
      "Epoch 22/100\n",
      "837/837 - 0s - loss: 0.4447 - acc: 0.8041 - val_loss: 0.4484 - val_acc: 0.7952\n",
      "Epoch 23/100\n",
      "837/837 - 0s - loss: 0.4476 - acc: 0.7993 - val_loss: 0.4520 - val_acc: 0.7905\n",
      "Epoch 24/100\n",
      "837/837 - 0s - loss: 0.4486 - acc: 0.8053 - val_loss: 0.4657 - val_acc: 0.7905\n",
      "Epoch 25/100\n",
      "837/837 - 0s - loss: 0.4448 - acc: 0.8088 - val_loss: 0.4546 - val_acc: 0.7810\n",
      "Epoch 26/100\n",
      "837/837 - 0s - loss: 0.4447 - acc: 0.8053 - val_loss: 0.4459 - val_acc: 0.8000\n",
      "Epoch 27/100\n",
      "837/837 - 0s - loss: 0.4407 - acc: 0.8017 - val_loss: 0.4486 - val_acc: 0.8143\n",
      "Epoch 28/100\n",
      "837/837 - 0s - loss: 0.4405 - acc: 0.8041 - val_loss: 0.4458 - val_acc: 0.7952\n",
      "Epoch 29/100\n",
      "837/837 - 0s - loss: 0.4532 - acc: 0.8053 - val_loss: 0.4713 - val_acc: 0.7714\n",
      "Epoch 30/100\n",
      "837/837 - 0s - loss: 0.4409 - acc: 0.8076 - val_loss: 0.4454 - val_acc: 0.8143\n",
      "Epoch 31/100\n",
      "837/837 - 0s - loss: 0.4397 - acc: 0.8076 - val_loss: 0.4494 - val_acc: 0.7857\n",
      "Epoch 32/100\n",
      "837/837 - 0s - loss: 0.4392 - acc: 0.8029 - val_loss: 0.4459 - val_acc: 0.8048\n",
      "Epoch 33/100\n",
      "837/837 - 0s - loss: 0.4391 - acc: 0.8065 - val_loss: 0.4442 - val_acc: 0.8095\n",
      "Epoch 34/100\n",
      "837/837 - 0s - loss: 0.4387 - acc: 0.8065 - val_loss: 0.4444 - val_acc: 0.8095\n",
      "Epoch 35/100\n",
      "837/837 - 0s - loss: 0.4403 - acc: 0.8065 - val_loss: 0.4436 - val_acc: 0.8143\n",
      "Epoch 36/100\n",
      "837/837 - 0s - loss: 0.4394 - acc: 0.8053 - val_loss: 0.4485 - val_acc: 0.8000\n",
      "Epoch 37/100\n",
      "837/837 - 0s - loss: 0.4369 - acc: 0.8124 - val_loss: 0.4427 - val_acc: 0.8095\n",
      "Epoch 38/100\n",
      "837/837 - 0s - loss: 0.4390 - acc: 0.8041 - val_loss: 0.4423 - val_acc: 0.8143\n",
      "Epoch 39/100\n",
      "837/837 - 0s - loss: 0.4391 - acc: 0.8017 - val_loss: 0.4485 - val_acc: 0.7905\n",
      "Epoch 40/100\n",
      "837/837 - 0s - loss: 0.4375 - acc: 0.8017 - val_loss: 0.4423 - val_acc: 0.8095\n",
      "Epoch 41/100\n",
      "837/837 - 0s - loss: 0.4388 - acc: 0.8005 - val_loss: 0.4414 - val_acc: 0.8143\n",
      "Epoch 42/100\n",
      "837/837 - 0s - loss: 0.4360 - acc: 0.8053 - val_loss: 0.4674 - val_acc: 0.7714\n",
      "Epoch 43/100\n",
      "837/837 - 0s - loss: 0.4406 - acc: 0.8136 - val_loss: 0.4426 - val_acc: 0.8048\n",
      "Epoch 44/100\n",
      "837/837 - 0s - loss: 0.4367 - acc: 0.8041 - val_loss: 0.4407 - val_acc: 0.8143\n",
      "Epoch 45/100\n",
      "837/837 - 0s - loss: 0.4366 - acc: 0.8005 - val_loss: 0.4402 - val_acc: 0.8190\n",
      "Epoch 46/100\n",
      "837/837 - 0s - loss: 0.4361 - acc: 0.7993 - val_loss: 0.4521 - val_acc: 0.8000\n",
      "Epoch 47/100\n",
      "837/837 - 0s - loss: 0.4388 - acc: 0.8041 - val_loss: 0.4455 - val_acc: 0.7952\n",
      "Epoch 48/100\n",
      "837/837 - 0s - loss: 0.4339 - acc: 0.8041 - val_loss: 0.4450 - val_acc: 0.7857\n",
      "Epoch 49/100\n",
      "837/837 - 0s - loss: 0.4337 - acc: 0.8053 - val_loss: 0.4417 - val_acc: 0.8095\n",
      "Epoch 50/100\n",
      "837/837 - 0s - loss: 0.4373 - acc: 0.7945 - val_loss: 0.4400 - val_acc: 0.8095\n",
      "Epoch 51/100\n",
      "837/837 - 0s - loss: 0.4403 - acc: 0.8041 - val_loss: 0.4452 - val_acc: 0.8048\n",
      "Epoch 52/100\n",
      "837/837 - 0s - loss: 0.4376 - acc: 0.8076 - val_loss: 0.4499 - val_acc: 0.8000\n",
      "Epoch 53/100\n",
      "837/837 - 0s - loss: 0.4385 - acc: 0.8041 - val_loss: 0.4523 - val_acc: 0.7952\n",
      "Epoch 54/100\n",
      "837/837 - 0s - loss: 0.4322 - acc: 0.8076 - val_loss: 0.4412 - val_acc: 0.8143\n",
      "Epoch 55/100\n",
      "837/837 - 0s - loss: 0.4338 - acc: 0.8076 - val_loss: 0.4385 - val_acc: 0.8095\n",
      "Epoch 56/100\n",
      "837/837 - 0s - loss: 0.4358 - acc: 0.8029 - val_loss: 0.4429 - val_acc: 0.8143\n",
      "Epoch 57/100\n",
      "837/837 - 0s - loss: 0.4322 - acc: 0.8053 - val_loss: 0.4514 - val_acc: 0.8000\n",
      "Epoch 58/100\n",
      "837/837 - 0s - loss: 0.4331 - acc: 0.8100 - val_loss: 0.4402 - val_acc: 0.8095\n",
      "Epoch 59/100\n",
      "837/837 - 0s - loss: 0.4365 - acc: 0.8076 - val_loss: 0.4418 - val_acc: 0.8286\n",
      "Epoch 60/100\n",
      "837/837 - 0s - loss: 0.4324 - acc: 0.8005 - val_loss: 0.4455 - val_acc: 0.7905\n",
      "Epoch 61/100\n",
      "837/837 - 0s - loss: 0.4337 - acc: 0.7993 - val_loss: 0.4424 - val_acc: 0.8238\n",
      "Epoch 62/100\n",
      "837/837 - 0s - loss: 0.4305 - acc: 0.8017 - val_loss: 0.4411 - val_acc: 0.8143\n",
      "Epoch 63/100\n",
      "837/837 - 0s - loss: 0.4351 - acc: 0.8088 - val_loss: 0.4580 - val_acc: 0.7762\n",
      "Epoch 64/100\n",
      "837/837 - 0s - loss: 0.4320 - acc: 0.8005 - val_loss: 0.4477 - val_acc: 0.8000\n",
      "Epoch 65/100\n",
      "837/837 - 0s - loss: 0.4308 - acc: 0.8065 - val_loss: 0.4417 - val_acc: 0.8095\n",
      "Epoch 66/100\n",
      "837/837 - 0s - loss: 0.4329 - acc: 0.8041 - val_loss: 0.4404 - val_acc: 0.8143\n",
      "Epoch 67/100\n",
      "837/837 - 0s - loss: 0.4321 - acc: 0.8100 - val_loss: 0.4411 - val_acc: 0.8095\n",
      "Epoch 68/100\n",
      "837/837 - 0s - loss: 0.4342 - acc: 0.8065 - val_loss: 0.4481 - val_acc: 0.7905\n",
      "Epoch 69/100\n",
      "837/837 - 0s - loss: 0.4279 - acc: 0.8053 - val_loss: 0.4407 - val_acc: 0.8190\n",
      "Epoch 70/100\n",
      "837/837 - 0s - loss: 0.4319 - acc: 0.8112 - val_loss: 0.4398 - val_acc: 0.8143\n",
      "Epoch 71/100\n",
      "837/837 - 0s - loss: 0.4303 - acc: 0.8053 - val_loss: 0.4466 - val_acc: 0.8000\n",
      "Epoch 72/100\n",
      "837/837 - 0s - loss: 0.4400 - acc: 0.8053 - val_loss: 0.4551 - val_acc: 0.7905\n",
      "Epoch 73/100\n",
      "837/837 - 0s - loss: 0.4335 - acc: 0.8041 - val_loss: 0.4464 - val_acc: 0.7857\n",
      "Epoch 74/100\n",
      "837/837 - 0s - loss: 0.4291 - acc: 0.8112 - val_loss: 0.4456 - val_acc: 0.8048\n",
      "Epoch 75/100\n",
      "837/837 - 0s - loss: 0.4274 - acc: 0.8053 - val_loss: 0.4413 - val_acc: 0.8190\n",
      "Epoch 76/100\n",
      "837/837 - 0s - loss: 0.4286 - acc: 0.8041 - val_loss: 0.4419 - val_acc: 0.8143\n",
      "Epoch 77/100\n",
      "837/837 - 0s - loss: 0.4304 - acc: 0.7957 - val_loss: 0.4406 - val_acc: 0.8238\n",
      "Epoch 78/100\n",
      "837/837 - 0s - loss: 0.4280 - acc: 0.8088 - val_loss: 0.4433 - val_acc: 0.8095\n",
      "Epoch 79/100\n",
      "837/837 - 0s - loss: 0.4294 - acc: 0.8053 - val_loss: 0.4540 - val_acc: 0.7762\n",
      "Epoch 80/100\n",
      "837/837 - 0s - loss: 0.4274 - acc: 0.8065 - val_loss: 0.4420 - val_acc: 0.8095\n",
      "Epoch 81/100\n",
      "837/837 - 0s - loss: 0.4280 - acc: 0.8029 - val_loss: 0.4431 - val_acc: 0.8000\n",
      "Epoch 82/100\n",
      "837/837 - 0s - loss: 0.4290 - acc: 0.8100 - val_loss: 0.4397 - val_acc: 0.8286\n",
      "Epoch 83/100\n",
      "837/837 - 0s - loss: 0.4263 - acc: 0.8100 - val_loss: 0.4459 - val_acc: 0.8095\n",
      "Epoch 84/100\n",
      "837/837 - 0s - loss: 0.4272 - acc: 0.8088 - val_loss: 0.4462 - val_acc: 0.8000\n",
      "Epoch 85/100\n",
      "837/837 - 0s - loss: 0.4285 - acc: 0.8148 - val_loss: 0.4389 - val_acc: 0.8286\n",
      "Epoch 86/100\n",
      "837/837 - 0s - loss: 0.4244 - acc: 0.8100 - val_loss: 0.4607 - val_acc: 0.7667\n",
      "Epoch 87/100\n",
      "837/837 - 0s - loss: 0.4258 - acc: 0.8088 - val_loss: 0.4439 - val_acc: 0.8190\n",
      "Epoch 88/100\n",
      "837/837 - 0s - loss: 0.4264 - acc: 0.8029 - val_loss: 0.4406 - val_acc: 0.8190\n",
      "Epoch 89/100\n",
      "837/837 - 0s - loss: 0.4270 - acc: 0.8100 - val_loss: 0.4399 - val_acc: 0.8238\n"
     ]
    },
    {
     "name": "stdout",
     "output_type": "stream",
     "text": [
      "Epoch 90/100\n",
      "837/837 - 0s - loss: 0.4265 - acc: 0.8124 - val_loss: 0.4464 - val_acc: 0.7952\n",
      "Epoch 91/100\n",
      "837/837 - 0s - loss: 0.4222 - acc: 0.8208 - val_loss: 0.4467 - val_acc: 0.8000\n",
      "Epoch 92/100\n",
      "837/837 - 0s - loss: 0.4230 - acc: 0.8112 - val_loss: 0.4460 - val_acc: 0.7952\n",
      "Epoch 93/100\n",
      "837/837 - 0s - loss: 0.4240 - acc: 0.8160 - val_loss: 0.4430 - val_acc: 0.8190\n",
      "Epoch 94/100\n",
      "837/837 - 0s - loss: 0.4225 - acc: 0.8148 - val_loss: 0.4415 - val_acc: 0.8238\n",
      "Epoch 95/100\n",
      "837/837 - 0s - loss: 0.4207 - acc: 0.8160 - val_loss: 0.4465 - val_acc: 0.8143\n",
      "Epoch 96/100\n",
      "837/837 - 0s - loss: 0.4214 - acc: 0.8160 - val_loss: 0.4467 - val_acc: 0.8095\n",
      "Epoch 97/100\n",
      "837/837 - 0s - loss: 0.4215 - acc: 0.8172 - val_loss: 0.4453 - val_acc: 0.8143\n",
      "Epoch 98/100\n",
      "837/837 - 0s - loss: 0.4278 - acc: 0.8005 - val_loss: 0.4437 - val_acc: 0.8143\n",
      "Epoch 99/100\n",
      "837/837 - 0s - loss: 0.4243 - acc: 0.8160 - val_loss: 0.4484 - val_acc: 0.7905\n",
      "Epoch 100/100\n",
      "837/837 - 0s - loss: 0.4228 - acc: 0.8124 - val_loss: 0.4451 - val_acc: 0.8095\n"
     ]
    }
   ],
   "source": [
    "#模型训练\n",
    "#validation_split 是验证集所占比例，非测试集\n",
    "#verbose训练过程显示模式 0：不显示，1：带进度条模式， 2：每epoch显示一行\n",
    "train_history=model.fit(x=x_train,y=y_train,validation_split=0.2,epochs=100,batch_size=40,verbose=2)"
   ]
  },
  {
   "cell_type": "code",
   "execution_count": 49,
   "metadata": {},
   "outputs": [
    {
     "data": {
      "text/plain": [
       "dict_keys(['loss', 'acc', 'val_loss', 'val_acc'])"
      ]
     },
     "execution_count": 49,
     "metadata": {},
     "output_type": "execute_result"
    }
   ],
   "source": [
    "train_history.history.keys()"
   ]
  },
  {
   "cell_type": "code",
   "execution_count": 47,
   "metadata": {},
   "outputs": [],
   "source": [
    "import matplotlib.pyplot as plt\n",
    "def visu_train_history(train_history, train_metric,validation_metric):\n",
    "    plt.plot(train_history.history[train_metric])\n",
    "    plt.plot(train_history.history[validation_metric])\n",
    "    plt.title('Train History')\n",
    "    plt.ylabel(train_metric)\n",
    "    plt.xlabel('epoch')\n",
    "    plt.legend(['train','validation'],loc='upper left')\n",
    "    plt.show()"
   ]
  },
  {
   "cell_type": "code",
   "execution_count": 48,
   "metadata": {},
   "outputs": [
    {
     "data": {
      "image/png": "[encoded data removed]",
      "text/plain": [
       "<Figure size 432x288 with 1 Axes>"
      ]
     },
     "metadata": {
      "needs_background": "light"
     },
     "output_type": "display_data"
    },
    {
     "data": {
      "image/png": "[encoded data removed]",
      "text/plain": [
       "<Figure size 432x288 with 1 Axes>"
      ]
     },
     "metadata": {
      "needs_background": "light"
     },
     "output_type": "display_data"
    }
   ],
   "source": [
    "visu_train_history(train_history,'acc','val_acc')\n",
    "visu_train_history(train_history,'loss','val_loss')"
   ]
  },
  {
   "cell_type": "code",
   "execution_count": 50,
   "metadata": {},
   "outputs": [
    {
     "name": "stdout",
     "output_type": "stream",
     "text": [
      "262/262 [==============================] - 0s 25us/sample - loss: 0.4369 - acc: 0.8206\n"
     ]
    }
   ],
   "source": [
    "evaluate_result=model.evaluate(x=x_test,y=y_test)"
   ]
  },
  {
   "cell_type": "code",
   "execution_count": 51,
   "metadata": {},
   "outputs": [
    {
     "data": {
      "text/plain": [
       "[0.4368987365533377, 0.8206107]"
      ]
     },
     "execution_count": 51,
     "metadata": {},
     "output_type": "execute_result"
    }
   ],
   "source": [
    "evaluate_result"
   ]
  },
  {
   "cell_type": "code",
   "execution_count": 52,
   "metadata": {},
   "outputs": [
    {
     "data": {
      "text/plain": [
       "['loss', 'acc']"
      ]
     },
     "execution_count": 52,
     "metadata": {},
     "output_type": "execute_result"
    }
   ],
   "source": [
    "model.metrics_names"
   ]
  },
  {
   "cell_type": "code",
   "execution_count": 53,
   "metadata": {},
   "outputs": [],
   "source": [
    "Jack_info=[0,'Jack',3,'male',23,1,0,5.0000,'S']\n",
    "Rose_info=[1,'Rose',1,'female',20,1,0,100.0000,'S']"
   ]
  },
  {
   "cell_type": "code",
   "execution_count": 54,
   "metadata": {},
   "outputs": [],
   "source": [
    "new_passenger_pd=pd.DataFrame([Jack_info,Rose_info],columns=selected_cols)\n",
    "all_passenger_pd=selected_df_data.append(new_passenger_pd)"
   ]
  },
  {
   "cell_type": "code",
   "execution_count": 55,
   "metadata": {},
   "outputs": [
    {
     "data": {
      "text/html": [
       "<div>\n",
       "<style scoped>\n",
       "    .dataframe tbody tr th:only-of-type {\n",
       "        vertical-align: middle;\n",
       "    }\n",
       "\n",
       "    .dataframe tbody tr th {\n",
       "        vertical-align: top;\n",
       "    }\n",
       "\n",
       "    .dataframe thead th {\n",
       "        text-align: right;\n",
       "    }\n",
       "</style>\n",
       "<table border=\"1\" class=\"dataframe\">\n",
       "  <thead>\n",
       "    <tr style=\"text-align: right;\">\n",
       "      <th></th>\n",
       "      <th>survived</th>\n",
       "      <th>name</th>\n",
       "      <th>pclass</th>\n",
       "      <th>sex</th>\n",
       "      <th>age</th>\n",
       "      <th>sibsp</th>\n",
       "      <th>parch</th>\n",
       "      <th>fare</th>\n",
       "      <th>embarked</th>\n",
       "    </tr>\n",
       "  </thead>\n",
       "  <tbody>\n",
       "    <tr>\n",
       "      <th>1308</th>\n",
       "      <td>0</td>\n",
       "      <td>Zimmerman, Mr. Leo</td>\n",
       "      <td>3</td>\n",
       "      <td>male</td>\n",
       "      <td>29.0</td>\n",
       "      <td>0</td>\n",
       "      <td>0</td>\n",
       "      <td>7.875</td>\n",
       "      <td>S</td>\n",
       "    </tr>\n",
       "    <tr>\n",
       "      <th>0</th>\n",
       "      <td>0</td>\n",
       "      <td>Jack</td>\n",
       "      <td>3</td>\n",
       "      <td>male</td>\n",
       "      <td>23.0</td>\n",
       "      <td>1</td>\n",
       "      <td>0</td>\n",
       "      <td>5.000</td>\n",
       "      <td>S</td>\n",
       "    </tr>\n",
       "    <tr>\n",
       "      <th>1</th>\n",
       "      <td>1</td>\n",
       "      <td>Rose</td>\n",
       "      <td>1</td>\n",
       "      <td>female</td>\n",
       "      <td>20.0</td>\n",
       "      <td>1</td>\n",
       "      <td>0</td>\n",
       "      <td>100.000</td>\n",
       "      <td>S</td>\n",
       "    </tr>\n",
       "  </tbody>\n",
       "</table>\n",
       "</div>"
      ],
      "text/plain": [
       "      survived                name  pclass     sex   age  sibsp  parch  \\\n",
       "1308         0  Zimmerman, Mr. Leo       3    male  29.0      0      0   \n",
       "0            0                Jack       3    male  23.0      1      0   \n",
       "1            1                Rose       1  female  20.0      1      0   \n",
       "\n",
       "         fare embarked  \n",
       "1308    7.875        S  \n",
       "0       5.000        S  \n",
       "1     100.000        S  "
      ]
     },
     "execution_count": 55,
     "metadata": {},
     "output_type": "execute_result"
    }
   ],
   "source": [
    "all_passenger_pd[-3:]"
   ]
  },
  {
   "cell_type": "code",
   "execution_count": 56,
   "metadata": {},
   "outputs": [],
   "source": [
    "x_features,y_label=prepare_data(all_passenger_pd)"
   ]
  },
  {
   "cell_type": "code",
   "execution_count": 57,
   "metadata": {},
   "outputs": [],
   "source": [
    "surv_probability=model.predict(x_features)"
   ]
  },
  {
   "cell_type": "code",
   "execution_count": 59,
   "metadata": {},
   "outputs": [
    {
     "data": {
      "text/plain": [
       "array([[0.98223054],\n",
       "       [0.765092  ],\n",
       "       [0.9799326 ],\n",
       "       [0.30931962],\n",
       "       [0.9776563 ]], dtype=float32)"
      ]
     },
     "execution_count": 59,
     "metadata": {},
     "output_type": "execute_result"
    }
   ],
   "source": [
    "surv_probability[:5]"
   ]
  },
  {
   "cell_type": "code",
   "execution_count": 60,
   "metadata": {},
   "outputs": [],
   "source": [
    "all_passenger_pd.insert(len(all_passenger_pd.columns),'surv_probability',surv_probability)"
   ]
  },
  {
   "cell_type": "code",
   "execution_count": 61,
   "metadata": {},
   "outputs": [
    {
     "data": {
      "text/html": [
       "<div>\n",
       "<style scoped>\n",
       "    .dataframe tbody tr th:only-of-type {\n",
       "        vertical-align: middle;\n",
       "    }\n",
       "\n",
       "    .dataframe tbody tr th {\n",
       "        vertical-align: top;\n",
       "    }\n",
       "\n",
       "    .dataframe thead th {\n",
       "        text-align: right;\n",
       "    }\n",
       "</style>\n",
       "<table border=\"1\" class=\"dataframe\">\n",
       "  <thead>\n",
       "    <tr style=\"text-align: right;\">\n",
       "      <th></th>\n",
       "      <th>survived</th>\n",
       "      <th>name</th>\n",
       "      <th>pclass</th>\n",
       "      <th>sex</th>\n",
       "      <th>age</th>\n",
       "      <th>sibsp</th>\n",
       "      <th>parch</th>\n",
       "      <th>fare</th>\n",
       "      <th>embarked</th>\n",
       "      <th>surv_probability</th>\n",
       "    </tr>\n",
       "  </thead>\n",
       "  <tbody>\n",
       "    <tr>\n",
       "      <th>1306</th>\n",
       "      <td>0</td>\n",
       "      <td>Zakarian, Mr. Mapriededer</td>\n",
       "      <td>3</td>\n",
       "      <td>male</td>\n",
       "      <td>26.5</td>\n",
       "      <td>0</td>\n",
       "      <td>0</td>\n",
       "      <td>7.225</td>\n",
       "      <td>C</td>\n",
       "      <td>0.154981</td>\n",
       "    </tr>\n",
       "    <tr>\n",
       "      <th>1307</th>\n",
       "      <td>0</td>\n",
       "      <td>Zakarian, Mr. Ortin</td>\n",
       "      <td>3</td>\n",
       "      <td>male</td>\n",
       "      <td>27.0</td>\n",
       "      <td>0</td>\n",
       "      <td>0</td>\n",
       "      <td>7.225</td>\n",
       "      <td>C</td>\n",
       "      <td>0.149883</td>\n",
       "    </tr>\n",
       "    <tr>\n",
       "      <th>1308</th>\n",
       "      <td>0</td>\n",
       "      <td>Zimmerman, Mr. Leo</td>\n",
       "      <td>3</td>\n",
       "      <td>male</td>\n",
       "      <td>29.0</td>\n",
       "      <td>0</td>\n",
       "      <td>0</td>\n",
       "      <td>7.875</td>\n",
       "      <td>S</td>\n",
       "      <td>0.118834</td>\n",
       "    </tr>\n",
       "    <tr>\n",
       "      <th>0</th>\n",
       "      <td>0</td>\n",
       "      <td>Jack</td>\n",
       "      <td>3</td>\n",
       "      <td>male</td>\n",
       "      <td>23.0</td>\n",
       "      <td>1</td>\n",
       "      <td>0</td>\n",
       "      <td>5.000</td>\n",
       "      <td>S</td>\n",
       "      <td>0.125846</td>\n",
       "    </tr>\n",
       "    <tr>\n",
       "      <th>1</th>\n",
       "      <td>1</td>\n",
       "      <td>Rose</td>\n",
       "      <td>1</td>\n",
       "      <td>female</td>\n",
       "      <td>20.0</td>\n",
       "      <td>1</td>\n",
       "      <td>0</td>\n",
       "      <td>100.000</td>\n",
       "      <td>S</td>\n",
       "      <td>0.978517</td>\n",
       "    </tr>\n",
       "  </tbody>\n",
       "</table>\n",
       "</div>"
      ],
      "text/plain": [
       "      survived                       name  pclass     sex   age  sibsp  parch  \\\n",
       "1306         0  Zakarian, Mr. Mapriededer       3    male  26.5      0      0   \n",
       "1307         0        Zakarian, Mr. Ortin       3    male  27.0      0      0   \n",
       "1308         0         Zimmerman, Mr. Leo       3    male  29.0      0      0   \n",
       "0            0                       Jack       3    male  23.0      1      0   \n",
       "1            1                       Rose       1  female  20.0      1      0   \n",
       "\n",
       "         fare embarked  surv_probability  \n",
       "1306    7.225        C          0.154981  \n",
       "1307    7.225        C          0.149883  \n",
       "1308    7.875        S          0.118834  \n",
       "0       5.000        S          0.125846  \n",
       "1     100.000        S          0.978517  "
      ]
     },
     "execution_count": 61,
     "metadata": {},
     "output_type": "execute_result"
    }
   ],
   "source": [
    "all_passenger_pd[-5:]"
   ]
  },
  {
   "cell_type": "code",
   "execution_count": null,
   "metadata": {},
   "outputs": [],
   "source": []
  }
 ],
 "metadata": {
  "hide_input": false,
  "kernelspec": {
   "display_name": "Python 3 (ipykernel)",
   "language": "python",
   "name": "python3"
  },
  "language_info": {
   "codemirror_mode": {
    "name": "ipython",
    "version": 3
   },
   "file_extension": ".py",
   "mimetype": "text/x-python",
   "name": "python",
   "nbconvert_exporter": "python",
   "pygments_lexer": "ipython3",
   "version": "3.8.8"
  }
 },
 "nbformat": 4,
 "nbformat_minor": 4
}
