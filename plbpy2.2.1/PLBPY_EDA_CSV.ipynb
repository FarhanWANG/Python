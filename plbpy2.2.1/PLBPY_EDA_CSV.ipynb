{
 "cells": [
  {
   "cell_type": "code",
   "execution_count": 1,
   "id": "7cfda815",
   "metadata": {},
   "outputs": [
    {
     "name": "stderr",
     "output_type": "stream",
     "text": [
      "\n",
      "Session Error\n",
      "Reason: <Response [429]> 429 {'message': 'Limit Exceeded'}\n",
      "Traceback (most recent call last):\n",
      "  File \"C:\\ProgramData\\Anaconda3\\lib\\site-packages\\plbpy\\__init__.py\", line 106, in <module>\n",
      "    session.initialize()\n",
      "  File \"C:\\ProgramData\\Anaconda3\\lib\\site-packages\\plbpy\\_logger.py\", line 171, in func\n",
      "    return fn(*a, **kw)\n",
      "  File \"C:\\ProgramData\\Anaconda3\\lib\\site-packages\\plbpy\\interface\\Session.py\", line 69, in initialize\n",
      "    return self.__loader.validate_configuration()\n",
      "  File \"C:\\ProgramData\\Anaconda3\\lib\\site-packages\\plbpy\\core\\loader\\SessionLoader.py\", line 58, in validate_configuration\n",
      "    self._request_token()\n",
      "  File \"C:\\ProgramData\\Anaconda3\\lib\\site-packages\\plbpy\\core\\loader\\SessionLoader.py\", line 29, in _request_token\n",
      "    raise SessionError(f'{response} {response.status_code} {reason}')\n",
      "plbpy.exceptions.class_exceptions.SessionError: \n",
      "Session Error\n",
      "Reason: <Response [429]> 429 {'message': 'Limit Exceeded'}\n",
      "\n"
     ]
    },
    {
     "ename": "ImportError",
     "evalue": "cannot import name 'universe' from partially initialized module 'plbpy' (most likely due to a circular import) (C:\\ProgramData\\Anaconda3\\lib\\site-packages\\plbpy\\__init__.py)",
     "output_type": "error",
     "traceback": [
      "\u001b[1;31m---------------------------------------------------------------------------\u001b[0m",
      "\u001b[1;31mImportError\u001b[0m                               Traceback (most recent call last)",
      "Input \u001b[1;32mIn [1]\u001b[0m, in \u001b[0;36m<cell line: 1>\u001b[1;34m()\u001b[0m\n\u001b[1;32m----> 1\u001b[0m \u001b[38;5;28;01mimport\u001b[39;00m \u001b[38;5;21;01mplbpy\u001b[39;00m \u001b[38;5;28;01mas\u001b[39;00m \u001b[38;5;21;01mplb\u001b[39;00m\n\u001b[0;32m      2\u001b[0m \u001b[38;5;28;01mimport\u001b[39;00m \u001b[38;5;21;01mnumpy\u001b[39;00m \u001b[38;5;28;01mas\u001b[39;00m \u001b[38;5;21;01mnp\u001b[39;00m\n\u001b[0;32m      3\u001b[0m session \u001b[38;5;241m=\u001b[39m plb\u001b[38;5;241m.\u001b[39msession\n",
      "File \u001b[1;32mC:\\ProgramData\\Anaconda3\\lib\\site-packages\\plbpy\\__init__.py:177\u001b[0m, in \u001b[0;36m<module>\u001b[1;34m\u001b[0m\n\u001b[0;32m    174\u001b[0m     logger\u001b[38;5;241m.\u001b[39mdebug(import_error, exc_info\u001b[38;5;241m=\u001b[39mimport_error)\n\u001b[0;32m    176\u001b[0m \u001b[38;5;28;01mexcept\u001b[39;00m \u001b[38;5;167;01mException\u001b[39;00m \u001b[38;5;28;01mas\u001b[39;00m e:\n\u001b[1;32m--> 177\u001b[0m     \u001b[38;5;28;01mraise\u001b[39;00m e\n",
      "File \u001b[1;32mC:\\ProgramData\\Anaconda3\\lib\\site-packages\\plbpy\\__init__.py:164\u001b[0m, in \u001b[0;36m<module>\u001b[1;34m\u001b[0m\n\u001b[0;32m    162\u001b[0m \u001b[38;5;66;03m### Import Classes in Package ###\u001b[39;00m\n\u001b[0;32m    163\u001b[0m \u001b[38;5;28;01mtry\u001b[39;00m:\n\u001b[1;32m--> 164\u001b[0m     \u001b[38;5;28;01mfrom\u001b[39;00m \u001b[38;5;21;01mplbpy\u001b[39;00m\u001b[38;5;21;01m.\u001b[39;00m\u001b[38;5;21;01minterface\u001b[39;00m\u001b[38;5;21;01m.\u001b[39;00m\u001b[38;5;21;01mPortfolio\u001b[39;00m \u001b[38;5;28;01mimport\u001b[39;00m Portfolio  \u001b[38;5;66;03m# noqa: E402\u001b[39;00m\n\u001b[0;32m    165\u001b[0m     \u001b[38;5;28;01mfrom\u001b[39;00m \u001b[38;5;21;01mplbpy\u001b[39;00m\u001b[38;5;21;01m.\u001b[39;00m\u001b[38;5;21;01minterface\u001b[39;00m\u001b[38;5;21;01m.\u001b[39;00m\u001b[38;5;21;01mDispersion\u001b[39;00m \u001b[38;5;28;01mimport\u001b[39;00m Dispersion  \u001b[38;5;66;03m# noqa: E402\u001b[39;00m\n\u001b[0;32m    166\u001b[0m     \u001b[38;5;28;01mfrom\u001b[39;00m \u001b[38;5;21;01mplbpy\u001b[39;00m\u001b[38;5;21;01m.\u001b[39;00m\u001b[38;5;21;01minterface\u001b[39;00m\u001b[38;5;21;01m.\u001b[39;00m\u001b[38;5;21;01mHCluster\u001b[39;00m \u001b[38;5;28;01mimport\u001b[39;00m HCluster  \u001b[38;5;66;03m# noqa: E402\u001b[39;00m\n",
      "File \u001b[1;32mC:\\ProgramData\\Anaconda3\\lib\\site-packages\\plbpy\\interface\\Portfolio.py:15\u001b[0m, in \u001b[0;36m<module>\u001b[1;34m\u001b[0m\n\u001b[0;32m     13\u001b[0m \u001b[38;5;28;01mfrom\u001b[39;00m \u001b[38;5;21;01mplbpy\u001b[39;00m \u001b[38;5;28;01mimport\u001b[39;00m log_factory, logger, DEBUG  \u001b[38;5;66;03m# Log tools\u001b[39;00m\n\u001b[0;32m     14\u001b[0m \u001b[38;5;28;01mfrom\u001b[39;00m \u001b[38;5;21;01mplbpy\u001b[39;00m \u001b[38;5;28;01mimport\u001b[39;00m session \u001b[38;5;28;01mas\u001b[39;00m _gl_session  \u001b[38;5;66;03m# global session for fail case\u001b[39;00m\n\u001b[1;32m---> 15\u001b[0m \u001b[38;5;28;01mfrom\u001b[39;00m \u001b[38;5;21;01mplbpy\u001b[39;00m \u001b[38;5;28;01mimport\u001b[39;00m universe \u001b[38;5;28;01mas\u001b[39;00m _gl_universe  \u001b[38;5;66;03m# global session for fail case\u001b[39;00m\n\u001b[0;32m     16\u001b[0m \u001b[38;5;28;01mfrom\u001b[39;00m \u001b[38;5;21;01mplbpy\u001b[39;00m\u001b[38;5;21;01m.\u001b[39;00m\u001b[38;5;21;01mcore\u001b[39;00m\u001b[38;5;21;01m.\u001b[39;00m\u001b[38;5;21;01mloader\u001b[39;00m\u001b[38;5;21;01m.\u001b[39;00m\u001b[38;5;21;01mPortfolioLoader\u001b[39;00m \u001b[38;5;28;01mimport\u001b[39;00m PortfolioLoader\n\u001b[0;32m     19\u001b[0m \u001b[38;5;28;01mclass\u001b[39;00m \u001b[38;5;21;01mPortfolio\u001b[39;00m:\n",
      "\u001b[1;31mImportError\u001b[0m: cannot import name 'universe' from partially initialized module 'plbpy' (most likely due to a circular import) (C:\\ProgramData\\Anaconda3\\lib\\site-packages\\plbpy\\__init__.py)"
     ]
    }
   ],
   "source": [
    "import plbpy as plb\n",
    "import numpy as np\n",
    "session = plb.session"
   ]
  },
  {
   "cell_type": "code",
   "execution_count": null,
   "id": "4a4bdc50",
   "metadata": {},
   "outputs": [],
   "source": [
    "universe = plb.universe\n",
    "u_Commodity = universe.asset_class(['Commodity'])"
   ]
  },
  {
   "cell_type": "code",
   "execution_count": null,
   "id": "62c0aa5a",
   "metadata": {},
   "outputs": [],
   "source": [
    "len(u_Commodity.to_frame())"
   ]
  },
  {
   "cell_type": "code",
   "execution_count": null,
   "id": "e75a4c4c",
   "metadata": {
    "scrolled": true
   },
   "outputs": [],
   "source": [
    "tickers = np.sort(u_Commodity.to_frame().index.values)"
   ]
  },
  {
   "cell_type": "code",
   "execution_count": null,
   "id": "ebfe74a4",
   "metadata": {},
   "outputs": [],
   "source": [
    "u_Commodity.to_frame().sort_index()"
   ]
  },
  {
   "cell_type": "code",
   "execution_count": null,
   "id": "4ac99d36",
   "metadata": {},
   "outputs": [],
   "source": [
    "u_Commodity.metrics.fixed.sort_index()"
   ]
  },
  {
   "cell_type": "code",
   "execution_count": null,
   "id": "98d39746",
   "metadata": {},
   "outputs": [],
   "source": [
    "dic = {}\n",
    "for index in range(len(tickers)//100):\n",
    "    print(index)\n",
    "    universe.code(tickers[index*100:(index+1)*100]).tracks(direct = True)"
   ]
  },
  {
   "cell_type": "code",
   "execution_count": null,
   "id": "a6a6a97b",
   "metadata": {},
   "outputs": [],
   "source": [
    "universe.code(tickers[:100]).tracks(direct = True)"
   ]
  },
  {
   "cell_type": "code",
   "execution_count": null,
   "id": "9e345e7b",
   "metadata": {},
   "outputs": [],
   "source": []
  },
  {
   "cell_type": "code",
   "execution_count": null,
   "id": "6099001a",
   "metadata": {},
   "outputs": [],
   "source": [
    "# u_example = u_Commodity.screen('Return p.a.', rank = 'top 5', period='5Y').to_frame()\n",
    "def export_data(tickers,start_date='2000-01-01',end_date='2021-12-31'):\n",
    "    data = universe.code(tickers)\n",
    "    df1 = data.to_frame().sort_index()\n",
    "    df2 = data.metrics.fixed.sort_index()\n",
    "    df3 = data.tracks(start = start_date,end = end_date,direct = True).sort_index(axis = 1)\n",
    "    df1.to_csv(\"Commodity_data_example.csv\",mode='a')\n",
    "    df2.to_csv(\"Commodity_data_example.csv\",mode='a')\n",
    "    df3.to_csv(\"Commodity_data_example.csv\",mode='a')\n",
    "    display(df1)\n",
    "    display(df2)\n",
    "    display(df3)\n",
    "# export_data(u_example.index.values)"
   ]
  },
  {
   "cell_type": "code",
   "execution_count": null,
   "id": "cb61a619",
   "metadata": {},
   "outputs": [],
   "source": []
  }
 ],
 "metadata": {
  "hide_input": false,
  "kernelspec": {
   "display_name": "Python 3 (ipykernel)",
   "language": "python",
   "name": "python3"
  },
  "language_info": {
   "codemirror_mode": {
    "name": "ipython",
    "version": 3
   },
   "file_extension": ".py",
   "mimetype": "text/x-python",
   "name": "python",
   "nbconvert_exporter": "python",
   "pygments_lexer": "ipython3",
   "version": "3.8.12"
  }
 },
 "nbformat": 4,
 "nbformat_minor": 5
}
